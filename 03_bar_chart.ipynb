{
 "cells": [
  {
   "cell_type": "markdown",
   "id": "4436bbea",
   "metadata": {},
   "source": [
    "# **DATA VISUALISATION**  \n",
    "Dans cette partie, nous allons voir ensemble comment nous pouvons mettre en valeur les données nettoyées avec de la visualisation.\n",
    "\n",
    "Comme toujours, faire des visuels impactants nécessite de:\n",
    "- Manipuler et transofrmer la données pour obtenir les valeurs que l'on souhaite\n",
    "- Poser les bases du visuel (80% du travail - 20 % du temps)\n",
    "- Travailler le visuel pour mettre en valeur le message (20% du travail - 80% du temps)\n",
    "\n",
    "Nous utiliserons la module plotly.express (px) de la librairie plotly, très pratique pour sa syntaxe simple.  \n",
    "Il permet de se familiariser avec l'environnement plotly, avant de pouvoir passer au module plotly.graph_objects (go),  \n",
    "dont la syntaxe est plus ardue mais les possibilités bien supérieures.  \n",
    "Voici le lien de l'API plotly pour voir les différents graphiques possibles : https://plotly.com/python-api-reference/  \n",
    "\n",
    "Le graphique que nous faire ensemble dans ce Notebook est un visuel que nous avions vu ensemble lors de la séance 1  \n",
    "et que Vertigo vend à ses clients chaque semaine : le profil par cible dans un graphique en barres empilées.\n",
    "\n",
    "Ce que vous devez faire est indiqué dans les cellules de commentaires, il vous reste à écrire le code.  "
   ]
  },
  {
   "cell_type": "markdown",
   "id": "97ae0a95",
   "metadata": {},
   "source": [
    "### **Importer les librairies nécessaires :**  \n",
    "- numpy\n",
    "- pandas\n",
    "- plotly.express (alias px)\n",
    "- plotly.graph_objects (alias go)"
   ]
  },
  {
   "cell_type": "code",
   "execution_count": 1,
   "id": "4f01e1a5",
   "metadata": {},
   "outputs": [],
   "source": [
    "import pandas as pd\n",
    "import numpy as np\n",
    "import plotly.express as px\n",
    "from plotly import graph_objects as go"
   ]
  },
  {
   "cell_type": "markdown",
   "id": "616e71e8",
   "metadata": {},
   "source": [
    "### **Importer les données nettoyées lors de la phase de Nettoyage**\n",
    "Ne gardez que les colonnes suivantes : vague_cine_inv, pid, age, gender, s3ad, q2ad, sem_cine \n",
    "Nommer la variable data"
   ]
  },
  {
   "cell_type": "code",
   "execution_count": 2,
   "id": "f365b0de",
   "metadata": {},
   "outputs": [
    {
     "data": {
      "text/html": [
       "<div>\n",
       "<style scoped>\n",
       "    .dataframe tbody tr th:only-of-type {\n",
       "        vertical-align: middle;\n",
       "    }\n",
       "\n",
       "    .dataframe tbody tr th {\n",
       "        vertical-align: top;\n",
       "    }\n",
       "\n",
       "    .dataframe thead th {\n",
       "        text-align: right;\n",
       "    }\n",
       "</style>\n",
       "<table border=\"1\" class=\"dataframe\">\n",
       "  <thead>\n",
       "    <tr style=\"text-align: right;\">\n",
       "      <th></th>\n",
       "      <th>vague_cine_inv</th>\n",
       "      <th>pid</th>\n",
       "      <th>age</th>\n",
       "      <th>gender</th>\n",
       "      <th>s3ad</th>\n",
       "      <th>q2ad</th>\n",
       "      <th>sem_cine</th>\n",
       "    </tr>\n",
       "  </thead>\n",
       "  <tbody>\n",
       "    <tr>\n",
       "      <th>0</th>\n",
       "      <td>2326</td>\n",
       "      <td>3162713</td>\n",
       "      <td>57</td>\n",
       "      <td>1</td>\n",
       "      <td>2</td>\n",
       "      <td>2921</td>\n",
       "      <td>2326</td>\n",
       "    </tr>\n",
       "    <tr>\n",
       "      <th>5</th>\n",
       "      <td>2326</td>\n",
       "      <td>5203821</td>\n",
       "      <td>50</td>\n",
       "      <td>1</td>\n",
       "      <td>2</td>\n",
       "      <td>2964</td>\n",
       "      <td>2326</td>\n",
       "    </tr>\n",
       "    <tr>\n",
       "      <th>6</th>\n",
       "      <td>2326</td>\n",
       "      <td>5361385</td>\n",
       "      <td>40</td>\n",
       "      <td>1</td>\n",
       "      <td>4</td>\n",
       "      <td>2966</td>\n",
       "      <td>2326</td>\n",
       "    </tr>\n",
       "    <tr>\n",
       "      <th>10</th>\n",
       "      <td>2326</td>\n",
       "      <td>9664953</td>\n",
       "      <td>65</td>\n",
       "      <td>1</td>\n",
       "      <td>4</td>\n",
       "      <td>2946</td>\n",
       "      <td>2326</td>\n",
       "    </tr>\n",
       "    <tr>\n",
       "      <th>12</th>\n",
       "      <td>2326</td>\n",
       "      <td>23992569</td>\n",
       "      <td>68</td>\n",
       "      <td>1</td>\n",
       "      <td>2</td>\n",
       "      <td>2964</td>\n",
       "      <td>2326</td>\n",
       "    </tr>\n",
       "  </tbody>\n",
       "</table>\n",
       "</div>"
      ],
      "text/plain": [
       "   vague_cine_inv       pid  age gender s3ad  q2ad  sem_cine\n",
       "0            2326   3162713   57      1    2  2921      2326\n",
       "5            2326   5203821   50      1    2  2964      2326\n",
       "6            2326   5361385   40      1    4  2966      2326\n",
       "10           2326   9664953   65      1    4  2946      2326\n",
       "12           2326  23992569   68      1    2  2964      2326"
      ]
     },
     "execution_count": 2,
     "metadata": {},
     "output_type": "execute_result"
    }
   ],
   "source": [
    "data = (\n",
    "    pd.read_pickle('data/clean_step_1.pkl')\n",
    "    .loc[:, ['vague_cine_inv', 'pid', 'age', 'gender', 's3ad', 'q2ad', 'sem_cine']]\n",
    ")\n",
    "\n",
    "data.head()"
   ]
  },
  {
   "cell_type": "markdown",
   "id": "435f8d9d",
   "metadata": {},
   "source": [
    "### **Importer le fichier des poids statistiques**\n",
    "Nommer la variable weights  \n",
    "Si vous avez des une erreur UnicodeDecodeError, il faut que vous utilisiez le paramètre suivant : encoding='latin'"
   ]
  },
  {
   "cell_type": "code",
   "execution_count": 3,
   "id": "dca9d168",
   "metadata": {},
   "outputs": [
    {
     "data": {
      "text/html": [
       "<div>\n",
       "<style scoped>\n",
       "    .dataframe tbody tr th:only-of-type {\n",
       "        vertical-align: middle;\n",
       "    }\n",
       "\n",
       "    .dataframe tbody tr th {\n",
       "        vertical-align: top;\n",
       "    }\n",
       "\n",
       "    .dataframe thead th {\n",
       "        text-align: right;\n",
       "    }\n",
       "</style>\n",
       "<table border=\"1\" class=\"dataframe\">\n",
       "  <thead>\n",
       "    <tr style=\"text-align: right;\">\n",
       "      <th></th>\n",
       "      <th>vague_cine_inv</th>\n",
       "      <th>pid</th>\n",
       "      <th>age</th>\n",
       "      <th>q2ad</th>\n",
       "      <th>Entrées Extrapolées</th>\n",
       "      <th>mois_cine</th>\n",
       "    </tr>\n",
       "  </thead>\n",
       "  <tbody>\n",
       "    <tr>\n",
       "      <th>0</th>\n",
       "      <td>2326</td>\n",
       "      <td>1488240567</td>\n",
       "      <td>72</td>\n",
       "      <td>2964</td>\n",
       "      <td>4883.573695</td>\n",
       "      <td>2307</td>\n",
       "    </tr>\n",
       "    <tr>\n",
       "      <th>1</th>\n",
       "      <td>2326</td>\n",
       "      <td>290080841</td>\n",
       "      <td>49</td>\n",
       "      <td>2939</td>\n",
       "      <td>808.221050</td>\n",
       "      <td>2307</td>\n",
       "    </tr>\n",
       "    <tr>\n",
       "      <th>2</th>\n",
       "      <td>2326</td>\n",
       "      <td>1561725024</td>\n",
       "      <td>46</td>\n",
       "      <td>2964</td>\n",
       "      <td>1508.842008</td>\n",
       "      <td>2307</td>\n",
       "    </tr>\n",
       "    <tr>\n",
       "      <th>3</th>\n",
       "      <td>2326</td>\n",
       "      <td>1488239508</td>\n",
       "      <td>32</td>\n",
       "      <td>2964</td>\n",
       "      <td>1352.103424</td>\n",
       "      <td>2307</td>\n",
       "    </tr>\n",
       "    <tr>\n",
       "      <th>4</th>\n",
       "      <td>2326</td>\n",
       "      <td>266199476</td>\n",
       "      <td>60</td>\n",
       "      <td>2964</td>\n",
       "      <td>961.496080</td>\n",
       "      <td>2307</td>\n",
       "    </tr>\n",
       "  </tbody>\n",
       "</table>\n",
       "</div>"
      ],
      "text/plain": [
       "   vague_cine_inv         pid  age  q2ad  Entrées Extrapolées  mois_cine\n",
       "0            2326  1488240567   72  2964          4883.573695       2307\n",
       "1            2326   290080841   49  2939           808.221050       2307\n",
       "2            2326  1561725024   46  2964          1508.842008       2307\n",
       "3            2326  1488239508   32  2964          1352.103424       2307\n",
       "4            2326   266199476   60  2964           961.496080       2307"
      ]
     },
     "execution_count": 3,
     "metadata": {},
     "output_type": "execute_result"
    }
   ],
   "source": [
    "weights = pd.read_csv('data/poids_statistiques.csv', sep=\"\\t\", encoding='latin-1')\n",
    "weights.head()"
   ]
  },
  {
   "cell_type": "markdown",
   "id": "50164b5a",
   "metadata": {},
   "source": [
    "### **Réaliser un INNER JOIN entre data et weights**\n",
    "Vous devez obtenir 9802 lignes  \n",
    "Rappelez-vous des conditions d'unicité d'une ligne  \n",
    "Nommer la variable data_weighted"
   ]
  },
  {
   "cell_type": "code",
   "execution_count": 5,
   "id": "c69e0a4e",
   "metadata": {},
   "outputs": [
    {
     "data": {
      "text/html": [
       "<div>\n",
       "<style scoped>\n",
       "    .dataframe tbody tr th:only-of-type {\n",
       "        vertical-align: middle;\n",
       "    }\n",
       "\n",
       "    .dataframe tbody tr th {\n",
       "        vertical-align: top;\n",
       "    }\n",
       "\n",
       "    .dataframe thead th {\n",
       "        text-align: right;\n",
       "    }\n",
       "</style>\n",
       "<table border=\"1\" class=\"dataframe\">\n",
       "  <thead>\n",
       "    <tr style=\"text-align: right;\">\n",
       "      <th></th>\n",
       "      <th>vague_cine_inv</th>\n",
       "      <th>pid</th>\n",
       "      <th>age</th>\n",
       "      <th>gender</th>\n",
       "      <th>s3ad</th>\n",
       "      <th>q2ad</th>\n",
       "      <th>sem_cine</th>\n",
       "      <th>Entrées Extrapolées</th>\n",
       "      <th>mois_cine</th>\n",
       "    </tr>\n",
       "  </thead>\n",
       "  <tbody>\n",
       "    <tr>\n",
       "      <th>0</th>\n",
       "      <td>2326</td>\n",
       "      <td>3162713</td>\n",
       "      <td>57</td>\n",
       "      <td>1</td>\n",
       "      <td>2</td>\n",
       "      <td>2921</td>\n",
       "      <td>2326</td>\n",
       "      <td>1452.762352</td>\n",
       "      <td>2307</td>\n",
       "    </tr>\n",
       "    <tr>\n",
       "      <th>1</th>\n",
       "      <td>2326</td>\n",
       "      <td>5203821</td>\n",
       "      <td>50</td>\n",
       "      <td>1</td>\n",
       "      <td>2</td>\n",
       "      <td>2964</td>\n",
       "      <td>2326</td>\n",
       "      <td>1199.758955</td>\n",
       "      <td>2307</td>\n",
       "    </tr>\n",
       "    <tr>\n",
       "      <th>2</th>\n",
       "      <td>2326</td>\n",
       "      <td>5361385</td>\n",
       "      <td>40</td>\n",
       "      <td>1</td>\n",
       "      <td>4</td>\n",
       "      <td>2966</td>\n",
       "      <td>2326</td>\n",
       "      <td>1885.009678</td>\n",
       "      <td>2307</td>\n",
       "    </tr>\n",
       "    <tr>\n",
       "      <th>3</th>\n",
       "      <td>2326</td>\n",
       "      <td>9664953</td>\n",
       "      <td>65</td>\n",
       "      <td>1</td>\n",
       "      <td>4</td>\n",
       "      <td>2946</td>\n",
       "      <td>2326</td>\n",
       "      <td>627.760083</td>\n",
       "      <td>2307</td>\n",
       "    </tr>\n",
       "    <tr>\n",
       "      <th>4</th>\n",
       "      <td>2326</td>\n",
       "      <td>23992569</td>\n",
       "      <td>68</td>\n",
       "      <td>1</td>\n",
       "      <td>2</td>\n",
       "      <td>2964</td>\n",
       "      <td>2326</td>\n",
       "      <td>3463.268595</td>\n",
       "      <td>2307</td>\n",
       "    </tr>\n",
       "    <tr>\n",
       "      <th>...</th>\n",
       "      <td>...</td>\n",
       "      <td>...</td>\n",
       "      <td>...</td>\n",
       "      <td>...</td>\n",
       "      <td>...</td>\n",
       "      <td>...</td>\n",
       "      <td>...</td>\n",
       "      <td>...</td>\n",
       "      <td>...</td>\n",
       "    </tr>\n",
       "    <tr>\n",
       "      <th>9797</th>\n",
       "      <td>2331</td>\n",
       "      <td>1976744286</td>\n",
       "      <td>8</td>\n",
       "      <td>2</td>\n",
       "      <td>4</td>\n",
       "      <td>2988</td>\n",
       "      <td>2330</td>\n",
       "      <td>1770.753674</td>\n",
       "      <td>2307</td>\n",
       "    </tr>\n",
       "    <tr>\n",
       "      <th>9798</th>\n",
       "      <td>2331</td>\n",
       "      <td>1988359483</td>\n",
       "      <td>36</td>\n",
       "      <td>2</td>\n",
       "      <td>2</td>\n",
       "      <td>2975</td>\n",
       "      <td>2330</td>\n",
       "      <td>1319.389671</td>\n",
       "      <td>2307</td>\n",
       "    </tr>\n",
       "    <tr>\n",
       "      <th>9799</th>\n",
       "      <td>2331</td>\n",
       "      <td>1988359483</td>\n",
       "      <td>36</td>\n",
       "      <td>2</td>\n",
       "      <td>2</td>\n",
       "      <td>2937</td>\n",
       "      <td>2330</td>\n",
       "      <td>1147.117041</td>\n",
       "      <td>2307</td>\n",
       "    </tr>\n",
       "    <tr>\n",
       "      <th>9800</th>\n",
       "      <td>2331</td>\n",
       "      <td>2002828674</td>\n",
       "      <td>28</td>\n",
       "      <td>2</td>\n",
       "      <td>5</td>\n",
       "      <td>2954</td>\n",
       "      <td>2330</td>\n",
       "      <td>4968.921297</td>\n",
       "      <td>2307</td>\n",
       "    </tr>\n",
       "    <tr>\n",
       "      <th>9801</th>\n",
       "      <td>2331</td>\n",
       "      <td>2007777127</td>\n",
       "      <td>47</td>\n",
       "      <td>2</td>\n",
       "      <td>4</td>\n",
       "      <td>2995</td>\n",
       "      <td>2330</td>\n",
       "      <td>959.604900</td>\n",
       "      <td>2307</td>\n",
       "    </tr>\n",
       "  </tbody>\n",
       "</table>\n",
       "<p>9802 rows × 9 columns</p>\n",
       "</div>"
      ],
      "text/plain": [
       "      vague_cine_inv         pid  age gender s3ad  q2ad  sem_cine  \\\n",
       "0               2326     3162713   57      1    2  2921      2326   \n",
       "1               2326     5203821   50      1    2  2964      2326   \n",
       "2               2326     5361385   40      1    4  2966      2326   \n",
       "3               2326     9664953   65      1    4  2946      2326   \n",
       "4               2326    23992569   68      1    2  2964      2326   \n",
       "...              ...         ...  ...    ...  ...   ...       ...   \n",
       "9797            2331  1976744286    8      2    4  2988      2330   \n",
       "9798            2331  1988359483   36      2    2  2975      2330   \n",
       "9799            2331  1988359483   36      2    2  2937      2330   \n",
       "9800            2331  2002828674   28      2    5  2954      2330   \n",
       "9801            2331  2007777127   47      2    4  2995      2330   \n",
       "\n",
       "      Entrées Extrapolées  mois_cine  \n",
       "0             1452.762352       2307  \n",
       "1             1199.758955       2307  \n",
       "2             1885.009678       2307  \n",
       "3              627.760083       2307  \n",
       "4             3463.268595       2307  \n",
       "...                   ...        ...  \n",
       "9797          1770.753674       2307  \n",
       "9798          1319.389671       2307  \n",
       "9799          1147.117041       2307  \n",
       "9800          4968.921297       2307  \n",
       "9801           959.604900       2307  \n",
       "\n",
       "[9802 rows x 9 columns]"
      ]
     },
     "execution_count": 5,
     "metadata": {},
     "output_type": "execute_result"
    }
   ],
   "source": [
    "data_weighted = data.merge(weights, how='inner', on=['vague_cine_inv', 'pid', 'age', 'q2ad'])\n",
    "data_weighted"
   ]
  },
  {
   "cell_type": "markdown",
   "id": "77901a4e",
   "metadata": {},
   "source": [
    "### **Créer une colonne permettant d'avoir les catégories d'âge suivantes :**\n",
    "- 3-14 ans\n",
    "- 15-24 ans\n",
    "- 25-34 ans\n",
    "- 35-49 ans\n",
    "- 50-59 ans\n",
    "- 60 ans et +\n",
    "\n",
    "Nommer la colonne 'age_cat_6'  \n",
    "Assurez-vous que la colonne soit bien de type category au moment où vous la créez"
   ]
  },
  {
   "cell_type": "code",
   "execution_count": 10,
   "id": "5536f535",
   "metadata": {},
   "outputs": [
    {
     "data": {
      "text/plain": [
       "['50-59 ans', '35-49 ans', '60 ans et +', '25-34 ans', '3-14 ans', '15-24 ans']\n",
       "Categories (6, object): ['3-14 ans' < '15-24 ans' < '25-34 ans' < '35-49 ans' < '50-59 ans' < '60 ans et +']"
      ]
     },
     "execution_count": 10,
     "metadata": {},
     "output_type": "execute_result"
    }
   ],
   "source": [
    "data_weighted['age_cat_6'] = pd.cut(data_weighted['age'], \n",
    "        bins=[0, 14, 24, 34, 49, 59, np.inf], \n",
    "        labels=['3-14 ans', '15-24 ans', '25-34 ans', '35-49 ans', '50-59 ans', '60 ans et +',]\n",
    "    )\n",
    "data_weighted['age_cat_6'].unique()"
   ]
  },
  {
   "cell_type": "markdown",
   "id": "ed434bb5",
   "metadata": {},
   "source": [
    "### **Calculez le profil par semaine cinema, par âge**\n",
    "La colonne créée doit s'appeler 'profil_age'.  \n",
    "N'oubliez pas qu'il faut utiliser la colonne 'Entrées Extrapolées' pour les calculs (voir les exercices 8 et 9 de la partie 02_Exploration).  \n",
    "Nommez le résultat data_agg_age et assurez-vous que ce soit une DataFrame.\n",
    "Les variables qui ont servies à l'agrégation ne doivent plus être en index, mais dans une colonne."
   ]
  },
  {
   "cell_type": "code",
   "execution_count": null,
   "id": "eccc719d",
   "metadata": {},
   "outputs": [
    {
     "data": {
      "text/html": [
       "<div>\n",
       "<style scoped>\n",
       "    .dataframe tbody tr th:only-of-type {\n",
       "        vertical-align: middle;\n",
       "    }\n",
       "\n",
       "    .dataframe tbody tr th {\n",
       "        vertical-align: top;\n",
       "    }\n",
       "\n",
       "    .dataframe thead th {\n",
       "        text-align: right;\n",
       "    }\n",
       "</style>\n",
       "<table border=\"1\" class=\"dataframe\">\n",
       "  <thead>\n",
       "    <tr style=\"text-align: right;\">\n",
       "      <th></th>\n",
       "      <th>sem_cine</th>\n",
       "      <th>age_cat_6</th>\n",
       "      <th>profil_age</th>\n",
       "    </tr>\n",
       "  </thead>\n",
       "  <tbody>\n",
       "    <tr>\n",
       "      <th>0</th>\n",
       "      <td>2326</td>\n",
       "      <td>3-14 ans</td>\n",
       "      <td>0.159081</td>\n",
       "    </tr>\n",
       "    <tr>\n",
       "      <th>1</th>\n",
       "      <td>2326</td>\n",
       "      <td>15-24 ans</td>\n",
       "      <td>0.171070</td>\n",
       "    </tr>\n",
       "    <tr>\n",
       "      <th>2</th>\n",
       "      <td>2326</td>\n",
       "      <td>25-34 ans</td>\n",
       "      <td>0.136125</td>\n",
       "    </tr>\n",
       "    <tr>\n",
       "      <th>3</th>\n",
       "      <td>2326</td>\n",
       "      <td>35-49 ans</td>\n",
       "      <td>0.192822</td>\n",
       "    </tr>\n",
       "    <tr>\n",
       "      <th>4</th>\n",
       "      <td>2326</td>\n",
       "      <td>50-59 ans</td>\n",
       "      <td>0.140421</td>\n",
       "    </tr>\n",
       "    <tr>\n",
       "      <th>5</th>\n",
       "      <td>2326</td>\n",
       "      <td>60 ans et +</td>\n",
       "      <td>0.200480</td>\n",
       "    </tr>\n",
       "    <tr>\n",
       "      <th>6</th>\n",
       "      <td>2327</td>\n",
       "      <td>3-14 ans</td>\n",
       "      <td>0.188744</td>\n",
       "    </tr>\n",
       "    <tr>\n",
       "      <th>7</th>\n",
       "      <td>2327</td>\n",
       "      <td>15-24 ans</td>\n",
       "      <td>0.192692</td>\n",
       "    </tr>\n",
       "    <tr>\n",
       "      <th>8</th>\n",
       "      <td>2327</td>\n",
       "      <td>25-34 ans</td>\n",
       "      <td>0.133367</td>\n",
       "    </tr>\n",
       "    <tr>\n",
       "      <th>9</th>\n",
       "      <td>2327</td>\n",
       "      <td>35-49 ans</td>\n",
       "      <td>0.191609</td>\n",
       "    </tr>\n",
       "    <tr>\n",
       "      <th>10</th>\n",
       "      <td>2327</td>\n",
       "      <td>50-59 ans</td>\n",
       "      <td>0.129968</td>\n",
       "    </tr>\n",
       "    <tr>\n",
       "      <th>11</th>\n",
       "      <td>2327</td>\n",
       "      <td>60 ans et +</td>\n",
       "      <td>0.163621</td>\n",
       "    </tr>\n",
       "    <tr>\n",
       "      <th>12</th>\n",
       "      <td>2328</td>\n",
       "      <td>3-14 ans</td>\n",
       "      <td>0.168159</td>\n",
       "    </tr>\n",
       "    <tr>\n",
       "      <th>13</th>\n",
       "      <td>2328</td>\n",
       "      <td>15-24 ans</td>\n",
       "      <td>0.177405</td>\n",
       "    </tr>\n",
       "    <tr>\n",
       "      <th>14</th>\n",
       "      <td>2328</td>\n",
       "      <td>25-34 ans</td>\n",
       "      <td>0.102985</td>\n",
       "    </tr>\n",
       "    <tr>\n",
       "      <th>15</th>\n",
       "      <td>2328</td>\n",
       "      <td>35-49 ans</td>\n",
       "      <td>0.206507</td>\n",
       "    </tr>\n",
       "    <tr>\n",
       "      <th>16</th>\n",
       "      <td>2328</td>\n",
       "      <td>50-59 ans</td>\n",
       "      <td>0.133237</td>\n",
       "    </tr>\n",
       "    <tr>\n",
       "      <th>17</th>\n",
       "      <td>2328</td>\n",
       "      <td>60 ans et +</td>\n",
       "      <td>0.211706</td>\n",
       "    </tr>\n",
       "    <tr>\n",
       "      <th>18</th>\n",
       "      <td>2329</td>\n",
       "      <td>3-14 ans</td>\n",
       "      <td>0.137017</td>\n",
       "    </tr>\n",
       "    <tr>\n",
       "      <th>19</th>\n",
       "      <td>2329</td>\n",
       "      <td>15-24 ans</td>\n",
       "      <td>0.272937</td>\n",
       "    </tr>\n",
       "    <tr>\n",
       "      <th>20</th>\n",
       "      <td>2329</td>\n",
       "      <td>25-34 ans</td>\n",
       "      <td>0.152800</td>\n",
       "    </tr>\n",
       "    <tr>\n",
       "      <th>21</th>\n",
       "      <td>2329</td>\n",
       "      <td>35-49 ans</td>\n",
       "      <td>0.182990</td>\n",
       "    </tr>\n",
       "    <tr>\n",
       "      <th>22</th>\n",
       "      <td>2329</td>\n",
       "      <td>50-59 ans</td>\n",
       "      <td>0.108096</td>\n",
       "    </tr>\n",
       "    <tr>\n",
       "      <th>23</th>\n",
       "      <td>2329</td>\n",
       "      <td>60 ans et +</td>\n",
       "      <td>0.146159</td>\n",
       "    </tr>\n",
       "    <tr>\n",
       "      <th>24</th>\n",
       "      <td>2330</td>\n",
       "      <td>3-14 ans</td>\n",
       "      <td>0.134854</td>\n",
       "    </tr>\n",
       "    <tr>\n",
       "      <th>25</th>\n",
       "      <td>2330</td>\n",
       "      <td>15-24 ans</td>\n",
       "      <td>0.238800</td>\n",
       "    </tr>\n",
       "    <tr>\n",
       "      <th>26</th>\n",
       "      <td>2330</td>\n",
       "      <td>25-34 ans</td>\n",
       "      <td>0.166774</td>\n",
       "    </tr>\n",
       "    <tr>\n",
       "      <th>27</th>\n",
       "      <td>2330</td>\n",
       "      <td>35-49 ans</td>\n",
       "      <td>0.184379</td>\n",
       "    </tr>\n",
       "    <tr>\n",
       "      <th>28</th>\n",
       "      <td>2330</td>\n",
       "      <td>50-59 ans</td>\n",
       "      <td>0.112589</td>\n",
       "    </tr>\n",
       "    <tr>\n",
       "      <th>29</th>\n",
       "      <td>2330</td>\n",
       "      <td>60 ans et +</td>\n",
       "      <td>0.162604</td>\n",
       "    </tr>\n",
       "  </tbody>\n",
       "</table>\n",
       "</div>"
      ],
      "text/plain": [
       "    sem_cine    age_cat_6  profil_age\n",
       "0       2326     3-14 ans    0.159081\n",
       "1       2326    15-24 ans    0.171070\n",
       "2       2326    25-34 ans    0.136125\n",
       "3       2326    35-49 ans    0.192822\n",
       "4       2326    50-59 ans    0.140421\n",
       "5       2326  60 ans et +    0.200480\n",
       "6       2327     3-14 ans    0.188744\n",
       "7       2327    15-24 ans    0.192692\n",
       "8       2327    25-34 ans    0.133367\n",
       "9       2327    35-49 ans    0.191609\n",
       "10      2327    50-59 ans    0.129968\n",
       "11      2327  60 ans et +    0.163621\n",
       "12      2328     3-14 ans    0.168159\n",
       "13      2328    15-24 ans    0.177405\n",
       "14      2328    25-34 ans    0.102985\n",
       "15      2328    35-49 ans    0.206507\n",
       "16      2328    50-59 ans    0.133237\n",
       "17      2328  60 ans et +    0.211706\n",
       "18      2329     3-14 ans    0.137017\n",
       "19      2329    15-24 ans    0.272937\n",
       "20      2329    25-34 ans    0.152800\n",
       "21      2329    35-49 ans    0.182990\n",
       "22      2329    50-59 ans    0.108096\n",
       "23      2329  60 ans et +    0.146159\n",
       "24      2330     3-14 ans    0.134854\n",
       "25      2330    15-24 ans    0.238800\n",
       "26      2330    25-34 ans    0.166774\n",
       "27      2330    35-49 ans    0.184379\n",
       "28      2330    50-59 ans    0.112589\n",
       "29      2330  60 ans et +    0.162604"
      ]
     },
     "execution_count": 14,
     "metadata": {},
     "output_type": "execute_result"
    }
   ],
   "source": [
    "# Résultat attendu \n",
    "# sem_cine_inv\tage_cat_6       profil_age\t\n",
    "# 2326\t        3-14 ans\t    0.159081\n",
    "#               15-24 ans\t    0.171070\n",
    "#               25-34 ans\t    0.136125\n",
    "#               35-49 ans\t    0.192822\n",
    "#               50-59 ans\t    0.140421\n",
    "#               60 ans et +\t    0.200480\n",
    "# 2327\t        3-14 ans\t    0.188744\n",
    "#               15-24 ans\t    0.192692\n",
    "#               25-34 ans\t    0.133367\n",
    "#               35-49 ans\t    0.191609\n",
    "#               50-59 ans\t    0.129968\n",
    "#               60 ans et +\t    0.163621\n",
    "# 2328\t        3-14 ans\t    0.168159\n",
    "#               15-24 ans\t    0.177405\n",
    "#               25-34 ans\t    0.102985\n",
    "#               35-49 ans\t    0.206507\n",
    "#               50-59 ans\t    0.133237\n",
    "#               60 ans et +\t    0.211706\n",
    "# 2329\t        3-14 ans\t    0.137017\n",
    "#               15-24 ans\t    0.272937\n",
    "#               25-34 ans\t    0.152800\n",
    "#               35-49 ans\t    0.182990\n",
    "#               50-59 ans\t    0.108096\n",
    "#               60 ans et +\t    0.146159\n",
    "# 2330\t        3-14 ans\t    0.134854\n",
    "#               15-24 ans\t    0.238800\n",
    "#               25-34 ans\t    0.166774\n",
    "#               35-49 ans\t    0.184379\n",
    "#               50-59 ans\t    0.112589\n",
    "#               60 ans et +\t    0.162604\n",
    "\n",
    "\n",
    "data_agg_age = (\n",
    "    (\n",
    "        data_weighted.groupby(['sem_cine','age_cat_6'], observed=True, )['Entrées Extrapolées'].sum()\n",
    "        /data_weighted.groupby(['sem_cine',])['Entrées Extrapolées'].sum()\n",
    ").to_frame('profil_age')\n",
    ".reset_index()\n",
    ")\n",
    "data_agg_age"
   ]
  },
  {
   "cell_type": "markdown",
   "id": "c551e1a6",
   "metadata": {},
   "source": [
    "### **Créez un graphique en barres des profils par âge en fonction de la semaine cinéma**\n",
    "Utilisez plotly.express   \n",
    "Renseignez vous sur les paramètres à utiliser en consultant la doc ici : https://plotly.com/python-api-reference/generated/plotly.express.bar     \n",
    "Sauvegardez le graphique dans une varibale appelée fig."
   ]
  },
  {
   "cell_type": "code",
   "execution_count": 16,
   "id": "7b55d651",
   "metadata": {},
   "outputs": [
    {
     "data": {
      "application/vnd.plotly.v1+json": {
       "config": {
        "plotlyServerURL": "https://plot.ly"
       },
       "data": [
        {
         "hovertemplate": "sem_cine=%{x}<br>profil_age=%{y}<extra></extra>",
         "legendgroup": "",
         "marker": {
          "color": "#636efa",
          "pattern": {
           "shape": ""
          }
         },
         "name": "",
         "orientation": "v",
         "showlegend": false,
         "textposition": "auto",
         "type": "bar",
         "x": {
          "bdata": "FgkWCRYJFgkWCRYJFwkXCRcJFwkXCRcJGAkYCRgJGAkYCRgJGQkZCRkJGQkZCRkJGgkaCRoJGgkaCRoJ",
          "dtype": "i2"
         },
         "xaxis": "x",
         "y": {
          "bdata": "5v+Wg8RcxD9kL+hTnuXFP8gUwcaKbME/WX4ktmauyD+LLVrhU/nBPwkQQcpXqck/9ESV1MQoyD/kvLgEIqrIP864nuonEsE/Z+DEpaGGyD9cLztVy6LAP5g1E0GE8cQ/bc7oFzqGxT9TRYJoNrXGPyAJ95E+Xbo/WOq7iNVuyj/fL5f66A3BP3pNRrMxGcs/dDa47MmJwT+NV4kSy3fRP9KFTLP2jsM/zb4fgztsxz9ZkkQnNqy7P6WMJqRStcI/JmnYDuJCwT+9CUrJ/5DOP2H2VZraWMU/W8tuZL6Zxz8XOFSAp9K8P1mv7mgx0MQ/",
          "dtype": "f8"
         },
         "yaxis": "y"
        }
       ],
       "layout": {
        "barmode": "relative",
        "legend": {
         "tracegroupgap": 0
        },
        "margin": {
         "t": 60
        },
        "template": {
         "data": {
          "bar": [
           {
            "error_x": {
             "color": "#2a3f5f"
            },
            "error_y": {
             "color": "#2a3f5f"
            },
            "marker": {
             "line": {
              "color": "#E5ECF6",
              "width": 0.5
             },
             "pattern": {
              "fillmode": "overlay",
              "size": 10,
              "solidity": 0.2
             }
            },
            "type": "bar"
           }
          ],
          "barpolar": [
           {
            "marker": {
             "line": {
              "color": "#E5ECF6",
              "width": 0.5
             },
             "pattern": {
              "fillmode": "overlay",
              "size": 10,
              "solidity": 0.2
             }
            },
            "type": "barpolar"
           }
          ],
          "carpet": [
           {
            "aaxis": {
             "endlinecolor": "#2a3f5f",
             "gridcolor": "white",
             "linecolor": "white",
             "minorgridcolor": "white",
             "startlinecolor": "#2a3f5f"
            },
            "baxis": {
             "endlinecolor": "#2a3f5f",
             "gridcolor": "white",
             "linecolor": "white",
             "minorgridcolor": "white",
             "startlinecolor": "#2a3f5f"
            },
            "type": "carpet"
           }
          ],
          "choropleth": [
           {
            "colorbar": {
             "outlinewidth": 0,
             "ticks": ""
            },
            "type": "choropleth"
           }
          ],
          "contour": [
           {
            "colorbar": {
             "outlinewidth": 0,
             "ticks": ""
            },
            "colorscale": [
             [
              0,
              "#0d0887"
             ],
             [
              0.1111111111111111,
              "#46039f"
             ],
             [
              0.2222222222222222,
              "#7201a8"
             ],
             [
              0.3333333333333333,
              "#9c179e"
             ],
             [
              0.4444444444444444,
              "#bd3786"
             ],
             [
              0.5555555555555556,
              "#d8576b"
             ],
             [
              0.6666666666666666,
              "#ed7953"
             ],
             [
              0.7777777777777778,
              "#fb9f3a"
             ],
             [
              0.8888888888888888,
              "#fdca26"
             ],
             [
              1,
              "#f0f921"
             ]
            ],
            "type": "contour"
           }
          ],
          "contourcarpet": [
           {
            "colorbar": {
             "outlinewidth": 0,
             "ticks": ""
            },
            "type": "contourcarpet"
           }
          ],
          "heatmap": [
           {
            "colorbar": {
             "outlinewidth": 0,
             "ticks": ""
            },
            "colorscale": [
             [
              0,
              "#0d0887"
             ],
             [
              0.1111111111111111,
              "#46039f"
             ],
             [
              0.2222222222222222,
              "#7201a8"
             ],
             [
              0.3333333333333333,
              "#9c179e"
             ],
             [
              0.4444444444444444,
              "#bd3786"
             ],
             [
              0.5555555555555556,
              "#d8576b"
             ],
             [
              0.6666666666666666,
              "#ed7953"
             ],
             [
              0.7777777777777778,
              "#fb9f3a"
             ],
             [
              0.8888888888888888,
              "#fdca26"
             ],
             [
              1,
              "#f0f921"
             ]
            ],
            "type": "heatmap"
           }
          ],
          "histogram": [
           {
            "marker": {
             "pattern": {
              "fillmode": "overlay",
              "size": 10,
              "solidity": 0.2
             }
            },
            "type": "histogram"
           }
          ],
          "histogram2d": [
           {
            "colorbar": {
             "outlinewidth": 0,
             "ticks": ""
            },
            "colorscale": [
             [
              0,
              "#0d0887"
             ],
             [
              0.1111111111111111,
              "#46039f"
             ],
             [
              0.2222222222222222,
              "#7201a8"
             ],
             [
              0.3333333333333333,
              "#9c179e"
             ],
             [
              0.4444444444444444,
              "#bd3786"
             ],
             [
              0.5555555555555556,
              "#d8576b"
             ],
             [
              0.6666666666666666,
              "#ed7953"
             ],
             [
              0.7777777777777778,
              "#fb9f3a"
             ],
             [
              0.8888888888888888,
              "#fdca26"
             ],
             [
              1,
              "#f0f921"
             ]
            ],
            "type": "histogram2d"
           }
          ],
          "histogram2dcontour": [
           {
            "colorbar": {
             "outlinewidth": 0,
             "ticks": ""
            },
            "colorscale": [
             [
              0,
              "#0d0887"
             ],
             [
              0.1111111111111111,
              "#46039f"
             ],
             [
              0.2222222222222222,
              "#7201a8"
             ],
             [
              0.3333333333333333,
              "#9c179e"
             ],
             [
              0.4444444444444444,
              "#bd3786"
             ],
             [
              0.5555555555555556,
              "#d8576b"
             ],
             [
              0.6666666666666666,
              "#ed7953"
             ],
             [
              0.7777777777777778,
              "#fb9f3a"
             ],
             [
              0.8888888888888888,
              "#fdca26"
             ],
             [
              1,
              "#f0f921"
             ]
            ],
            "type": "histogram2dcontour"
           }
          ],
          "mesh3d": [
           {
            "colorbar": {
             "outlinewidth": 0,
             "ticks": ""
            },
            "type": "mesh3d"
           }
          ],
          "parcoords": [
           {
            "line": {
             "colorbar": {
              "outlinewidth": 0,
              "ticks": ""
             }
            },
            "type": "parcoords"
           }
          ],
          "pie": [
           {
            "automargin": true,
            "type": "pie"
           }
          ],
          "scatter": [
           {
            "fillpattern": {
             "fillmode": "overlay",
             "size": 10,
             "solidity": 0.2
            },
            "type": "scatter"
           }
          ],
          "scatter3d": [
           {
            "line": {
             "colorbar": {
              "outlinewidth": 0,
              "ticks": ""
             }
            },
            "marker": {
             "colorbar": {
              "outlinewidth": 0,
              "ticks": ""
             }
            },
            "type": "scatter3d"
           }
          ],
          "scattercarpet": [
           {
            "marker": {
             "colorbar": {
              "outlinewidth": 0,
              "ticks": ""
             }
            },
            "type": "scattercarpet"
           }
          ],
          "scattergeo": [
           {
            "marker": {
             "colorbar": {
              "outlinewidth": 0,
              "ticks": ""
             }
            },
            "type": "scattergeo"
           }
          ],
          "scattergl": [
           {
            "marker": {
             "colorbar": {
              "outlinewidth": 0,
              "ticks": ""
             }
            },
            "type": "scattergl"
           }
          ],
          "scattermap": [
           {
            "marker": {
             "colorbar": {
              "outlinewidth": 0,
              "ticks": ""
             }
            },
            "type": "scattermap"
           }
          ],
          "scattermapbox": [
           {
            "marker": {
             "colorbar": {
              "outlinewidth": 0,
              "ticks": ""
             }
            },
            "type": "scattermapbox"
           }
          ],
          "scatterpolar": [
           {
            "marker": {
             "colorbar": {
              "outlinewidth": 0,
              "ticks": ""
             }
            },
            "type": "scatterpolar"
           }
          ],
          "scatterpolargl": [
           {
            "marker": {
             "colorbar": {
              "outlinewidth": 0,
              "ticks": ""
             }
            },
            "type": "scatterpolargl"
           }
          ],
          "scatterternary": [
           {
            "marker": {
             "colorbar": {
              "outlinewidth": 0,
              "ticks": ""
             }
            },
            "type": "scatterternary"
           }
          ],
          "surface": [
           {
            "colorbar": {
             "outlinewidth": 0,
             "ticks": ""
            },
            "colorscale": [
             [
              0,
              "#0d0887"
             ],
             [
              0.1111111111111111,
              "#46039f"
             ],
             [
              0.2222222222222222,
              "#7201a8"
             ],
             [
              0.3333333333333333,
              "#9c179e"
             ],
             [
              0.4444444444444444,
              "#bd3786"
             ],
             [
              0.5555555555555556,
              "#d8576b"
             ],
             [
              0.6666666666666666,
              "#ed7953"
             ],
             [
              0.7777777777777778,
              "#fb9f3a"
             ],
             [
              0.8888888888888888,
              "#fdca26"
             ],
             [
              1,
              "#f0f921"
             ]
            ],
            "type": "surface"
           }
          ],
          "table": [
           {
            "cells": {
             "fill": {
              "color": "#EBF0F8"
             },
             "line": {
              "color": "white"
             }
            },
            "header": {
             "fill": {
              "color": "#C8D4E3"
             },
             "line": {
              "color": "white"
             }
            },
            "type": "table"
           }
          ]
         },
         "layout": {
          "annotationdefaults": {
           "arrowcolor": "#2a3f5f",
           "arrowhead": 0,
           "arrowwidth": 1
          },
          "autotypenumbers": "strict",
          "coloraxis": {
           "colorbar": {
            "outlinewidth": 0,
            "ticks": ""
           }
          },
          "colorscale": {
           "diverging": [
            [
             0,
             "#8e0152"
            ],
            [
             0.1,
             "#c51b7d"
            ],
            [
             0.2,
             "#de77ae"
            ],
            [
             0.3,
             "#f1b6da"
            ],
            [
             0.4,
             "#fde0ef"
            ],
            [
             0.5,
             "#f7f7f7"
            ],
            [
             0.6,
             "#e6f5d0"
            ],
            [
             0.7,
             "#b8e186"
            ],
            [
             0.8,
             "#7fbc41"
            ],
            [
             0.9,
             "#4d9221"
            ],
            [
             1,
             "#276419"
            ]
           ],
           "sequential": [
            [
             0,
             "#0d0887"
            ],
            [
             0.1111111111111111,
             "#46039f"
            ],
            [
             0.2222222222222222,
             "#7201a8"
            ],
            [
             0.3333333333333333,
             "#9c179e"
            ],
            [
             0.4444444444444444,
             "#bd3786"
            ],
            [
             0.5555555555555556,
             "#d8576b"
            ],
            [
             0.6666666666666666,
             "#ed7953"
            ],
            [
             0.7777777777777778,
             "#fb9f3a"
            ],
            [
             0.8888888888888888,
             "#fdca26"
            ],
            [
             1,
             "#f0f921"
            ]
           ],
           "sequentialminus": [
            [
             0,
             "#0d0887"
            ],
            [
             0.1111111111111111,
             "#46039f"
            ],
            [
             0.2222222222222222,
             "#7201a8"
            ],
            [
             0.3333333333333333,
             "#9c179e"
            ],
            [
             0.4444444444444444,
             "#bd3786"
            ],
            [
             0.5555555555555556,
             "#d8576b"
            ],
            [
             0.6666666666666666,
             "#ed7953"
            ],
            [
             0.7777777777777778,
             "#fb9f3a"
            ],
            [
             0.8888888888888888,
             "#fdca26"
            ],
            [
             1,
             "#f0f921"
            ]
           ]
          },
          "colorway": [
           "#636efa",
           "#EF553B",
           "#00cc96",
           "#ab63fa",
           "#FFA15A",
           "#19d3f3",
           "#FF6692",
           "#B6E880",
           "#FF97FF",
           "#FECB52"
          ],
          "font": {
           "color": "#2a3f5f"
          },
          "geo": {
           "bgcolor": "white",
           "lakecolor": "white",
           "landcolor": "#E5ECF6",
           "showlakes": true,
           "showland": true,
           "subunitcolor": "white"
          },
          "hoverlabel": {
           "align": "left"
          },
          "hovermode": "closest",
          "mapbox": {
           "style": "light"
          },
          "paper_bgcolor": "white",
          "plot_bgcolor": "#E5ECF6",
          "polar": {
           "angularaxis": {
            "gridcolor": "white",
            "linecolor": "white",
            "ticks": ""
           },
           "bgcolor": "#E5ECF6",
           "radialaxis": {
            "gridcolor": "white",
            "linecolor": "white",
            "ticks": ""
           }
          },
          "scene": {
           "xaxis": {
            "backgroundcolor": "#E5ECF6",
            "gridcolor": "white",
            "gridwidth": 2,
            "linecolor": "white",
            "showbackground": true,
            "ticks": "",
            "zerolinecolor": "white"
           },
           "yaxis": {
            "backgroundcolor": "#E5ECF6",
            "gridcolor": "white",
            "gridwidth": 2,
            "linecolor": "white",
            "showbackground": true,
            "ticks": "",
            "zerolinecolor": "white"
           },
           "zaxis": {
            "backgroundcolor": "#E5ECF6",
            "gridcolor": "white",
            "gridwidth": 2,
            "linecolor": "white",
            "showbackground": true,
            "ticks": "",
            "zerolinecolor": "white"
           }
          },
          "shapedefaults": {
           "line": {
            "color": "#2a3f5f"
           }
          },
          "ternary": {
           "aaxis": {
            "gridcolor": "white",
            "linecolor": "white",
            "ticks": ""
           },
           "baxis": {
            "gridcolor": "white",
            "linecolor": "white",
            "ticks": ""
           },
           "bgcolor": "#E5ECF6",
           "caxis": {
            "gridcolor": "white",
            "linecolor": "white",
            "ticks": ""
           }
          },
          "title": {
           "x": 0.05
          },
          "xaxis": {
           "automargin": true,
           "gridcolor": "white",
           "linecolor": "white",
           "ticks": "",
           "title": {
            "standoff": 15
           },
           "zerolinecolor": "white",
           "zerolinewidth": 2
          },
          "yaxis": {
           "automargin": true,
           "gridcolor": "white",
           "linecolor": "white",
           "ticks": "",
           "title": {
            "standoff": 15
           },
           "zerolinecolor": "white",
           "zerolinewidth": 2
          }
         }
        },
        "xaxis": {
         "anchor": "y",
         "domain": [
          0,
          1
         ],
         "title": {
          "text": "sem_cine"
         }
        },
        "yaxis": {
         "anchor": "x",
         "domain": [
          0,
          1
         ],
         "title": {
          "text": "profil_age"
         }
        }
       }
      }
     },
     "metadata": {},
     "output_type": "display_data"
    }
   ],
   "source": [
    "fig = px.bar(\n",
    "    data_agg_age,\n",
    "    x='sem_cine',\n",
    "    y='profil_age'\n",
    ")\n",
    "fig"
   ]
  },
  {
   "cell_type": "markdown",
   "id": "94d64cc7",
   "metadata": {},
   "source": [
    "### **Changez la couleurs des lignes en utilisant la palette age_colors ci-dessous**  \n",
    "N'hésitez pas à utiliser le liden de la documentation plotly.  \n",
    "Lisez le nom des paramètres disponibles. Si le nom d'un paramètres vous interpelle, scrollez vers le bas pour voir son utilisation."
   ]
  },
  {
   "cell_type": "code",
   "execution_count": 18,
   "id": "942cb7d3",
   "metadata": {},
   "outputs": [
    {
     "data": {
      "application/vnd.plotly.v1+json": {
       "config": {
        "plotlyServerURL": "https://plot.ly"
       },
       "data": [
        {
         "hovertemplate": "age_cat_6=3-14 ans<br>sem_cine=%{x}<br>profil_age=%{y}<extra></extra>",
         "legendgroup": "3-14 ans",
         "marker": {
          "color": "rgba(153,204,255,1)",
          "pattern": {
           "shape": ""
          }
         },
         "name": "3-14 ans",
         "orientation": "v",
         "showlegend": true,
         "textposition": "auto",
         "type": "bar",
         "x": {
          "bdata": "FgkXCRgJGQkaCQ==",
          "dtype": "i2"
         },
         "xaxis": "x",
         "y": {
          "bdata": "5v+Wg8RcxD/0RJXUxCjIP23O6Bc6hsU/dDa47MmJwT8madgO4kLBPw==",
          "dtype": "f8"
         },
         "yaxis": "y"
        },
        {
         "hovertemplate": "age_cat_6=15-24 ans<br>sem_cine=%{x}<br>profil_age=%{y}<extra></extra>",
         "legendgroup": "15-24 ans",
         "marker": {
          "color": "rgba(64,153,255,1)",
          "pattern": {
           "shape": ""
          }
         },
         "name": "15-24 ans",
         "orientation": "v",
         "showlegend": true,
         "textposition": "auto",
         "type": "bar",
         "x": {
          "bdata": "FgkXCRgJGQkaCQ==",
          "dtype": "i2"
         },
         "xaxis": "x",
         "y": {
          "bdata": "ZC/oU57lxT/kvLgEIqrIP1NFgmg2tcY/jVeJEst30T+9CUrJ/5DOPw==",
          "dtype": "f8"
         },
         "yaxis": "y"
        },
        {
         "hovertemplate": "age_cat_6=25-34 ans<br>sem_cine=%{x}<br>profil_age=%{y}<extra></extra>",
         "legendgroup": "25-34 ans",
         "marker": {
          "color": "rgba(153,51,204,1)",
          "pattern": {
           "shape": ""
          }
         },
         "name": "25-34 ans",
         "orientation": "v",
         "showlegend": true,
         "textposition": "auto",
         "type": "bar",
         "x": {
          "bdata": "FgkXCRgJGQkaCQ==",
          "dtype": "i2"
         },
         "xaxis": "x",
         "y": {
          "bdata": "yBTBxopswT/OuJ7qJxLBPyAJ95E+Xbo/0oVMs/aOwz9h9lWa2ljFPw==",
          "dtype": "f8"
         },
         "yaxis": "y"
        },
        {
         "hovertemplate": "age_cat_6=35-49 ans<br>sem_cine=%{x}<br>profil_age=%{y}<extra></extra>",
         "legendgroup": "35-49 ans",
         "marker": {
          "color": "rgba(102,1,153,1)",
          "pattern": {
           "shape": ""
          }
         },
         "name": "35-49 ans",
         "orientation": "v",
         "showlegend": true,
         "textposition": "auto",
         "type": "bar",
         "x": {
          "bdata": "FgkXCRgJGQkaCQ==",
          "dtype": "i2"
         },
         "xaxis": "x",
         "y": {
          "bdata": "WX4ktmauyD9n4MSloYbIP1jqu4jVbso/zb4fgztsxz9by25kvpnHPw==",
          "dtype": "f8"
         },
         "yaxis": "y"
        },
        {
         "hovertemplate": "age_cat_6=50-59 ans<br>sem_cine=%{x}<br>profil_age=%{y}<extra></extra>",
         "legendgroup": "50-59 ans",
         "marker": {
          "color": "rgba(246,102,103,1)",
          "pattern": {
           "shape": ""
          }
         },
         "name": "50-59 ans",
         "orientation": "v",
         "showlegend": true,
         "textposition": "auto",
         "type": "bar",
         "x": {
          "bdata": "FgkXCRgJGQkaCQ==",
          "dtype": "i2"
         },
         "xaxis": "x",
         "y": {
          "bdata": "iy1a4VP5wT9cLztVy6LAP98vl/roDcE/WZJEJzasuz8XOFSAp9K8Pw==",
          "dtype": "f8"
         },
         "yaxis": "y"
        },
        {
         "hovertemplate": "age_cat_6=60 ans et +<br>sem_cine=%{x}<br>profil_age=%{y}<extra></extra>",
         "legendgroup": "60 ans et +",
         "marker": {
          "color": "rgba(204,51,51,1)",
          "pattern": {
           "shape": ""
          }
         },
         "name": "60 ans et +",
         "orientation": "v",
         "showlegend": true,
         "textposition": "auto",
         "type": "bar",
         "x": {
          "bdata": "FgkXCRgJGQkaCQ==",
          "dtype": "i2"
         },
         "xaxis": "x",
         "y": {
          "bdata": "CRBBylepyT+YNRNBhPHEP3pNRrMxGcs/pYwmpFK1wj9Zr+5oMdDEPw==",
          "dtype": "f8"
         },
         "yaxis": "y"
        }
       ],
       "layout": {
        "barmode": "relative",
        "legend": {
         "title": {
          "text": "age_cat_6"
         },
         "tracegroupgap": 0
        },
        "margin": {
         "t": 60
        },
        "template": {
         "data": {
          "bar": [
           {
            "error_x": {
             "color": "#2a3f5f"
            },
            "error_y": {
             "color": "#2a3f5f"
            },
            "marker": {
             "line": {
              "color": "#E5ECF6",
              "width": 0.5
             },
             "pattern": {
              "fillmode": "overlay",
              "size": 10,
              "solidity": 0.2
             }
            },
            "type": "bar"
           }
          ],
          "barpolar": [
           {
            "marker": {
             "line": {
              "color": "#E5ECF6",
              "width": 0.5
             },
             "pattern": {
              "fillmode": "overlay",
              "size": 10,
              "solidity": 0.2
             }
            },
            "type": "barpolar"
           }
          ],
          "carpet": [
           {
            "aaxis": {
             "endlinecolor": "#2a3f5f",
             "gridcolor": "white",
             "linecolor": "white",
             "minorgridcolor": "white",
             "startlinecolor": "#2a3f5f"
            },
            "baxis": {
             "endlinecolor": "#2a3f5f",
             "gridcolor": "white",
             "linecolor": "white",
             "minorgridcolor": "white",
             "startlinecolor": "#2a3f5f"
            },
            "type": "carpet"
           }
          ],
          "choropleth": [
           {
            "colorbar": {
             "outlinewidth": 0,
             "ticks": ""
            },
            "type": "choropleth"
           }
          ],
          "contour": [
           {
            "colorbar": {
             "outlinewidth": 0,
             "ticks": ""
            },
            "colorscale": [
             [
              0,
              "#0d0887"
             ],
             [
              0.1111111111111111,
              "#46039f"
             ],
             [
              0.2222222222222222,
              "#7201a8"
             ],
             [
              0.3333333333333333,
              "#9c179e"
             ],
             [
              0.4444444444444444,
              "#bd3786"
             ],
             [
              0.5555555555555556,
              "#d8576b"
             ],
             [
              0.6666666666666666,
              "#ed7953"
             ],
             [
              0.7777777777777778,
              "#fb9f3a"
             ],
             [
              0.8888888888888888,
              "#fdca26"
             ],
             [
              1,
              "#f0f921"
             ]
            ],
            "type": "contour"
           }
          ],
          "contourcarpet": [
           {
            "colorbar": {
             "outlinewidth": 0,
             "ticks": ""
            },
            "type": "contourcarpet"
           }
          ],
          "heatmap": [
           {
            "colorbar": {
             "outlinewidth": 0,
             "ticks": ""
            },
            "colorscale": [
             [
              0,
              "#0d0887"
             ],
             [
              0.1111111111111111,
              "#46039f"
             ],
             [
              0.2222222222222222,
              "#7201a8"
             ],
             [
              0.3333333333333333,
              "#9c179e"
             ],
             [
              0.4444444444444444,
              "#bd3786"
             ],
             [
              0.5555555555555556,
              "#d8576b"
             ],
             [
              0.6666666666666666,
              "#ed7953"
             ],
             [
              0.7777777777777778,
              "#fb9f3a"
             ],
             [
              0.8888888888888888,
              "#fdca26"
             ],
             [
              1,
              "#f0f921"
             ]
            ],
            "type": "heatmap"
           }
          ],
          "histogram": [
           {
            "marker": {
             "pattern": {
              "fillmode": "overlay",
              "size": 10,
              "solidity": 0.2
             }
            },
            "type": "histogram"
           }
          ],
          "histogram2d": [
           {
            "colorbar": {
             "outlinewidth": 0,
             "ticks": ""
            },
            "colorscale": [
             [
              0,
              "#0d0887"
             ],
             [
              0.1111111111111111,
              "#46039f"
             ],
             [
              0.2222222222222222,
              "#7201a8"
             ],
             [
              0.3333333333333333,
              "#9c179e"
             ],
             [
              0.4444444444444444,
              "#bd3786"
             ],
             [
              0.5555555555555556,
              "#d8576b"
             ],
             [
              0.6666666666666666,
              "#ed7953"
             ],
             [
              0.7777777777777778,
              "#fb9f3a"
             ],
             [
              0.8888888888888888,
              "#fdca26"
             ],
             [
              1,
              "#f0f921"
             ]
            ],
            "type": "histogram2d"
           }
          ],
          "histogram2dcontour": [
           {
            "colorbar": {
             "outlinewidth": 0,
             "ticks": ""
            },
            "colorscale": [
             [
              0,
              "#0d0887"
             ],
             [
              0.1111111111111111,
              "#46039f"
             ],
             [
              0.2222222222222222,
              "#7201a8"
             ],
             [
              0.3333333333333333,
              "#9c179e"
             ],
             [
              0.4444444444444444,
              "#bd3786"
             ],
             [
              0.5555555555555556,
              "#d8576b"
             ],
             [
              0.6666666666666666,
              "#ed7953"
             ],
             [
              0.7777777777777778,
              "#fb9f3a"
             ],
             [
              0.8888888888888888,
              "#fdca26"
             ],
             [
              1,
              "#f0f921"
             ]
            ],
            "type": "histogram2dcontour"
           }
          ],
          "mesh3d": [
           {
            "colorbar": {
             "outlinewidth": 0,
             "ticks": ""
            },
            "type": "mesh3d"
           }
          ],
          "parcoords": [
           {
            "line": {
             "colorbar": {
              "outlinewidth": 0,
              "ticks": ""
             }
            },
            "type": "parcoords"
           }
          ],
          "pie": [
           {
            "automargin": true,
            "type": "pie"
           }
          ],
          "scatter": [
           {
            "fillpattern": {
             "fillmode": "overlay",
             "size": 10,
             "solidity": 0.2
            },
            "type": "scatter"
           }
          ],
          "scatter3d": [
           {
            "line": {
             "colorbar": {
              "outlinewidth": 0,
              "ticks": ""
             }
            },
            "marker": {
             "colorbar": {
              "outlinewidth": 0,
              "ticks": ""
             }
            },
            "type": "scatter3d"
           }
          ],
          "scattercarpet": [
           {
            "marker": {
             "colorbar": {
              "outlinewidth": 0,
              "ticks": ""
             }
            },
            "type": "scattercarpet"
           }
          ],
          "scattergeo": [
           {
            "marker": {
             "colorbar": {
              "outlinewidth": 0,
              "ticks": ""
             }
            },
            "type": "scattergeo"
           }
          ],
          "scattergl": [
           {
            "marker": {
             "colorbar": {
              "outlinewidth": 0,
              "ticks": ""
             }
            },
            "type": "scattergl"
           }
          ],
          "scattermap": [
           {
            "marker": {
             "colorbar": {
              "outlinewidth": 0,
              "ticks": ""
             }
            },
            "type": "scattermap"
           }
          ],
          "scattermapbox": [
           {
            "marker": {
             "colorbar": {
              "outlinewidth": 0,
              "ticks": ""
             }
            },
            "type": "scattermapbox"
           }
          ],
          "scatterpolar": [
           {
            "marker": {
             "colorbar": {
              "outlinewidth": 0,
              "ticks": ""
             }
            },
            "type": "scatterpolar"
           }
          ],
          "scatterpolargl": [
           {
            "marker": {
             "colorbar": {
              "outlinewidth": 0,
              "ticks": ""
             }
            },
            "type": "scatterpolargl"
           }
          ],
          "scatterternary": [
           {
            "marker": {
             "colorbar": {
              "outlinewidth": 0,
              "ticks": ""
             }
            },
            "type": "scatterternary"
           }
          ],
          "surface": [
           {
            "colorbar": {
             "outlinewidth": 0,
             "ticks": ""
            },
            "colorscale": [
             [
              0,
              "#0d0887"
             ],
             [
              0.1111111111111111,
              "#46039f"
             ],
             [
              0.2222222222222222,
              "#7201a8"
             ],
             [
              0.3333333333333333,
              "#9c179e"
             ],
             [
              0.4444444444444444,
              "#bd3786"
             ],
             [
              0.5555555555555556,
              "#d8576b"
             ],
             [
              0.6666666666666666,
              "#ed7953"
             ],
             [
              0.7777777777777778,
              "#fb9f3a"
             ],
             [
              0.8888888888888888,
              "#fdca26"
             ],
             [
              1,
              "#f0f921"
             ]
            ],
            "type": "surface"
           }
          ],
          "table": [
           {
            "cells": {
             "fill": {
              "color": "#EBF0F8"
             },
             "line": {
              "color": "white"
             }
            },
            "header": {
             "fill": {
              "color": "#C8D4E3"
             },
             "line": {
              "color": "white"
             }
            },
            "type": "table"
           }
          ]
         },
         "layout": {
          "annotationdefaults": {
           "arrowcolor": "#2a3f5f",
           "arrowhead": 0,
           "arrowwidth": 1
          },
          "autotypenumbers": "strict",
          "coloraxis": {
           "colorbar": {
            "outlinewidth": 0,
            "ticks": ""
           }
          },
          "colorscale": {
           "diverging": [
            [
             0,
             "#8e0152"
            ],
            [
             0.1,
             "#c51b7d"
            ],
            [
             0.2,
             "#de77ae"
            ],
            [
             0.3,
             "#f1b6da"
            ],
            [
             0.4,
             "#fde0ef"
            ],
            [
             0.5,
             "#f7f7f7"
            ],
            [
             0.6,
             "#e6f5d0"
            ],
            [
             0.7,
             "#b8e186"
            ],
            [
             0.8,
             "#7fbc41"
            ],
            [
             0.9,
             "#4d9221"
            ],
            [
             1,
             "#276419"
            ]
           ],
           "sequential": [
            [
             0,
             "#0d0887"
            ],
            [
             0.1111111111111111,
             "#46039f"
            ],
            [
             0.2222222222222222,
             "#7201a8"
            ],
            [
             0.3333333333333333,
             "#9c179e"
            ],
            [
             0.4444444444444444,
             "#bd3786"
            ],
            [
             0.5555555555555556,
             "#d8576b"
            ],
            [
             0.6666666666666666,
             "#ed7953"
            ],
            [
             0.7777777777777778,
             "#fb9f3a"
            ],
            [
             0.8888888888888888,
             "#fdca26"
            ],
            [
             1,
             "#f0f921"
            ]
           ],
           "sequentialminus": [
            [
             0,
             "#0d0887"
            ],
            [
             0.1111111111111111,
             "#46039f"
            ],
            [
             0.2222222222222222,
             "#7201a8"
            ],
            [
             0.3333333333333333,
             "#9c179e"
            ],
            [
             0.4444444444444444,
             "#bd3786"
            ],
            [
             0.5555555555555556,
             "#d8576b"
            ],
            [
             0.6666666666666666,
             "#ed7953"
            ],
            [
             0.7777777777777778,
             "#fb9f3a"
            ],
            [
             0.8888888888888888,
             "#fdca26"
            ],
            [
             1,
             "#f0f921"
            ]
           ]
          },
          "colorway": [
           "#636efa",
           "#EF553B",
           "#00cc96",
           "#ab63fa",
           "#FFA15A",
           "#19d3f3",
           "#FF6692",
           "#B6E880",
           "#FF97FF",
           "#FECB52"
          ],
          "font": {
           "color": "#2a3f5f"
          },
          "geo": {
           "bgcolor": "white",
           "lakecolor": "white",
           "landcolor": "#E5ECF6",
           "showlakes": true,
           "showland": true,
           "subunitcolor": "white"
          },
          "hoverlabel": {
           "align": "left"
          },
          "hovermode": "closest",
          "mapbox": {
           "style": "light"
          },
          "paper_bgcolor": "white",
          "plot_bgcolor": "#E5ECF6",
          "polar": {
           "angularaxis": {
            "gridcolor": "white",
            "linecolor": "white",
            "ticks": ""
           },
           "bgcolor": "#E5ECF6",
           "radialaxis": {
            "gridcolor": "white",
            "linecolor": "white",
            "ticks": ""
           }
          },
          "scene": {
           "xaxis": {
            "backgroundcolor": "#E5ECF6",
            "gridcolor": "white",
            "gridwidth": 2,
            "linecolor": "white",
            "showbackground": true,
            "ticks": "",
            "zerolinecolor": "white"
           },
           "yaxis": {
            "backgroundcolor": "#E5ECF6",
            "gridcolor": "white",
            "gridwidth": 2,
            "linecolor": "white",
            "showbackground": true,
            "ticks": "",
            "zerolinecolor": "white"
           },
           "zaxis": {
            "backgroundcolor": "#E5ECF6",
            "gridcolor": "white",
            "gridwidth": 2,
            "linecolor": "white",
            "showbackground": true,
            "ticks": "",
            "zerolinecolor": "white"
           }
          },
          "shapedefaults": {
           "line": {
            "color": "#2a3f5f"
           }
          },
          "ternary": {
           "aaxis": {
            "gridcolor": "white",
            "linecolor": "white",
            "ticks": ""
           },
           "baxis": {
            "gridcolor": "white",
            "linecolor": "white",
            "ticks": ""
           },
           "bgcolor": "#E5ECF6",
           "caxis": {
            "gridcolor": "white",
            "linecolor": "white",
            "ticks": ""
           }
          },
          "title": {
           "x": 0.05
          },
          "xaxis": {
           "automargin": true,
           "gridcolor": "white",
           "linecolor": "white",
           "ticks": "",
           "title": {
            "standoff": 15
           },
           "zerolinecolor": "white",
           "zerolinewidth": 2
          },
          "yaxis": {
           "automargin": true,
           "gridcolor": "white",
           "linecolor": "white",
           "ticks": "",
           "title": {
            "standoff": 15
           },
           "zerolinecolor": "white",
           "zerolinewidth": 2
          }
         }
        },
        "xaxis": {
         "anchor": "y",
         "domain": [
          0,
          1
         ],
         "title": {
          "text": "sem_cine"
         }
        },
        "yaxis": {
         "anchor": "x",
         "domain": [
          0,
          1
         ],
         "title": {
          "text": "profil_age"
         }
        }
       }
      }
     },
     "metadata": {},
     "output_type": "display_data"
    }
   ],
   "source": [
    "age_colors = [\n",
    "    f'rgba(153,204,255,1)',\n",
    "    f'rgba(64,153,255,1)',\n",
    "    f'rgba(153,51,204,1)',\n",
    "    f'rgba(102,1,153,1)',\n",
    "    f'rgba(246,102,103,1)',\n",
    "    f'rgba(204,51,51,1)',\n",
    "]\n",
    "\n",
    "fig = px.bar(\n",
    "    data_agg_age,\n",
    "    x='sem_cine',\n",
    "    y='profil_age',\n",
    "    color='age_cat_6',\n",
    "    color_discrete_sequence=age_colors,\n",
    ")\n",
    "fig"
   ]
  },
  {
   "cell_type": "markdown",
   "id": "44c8d90f",
   "metadata": {},
   "source": [
    "### **Ajoutez les valeurs formattées de chaque profil**  \n",
    "Dans le doc au lien donnée ci-dessus, trouver les paramètres qui permettent : \n",
    "- d'ajouter la valeur de chaque profil dans chaque barre.  \n",
    "- de formatter les valeurs en pourcentage avec 1 décimale.  \n",
    "\n",
    "Vous trouverez ci-dessous les différentes possibilités de formattages possibles:  \n",
    "| Format  | Description                                               | Example output for `12345.678`         |\n",
    "| ------- | --------------------------------------------------------- | -------------------------------------- |\n",
    "| `d`     | Integer (no decimals)                                     | `12346`                                |\n",
    "| `,d`    | Integer with thousands separator                          | `12,346`                               |\n",
    "| `.2f`   | Fixed-point, 2 decimals                                   | `12345.68`                             |\n",
    "| `,.1f`  | Fixed-point with thousands separator, 1 decimal           | `12,345.7`                             |\n",
    "| `e`     | Exponential notation                                      | `1.234568e+4`                          |\n",
    "| `.2e`   | Exponential with 2 decimals                               | `1.23e+4`                              |\n",
    "| `r`     | Rounded significant digits                                | `12300`                                |\n",
    "| `.3r`   | 3 significant digits                                      | `12300`                                |\n",
    "| `s`     | SI-prefix notation                                        | `12k`                                  |\n",
    "| `.2s`   | SI-prefix with 2 significant digits                       | `12k`                                  |\n",
    "| `%`     | Percentage (value ×100 with `%`)                          | `1234568%`                             |\n",
    "| `.1%`   | Percentage with 1 decimal                                 | `1234567.8%`                           |\n",
    "| `$,.2f` | Currency (USD style) with thousands separator, 2 decimals | `$12,345.68`                           |\n",
    "| `.1f€`  | Custom suffix (Euro)                                      | `12345.7€`                             |\n",
    "| `+,.2f` | Force sign (+/−) with thousands separator, 2 decimals     | `+12,345.68`                           |\n",
    "| `(.2f`  | Negative numbers in parentheses                           | `12345.68` (if negative: `(12345.68)`) |  "
   ]
  },
  {
   "cell_type": "code",
   "execution_count": null,
   "id": "b030f7d2",
   "metadata": {},
   "outputs": [
    {
     "data": {
      "application/vnd.plotly.v1+json": {
       "config": {
        "plotlyServerURL": "https://plot.ly"
       },
       "data": [
        {
         "hovertemplate": "age_cat_6=3-14 ans<br>sem_cine=%{x}<br>profil_age=%{text}<extra></extra>",
         "legendgroup": "3-14 ans",
         "marker": {
          "color": "rgba(153,204,255,1)",
          "pattern": {
           "shape": ""
          }
         },
         "name": "3-14 ans",
         "orientation": "v",
         "showlegend": true,
         "text": {
          "bdata": "5v+Wg8RcxD/0RJXUxCjIP23O6Bc6hsU/dDa47MmJwT8madgO4kLBPw==",
          "dtype": "f8"
         },
         "textposition": "auto",
         "texttemplate": "%{y:.1%}",
         "type": "bar",
         "x": {
          "bdata": "FgkXCRgJGQkaCQ==",
          "dtype": "i2"
         },
         "xaxis": "x",
         "y": {
          "bdata": "5v+Wg8RcxD/0RJXUxCjIP23O6Bc6hsU/dDa47MmJwT8madgO4kLBPw==",
          "dtype": "f8"
         },
         "yaxis": "y"
        },
        {
         "hovertemplate": "age_cat_6=15-24 ans<br>sem_cine=%{x}<br>profil_age=%{text}<extra></extra>",
         "legendgroup": "15-24 ans",
         "marker": {
          "color": "rgba(64,153,255,1)",
          "pattern": {
           "shape": ""
          }
         },
         "name": "15-24 ans",
         "orientation": "v",
         "showlegend": true,
         "text": {
          "bdata": "ZC/oU57lxT/kvLgEIqrIP1NFgmg2tcY/jVeJEst30T+9CUrJ/5DOPw==",
          "dtype": "f8"
         },
         "textposition": "auto",
         "texttemplate": "%{y:.1%}",
         "type": "bar",
         "x": {
          "bdata": "FgkXCRgJGQkaCQ==",
          "dtype": "i2"
         },
         "xaxis": "x",
         "y": {
          "bdata": "ZC/oU57lxT/kvLgEIqrIP1NFgmg2tcY/jVeJEst30T+9CUrJ/5DOPw==",
          "dtype": "f8"
         },
         "yaxis": "y"
        },
        {
         "hovertemplate": "age_cat_6=25-34 ans<br>sem_cine=%{x}<br>profil_age=%{text}<extra></extra>",
         "legendgroup": "25-34 ans",
         "marker": {
          "color": "rgba(153,51,204,1)",
          "pattern": {
           "shape": ""
          }
         },
         "name": "25-34 ans",
         "orientation": "v",
         "showlegend": true,
         "text": {
          "bdata": "yBTBxopswT/OuJ7qJxLBPyAJ95E+Xbo/0oVMs/aOwz9h9lWa2ljFPw==",
          "dtype": "f8"
         },
         "textposition": "auto",
         "texttemplate": "%{y:.1%}",
         "type": "bar",
         "x": {
          "bdata": "FgkXCRgJGQkaCQ==",
          "dtype": "i2"
         },
         "xaxis": "x",
         "y": {
          "bdata": "yBTBxopswT/OuJ7qJxLBPyAJ95E+Xbo/0oVMs/aOwz9h9lWa2ljFPw==",
          "dtype": "f8"
         },
         "yaxis": "y"
        },
        {
         "hovertemplate": "age_cat_6=35-49 ans<br>sem_cine=%{x}<br>profil_age=%{text}<extra></extra>",
         "legendgroup": "35-49 ans",
         "marker": {
          "color": "rgba(102,1,153,1)",
          "pattern": {
           "shape": ""
          }
         },
         "name": "35-49 ans",
         "orientation": "v",
         "showlegend": true,
         "text": {
          "bdata": "WX4ktmauyD9n4MSloYbIP1jqu4jVbso/zb4fgztsxz9by25kvpnHPw==",
          "dtype": "f8"
         },
         "textposition": "auto",
         "texttemplate": "%{y:.1%}",
         "type": "bar",
         "x": {
          "bdata": "FgkXCRgJGQkaCQ==",
          "dtype": "i2"
         },
         "xaxis": "x",
         "y": {
          "bdata": "WX4ktmauyD9n4MSloYbIP1jqu4jVbso/zb4fgztsxz9by25kvpnHPw==",
          "dtype": "f8"
         },
         "yaxis": "y"
        },
        {
         "hovertemplate": "age_cat_6=50-59 ans<br>sem_cine=%{x}<br>profil_age=%{text}<extra></extra>",
         "legendgroup": "50-59 ans",
         "marker": {
          "color": "rgba(246,102,103,1)",
          "pattern": {
           "shape": ""
          }
         },
         "name": "50-59 ans",
         "orientation": "v",
         "showlegend": true,
         "text": {
          "bdata": "iy1a4VP5wT9cLztVy6LAP98vl/roDcE/WZJEJzasuz8XOFSAp9K8Pw==",
          "dtype": "f8"
         },
         "textposition": "auto",
         "texttemplate": "%{y:.1%}",
         "type": "bar",
         "x": {
          "bdata": "FgkXCRgJGQkaCQ==",
          "dtype": "i2"
         },
         "xaxis": "x",
         "y": {
          "bdata": "iy1a4VP5wT9cLztVy6LAP98vl/roDcE/WZJEJzasuz8XOFSAp9K8Pw==",
          "dtype": "f8"
         },
         "yaxis": "y"
        },
        {
         "hovertemplate": "age_cat_6=60 ans et +<br>sem_cine=%{x}<br>profil_age=%{text}<extra></extra>",
         "legendgroup": "60 ans et +",
         "marker": {
          "color": "rgba(204,51,51,1)",
          "pattern": {
           "shape": ""
          }
         },
         "name": "60 ans et +",
         "orientation": "v",
         "showlegend": true,
         "text": {
          "bdata": "CRBBylepyT+YNRNBhPHEP3pNRrMxGcs/pYwmpFK1wj9Zr+5oMdDEPw==",
          "dtype": "f8"
         },
         "textposition": "auto",
         "texttemplate": "%{y:.1%}",
         "type": "bar",
         "x": {
          "bdata": "FgkXCRgJGQkaCQ==",
          "dtype": "i2"
         },
         "xaxis": "x",
         "y": {
          "bdata": "CRBBylepyT+YNRNBhPHEP3pNRrMxGcs/pYwmpFK1wj9Zr+5oMdDEPw==",
          "dtype": "f8"
         },
         "yaxis": "y"
        }
       ],
       "layout": {
        "barmode": "relative",
        "legend": {
         "title": {
          "text": "age_cat_6"
         },
         "tracegroupgap": 0
        },
        "margin": {
         "t": 60
        },
        "template": {
         "data": {
          "bar": [
           {
            "error_x": {
             "color": "#2a3f5f"
            },
            "error_y": {
             "color": "#2a3f5f"
            },
            "marker": {
             "line": {
              "color": "#E5ECF6",
              "width": 0.5
             },
             "pattern": {
              "fillmode": "overlay",
              "size": 10,
              "solidity": 0.2
             }
            },
            "type": "bar"
           }
          ],
          "barpolar": [
           {
            "marker": {
             "line": {
              "color": "#E5ECF6",
              "width": 0.5
             },
             "pattern": {
              "fillmode": "overlay",
              "size": 10,
              "solidity": 0.2
             }
            },
            "type": "barpolar"
           }
          ],
          "carpet": [
           {
            "aaxis": {
             "endlinecolor": "#2a3f5f",
             "gridcolor": "white",
             "linecolor": "white",
             "minorgridcolor": "white",
             "startlinecolor": "#2a3f5f"
            },
            "baxis": {
             "endlinecolor": "#2a3f5f",
             "gridcolor": "white",
             "linecolor": "white",
             "minorgridcolor": "white",
             "startlinecolor": "#2a3f5f"
            },
            "type": "carpet"
           }
          ],
          "choropleth": [
           {
            "colorbar": {
             "outlinewidth": 0,
             "ticks": ""
            },
            "type": "choropleth"
           }
          ],
          "contour": [
           {
            "colorbar": {
             "outlinewidth": 0,
             "ticks": ""
            },
            "colorscale": [
             [
              0,
              "#0d0887"
             ],
             [
              0.1111111111111111,
              "#46039f"
             ],
             [
              0.2222222222222222,
              "#7201a8"
             ],
             [
              0.3333333333333333,
              "#9c179e"
             ],
             [
              0.4444444444444444,
              "#bd3786"
             ],
             [
              0.5555555555555556,
              "#d8576b"
             ],
             [
              0.6666666666666666,
              "#ed7953"
             ],
             [
              0.7777777777777778,
              "#fb9f3a"
             ],
             [
              0.8888888888888888,
              "#fdca26"
             ],
             [
              1,
              "#f0f921"
             ]
            ],
            "type": "contour"
           }
          ],
          "contourcarpet": [
           {
            "colorbar": {
             "outlinewidth": 0,
             "ticks": ""
            },
            "type": "contourcarpet"
           }
          ],
          "heatmap": [
           {
            "colorbar": {
             "outlinewidth": 0,
             "ticks": ""
            },
            "colorscale": [
             [
              0,
              "#0d0887"
             ],
             [
              0.1111111111111111,
              "#46039f"
             ],
             [
              0.2222222222222222,
              "#7201a8"
             ],
             [
              0.3333333333333333,
              "#9c179e"
             ],
             [
              0.4444444444444444,
              "#bd3786"
             ],
             [
              0.5555555555555556,
              "#d8576b"
             ],
             [
              0.6666666666666666,
              "#ed7953"
             ],
             [
              0.7777777777777778,
              "#fb9f3a"
             ],
             [
              0.8888888888888888,
              "#fdca26"
             ],
             [
              1,
              "#f0f921"
             ]
            ],
            "type": "heatmap"
           }
          ],
          "histogram": [
           {
            "marker": {
             "pattern": {
              "fillmode": "overlay",
              "size": 10,
              "solidity": 0.2
             }
            },
            "type": "histogram"
           }
          ],
          "histogram2d": [
           {
            "colorbar": {
             "outlinewidth": 0,
             "ticks": ""
            },
            "colorscale": [
             [
              0,
              "#0d0887"
             ],
             [
              0.1111111111111111,
              "#46039f"
             ],
             [
              0.2222222222222222,
              "#7201a8"
             ],
             [
              0.3333333333333333,
              "#9c179e"
             ],
             [
              0.4444444444444444,
              "#bd3786"
             ],
             [
              0.5555555555555556,
              "#d8576b"
             ],
             [
              0.6666666666666666,
              "#ed7953"
             ],
             [
              0.7777777777777778,
              "#fb9f3a"
             ],
             [
              0.8888888888888888,
              "#fdca26"
             ],
             [
              1,
              "#f0f921"
             ]
            ],
            "type": "histogram2d"
           }
          ],
          "histogram2dcontour": [
           {
            "colorbar": {
             "outlinewidth": 0,
             "ticks": ""
            },
            "colorscale": [
             [
              0,
              "#0d0887"
             ],
             [
              0.1111111111111111,
              "#46039f"
             ],
             [
              0.2222222222222222,
              "#7201a8"
             ],
             [
              0.3333333333333333,
              "#9c179e"
             ],
             [
              0.4444444444444444,
              "#bd3786"
             ],
             [
              0.5555555555555556,
              "#d8576b"
             ],
             [
              0.6666666666666666,
              "#ed7953"
             ],
             [
              0.7777777777777778,
              "#fb9f3a"
             ],
             [
              0.8888888888888888,
              "#fdca26"
             ],
             [
              1,
              "#f0f921"
             ]
            ],
            "type": "histogram2dcontour"
           }
          ],
          "mesh3d": [
           {
            "colorbar": {
             "outlinewidth": 0,
             "ticks": ""
            },
            "type": "mesh3d"
           }
          ],
          "parcoords": [
           {
            "line": {
             "colorbar": {
              "outlinewidth": 0,
              "ticks": ""
             }
            },
            "type": "parcoords"
           }
          ],
          "pie": [
           {
            "automargin": true,
            "type": "pie"
           }
          ],
          "scatter": [
           {
            "fillpattern": {
             "fillmode": "overlay",
             "size": 10,
             "solidity": 0.2
            },
            "type": "scatter"
           }
          ],
          "scatter3d": [
           {
            "line": {
             "colorbar": {
              "outlinewidth": 0,
              "ticks": ""
             }
            },
            "marker": {
             "colorbar": {
              "outlinewidth": 0,
              "ticks": ""
             }
            },
            "type": "scatter3d"
           }
          ],
          "scattercarpet": [
           {
            "marker": {
             "colorbar": {
              "outlinewidth": 0,
              "ticks": ""
             }
            },
            "type": "scattercarpet"
           }
          ],
          "scattergeo": [
           {
            "marker": {
             "colorbar": {
              "outlinewidth": 0,
              "ticks": ""
             }
            },
            "type": "scattergeo"
           }
          ],
          "scattergl": [
           {
            "marker": {
             "colorbar": {
              "outlinewidth": 0,
              "ticks": ""
             }
            },
            "type": "scattergl"
           }
          ],
          "scattermap": [
           {
            "marker": {
             "colorbar": {
              "outlinewidth": 0,
              "ticks": ""
             }
            },
            "type": "scattermap"
           }
          ],
          "scattermapbox": [
           {
            "marker": {
             "colorbar": {
              "outlinewidth": 0,
              "ticks": ""
             }
            },
            "type": "scattermapbox"
           }
          ],
          "scatterpolar": [
           {
            "marker": {
             "colorbar": {
              "outlinewidth": 0,
              "ticks": ""
             }
            },
            "type": "scatterpolar"
           }
          ],
          "scatterpolargl": [
           {
            "marker": {
             "colorbar": {
              "outlinewidth": 0,
              "ticks": ""
             }
            },
            "type": "scatterpolargl"
           }
          ],
          "scatterternary": [
           {
            "marker": {
             "colorbar": {
              "outlinewidth": 0,
              "ticks": ""
             }
            },
            "type": "scatterternary"
           }
          ],
          "surface": [
           {
            "colorbar": {
             "outlinewidth": 0,
             "ticks": ""
            },
            "colorscale": [
             [
              0,
              "#0d0887"
             ],
             [
              0.1111111111111111,
              "#46039f"
             ],
             [
              0.2222222222222222,
              "#7201a8"
             ],
             [
              0.3333333333333333,
              "#9c179e"
             ],
             [
              0.4444444444444444,
              "#bd3786"
             ],
             [
              0.5555555555555556,
              "#d8576b"
             ],
             [
              0.6666666666666666,
              "#ed7953"
             ],
             [
              0.7777777777777778,
              "#fb9f3a"
             ],
             [
              0.8888888888888888,
              "#fdca26"
             ],
             [
              1,
              "#f0f921"
             ]
            ],
            "type": "surface"
           }
          ],
          "table": [
           {
            "cells": {
             "fill": {
              "color": "#EBF0F8"
             },
             "line": {
              "color": "white"
             }
            },
            "header": {
             "fill": {
              "color": "#C8D4E3"
             },
             "line": {
              "color": "white"
             }
            },
            "type": "table"
           }
          ]
         },
         "layout": {
          "annotationdefaults": {
           "arrowcolor": "#2a3f5f",
           "arrowhead": 0,
           "arrowwidth": 1
          },
          "autotypenumbers": "strict",
          "coloraxis": {
           "colorbar": {
            "outlinewidth": 0,
            "ticks": ""
           }
          },
          "colorscale": {
           "diverging": [
            [
             0,
             "#8e0152"
            ],
            [
             0.1,
             "#c51b7d"
            ],
            [
             0.2,
             "#de77ae"
            ],
            [
             0.3,
             "#f1b6da"
            ],
            [
             0.4,
             "#fde0ef"
            ],
            [
             0.5,
             "#f7f7f7"
            ],
            [
             0.6,
             "#e6f5d0"
            ],
            [
             0.7,
             "#b8e186"
            ],
            [
             0.8,
             "#7fbc41"
            ],
            [
             0.9,
             "#4d9221"
            ],
            [
             1,
             "#276419"
            ]
           ],
           "sequential": [
            [
             0,
             "#0d0887"
            ],
            [
             0.1111111111111111,
             "#46039f"
            ],
            [
             0.2222222222222222,
             "#7201a8"
            ],
            [
             0.3333333333333333,
             "#9c179e"
            ],
            [
             0.4444444444444444,
             "#bd3786"
            ],
            [
             0.5555555555555556,
             "#d8576b"
            ],
            [
             0.6666666666666666,
             "#ed7953"
            ],
            [
             0.7777777777777778,
             "#fb9f3a"
            ],
            [
             0.8888888888888888,
             "#fdca26"
            ],
            [
             1,
             "#f0f921"
            ]
           ],
           "sequentialminus": [
            [
             0,
             "#0d0887"
            ],
            [
             0.1111111111111111,
             "#46039f"
            ],
            [
             0.2222222222222222,
             "#7201a8"
            ],
            [
             0.3333333333333333,
             "#9c179e"
            ],
            [
             0.4444444444444444,
             "#bd3786"
            ],
            [
             0.5555555555555556,
             "#d8576b"
            ],
            [
             0.6666666666666666,
             "#ed7953"
            ],
            [
             0.7777777777777778,
             "#fb9f3a"
            ],
            [
             0.8888888888888888,
             "#fdca26"
            ],
            [
             1,
             "#f0f921"
            ]
           ]
          },
          "colorway": [
           "#636efa",
           "#EF553B",
           "#00cc96",
           "#ab63fa",
           "#FFA15A",
           "#19d3f3",
           "#FF6692",
           "#B6E880",
           "#FF97FF",
           "#FECB52"
          ],
          "font": {
           "color": "#2a3f5f"
          },
          "geo": {
           "bgcolor": "white",
           "lakecolor": "white",
           "landcolor": "#E5ECF6",
           "showlakes": true,
           "showland": true,
           "subunitcolor": "white"
          },
          "hoverlabel": {
           "align": "left"
          },
          "hovermode": "closest",
          "mapbox": {
           "style": "light"
          },
          "paper_bgcolor": "white",
          "plot_bgcolor": "#E5ECF6",
          "polar": {
           "angularaxis": {
            "gridcolor": "white",
            "linecolor": "white",
            "ticks": ""
           },
           "bgcolor": "#E5ECF6",
           "radialaxis": {
            "gridcolor": "white",
            "linecolor": "white",
            "ticks": ""
           }
          },
          "scene": {
           "xaxis": {
            "backgroundcolor": "#E5ECF6",
            "gridcolor": "white",
            "gridwidth": 2,
            "linecolor": "white",
            "showbackground": true,
            "ticks": "",
            "zerolinecolor": "white"
           },
           "yaxis": {
            "backgroundcolor": "#E5ECF6",
            "gridcolor": "white",
            "gridwidth": 2,
            "linecolor": "white",
            "showbackground": true,
            "ticks": "",
            "zerolinecolor": "white"
           },
           "zaxis": {
            "backgroundcolor": "#E5ECF6",
            "gridcolor": "white",
            "gridwidth": 2,
            "linecolor": "white",
            "showbackground": true,
            "ticks": "",
            "zerolinecolor": "white"
           }
          },
          "shapedefaults": {
           "line": {
            "color": "#2a3f5f"
           }
          },
          "ternary": {
           "aaxis": {
            "gridcolor": "white",
            "linecolor": "white",
            "ticks": ""
           },
           "baxis": {
            "gridcolor": "white",
            "linecolor": "white",
            "ticks": ""
           },
           "bgcolor": "#E5ECF6",
           "caxis": {
            "gridcolor": "white",
            "linecolor": "white",
            "ticks": ""
           }
          },
          "title": {
           "x": 0.05
          },
          "xaxis": {
           "automargin": true,
           "gridcolor": "white",
           "linecolor": "white",
           "ticks": "",
           "title": {
            "standoff": 15
           },
           "zerolinecolor": "white",
           "zerolinewidth": 2
          },
          "yaxis": {
           "automargin": true,
           "gridcolor": "white",
           "linecolor": "white",
           "ticks": "",
           "title": {
            "standoff": 15
           },
           "zerolinecolor": "white",
           "zerolinewidth": 2
          }
         }
        },
        "xaxis": {
         "anchor": "y",
         "domain": [
          0,
          1
         ],
         "title": {
          "text": "sem_cine"
         }
        },
        "yaxis": {
         "anchor": "x",
         "domain": [
          0,
          1
         ],
         "title": {
          "text": "profil_age"
         }
        }
       }
      }
     },
     "metadata": {},
     "output_type": "display_data"
    }
   ],
   "source": [
    "fig = px.bar(\n",
    "    data_agg_age,\n",
    "    x='sem_cine',\n",
    "    y='profil_age',\n",
    "    color='age_cat_6',\n",
    "    color_discrete_sequence=age_colors,\n",
    "    text='profil_age',\n",
    "    text_auto='.1%', #type: ignore => remove the warning of wrong passed type\n",
    ")\n",
    "\n",
    "fig"
   ]
  },
  {
   "cell_type": "markdown",
   "id": "44f42919",
   "metadata": {},
   "source": [
    "### **Autre méthode**  \n",
    "Vous avez dû normalement trouver deux paramètres à passer à px.bar.  \n",
    "Seulement, ces paramètres permettent un formattage limité.  \n",
    "Il n'est par exemple pas possible de régler la position des valeurs dans la barre, où de les mettre en gras.  \n",
    "Pour contourner cette limite, il est possible d'utiliser la méthode fig.update_traces(), et de passer des arguments utilisables avec go.Bar  \n",
    "=> https://plotly.com/python-api-reference/generated/plotly.graph_objects.Bar.html\n",
    "\n",
    "En utilisant les paramètres suivants :  \n",
    "- texttemplate\n",
    "- textposition\n",
    "- insidetextanchor\n",
    "\n",
    "Assurez-vous que les valeurs soient centrées verticalement et apparaissent en gras (utilisez la balise html <b></b> pour cela)."
   ]
  },
  {
   "cell_type": "code",
   "execution_count": 48,
   "id": "5d88ac51",
   "metadata": {},
   "outputs": [
    {
     "data": {
      "application/vnd.plotly.v1+json": {
       "config": {
        "plotlyServerURL": "https://plot.ly"
       },
       "data": [
        {
         "hovertemplate": "age_cat_6=3-14 ans<br>sem_cine=%{x}<br>profil_age=%{text}<extra></extra>",
         "insidetextanchor": "middle",
         "legendgroup": "3-14 ans",
         "marker": {
          "color": "rgba(153,204,255,1)",
          "pattern": {
           "shape": ""
          }
         },
         "name": "3-14 ans",
         "orientation": "v",
         "showlegend": true,
         "text": {
          "bdata": "5v+Wg8RcxD/0RJXUxCjIP23O6Bc6hsU/dDa47MmJwT8madgO4kLBPw==",
          "dtype": "f8"
         },
         "textposition": "inside",
         "texttemplate": "<b>%{y:.1%}</b>",
         "type": "bar",
         "x": {
          "bdata": "FgkXCRgJGQkaCQ==",
          "dtype": "i2"
         },
         "xaxis": "x",
         "y": {
          "bdata": "5v+Wg8RcxD/0RJXUxCjIP23O6Bc6hsU/dDa47MmJwT8madgO4kLBPw==",
          "dtype": "f8"
         },
         "yaxis": "y"
        },
        {
         "hovertemplate": "age_cat_6=15-24 ans<br>sem_cine=%{x}<br>profil_age=%{text}<extra></extra>",
         "insidetextanchor": "middle",
         "legendgroup": "15-24 ans",
         "marker": {
          "color": "rgba(64,153,255,1)",
          "pattern": {
           "shape": ""
          }
         },
         "name": "15-24 ans",
         "orientation": "v",
         "showlegend": true,
         "text": {
          "bdata": "ZC/oU57lxT/kvLgEIqrIP1NFgmg2tcY/jVeJEst30T+9CUrJ/5DOPw==",
          "dtype": "f8"
         },
         "textposition": "inside",
         "texttemplate": "<b>%{y:.1%}</b>",
         "type": "bar",
         "x": {
          "bdata": "FgkXCRgJGQkaCQ==",
          "dtype": "i2"
         },
         "xaxis": "x",
         "y": {
          "bdata": "ZC/oU57lxT/kvLgEIqrIP1NFgmg2tcY/jVeJEst30T+9CUrJ/5DOPw==",
          "dtype": "f8"
         },
         "yaxis": "y"
        },
        {
         "hovertemplate": "age_cat_6=25-34 ans<br>sem_cine=%{x}<br>profil_age=%{text}<extra></extra>",
         "insidetextanchor": "middle",
         "legendgroup": "25-34 ans",
         "marker": {
          "color": "rgba(153,51,204,1)",
          "pattern": {
           "shape": ""
          }
         },
         "name": "25-34 ans",
         "orientation": "v",
         "showlegend": true,
         "text": {
          "bdata": "yBTBxopswT/OuJ7qJxLBPyAJ95E+Xbo/0oVMs/aOwz9h9lWa2ljFPw==",
          "dtype": "f8"
         },
         "textposition": "inside",
         "texttemplate": "<b>%{y:.1%}</b>",
         "type": "bar",
         "x": {
          "bdata": "FgkXCRgJGQkaCQ==",
          "dtype": "i2"
         },
         "xaxis": "x",
         "y": {
          "bdata": "yBTBxopswT/OuJ7qJxLBPyAJ95E+Xbo/0oVMs/aOwz9h9lWa2ljFPw==",
          "dtype": "f8"
         },
         "yaxis": "y"
        },
        {
         "hovertemplate": "age_cat_6=35-49 ans<br>sem_cine=%{x}<br>profil_age=%{text}<extra></extra>",
         "insidetextanchor": "middle",
         "legendgroup": "35-49 ans",
         "marker": {
          "color": "rgba(102,1,153,1)",
          "pattern": {
           "shape": ""
          }
         },
         "name": "35-49 ans",
         "orientation": "v",
         "showlegend": true,
         "text": {
          "bdata": "WX4ktmauyD9n4MSloYbIP1jqu4jVbso/zb4fgztsxz9by25kvpnHPw==",
          "dtype": "f8"
         },
         "textposition": "inside",
         "texttemplate": "<b>%{y:.1%}</b>",
         "type": "bar",
         "x": {
          "bdata": "FgkXCRgJGQkaCQ==",
          "dtype": "i2"
         },
         "xaxis": "x",
         "y": {
          "bdata": "WX4ktmauyD9n4MSloYbIP1jqu4jVbso/zb4fgztsxz9by25kvpnHPw==",
          "dtype": "f8"
         },
         "yaxis": "y"
        },
        {
         "hovertemplate": "age_cat_6=50-59 ans<br>sem_cine=%{x}<br>profil_age=%{text}<extra></extra>",
         "insidetextanchor": "middle",
         "legendgroup": "50-59 ans",
         "marker": {
          "color": "rgba(246,102,103,1)",
          "pattern": {
           "shape": ""
          }
         },
         "name": "50-59 ans",
         "orientation": "v",
         "showlegend": true,
         "text": {
          "bdata": "iy1a4VP5wT9cLztVy6LAP98vl/roDcE/WZJEJzasuz8XOFSAp9K8Pw==",
          "dtype": "f8"
         },
         "textposition": "inside",
         "texttemplate": "<b>%{y:.1%}</b>",
         "type": "bar",
         "x": {
          "bdata": "FgkXCRgJGQkaCQ==",
          "dtype": "i2"
         },
         "xaxis": "x",
         "y": {
          "bdata": "iy1a4VP5wT9cLztVy6LAP98vl/roDcE/WZJEJzasuz8XOFSAp9K8Pw==",
          "dtype": "f8"
         },
         "yaxis": "y"
        },
        {
         "hovertemplate": "age_cat_6=60 ans et +<br>sem_cine=%{x}<br>profil_age=%{text}<extra></extra>",
         "insidetextanchor": "middle",
         "legendgroup": "60 ans et +",
         "marker": {
          "color": "rgba(204,51,51,1)",
          "pattern": {
           "shape": ""
          }
         },
         "name": "60 ans et +",
         "orientation": "v",
         "showlegend": true,
         "text": {
          "bdata": "CRBBylepyT+YNRNBhPHEP3pNRrMxGcs/pYwmpFK1wj9Zr+5oMdDEPw==",
          "dtype": "f8"
         },
         "textposition": "inside",
         "texttemplate": "<b>%{y:.1%}</b>",
         "type": "bar",
         "x": {
          "bdata": "FgkXCRgJGQkaCQ==",
          "dtype": "i2"
         },
         "xaxis": "x",
         "y": {
          "bdata": "CRBBylepyT+YNRNBhPHEP3pNRrMxGcs/pYwmpFK1wj9Zr+5oMdDEPw==",
          "dtype": "f8"
         },
         "yaxis": "y"
        }
       ],
       "layout": {
        "barmode": "relative",
        "height": 600,
        "legend": {
         "font": {
          "color": "black",
          "size": 12,
          "weight": "bold"
         },
         "orientation": "v",
         "title": {},
         "tracegroupgap": 0,
         "traceorder": "reversed",
         "x": 1,
         "xanchor": "left",
         "y": 0.95,
         "yanchor": "top"
        },
        "margin": {
         "t": 60
        },
        "template": {
         "data": {
          "bar": [
           {
            "error_x": {
             "color": "#2a3f5f"
            },
            "error_y": {
             "color": "#2a3f5f"
            },
            "marker": {
             "line": {
              "color": "#E5ECF6",
              "width": 0.5
             },
             "pattern": {
              "fillmode": "overlay",
              "size": 10,
              "solidity": 0.2
             }
            },
            "type": "bar"
           }
          ],
          "barpolar": [
           {
            "marker": {
             "line": {
              "color": "#E5ECF6",
              "width": 0.5
             },
             "pattern": {
              "fillmode": "overlay",
              "size": 10,
              "solidity": 0.2
             }
            },
            "type": "barpolar"
           }
          ],
          "carpet": [
           {
            "aaxis": {
             "endlinecolor": "#2a3f5f",
             "gridcolor": "white",
             "linecolor": "white",
             "minorgridcolor": "white",
             "startlinecolor": "#2a3f5f"
            },
            "baxis": {
             "endlinecolor": "#2a3f5f",
             "gridcolor": "white",
             "linecolor": "white",
             "minorgridcolor": "white",
             "startlinecolor": "#2a3f5f"
            },
            "type": "carpet"
           }
          ],
          "choropleth": [
           {
            "colorbar": {
             "outlinewidth": 0,
             "ticks": ""
            },
            "type": "choropleth"
           }
          ],
          "contour": [
           {
            "colorbar": {
             "outlinewidth": 0,
             "ticks": ""
            },
            "colorscale": [
             [
              0,
              "#0d0887"
             ],
             [
              0.1111111111111111,
              "#46039f"
             ],
             [
              0.2222222222222222,
              "#7201a8"
             ],
             [
              0.3333333333333333,
              "#9c179e"
             ],
             [
              0.4444444444444444,
              "#bd3786"
             ],
             [
              0.5555555555555556,
              "#d8576b"
             ],
             [
              0.6666666666666666,
              "#ed7953"
             ],
             [
              0.7777777777777778,
              "#fb9f3a"
             ],
             [
              0.8888888888888888,
              "#fdca26"
             ],
             [
              1,
              "#f0f921"
             ]
            ],
            "type": "contour"
           }
          ],
          "contourcarpet": [
           {
            "colorbar": {
             "outlinewidth": 0,
             "ticks": ""
            },
            "type": "contourcarpet"
           }
          ],
          "heatmap": [
           {
            "colorbar": {
             "outlinewidth": 0,
             "ticks": ""
            },
            "colorscale": [
             [
              0,
              "#0d0887"
             ],
             [
              0.1111111111111111,
              "#46039f"
             ],
             [
              0.2222222222222222,
              "#7201a8"
             ],
             [
              0.3333333333333333,
              "#9c179e"
             ],
             [
              0.4444444444444444,
              "#bd3786"
             ],
             [
              0.5555555555555556,
              "#d8576b"
             ],
             [
              0.6666666666666666,
              "#ed7953"
             ],
             [
              0.7777777777777778,
              "#fb9f3a"
             ],
             [
              0.8888888888888888,
              "#fdca26"
             ],
             [
              1,
              "#f0f921"
             ]
            ],
            "type": "heatmap"
           }
          ],
          "histogram": [
           {
            "marker": {
             "pattern": {
              "fillmode": "overlay",
              "size": 10,
              "solidity": 0.2
             }
            },
            "type": "histogram"
           }
          ],
          "histogram2d": [
           {
            "colorbar": {
             "outlinewidth": 0,
             "ticks": ""
            },
            "colorscale": [
             [
              0,
              "#0d0887"
             ],
             [
              0.1111111111111111,
              "#46039f"
             ],
             [
              0.2222222222222222,
              "#7201a8"
             ],
             [
              0.3333333333333333,
              "#9c179e"
             ],
             [
              0.4444444444444444,
              "#bd3786"
             ],
             [
              0.5555555555555556,
              "#d8576b"
             ],
             [
              0.6666666666666666,
              "#ed7953"
             ],
             [
              0.7777777777777778,
              "#fb9f3a"
             ],
             [
              0.8888888888888888,
              "#fdca26"
             ],
             [
              1,
              "#f0f921"
             ]
            ],
            "type": "histogram2d"
           }
          ],
          "histogram2dcontour": [
           {
            "colorbar": {
             "outlinewidth": 0,
             "ticks": ""
            },
            "colorscale": [
             [
              0,
              "#0d0887"
             ],
             [
              0.1111111111111111,
              "#46039f"
             ],
             [
              0.2222222222222222,
              "#7201a8"
             ],
             [
              0.3333333333333333,
              "#9c179e"
             ],
             [
              0.4444444444444444,
              "#bd3786"
             ],
             [
              0.5555555555555556,
              "#d8576b"
             ],
             [
              0.6666666666666666,
              "#ed7953"
             ],
             [
              0.7777777777777778,
              "#fb9f3a"
             ],
             [
              0.8888888888888888,
              "#fdca26"
             ],
             [
              1,
              "#f0f921"
             ]
            ],
            "type": "histogram2dcontour"
           }
          ],
          "mesh3d": [
           {
            "colorbar": {
             "outlinewidth": 0,
             "ticks": ""
            },
            "type": "mesh3d"
           }
          ],
          "parcoords": [
           {
            "line": {
             "colorbar": {
              "outlinewidth": 0,
              "ticks": ""
             }
            },
            "type": "parcoords"
           }
          ],
          "pie": [
           {
            "automargin": true,
            "type": "pie"
           }
          ],
          "scatter": [
           {
            "fillpattern": {
             "fillmode": "overlay",
             "size": 10,
             "solidity": 0.2
            },
            "type": "scatter"
           }
          ],
          "scatter3d": [
           {
            "line": {
             "colorbar": {
              "outlinewidth": 0,
              "ticks": ""
             }
            },
            "marker": {
             "colorbar": {
              "outlinewidth": 0,
              "ticks": ""
             }
            },
            "type": "scatter3d"
           }
          ],
          "scattercarpet": [
           {
            "marker": {
             "colorbar": {
              "outlinewidth": 0,
              "ticks": ""
             }
            },
            "type": "scattercarpet"
           }
          ],
          "scattergeo": [
           {
            "marker": {
             "colorbar": {
              "outlinewidth": 0,
              "ticks": ""
             }
            },
            "type": "scattergeo"
           }
          ],
          "scattergl": [
           {
            "marker": {
             "colorbar": {
              "outlinewidth": 0,
              "ticks": ""
             }
            },
            "type": "scattergl"
           }
          ],
          "scattermap": [
           {
            "marker": {
             "colorbar": {
              "outlinewidth": 0,
              "ticks": ""
             }
            },
            "type": "scattermap"
           }
          ],
          "scattermapbox": [
           {
            "marker": {
             "colorbar": {
              "outlinewidth": 0,
              "ticks": ""
             }
            },
            "type": "scattermapbox"
           }
          ],
          "scatterpolar": [
           {
            "marker": {
             "colorbar": {
              "outlinewidth": 0,
              "ticks": ""
             }
            },
            "type": "scatterpolar"
           }
          ],
          "scatterpolargl": [
           {
            "marker": {
             "colorbar": {
              "outlinewidth": 0,
              "ticks": ""
             }
            },
            "type": "scatterpolargl"
           }
          ],
          "scatterternary": [
           {
            "marker": {
             "colorbar": {
              "outlinewidth": 0,
              "ticks": ""
             }
            },
            "type": "scatterternary"
           }
          ],
          "surface": [
           {
            "colorbar": {
             "outlinewidth": 0,
             "ticks": ""
            },
            "colorscale": [
             [
              0,
              "#0d0887"
             ],
             [
              0.1111111111111111,
              "#46039f"
             ],
             [
              0.2222222222222222,
              "#7201a8"
             ],
             [
              0.3333333333333333,
              "#9c179e"
             ],
             [
              0.4444444444444444,
              "#bd3786"
             ],
             [
              0.5555555555555556,
              "#d8576b"
             ],
             [
              0.6666666666666666,
              "#ed7953"
             ],
             [
              0.7777777777777778,
              "#fb9f3a"
             ],
             [
              0.8888888888888888,
              "#fdca26"
             ],
             [
              1,
              "#f0f921"
             ]
            ],
            "type": "surface"
           }
          ],
          "table": [
           {
            "cells": {
             "fill": {
              "color": "#EBF0F8"
             },
             "line": {
              "color": "white"
             }
            },
            "header": {
             "fill": {
              "color": "#C8D4E3"
             },
             "line": {
              "color": "white"
             }
            },
            "type": "table"
           }
          ]
         },
         "layout": {
          "annotationdefaults": {
           "arrowcolor": "#2a3f5f",
           "arrowhead": 0,
           "arrowwidth": 1
          },
          "autotypenumbers": "strict",
          "coloraxis": {
           "colorbar": {
            "outlinewidth": 0,
            "ticks": ""
           }
          },
          "colorscale": {
           "diverging": [
            [
             0,
             "#8e0152"
            ],
            [
             0.1,
             "#c51b7d"
            ],
            [
             0.2,
             "#de77ae"
            ],
            [
             0.3,
             "#f1b6da"
            ],
            [
             0.4,
             "#fde0ef"
            ],
            [
             0.5,
             "#f7f7f7"
            ],
            [
             0.6,
             "#e6f5d0"
            ],
            [
             0.7,
             "#b8e186"
            ],
            [
             0.8,
             "#7fbc41"
            ],
            [
             0.9,
             "#4d9221"
            ],
            [
             1,
             "#276419"
            ]
           ],
           "sequential": [
            [
             0,
             "#0d0887"
            ],
            [
             0.1111111111111111,
             "#46039f"
            ],
            [
             0.2222222222222222,
             "#7201a8"
            ],
            [
             0.3333333333333333,
             "#9c179e"
            ],
            [
             0.4444444444444444,
             "#bd3786"
            ],
            [
             0.5555555555555556,
             "#d8576b"
            ],
            [
             0.6666666666666666,
             "#ed7953"
            ],
            [
             0.7777777777777778,
             "#fb9f3a"
            ],
            [
             0.8888888888888888,
             "#fdca26"
            ],
            [
             1,
             "#f0f921"
            ]
           ],
           "sequentialminus": [
            [
             0,
             "#0d0887"
            ],
            [
             0.1111111111111111,
             "#46039f"
            ],
            [
             0.2222222222222222,
             "#7201a8"
            ],
            [
             0.3333333333333333,
             "#9c179e"
            ],
            [
             0.4444444444444444,
             "#bd3786"
            ],
            [
             0.5555555555555556,
             "#d8576b"
            ],
            [
             0.6666666666666666,
             "#ed7953"
            ],
            [
             0.7777777777777778,
             "#fb9f3a"
            ],
            [
             0.8888888888888888,
             "#fdca26"
            ],
            [
             1,
             "#f0f921"
            ]
           ]
          },
          "colorway": [
           "#636efa",
           "#EF553B",
           "#00cc96",
           "#ab63fa",
           "#FFA15A",
           "#19d3f3",
           "#FF6692",
           "#B6E880",
           "#FF97FF",
           "#FECB52"
          ],
          "font": {
           "color": "#2a3f5f"
          },
          "geo": {
           "bgcolor": "white",
           "lakecolor": "white",
           "landcolor": "#E5ECF6",
           "showlakes": true,
           "showland": true,
           "subunitcolor": "white"
          },
          "hoverlabel": {
           "align": "left"
          },
          "hovermode": "closest",
          "mapbox": {
           "style": "light"
          },
          "paper_bgcolor": "white",
          "plot_bgcolor": "#E5ECF6",
          "polar": {
           "angularaxis": {
            "gridcolor": "white",
            "linecolor": "white",
            "ticks": ""
           },
           "bgcolor": "#E5ECF6",
           "radialaxis": {
            "gridcolor": "white",
            "linecolor": "white",
            "ticks": ""
           }
          },
          "scene": {
           "xaxis": {
            "backgroundcolor": "#E5ECF6",
            "gridcolor": "white",
            "gridwidth": 2,
            "linecolor": "white",
            "showbackground": true,
            "ticks": "",
            "zerolinecolor": "white"
           },
           "yaxis": {
            "backgroundcolor": "#E5ECF6",
            "gridcolor": "white",
            "gridwidth": 2,
            "linecolor": "white",
            "showbackground": true,
            "ticks": "",
            "zerolinecolor": "white"
           },
           "zaxis": {
            "backgroundcolor": "#E5ECF6",
            "gridcolor": "white",
            "gridwidth": 2,
            "linecolor": "white",
            "showbackground": true,
            "ticks": "",
            "zerolinecolor": "white"
           }
          },
          "shapedefaults": {
           "line": {
            "color": "#2a3f5f"
           }
          },
          "ternary": {
           "aaxis": {
            "gridcolor": "white",
            "linecolor": "white",
            "ticks": ""
           },
           "baxis": {
            "gridcolor": "white",
            "linecolor": "white",
            "ticks": ""
           },
           "bgcolor": "#E5ECF6",
           "caxis": {
            "gridcolor": "white",
            "linecolor": "white",
            "ticks": ""
           }
          },
          "title": {
           "x": 0.05
          },
          "xaxis": {
           "automargin": true,
           "gridcolor": "white",
           "linecolor": "white",
           "ticks": "",
           "title": {
            "standoff": 15
           },
           "zerolinecolor": "white",
           "zerolinewidth": 2
          },
          "yaxis": {
           "automargin": true,
           "gridcolor": "white",
           "linecolor": "white",
           "ticks": "",
           "title": {
            "standoff": 15
           },
           "zerolinecolor": "white",
           "zerolinewidth": 2
          }
         }
        },
        "title": {
         "font": {
          "family": "Century Gothic",
          "size": 20,
          "weight": "bold"
         },
         "text": "Forte augmentation de la part des 15-34 ans à la fin du mois de Juillet",
         "x": 0.46,
         "xanchor": "center"
        },
        "width": 1000,
        "xaxis": {
         "anchor": "y",
         "domain": [
          0,
          1
         ],
         "tickfont": {
          "color": "black",
          "size": 12,
          "weight": "bold"
         },
         "tickmode": "array",
         "ticktext": [
          "Sem 26",
          "Sem 27",
          "Sem 28",
          "Sem 29",
          "Sem 30"
         ],
         "tickvals": [
          2326,
          2327,
          2328,
          2329,
          2330
         ],
         "title": {}
        },
        "yaxis": {
         "anchor": "x",
         "domain": [
          0,
          1
         ],
         "tickformat": ".0%",
         "title": {}
        }
       }
      }
     },
     "metadata": {},
     "output_type": "display_data"
    }
   ],
   "source": [
    "fig.update_traces(\n",
    "    texttemplate=\"<b>%{y:.1%}</b>\",\n",
    "    textposition=\"inside\",\n",
    "    insidetextanchor=\"middle\"\n",
    ")\n",
    "fig"
   ]
  },
  {
   "cell_type": "markdown",
   "id": "0a083fdc",
   "metadata": {},
   "source": [
    "### **Modifier le layout du graphique avec la méthode fig.update_layout()**  \n",
    "Lien vers la doc : https://plotly.com/python-api-reference/generated/plotly.graph_objects.Layout.html#plotly.graph_objects.Layout  \n",
    "\n",
    "Ajouter un titre, modifier la hauteur et la largeur à l'aide des paramètres suivants  \n",
    "- title = dict(  \n",
    "    * text=..., # str : texte à ajouter  \n",
    "    font=dict( # modifie la taille, la police, mise en gras etc.  \n",
    "        size: ... # int  \n",
    "        family: ... # str ; change la police 'Arial' etc  \n",
    "        weight: ... # int ou str : mettre en gras ('bold' en anglais)  \n",
    "    )  \n",
    "    x= ... #float entre 0 et 1\n",
    "    xanchor= ... #str 'left', 'center', 'right', permet d'aligner le titre horizontalement\n",
    "    y=... #float entre 0 et 1\n",
    "    yanchor=... #str 'top', 'middle', 'center', permet d'aligner le titre verticalement\n",
    ")  \n",
    "- height: ... # int  \n",
    "- width: ... # int \n",
    "\n",
    "Lien vrs la doc du titre : https://plotly.com/python-api-reference/generated/plotly.graph_objects.layout.html#plotly.graph_objects.layout.Title"
   ]
  },
  {
   "cell_type": "code",
   "execution_count": 49,
   "id": "123e1631",
   "metadata": {},
   "outputs": [
    {
     "data": {
      "application/vnd.plotly.v1+json": {
       "config": {
        "plotlyServerURL": "https://plot.ly"
       },
       "data": [
        {
         "hovertemplate": "age_cat_6=3-14 ans<br>sem_cine=%{x}<br>profil_age=%{text}<extra></extra>",
         "insidetextanchor": "middle",
         "legendgroup": "3-14 ans",
         "marker": {
          "color": "rgba(153,204,255,1)",
          "pattern": {
           "shape": ""
          }
         },
         "name": "3-14 ans",
         "orientation": "v",
         "showlegend": true,
         "text": {
          "bdata": "5v+Wg8RcxD/0RJXUxCjIP23O6Bc6hsU/dDa47MmJwT8madgO4kLBPw==",
          "dtype": "f8"
         },
         "textposition": "inside",
         "texttemplate": "<b>%{y:.1%}</b>",
         "type": "bar",
         "x": {
          "bdata": "FgkXCRgJGQkaCQ==",
          "dtype": "i2"
         },
         "xaxis": "x",
         "y": {
          "bdata": "5v+Wg8RcxD/0RJXUxCjIP23O6Bc6hsU/dDa47MmJwT8madgO4kLBPw==",
          "dtype": "f8"
         },
         "yaxis": "y"
        },
        {
         "hovertemplate": "age_cat_6=15-24 ans<br>sem_cine=%{x}<br>profil_age=%{text}<extra></extra>",
         "insidetextanchor": "middle",
         "legendgroup": "15-24 ans",
         "marker": {
          "color": "rgba(64,153,255,1)",
          "pattern": {
           "shape": ""
          }
         },
         "name": "15-24 ans",
         "orientation": "v",
         "showlegend": true,
         "text": {
          "bdata": "ZC/oU57lxT/kvLgEIqrIP1NFgmg2tcY/jVeJEst30T+9CUrJ/5DOPw==",
          "dtype": "f8"
         },
         "textposition": "inside",
         "texttemplate": "<b>%{y:.1%}</b>",
         "type": "bar",
         "x": {
          "bdata": "FgkXCRgJGQkaCQ==",
          "dtype": "i2"
         },
         "xaxis": "x",
         "y": {
          "bdata": "ZC/oU57lxT/kvLgEIqrIP1NFgmg2tcY/jVeJEst30T+9CUrJ/5DOPw==",
          "dtype": "f8"
         },
         "yaxis": "y"
        },
        {
         "hovertemplate": "age_cat_6=25-34 ans<br>sem_cine=%{x}<br>profil_age=%{text}<extra></extra>",
         "insidetextanchor": "middle",
         "legendgroup": "25-34 ans",
         "marker": {
          "color": "rgba(153,51,204,1)",
          "pattern": {
           "shape": ""
          }
         },
         "name": "25-34 ans",
         "orientation": "v",
         "showlegend": true,
         "text": {
          "bdata": "yBTBxopswT/OuJ7qJxLBPyAJ95E+Xbo/0oVMs/aOwz9h9lWa2ljFPw==",
          "dtype": "f8"
         },
         "textposition": "inside",
         "texttemplate": "<b>%{y:.1%}</b>",
         "type": "bar",
         "x": {
          "bdata": "FgkXCRgJGQkaCQ==",
          "dtype": "i2"
         },
         "xaxis": "x",
         "y": {
          "bdata": "yBTBxopswT/OuJ7qJxLBPyAJ95E+Xbo/0oVMs/aOwz9h9lWa2ljFPw==",
          "dtype": "f8"
         },
         "yaxis": "y"
        },
        {
         "hovertemplate": "age_cat_6=35-49 ans<br>sem_cine=%{x}<br>profil_age=%{text}<extra></extra>",
         "insidetextanchor": "middle",
         "legendgroup": "35-49 ans",
         "marker": {
          "color": "rgba(102,1,153,1)",
          "pattern": {
           "shape": ""
          }
         },
         "name": "35-49 ans",
         "orientation": "v",
         "showlegend": true,
         "text": {
          "bdata": "WX4ktmauyD9n4MSloYbIP1jqu4jVbso/zb4fgztsxz9by25kvpnHPw==",
          "dtype": "f8"
         },
         "textposition": "inside",
         "texttemplate": "<b>%{y:.1%}</b>",
         "type": "bar",
         "x": {
          "bdata": "FgkXCRgJGQkaCQ==",
          "dtype": "i2"
         },
         "xaxis": "x",
         "y": {
          "bdata": "WX4ktmauyD9n4MSloYbIP1jqu4jVbso/zb4fgztsxz9by25kvpnHPw==",
          "dtype": "f8"
         },
         "yaxis": "y"
        },
        {
         "hovertemplate": "age_cat_6=50-59 ans<br>sem_cine=%{x}<br>profil_age=%{text}<extra></extra>",
         "insidetextanchor": "middle",
         "legendgroup": "50-59 ans",
         "marker": {
          "color": "rgba(246,102,103,1)",
          "pattern": {
           "shape": ""
          }
         },
         "name": "50-59 ans",
         "orientation": "v",
         "showlegend": true,
         "text": {
          "bdata": "iy1a4VP5wT9cLztVy6LAP98vl/roDcE/WZJEJzasuz8XOFSAp9K8Pw==",
          "dtype": "f8"
         },
         "textposition": "inside",
         "texttemplate": "<b>%{y:.1%}</b>",
         "type": "bar",
         "x": {
          "bdata": "FgkXCRgJGQkaCQ==",
          "dtype": "i2"
         },
         "xaxis": "x",
         "y": {
          "bdata": "iy1a4VP5wT9cLztVy6LAP98vl/roDcE/WZJEJzasuz8XOFSAp9K8Pw==",
          "dtype": "f8"
         },
         "yaxis": "y"
        },
        {
         "hovertemplate": "age_cat_6=60 ans et +<br>sem_cine=%{x}<br>profil_age=%{text}<extra></extra>",
         "insidetextanchor": "middle",
         "legendgroup": "60 ans et +",
         "marker": {
          "color": "rgba(204,51,51,1)",
          "pattern": {
           "shape": ""
          }
         },
         "name": "60 ans et +",
         "orientation": "v",
         "showlegend": true,
         "text": {
          "bdata": "CRBBylepyT+YNRNBhPHEP3pNRrMxGcs/pYwmpFK1wj9Zr+5oMdDEPw==",
          "dtype": "f8"
         },
         "textposition": "inside",
         "texttemplate": "<b>%{y:.1%}</b>",
         "type": "bar",
         "x": {
          "bdata": "FgkXCRgJGQkaCQ==",
          "dtype": "i2"
         },
         "xaxis": "x",
         "y": {
          "bdata": "CRBBylepyT+YNRNBhPHEP3pNRrMxGcs/pYwmpFK1wj9Zr+5oMdDEPw==",
          "dtype": "f8"
         },
         "yaxis": "y"
        }
       ],
       "layout": {
        "barmode": "relative",
        "height": 600,
        "legend": {
         "font": {
          "color": "black",
          "size": 12,
          "weight": "bold"
         },
         "orientation": "v",
         "title": {},
         "tracegroupgap": 0,
         "traceorder": "reversed",
         "x": 1,
         "xanchor": "left",
         "y": 0.95,
         "yanchor": "top"
        },
        "margin": {
         "t": 60
        },
        "template": {
         "data": {
          "bar": [
           {
            "error_x": {
             "color": "#2a3f5f"
            },
            "error_y": {
             "color": "#2a3f5f"
            },
            "marker": {
             "line": {
              "color": "#E5ECF6",
              "width": 0.5
             },
             "pattern": {
              "fillmode": "overlay",
              "size": 10,
              "solidity": 0.2
             }
            },
            "type": "bar"
           }
          ],
          "barpolar": [
           {
            "marker": {
             "line": {
              "color": "#E5ECF6",
              "width": 0.5
             },
             "pattern": {
              "fillmode": "overlay",
              "size": 10,
              "solidity": 0.2
             }
            },
            "type": "barpolar"
           }
          ],
          "carpet": [
           {
            "aaxis": {
             "endlinecolor": "#2a3f5f",
             "gridcolor": "white",
             "linecolor": "white",
             "minorgridcolor": "white",
             "startlinecolor": "#2a3f5f"
            },
            "baxis": {
             "endlinecolor": "#2a3f5f",
             "gridcolor": "white",
             "linecolor": "white",
             "minorgridcolor": "white",
             "startlinecolor": "#2a3f5f"
            },
            "type": "carpet"
           }
          ],
          "choropleth": [
           {
            "colorbar": {
             "outlinewidth": 0,
             "ticks": ""
            },
            "type": "choropleth"
           }
          ],
          "contour": [
           {
            "colorbar": {
             "outlinewidth": 0,
             "ticks": ""
            },
            "colorscale": [
             [
              0,
              "#0d0887"
             ],
             [
              0.1111111111111111,
              "#46039f"
             ],
             [
              0.2222222222222222,
              "#7201a8"
             ],
             [
              0.3333333333333333,
              "#9c179e"
             ],
             [
              0.4444444444444444,
              "#bd3786"
             ],
             [
              0.5555555555555556,
              "#d8576b"
             ],
             [
              0.6666666666666666,
              "#ed7953"
             ],
             [
              0.7777777777777778,
              "#fb9f3a"
             ],
             [
              0.8888888888888888,
              "#fdca26"
             ],
             [
              1,
              "#f0f921"
             ]
            ],
            "type": "contour"
           }
          ],
          "contourcarpet": [
           {
            "colorbar": {
             "outlinewidth": 0,
             "ticks": ""
            },
            "type": "contourcarpet"
           }
          ],
          "heatmap": [
           {
            "colorbar": {
             "outlinewidth": 0,
             "ticks": ""
            },
            "colorscale": [
             [
              0,
              "#0d0887"
             ],
             [
              0.1111111111111111,
              "#46039f"
             ],
             [
              0.2222222222222222,
              "#7201a8"
             ],
             [
              0.3333333333333333,
              "#9c179e"
             ],
             [
              0.4444444444444444,
              "#bd3786"
             ],
             [
              0.5555555555555556,
              "#d8576b"
             ],
             [
              0.6666666666666666,
              "#ed7953"
             ],
             [
              0.7777777777777778,
              "#fb9f3a"
             ],
             [
              0.8888888888888888,
              "#fdca26"
             ],
             [
              1,
              "#f0f921"
             ]
            ],
            "type": "heatmap"
           }
          ],
          "histogram": [
           {
            "marker": {
             "pattern": {
              "fillmode": "overlay",
              "size": 10,
              "solidity": 0.2
             }
            },
            "type": "histogram"
           }
          ],
          "histogram2d": [
           {
            "colorbar": {
             "outlinewidth": 0,
             "ticks": ""
            },
            "colorscale": [
             [
              0,
              "#0d0887"
             ],
             [
              0.1111111111111111,
              "#46039f"
             ],
             [
              0.2222222222222222,
              "#7201a8"
             ],
             [
              0.3333333333333333,
              "#9c179e"
             ],
             [
              0.4444444444444444,
              "#bd3786"
             ],
             [
              0.5555555555555556,
              "#d8576b"
             ],
             [
              0.6666666666666666,
              "#ed7953"
             ],
             [
              0.7777777777777778,
              "#fb9f3a"
             ],
             [
              0.8888888888888888,
              "#fdca26"
             ],
             [
              1,
              "#f0f921"
             ]
            ],
            "type": "histogram2d"
           }
          ],
          "histogram2dcontour": [
           {
            "colorbar": {
             "outlinewidth": 0,
             "ticks": ""
            },
            "colorscale": [
             [
              0,
              "#0d0887"
             ],
             [
              0.1111111111111111,
              "#46039f"
             ],
             [
              0.2222222222222222,
              "#7201a8"
             ],
             [
              0.3333333333333333,
              "#9c179e"
             ],
             [
              0.4444444444444444,
              "#bd3786"
             ],
             [
              0.5555555555555556,
              "#d8576b"
             ],
             [
              0.6666666666666666,
              "#ed7953"
             ],
             [
              0.7777777777777778,
              "#fb9f3a"
             ],
             [
              0.8888888888888888,
              "#fdca26"
             ],
             [
              1,
              "#f0f921"
             ]
            ],
            "type": "histogram2dcontour"
           }
          ],
          "mesh3d": [
           {
            "colorbar": {
             "outlinewidth": 0,
             "ticks": ""
            },
            "type": "mesh3d"
           }
          ],
          "parcoords": [
           {
            "line": {
             "colorbar": {
              "outlinewidth": 0,
              "ticks": ""
             }
            },
            "type": "parcoords"
           }
          ],
          "pie": [
           {
            "automargin": true,
            "type": "pie"
           }
          ],
          "scatter": [
           {
            "fillpattern": {
             "fillmode": "overlay",
             "size": 10,
             "solidity": 0.2
            },
            "type": "scatter"
           }
          ],
          "scatter3d": [
           {
            "line": {
             "colorbar": {
              "outlinewidth": 0,
              "ticks": ""
             }
            },
            "marker": {
             "colorbar": {
              "outlinewidth": 0,
              "ticks": ""
             }
            },
            "type": "scatter3d"
           }
          ],
          "scattercarpet": [
           {
            "marker": {
             "colorbar": {
              "outlinewidth": 0,
              "ticks": ""
             }
            },
            "type": "scattercarpet"
           }
          ],
          "scattergeo": [
           {
            "marker": {
             "colorbar": {
              "outlinewidth": 0,
              "ticks": ""
             }
            },
            "type": "scattergeo"
           }
          ],
          "scattergl": [
           {
            "marker": {
             "colorbar": {
              "outlinewidth": 0,
              "ticks": ""
             }
            },
            "type": "scattergl"
           }
          ],
          "scattermap": [
           {
            "marker": {
             "colorbar": {
              "outlinewidth": 0,
              "ticks": ""
             }
            },
            "type": "scattermap"
           }
          ],
          "scattermapbox": [
           {
            "marker": {
             "colorbar": {
              "outlinewidth": 0,
              "ticks": ""
             }
            },
            "type": "scattermapbox"
           }
          ],
          "scatterpolar": [
           {
            "marker": {
             "colorbar": {
              "outlinewidth": 0,
              "ticks": ""
             }
            },
            "type": "scatterpolar"
           }
          ],
          "scatterpolargl": [
           {
            "marker": {
             "colorbar": {
              "outlinewidth": 0,
              "ticks": ""
             }
            },
            "type": "scatterpolargl"
           }
          ],
          "scatterternary": [
           {
            "marker": {
             "colorbar": {
              "outlinewidth": 0,
              "ticks": ""
             }
            },
            "type": "scatterternary"
           }
          ],
          "surface": [
           {
            "colorbar": {
             "outlinewidth": 0,
             "ticks": ""
            },
            "colorscale": [
             [
              0,
              "#0d0887"
             ],
             [
              0.1111111111111111,
              "#46039f"
             ],
             [
              0.2222222222222222,
              "#7201a8"
             ],
             [
              0.3333333333333333,
              "#9c179e"
             ],
             [
              0.4444444444444444,
              "#bd3786"
             ],
             [
              0.5555555555555556,
              "#d8576b"
             ],
             [
              0.6666666666666666,
              "#ed7953"
             ],
             [
              0.7777777777777778,
              "#fb9f3a"
             ],
             [
              0.8888888888888888,
              "#fdca26"
             ],
             [
              1,
              "#f0f921"
             ]
            ],
            "type": "surface"
           }
          ],
          "table": [
           {
            "cells": {
             "fill": {
              "color": "#EBF0F8"
             },
             "line": {
              "color": "white"
             }
            },
            "header": {
             "fill": {
              "color": "#C8D4E3"
             },
             "line": {
              "color": "white"
             }
            },
            "type": "table"
           }
          ]
         },
         "layout": {
          "annotationdefaults": {
           "arrowcolor": "#2a3f5f",
           "arrowhead": 0,
           "arrowwidth": 1
          },
          "autotypenumbers": "strict",
          "coloraxis": {
           "colorbar": {
            "outlinewidth": 0,
            "ticks": ""
           }
          },
          "colorscale": {
           "diverging": [
            [
             0,
             "#8e0152"
            ],
            [
             0.1,
             "#c51b7d"
            ],
            [
             0.2,
             "#de77ae"
            ],
            [
             0.3,
             "#f1b6da"
            ],
            [
             0.4,
             "#fde0ef"
            ],
            [
             0.5,
             "#f7f7f7"
            ],
            [
             0.6,
             "#e6f5d0"
            ],
            [
             0.7,
             "#b8e186"
            ],
            [
             0.8,
             "#7fbc41"
            ],
            [
             0.9,
             "#4d9221"
            ],
            [
             1,
             "#276419"
            ]
           ],
           "sequential": [
            [
             0,
             "#0d0887"
            ],
            [
             0.1111111111111111,
             "#46039f"
            ],
            [
             0.2222222222222222,
             "#7201a8"
            ],
            [
             0.3333333333333333,
             "#9c179e"
            ],
            [
             0.4444444444444444,
             "#bd3786"
            ],
            [
             0.5555555555555556,
             "#d8576b"
            ],
            [
             0.6666666666666666,
             "#ed7953"
            ],
            [
             0.7777777777777778,
             "#fb9f3a"
            ],
            [
             0.8888888888888888,
             "#fdca26"
            ],
            [
             1,
             "#f0f921"
            ]
           ],
           "sequentialminus": [
            [
             0,
             "#0d0887"
            ],
            [
             0.1111111111111111,
             "#46039f"
            ],
            [
             0.2222222222222222,
             "#7201a8"
            ],
            [
             0.3333333333333333,
             "#9c179e"
            ],
            [
             0.4444444444444444,
             "#bd3786"
            ],
            [
             0.5555555555555556,
             "#d8576b"
            ],
            [
             0.6666666666666666,
             "#ed7953"
            ],
            [
             0.7777777777777778,
             "#fb9f3a"
            ],
            [
             0.8888888888888888,
             "#fdca26"
            ],
            [
             1,
             "#f0f921"
            ]
           ]
          },
          "colorway": [
           "#636efa",
           "#EF553B",
           "#00cc96",
           "#ab63fa",
           "#FFA15A",
           "#19d3f3",
           "#FF6692",
           "#B6E880",
           "#FF97FF",
           "#FECB52"
          ],
          "font": {
           "color": "#2a3f5f"
          },
          "geo": {
           "bgcolor": "white",
           "lakecolor": "white",
           "landcolor": "#E5ECF6",
           "showlakes": true,
           "showland": true,
           "subunitcolor": "white"
          },
          "hoverlabel": {
           "align": "left"
          },
          "hovermode": "closest",
          "mapbox": {
           "style": "light"
          },
          "paper_bgcolor": "white",
          "plot_bgcolor": "#E5ECF6",
          "polar": {
           "angularaxis": {
            "gridcolor": "white",
            "linecolor": "white",
            "ticks": ""
           },
           "bgcolor": "#E5ECF6",
           "radialaxis": {
            "gridcolor": "white",
            "linecolor": "white",
            "ticks": ""
           }
          },
          "scene": {
           "xaxis": {
            "backgroundcolor": "#E5ECF6",
            "gridcolor": "white",
            "gridwidth": 2,
            "linecolor": "white",
            "showbackground": true,
            "ticks": "",
            "zerolinecolor": "white"
           },
           "yaxis": {
            "backgroundcolor": "#E5ECF6",
            "gridcolor": "white",
            "gridwidth": 2,
            "linecolor": "white",
            "showbackground": true,
            "ticks": "",
            "zerolinecolor": "white"
           },
           "zaxis": {
            "backgroundcolor": "#E5ECF6",
            "gridcolor": "white",
            "gridwidth": 2,
            "linecolor": "white",
            "showbackground": true,
            "ticks": "",
            "zerolinecolor": "white"
           }
          },
          "shapedefaults": {
           "line": {
            "color": "#2a3f5f"
           }
          },
          "ternary": {
           "aaxis": {
            "gridcolor": "white",
            "linecolor": "white",
            "ticks": ""
           },
           "baxis": {
            "gridcolor": "white",
            "linecolor": "white",
            "ticks": ""
           },
           "bgcolor": "#E5ECF6",
           "caxis": {
            "gridcolor": "white",
            "linecolor": "white",
            "ticks": ""
           }
          },
          "title": {
           "x": 0.05
          },
          "xaxis": {
           "automargin": true,
           "gridcolor": "white",
           "linecolor": "white",
           "ticks": "",
           "title": {
            "standoff": 15
           },
           "zerolinecolor": "white",
           "zerolinewidth": 2
          },
          "yaxis": {
           "automargin": true,
           "gridcolor": "white",
           "linecolor": "white",
           "ticks": "",
           "title": {
            "standoff": 15
           },
           "zerolinecolor": "white",
           "zerolinewidth": 2
          }
         }
        },
        "title": {
         "font": {
          "family": "Century Gothic",
          "size": 20,
          "weight": "bold"
         },
         "text": "Forte augmentation de la part des 15-34 ans à la fin du mois de Juillet",
         "x": 0.46,
         "xanchor": "center"
        },
        "width": 1000,
        "xaxis": {
         "anchor": "y",
         "domain": [
          0,
          1
         ],
         "tickfont": {
          "color": "black",
          "size": 12,
          "weight": "bold"
         },
         "tickmode": "array",
         "ticktext": [
          "Sem 26",
          "Sem 27",
          "Sem 28",
          "Sem 29",
          "Sem 30"
         ],
         "tickvals": [
          2326,
          2327,
          2328,
          2329,
          2330
         ],
         "title": {}
        },
        "yaxis": {
         "anchor": "x",
         "domain": [
          0,
          1
         ],
         "tickformat": ".0%",
         "title": {}
        }
       }
      }
     },
     "metadata": {},
     "output_type": "display_data"
    }
   ],
   "source": [
    "fig.update_layout(\n",
    "    title=dict(\n",
    "        text='Forte augmentation de la part des 15-34 ans à la fin du mois de Juillet', \n",
    "        font=dict(\n",
    "            size=20,\n",
    "            family='Century Gothic',\n",
    "            weight='bold',\n",
    "            ),\n",
    "        x=0.46,\n",
    "        xanchor='center',\n",
    "        ),\n",
    "    height=600,\n",
    "    width=1000,\n",
    ")"
   ]
  },
  {
   "cell_type": "markdown",
   "id": "4d4ad661",
   "metadata": {},
   "source": [
    "### **Utilisez fig.update_layout(xaxis=dict()) pour personnaliser l'axe des abscisses**  \n",
    "Lien vers la doc pour découvrir toutes les fonctionnalités : https://plotly.com/python/reference/layout/xaxis/\n",
    "\n",
    "Par défaut, Plotly affiche les valeurs présentes dans la colonne utilisée pour l'axe des x.  \n",
    "Mais le formattage de correspond pas souvent à ce que l'on souhaite.  \n",
    "Ici par exemple, on souhaiterait afficher \"Sem XX\" où XX est le numéro de la semaine.  \n",
    "  \n",
    "Quand on souhaite afficher des valeurs complétement différentes des valeurs par défaut, il faut trois paramètres:  \n",
    "- tickmode = 'array'  \n",
    "- tickvals = ... # une liste des valeurs présentes dans la colonne utilisée pour l'axe des x  \n",
    "- ticktext = ... # Une liste des valeurs à afficher  \n",
    "\n",
    "Il est également possible de personnaliser la taille, la police, etc. avec le paramètre tickfont.  \n",
    "Enfin vous pouvez changer le titre de l'axe avec le paramètre title=dict().  \n",
    "Ces deux derniers paramètres s'utilisent comme dans la case précédente.  "
   ]
  },
  {
   "cell_type": "code",
   "execution_count": 50,
   "id": "001bef26",
   "metadata": {},
   "outputs": [
    {
     "data": {
      "application/vnd.plotly.v1+json": {
       "config": {
        "plotlyServerURL": "https://plot.ly"
       },
       "data": [
        {
         "hovertemplate": "age_cat_6=3-14 ans<br>sem_cine=%{x}<br>profil_age=%{text}<extra></extra>",
         "insidetextanchor": "middle",
         "legendgroup": "3-14 ans",
         "marker": {
          "color": "rgba(153,204,255,1)",
          "pattern": {
           "shape": ""
          }
         },
         "name": "3-14 ans",
         "orientation": "v",
         "showlegend": true,
         "text": {
          "bdata": "5v+Wg8RcxD/0RJXUxCjIP23O6Bc6hsU/dDa47MmJwT8madgO4kLBPw==",
          "dtype": "f8"
         },
         "textposition": "inside",
         "texttemplate": "<b>%{y:.1%}</b>",
         "type": "bar",
         "x": {
          "bdata": "FgkXCRgJGQkaCQ==",
          "dtype": "i2"
         },
         "xaxis": "x",
         "y": {
          "bdata": "5v+Wg8RcxD/0RJXUxCjIP23O6Bc6hsU/dDa47MmJwT8madgO4kLBPw==",
          "dtype": "f8"
         },
         "yaxis": "y"
        },
        {
         "hovertemplate": "age_cat_6=15-24 ans<br>sem_cine=%{x}<br>profil_age=%{text}<extra></extra>",
         "insidetextanchor": "middle",
         "legendgroup": "15-24 ans",
         "marker": {
          "color": "rgba(64,153,255,1)",
          "pattern": {
           "shape": ""
          }
         },
         "name": "15-24 ans",
         "orientation": "v",
         "showlegend": true,
         "text": {
          "bdata": "ZC/oU57lxT/kvLgEIqrIP1NFgmg2tcY/jVeJEst30T+9CUrJ/5DOPw==",
          "dtype": "f8"
         },
         "textposition": "inside",
         "texttemplate": "<b>%{y:.1%}</b>",
         "type": "bar",
         "x": {
          "bdata": "FgkXCRgJGQkaCQ==",
          "dtype": "i2"
         },
         "xaxis": "x",
         "y": {
          "bdata": "ZC/oU57lxT/kvLgEIqrIP1NFgmg2tcY/jVeJEst30T+9CUrJ/5DOPw==",
          "dtype": "f8"
         },
         "yaxis": "y"
        },
        {
         "hovertemplate": "age_cat_6=25-34 ans<br>sem_cine=%{x}<br>profil_age=%{text}<extra></extra>",
         "insidetextanchor": "middle",
         "legendgroup": "25-34 ans",
         "marker": {
          "color": "rgba(153,51,204,1)",
          "pattern": {
           "shape": ""
          }
         },
         "name": "25-34 ans",
         "orientation": "v",
         "showlegend": true,
         "text": {
          "bdata": "yBTBxopswT/OuJ7qJxLBPyAJ95E+Xbo/0oVMs/aOwz9h9lWa2ljFPw==",
          "dtype": "f8"
         },
         "textposition": "inside",
         "texttemplate": "<b>%{y:.1%}</b>",
         "type": "bar",
         "x": {
          "bdata": "FgkXCRgJGQkaCQ==",
          "dtype": "i2"
         },
         "xaxis": "x",
         "y": {
          "bdata": "yBTBxopswT/OuJ7qJxLBPyAJ95E+Xbo/0oVMs/aOwz9h9lWa2ljFPw==",
          "dtype": "f8"
         },
         "yaxis": "y"
        },
        {
         "hovertemplate": "age_cat_6=35-49 ans<br>sem_cine=%{x}<br>profil_age=%{text}<extra></extra>",
         "insidetextanchor": "middle",
         "legendgroup": "35-49 ans",
         "marker": {
          "color": "rgba(102,1,153,1)",
          "pattern": {
           "shape": ""
          }
         },
         "name": "35-49 ans",
         "orientation": "v",
         "showlegend": true,
         "text": {
          "bdata": "WX4ktmauyD9n4MSloYbIP1jqu4jVbso/zb4fgztsxz9by25kvpnHPw==",
          "dtype": "f8"
         },
         "textposition": "inside",
         "texttemplate": "<b>%{y:.1%}</b>",
         "type": "bar",
         "x": {
          "bdata": "FgkXCRgJGQkaCQ==",
          "dtype": "i2"
         },
         "xaxis": "x",
         "y": {
          "bdata": "WX4ktmauyD9n4MSloYbIP1jqu4jVbso/zb4fgztsxz9by25kvpnHPw==",
          "dtype": "f8"
         },
         "yaxis": "y"
        },
        {
         "hovertemplate": "age_cat_6=50-59 ans<br>sem_cine=%{x}<br>profil_age=%{text}<extra></extra>",
         "insidetextanchor": "middle",
         "legendgroup": "50-59 ans",
         "marker": {
          "color": "rgba(246,102,103,1)",
          "pattern": {
           "shape": ""
          }
         },
         "name": "50-59 ans",
         "orientation": "v",
         "showlegend": true,
         "text": {
          "bdata": "iy1a4VP5wT9cLztVy6LAP98vl/roDcE/WZJEJzasuz8XOFSAp9K8Pw==",
          "dtype": "f8"
         },
         "textposition": "inside",
         "texttemplate": "<b>%{y:.1%}</b>",
         "type": "bar",
         "x": {
          "bdata": "FgkXCRgJGQkaCQ==",
          "dtype": "i2"
         },
         "xaxis": "x",
         "y": {
          "bdata": "iy1a4VP5wT9cLztVy6LAP98vl/roDcE/WZJEJzasuz8XOFSAp9K8Pw==",
          "dtype": "f8"
         },
         "yaxis": "y"
        },
        {
         "hovertemplate": "age_cat_6=60 ans et +<br>sem_cine=%{x}<br>profil_age=%{text}<extra></extra>",
         "insidetextanchor": "middle",
         "legendgroup": "60 ans et +",
         "marker": {
          "color": "rgba(204,51,51,1)",
          "pattern": {
           "shape": ""
          }
         },
         "name": "60 ans et +",
         "orientation": "v",
         "showlegend": true,
         "text": {
          "bdata": "CRBBylepyT+YNRNBhPHEP3pNRrMxGcs/pYwmpFK1wj9Zr+5oMdDEPw==",
          "dtype": "f8"
         },
         "textposition": "inside",
         "texttemplate": "<b>%{y:.1%}</b>",
         "type": "bar",
         "x": {
          "bdata": "FgkXCRgJGQkaCQ==",
          "dtype": "i2"
         },
         "xaxis": "x",
         "y": {
          "bdata": "CRBBylepyT+YNRNBhPHEP3pNRrMxGcs/pYwmpFK1wj9Zr+5oMdDEPw==",
          "dtype": "f8"
         },
         "yaxis": "y"
        }
       ],
       "layout": {
        "barmode": "relative",
        "height": 600,
        "legend": {
         "font": {
          "color": "black",
          "size": 12,
          "weight": "bold"
         },
         "orientation": "v",
         "title": {},
         "tracegroupgap": 0,
         "traceorder": "reversed",
         "x": 1,
         "xanchor": "left",
         "y": 0.95,
         "yanchor": "top"
        },
        "margin": {
         "t": 60
        },
        "template": {
         "data": {
          "bar": [
           {
            "error_x": {
             "color": "#2a3f5f"
            },
            "error_y": {
             "color": "#2a3f5f"
            },
            "marker": {
             "line": {
              "color": "#E5ECF6",
              "width": 0.5
             },
             "pattern": {
              "fillmode": "overlay",
              "size": 10,
              "solidity": 0.2
             }
            },
            "type": "bar"
           }
          ],
          "barpolar": [
           {
            "marker": {
             "line": {
              "color": "#E5ECF6",
              "width": 0.5
             },
             "pattern": {
              "fillmode": "overlay",
              "size": 10,
              "solidity": 0.2
             }
            },
            "type": "barpolar"
           }
          ],
          "carpet": [
           {
            "aaxis": {
             "endlinecolor": "#2a3f5f",
             "gridcolor": "white",
             "linecolor": "white",
             "minorgridcolor": "white",
             "startlinecolor": "#2a3f5f"
            },
            "baxis": {
             "endlinecolor": "#2a3f5f",
             "gridcolor": "white",
             "linecolor": "white",
             "minorgridcolor": "white",
             "startlinecolor": "#2a3f5f"
            },
            "type": "carpet"
           }
          ],
          "choropleth": [
           {
            "colorbar": {
             "outlinewidth": 0,
             "ticks": ""
            },
            "type": "choropleth"
           }
          ],
          "contour": [
           {
            "colorbar": {
             "outlinewidth": 0,
             "ticks": ""
            },
            "colorscale": [
             [
              0,
              "#0d0887"
             ],
             [
              0.1111111111111111,
              "#46039f"
             ],
             [
              0.2222222222222222,
              "#7201a8"
             ],
             [
              0.3333333333333333,
              "#9c179e"
             ],
             [
              0.4444444444444444,
              "#bd3786"
             ],
             [
              0.5555555555555556,
              "#d8576b"
             ],
             [
              0.6666666666666666,
              "#ed7953"
             ],
             [
              0.7777777777777778,
              "#fb9f3a"
             ],
             [
              0.8888888888888888,
              "#fdca26"
             ],
             [
              1,
              "#f0f921"
             ]
            ],
            "type": "contour"
           }
          ],
          "contourcarpet": [
           {
            "colorbar": {
             "outlinewidth": 0,
             "ticks": ""
            },
            "type": "contourcarpet"
           }
          ],
          "heatmap": [
           {
            "colorbar": {
             "outlinewidth": 0,
             "ticks": ""
            },
            "colorscale": [
             [
              0,
              "#0d0887"
             ],
             [
              0.1111111111111111,
              "#46039f"
             ],
             [
              0.2222222222222222,
              "#7201a8"
             ],
             [
              0.3333333333333333,
              "#9c179e"
             ],
             [
              0.4444444444444444,
              "#bd3786"
             ],
             [
              0.5555555555555556,
              "#d8576b"
             ],
             [
              0.6666666666666666,
              "#ed7953"
             ],
             [
              0.7777777777777778,
              "#fb9f3a"
             ],
             [
              0.8888888888888888,
              "#fdca26"
             ],
             [
              1,
              "#f0f921"
             ]
            ],
            "type": "heatmap"
           }
          ],
          "histogram": [
           {
            "marker": {
             "pattern": {
              "fillmode": "overlay",
              "size": 10,
              "solidity": 0.2
             }
            },
            "type": "histogram"
           }
          ],
          "histogram2d": [
           {
            "colorbar": {
             "outlinewidth": 0,
             "ticks": ""
            },
            "colorscale": [
             [
              0,
              "#0d0887"
             ],
             [
              0.1111111111111111,
              "#46039f"
             ],
             [
              0.2222222222222222,
              "#7201a8"
             ],
             [
              0.3333333333333333,
              "#9c179e"
             ],
             [
              0.4444444444444444,
              "#bd3786"
             ],
             [
              0.5555555555555556,
              "#d8576b"
             ],
             [
              0.6666666666666666,
              "#ed7953"
             ],
             [
              0.7777777777777778,
              "#fb9f3a"
             ],
             [
              0.8888888888888888,
              "#fdca26"
             ],
             [
              1,
              "#f0f921"
             ]
            ],
            "type": "histogram2d"
           }
          ],
          "histogram2dcontour": [
           {
            "colorbar": {
             "outlinewidth": 0,
             "ticks": ""
            },
            "colorscale": [
             [
              0,
              "#0d0887"
             ],
             [
              0.1111111111111111,
              "#46039f"
             ],
             [
              0.2222222222222222,
              "#7201a8"
             ],
             [
              0.3333333333333333,
              "#9c179e"
             ],
             [
              0.4444444444444444,
              "#bd3786"
             ],
             [
              0.5555555555555556,
              "#d8576b"
             ],
             [
              0.6666666666666666,
              "#ed7953"
             ],
             [
              0.7777777777777778,
              "#fb9f3a"
             ],
             [
              0.8888888888888888,
              "#fdca26"
             ],
             [
              1,
              "#f0f921"
             ]
            ],
            "type": "histogram2dcontour"
           }
          ],
          "mesh3d": [
           {
            "colorbar": {
             "outlinewidth": 0,
             "ticks": ""
            },
            "type": "mesh3d"
           }
          ],
          "parcoords": [
           {
            "line": {
             "colorbar": {
              "outlinewidth": 0,
              "ticks": ""
             }
            },
            "type": "parcoords"
           }
          ],
          "pie": [
           {
            "automargin": true,
            "type": "pie"
           }
          ],
          "scatter": [
           {
            "fillpattern": {
             "fillmode": "overlay",
             "size": 10,
             "solidity": 0.2
            },
            "type": "scatter"
           }
          ],
          "scatter3d": [
           {
            "line": {
             "colorbar": {
              "outlinewidth": 0,
              "ticks": ""
             }
            },
            "marker": {
             "colorbar": {
              "outlinewidth": 0,
              "ticks": ""
             }
            },
            "type": "scatter3d"
           }
          ],
          "scattercarpet": [
           {
            "marker": {
             "colorbar": {
              "outlinewidth": 0,
              "ticks": ""
             }
            },
            "type": "scattercarpet"
           }
          ],
          "scattergeo": [
           {
            "marker": {
             "colorbar": {
              "outlinewidth": 0,
              "ticks": ""
             }
            },
            "type": "scattergeo"
           }
          ],
          "scattergl": [
           {
            "marker": {
             "colorbar": {
              "outlinewidth": 0,
              "ticks": ""
             }
            },
            "type": "scattergl"
           }
          ],
          "scattermap": [
           {
            "marker": {
             "colorbar": {
              "outlinewidth": 0,
              "ticks": ""
             }
            },
            "type": "scattermap"
           }
          ],
          "scattermapbox": [
           {
            "marker": {
             "colorbar": {
              "outlinewidth": 0,
              "ticks": ""
             }
            },
            "type": "scattermapbox"
           }
          ],
          "scatterpolar": [
           {
            "marker": {
             "colorbar": {
              "outlinewidth": 0,
              "ticks": ""
             }
            },
            "type": "scatterpolar"
           }
          ],
          "scatterpolargl": [
           {
            "marker": {
             "colorbar": {
              "outlinewidth": 0,
              "ticks": ""
             }
            },
            "type": "scatterpolargl"
           }
          ],
          "scatterternary": [
           {
            "marker": {
             "colorbar": {
              "outlinewidth": 0,
              "ticks": ""
             }
            },
            "type": "scatterternary"
           }
          ],
          "surface": [
           {
            "colorbar": {
             "outlinewidth": 0,
             "ticks": ""
            },
            "colorscale": [
             [
              0,
              "#0d0887"
             ],
             [
              0.1111111111111111,
              "#46039f"
             ],
             [
              0.2222222222222222,
              "#7201a8"
             ],
             [
              0.3333333333333333,
              "#9c179e"
             ],
             [
              0.4444444444444444,
              "#bd3786"
             ],
             [
              0.5555555555555556,
              "#d8576b"
             ],
             [
              0.6666666666666666,
              "#ed7953"
             ],
             [
              0.7777777777777778,
              "#fb9f3a"
             ],
             [
              0.8888888888888888,
              "#fdca26"
             ],
             [
              1,
              "#f0f921"
             ]
            ],
            "type": "surface"
           }
          ],
          "table": [
           {
            "cells": {
             "fill": {
              "color": "#EBF0F8"
             },
             "line": {
              "color": "white"
             }
            },
            "header": {
             "fill": {
              "color": "#C8D4E3"
             },
             "line": {
              "color": "white"
             }
            },
            "type": "table"
           }
          ]
         },
         "layout": {
          "annotationdefaults": {
           "arrowcolor": "#2a3f5f",
           "arrowhead": 0,
           "arrowwidth": 1
          },
          "autotypenumbers": "strict",
          "coloraxis": {
           "colorbar": {
            "outlinewidth": 0,
            "ticks": ""
           }
          },
          "colorscale": {
           "diverging": [
            [
             0,
             "#8e0152"
            ],
            [
             0.1,
             "#c51b7d"
            ],
            [
             0.2,
             "#de77ae"
            ],
            [
             0.3,
             "#f1b6da"
            ],
            [
             0.4,
             "#fde0ef"
            ],
            [
             0.5,
             "#f7f7f7"
            ],
            [
             0.6,
             "#e6f5d0"
            ],
            [
             0.7,
             "#b8e186"
            ],
            [
             0.8,
             "#7fbc41"
            ],
            [
             0.9,
             "#4d9221"
            ],
            [
             1,
             "#276419"
            ]
           ],
           "sequential": [
            [
             0,
             "#0d0887"
            ],
            [
             0.1111111111111111,
             "#46039f"
            ],
            [
             0.2222222222222222,
             "#7201a8"
            ],
            [
             0.3333333333333333,
             "#9c179e"
            ],
            [
             0.4444444444444444,
             "#bd3786"
            ],
            [
             0.5555555555555556,
             "#d8576b"
            ],
            [
             0.6666666666666666,
             "#ed7953"
            ],
            [
             0.7777777777777778,
             "#fb9f3a"
            ],
            [
             0.8888888888888888,
             "#fdca26"
            ],
            [
             1,
             "#f0f921"
            ]
           ],
           "sequentialminus": [
            [
             0,
             "#0d0887"
            ],
            [
             0.1111111111111111,
             "#46039f"
            ],
            [
             0.2222222222222222,
             "#7201a8"
            ],
            [
             0.3333333333333333,
             "#9c179e"
            ],
            [
             0.4444444444444444,
             "#bd3786"
            ],
            [
             0.5555555555555556,
             "#d8576b"
            ],
            [
             0.6666666666666666,
             "#ed7953"
            ],
            [
             0.7777777777777778,
             "#fb9f3a"
            ],
            [
             0.8888888888888888,
             "#fdca26"
            ],
            [
             1,
             "#f0f921"
            ]
           ]
          },
          "colorway": [
           "#636efa",
           "#EF553B",
           "#00cc96",
           "#ab63fa",
           "#FFA15A",
           "#19d3f3",
           "#FF6692",
           "#B6E880",
           "#FF97FF",
           "#FECB52"
          ],
          "font": {
           "color": "#2a3f5f"
          },
          "geo": {
           "bgcolor": "white",
           "lakecolor": "white",
           "landcolor": "#E5ECF6",
           "showlakes": true,
           "showland": true,
           "subunitcolor": "white"
          },
          "hoverlabel": {
           "align": "left"
          },
          "hovermode": "closest",
          "mapbox": {
           "style": "light"
          },
          "paper_bgcolor": "white",
          "plot_bgcolor": "#E5ECF6",
          "polar": {
           "angularaxis": {
            "gridcolor": "white",
            "linecolor": "white",
            "ticks": ""
           },
           "bgcolor": "#E5ECF6",
           "radialaxis": {
            "gridcolor": "white",
            "linecolor": "white",
            "ticks": ""
           }
          },
          "scene": {
           "xaxis": {
            "backgroundcolor": "#E5ECF6",
            "gridcolor": "white",
            "gridwidth": 2,
            "linecolor": "white",
            "showbackground": true,
            "ticks": "",
            "zerolinecolor": "white"
           },
           "yaxis": {
            "backgroundcolor": "#E5ECF6",
            "gridcolor": "white",
            "gridwidth": 2,
            "linecolor": "white",
            "showbackground": true,
            "ticks": "",
            "zerolinecolor": "white"
           },
           "zaxis": {
            "backgroundcolor": "#E5ECF6",
            "gridcolor": "white",
            "gridwidth": 2,
            "linecolor": "white",
            "showbackground": true,
            "ticks": "",
            "zerolinecolor": "white"
           }
          },
          "shapedefaults": {
           "line": {
            "color": "#2a3f5f"
           }
          },
          "ternary": {
           "aaxis": {
            "gridcolor": "white",
            "linecolor": "white",
            "ticks": ""
           },
           "baxis": {
            "gridcolor": "white",
            "linecolor": "white",
            "ticks": ""
           },
           "bgcolor": "#E5ECF6",
           "caxis": {
            "gridcolor": "white",
            "linecolor": "white",
            "ticks": ""
           }
          },
          "title": {
           "x": 0.05
          },
          "xaxis": {
           "automargin": true,
           "gridcolor": "white",
           "linecolor": "white",
           "ticks": "",
           "title": {
            "standoff": 15
           },
           "zerolinecolor": "white",
           "zerolinewidth": 2
          },
          "yaxis": {
           "automargin": true,
           "gridcolor": "white",
           "linecolor": "white",
           "ticks": "",
           "title": {
            "standoff": 15
           },
           "zerolinecolor": "white",
           "zerolinewidth": 2
          }
         }
        },
        "title": {
         "font": {
          "family": "Century Gothic",
          "size": 20,
          "weight": "bold"
         },
         "text": "Forte augmentation de la part des 15-34 ans à la fin du mois de Juillet",
         "x": 0.46,
         "xanchor": "center"
        },
        "width": 1000,
        "xaxis": {
         "anchor": "y",
         "domain": [
          0,
          1
         ],
         "tickfont": {
          "color": "black",
          "size": 12,
          "weight": "bold"
         },
         "tickmode": "array",
         "ticktext": [
          "Sem 26",
          "Sem 27",
          "Sem 28",
          "Sem 29",
          "Sem 30"
         ],
         "tickvals": [
          2326,
          2327,
          2328,
          2329,
          2330
         ],
         "title": {}
        },
        "yaxis": {
         "anchor": "x",
         "domain": [
          0,
          1
         ],
         "tickformat": ".0%",
         "title": {}
        }
       }
      }
     },
     "metadata": {},
     "output_type": "display_data"
    }
   ],
   "source": [
    "fig.update_layout(\n",
    "    xaxis=dict(\n",
    "        title=dict(text=None),\n",
    "        tickmode='array', \n",
    "        tickvals=data_agg_age['sem_cine'].unique().tolist(), \n",
    "        ticktext=[f\"Sem {int(i)}\" for i in np.arange(26, 31, 1)],\n",
    "        tickfont=dict(size=12, color='black', weight='bold'),\n",
    "        ),\n",
    ")\n",
    "fig"
   ]
  },
  {
   "cell_type": "markdown",
   "id": "a2e72c2a",
   "metadata": {},
   "source": [
    "### **Utilisez fig.update_layout(yaxis=dict()) pour personnaliser l'axe des ordonnées**  \n",
    "Lien vers la doc pour découvrir toutes les fonctionnalités : https://plotly.com/python/reference/layout/yaxis/\n",
    "\n",
    "Ici, ce qu'on retrouver en ordonnées est évident : il n'y a donc pas besoin de titre.  \n",
    "\n",
    "Par défaut, Plotly affiche les valeurs présentes dans la colonne utilisée pour l'axe des y.  \n",
    "Mais le formattage de correspond pas souvent à ce que l'on souhaite.  \n",
    "Ici par exemple, on a les bonnes valeurs, mais on voudrait les afficher %.\n",
    "  \n",
    "Ici, on souhaite donc juste modifier le format d'affichage. Plotly utilise le format D3.  \n",
    "C'est possible de le modifier avec le paramètre suivant :  \n",
    "- tickformat = ... # D3-format string   \n",
    "\n",
    "Voici des exemples de format à passer à tickformat  \n",
    "  \n",
    "| Format  | Description                                               | Example output for `12345.678`         |\n",
    "| ------- | --------------------------------------------------------- | -------------------------------------- |\n",
    "| `d`     | Integer (no decimals)                                     | `12346`                                |\n",
    "| `,d`    | Integer with thousands separator                          | `12,346`                               |\n",
    "| `.2f`   | Fixed-point, 2 decimals                                   | `12345.68`                             |\n",
    "| `,.1f`  | Fixed-point with thousands separator, 1 decimal           | `12,345.7`                             |\n",
    "| `e`     | Exponential notation                                      | `1.234568e+4`                          |\n",
    "| `.2e`   | Exponential with 2 decimals                               | `1.23e+4`                              |\n",
    "| `r`     | Rounded significant digits                                | `12300`                                |\n",
    "| `.3r`   | 3 significant digits                                      | `12300`                                |\n",
    "| `s`     | SI-prefix notation                                        | `12k`                                  |\n",
    "| `.2s`   | SI-prefix with 2 significant digits                       | `12k`                                  |\n",
    "| `%`     | Percentage (value ×100 with `%`)                          | `1234568%`                             |\n",
    "| `.1%`   | Percentage with 1 decimal                                 | `1234567.8%`                           |\n",
    "| `$,.2f` | Currency (USD style) with thousands separator, 2 decimals | `$12,345.68`                           |\n",
    "| `.1f€`  | Custom suffix (Euro)                                      | `12345.7€`                             |\n",
    "| `+,.2f` | Force sign (+/−) with thousands separator, 2 decimals     | `+12,345.68`                           |\n",
    "| `(.2f`  | Negative numbers in parentheses                           | `12345.68` (if negative: `(12345.68)`) |  \n",
    "\n",
    "\n",
    "Pensez également à bien choisir le nombre de ticks à afficher.  \n",
    "C'est notamment pratique sur un diagramme en barres empilées pour afficher le tick des 50% !   \n",
    "Il existe :  \n",
    "- nticks = ... #int nombre maximum de ticks. Peu pratique.  \n",
    "- dtick= ... #unité de l'axe. Plus fiable  "
   ]
  },
  {
   "cell_type": "code",
   "execution_count": 62,
   "id": "d2433cd8",
   "metadata": {},
   "outputs": [
    {
     "data": {
      "application/vnd.plotly.v1+json": {
       "config": {
        "plotlyServerURL": "https://plot.ly"
       },
       "data": [
        {
         "hovertemplate": "age_cat_6=3-14 ans<br>sem_cine=%{x}<br>profil_age=%{text}<extra></extra>",
         "insidetextanchor": "middle",
         "legendgroup": "3-14 ans",
         "marker": {
          "color": "rgba(153,204,255,1)",
          "pattern": {
           "shape": ""
          }
         },
         "name": "3-14 ans",
         "orientation": "v",
         "showlegend": true,
         "text": {
          "bdata": "5v+Wg8RcxD/0RJXUxCjIP23O6Bc6hsU/dDa47MmJwT8madgO4kLBPw==",
          "dtype": "f8"
         },
         "textposition": "inside",
         "texttemplate": "<b>%{y:.1%}</b>",
         "type": "bar",
         "x": {
          "bdata": "FgkXCRgJGQkaCQ==",
          "dtype": "i2"
         },
         "xaxis": "x",
         "y": {
          "bdata": "5v+Wg8RcxD/0RJXUxCjIP23O6Bc6hsU/dDa47MmJwT8madgO4kLBPw==",
          "dtype": "f8"
         },
         "yaxis": "y"
        },
        {
         "hovertemplate": "age_cat_6=15-24 ans<br>sem_cine=%{x}<br>profil_age=%{text}<extra></extra>",
         "insidetextanchor": "middle",
         "legendgroup": "15-24 ans",
         "marker": {
          "color": "rgba(64,153,255,1)",
          "pattern": {
           "shape": ""
          }
         },
         "name": "15-24 ans",
         "orientation": "v",
         "showlegend": true,
         "text": {
          "bdata": "ZC/oU57lxT/kvLgEIqrIP1NFgmg2tcY/jVeJEst30T+9CUrJ/5DOPw==",
          "dtype": "f8"
         },
         "textposition": "inside",
         "texttemplate": "<b>%{y:.1%}</b>",
         "type": "bar",
         "x": {
          "bdata": "FgkXCRgJGQkaCQ==",
          "dtype": "i2"
         },
         "xaxis": "x",
         "y": {
          "bdata": "ZC/oU57lxT/kvLgEIqrIP1NFgmg2tcY/jVeJEst30T+9CUrJ/5DOPw==",
          "dtype": "f8"
         },
         "yaxis": "y"
        },
        {
         "hovertemplate": "age_cat_6=25-34 ans<br>sem_cine=%{x}<br>profil_age=%{text}<extra></extra>",
         "insidetextanchor": "middle",
         "legendgroup": "25-34 ans",
         "marker": {
          "color": "rgba(153,51,204,1)",
          "pattern": {
           "shape": ""
          }
         },
         "name": "25-34 ans",
         "orientation": "v",
         "showlegend": true,
         "text": {
          "bdata": "yBTBxopswT/OuJ7qJxLBPyAJ95E+Xbo/0oVMs/aOwz9h9lWa2ljFPw==",
          "dtype": "f8"
         },
         "textposition": "inside",
         "texttemplate": "<b>%{y:.1%}</b>",
         "type": "bar",
         "x": {
          "bdata": "FgkXCRgJGQkaCQ==",
          "dtype": "i2"
         },
         "xaxis": "x",
         "y": {
          "bdata": "yBTBxopswT/OuJ7qJxLBPyAJ95E+Xbo/0oVMs/aOwz9h9lWa2ljFPw==",
          "dtype": "f8"
         },
         "yaxis": "y"
        },
        {
         "hovertemplate": "age_cat_6=35-49 ans<br>sem_cine=%{x}<br>profil_age=%{text}<extra></extra>",
         "insidetextanchor": "middle",
         "legendgroup": "35-49 ans",
         "marker": {
          "color": "rgba(102,1,153,1)",
          "pattern": {
           "shape": ""
          }
         },
         "name": "35-49 ans",
         "orientation": "v",
         "showlegend": true,
         "text": {
          "bdata": "WX4ktmauyD9n4MSloYbIP1jqu4jVbso/zb4fgztsxz9by25kvpnHPw==",
          "dtype": "f8"
         },
         "textposition": "inside",
         "texttemplate": "<b>%{y:.1%}</b>",
         "type": "bar",
         "x": {
          "bdata": "FgkXCRgJGQkaCQ==",
          "dtype": "i2"
         },
         "xaxis": "x",
         "y": {
          "bdata": "WX4ktmauyD9n4MSloYbIP1jqu4jVbso/zb4fgztsxz9by25kvpnHPw==",
          "dtype": "f8"
         },
         "yaxis": "y"
        },
        {
         "hovertemplate": "age_cat_6=50-59 ans<br>sem_cine=%{x}<br>profil_age=%{text}<extra></extra>",
         "insidetextanchor": "middle",
         "legendgroup": "50-59 ans",
         "marker": {
          "color": "rgba(246,102,103,1)",
          "pattern": {
           "shape": ""
          }
         },
         "name": "50-59 ans",
         "orientation": "v",
         "showlegend": true,
         "text": {
          "bdata": "iy1a4VP5wT9cLztVy6LAP98vl/roDcE/WZJEJzasuz8XOFSAp9K8Pw==",
          "dtype": "f8"
         },
         "textposition": "inside",
         "texttemplate": "<b>%{y:.1%}</b>",
         "type": "bar",
         "x": {
          "bdata": "FgkXCRgJGQkaCQ==",
          "dtype": "i2"
         },
         "xaxis": "x",
         "y": {
          "bdata": "iy1a4VP5wT9cLztVy6LAP98vl/roDcE/WZJEJzasuz8XOFSAp9K8Pw==",
          "dtype": "f8"
         },
         "yaxis": "y"
        },
        {
         "hovertemplate": "age_cat_6=60 ans et +<br>sem_cine=%{x}<br>profil_age=%{text}<extra></extra>",
         "insidetextanchor": "middle",
         "legendgroup": "60 ans et +",
         "marker": {
          "color": "rgba(204,51,51,1)",
          "pattern": {
           "shape": ""
          }
         },
         "name": "60 ans et +",
         "orientation": "v",
         "showlegend": true,
         "text": {
          "bdata": "CRBBylepyT+YNRNBhPHEP3pNRrMxGcs/pYwmpFK1wj9Zr+5oMdDEPw==",
          "dtype": "f8"
         },
         "textposition": "inside",
         "texttemplate": "<b>%{y:.1%}</b>",
         "type": "bar",
         "x": {
          "bdata": "FgkXCRgJGQkaCQ==",
          "dtype": "i2"
         },
         "xaxis": "x",
         "y": {
          "bdata": "CRBBylepyT+YNRNBhPHEP3pNRrMxGcs/pYwmpFK1wj9Zr+5oMdDEPw==",
          "dtype": "f8"
         },
         "yaxis": "y"
        }
       ],
       "layout": {
        "barmode": "relative",
        "height": 600,
        "legend": {
         "font": {
          "color": "black",
          "size": 12,
          "weight": 100
         },
         "orientation": "v",
         "title": {},
         "tracegroupgap": 0,
         "traceorder": "reversed",
         "x": 1,
         "xanchor": "left",
         "y": 0.95,
         "yanchor": "top"
        },
        "margin": {
         "t": 60
        },
        "template": {
         "data": {
          "bar": [
           {
            "error_x": {
             "color": "#2a3f5f"
            },
            "error_y": {
             "color": "#2a3f5f"
            },
            "marker": {
             "line": {
              "color": "white",
              "width": 0.5
             },
             "pattern": {
              "fillmode": "overlay",
              "size": 10,
              "solidity": 0.2
             }
            },
            "type": "bar"
           }
          ],
          "barpolar": [
           {
            "marker": {
             "line": {
              "color": "white",
              "width": 0.5
             },
             "pattern": {
              "fillmode": "overlay",
              "size": 10,
              "solidity": 0.2
             }
            },
            "type": "barpolar"
           }
          ],
          "carpet": [
           {
            "aaxis": {
             "endlinecolor": "#2a3f5f",
             "gridcolor": "#C8D4E3",
             "linecolor": "#C8D4E3",
             "minorgridcolor": "#C8D4E3",
             "startlinecolor": "#2a3f5f"
            },
            "baxis": {
             "endlinecolor": "#2a3f5f",
             "gridcolor": "#C8D4E3",
             "linecolor": "#C8D4E3",
             "minorgridcolor": "#C8D4E3",
             "startlinecolor": "#2a3f5f"
            },
            "type": "carpet"
           }
          ],
          "choropleth": [
           {
            "colorbar": {
             "outlinewidth": 0,
             "ticks": ""
            },
            "type": "choropleth"
           }
          ],
          "contour": [
           {
            "colorbar": {
             "outlinewidth": 0,
             "ticks": ""
            },
            "colorscale": [
             [
              0,
              "#0d0887"
             ],
             [
              0.1111111111111111,
              "#46039f"
             ],
             [
              0.2222222222222222,
              "#7201a8"
             ],
             [
              0.3333333333333333,
              "#9c179e"
             ],
             [
              0.4444444444444444,
              "#bd3786"
             ],
             [
              0.5555555555555556,
              "#d8576b"
             ],
             [
              0.6666666666666666,
              "#ed7953"
             ],
             [
              0.7777777777777778,
              "#fb9f3a"
             ],
             [
              0.8888888888888888,
              "#fdca26"
             ],
             [
              1,
              "#f0f921"
             ]
            ],
            "type": "contour"
           }
          ],
          "contourcarpet": [
           {
            "colorbar": {
             "outlinewidth": 0,
             "ticks": ""
            },
            "type": "contourcarpet"
           }
          ],
          "heatmap": [
           {
            "colorbar": {
             "outlinewidth": 0,
             "ticks": ""
            },
            "colorscale": [
             [
              0,
              "#0d0887"
             ],
             [
              0.1111111111111111,
              "#46039f"
             ],
             [
              0.2222222222222222,
              "#7201a8"
             ],
             [
              0.3333333333333333,
              "#9c179e"
             ],
             [
              0.4444444444444444,
              "#bd3786"
             ],
             [
              0.5555555555555556,
              "#d8576b"
             ],
             [
              0.6666666666666666,
              "#ed7953"
             ],
             [
              0.7777777777777778,
              "#fb9f3a"
             ],
             [
              0.8888888888888888,
              "#fdca26"
             ],
             [
              1,
              "#f0f921"
             ]
            ],
            "type": "heatmap"
           }
          ],
          "histogram": [
           {
            "marker": {
             "pattern": {
              "fillmode": "overlay",
              "size": 10,
              "solidity": 0.2
             }
            },
            "type": "histogram"
           }
          ],
          "histogram2d": [
           {
            "colorbar": {
             "outlinewidth": 0,
             "ticks": ""
            },
            "colorscale": [
             [
              0,
              "#0d0887"
             ],
             [
              0.1111111111111111,
              "#46039f"
             ],
             [
              0.2222222222222222,
              "#7201a8"
             ],
             [
              0.3333333333333333,
              "#9c179e"
             ],
             [
              0.4444444444444444,
              "#bd3786"
             ],
             [
              0.5555555555555556,
              "#d8576b"
             ],
             [
              0.6666666666666666,
              "#ed7953"
             ],
             [
              0.7777777777777778,
              "#fb9f3a"
             ],
             [
              0.8888888888888888,
              "#fdca26"
             ],
             [
              1,
              "#f0f921"
             ]
            ],
            "type": "histogram2d"
           }
          ],
          "histogram2dcontour": [
           {
            "colorbar": {
             "outlinewidth": 0,
             "ticks": ""
            },
            "colorscale": [
             [
              0,
              "#0d0887"
             ],
             [
              0.1111111111111111,
              "#46039f"
             ],
             [
              0.2222222222222222,
              "#7201a8"
             ],
             [
              0.3333333333333333,
              "#9c179e"
             ],
             [
              0.4444444444444444,
              "#bd3786"
             ],
             [
              0.5555555555555556,
              "#d8576b"
             ],
             [
              0.6666666666666666,
              "#ed7953"
             ],
             [
              0.7777777777777778,
              "#fb9f3a"
             ],
             [
              0.8888888888888888,
              "#fdca26"
             ],
             [
              1,
              "#f0f921"
             ]
            ],
            "type": "histogram2dcontour"
           }
          ],
          "mesh3d": [
           {
            "colorbar": {
             "outlinewidth": 0,
             "ticks": ""
            },
            "type": "mesh3d"
           }
          ],
          "parcoords": [
           {
            "line": {
             "colorbar": {
              "outlinewidth": 0,
              "ticks": ""
             }
            },
            "type": "parcoords"
           }
          ],
          "pie": [
           {
            "automargin": true,
            "type": "pie"
           }
          ],
          "scatter": [
           {
            "fillpattern": {
             "fillmode": "overlay",
             "size": 10,
             "solidity": 0.2
            },
            "type": "scatter"
           }
          ],
          "scatter3d": [
           {
            "line": {
             "colorbar": {
              "outlinewidth": 0,
              "ticks": ""
             }
            },
            "marker": {
             "colorbar": {
              "outlinewidth": 0,
              "ticks": ""
             }
            },
            "type": "scatter3d"
           }
          ],
          "scattercarpet": [
           {
            "marker": {
             "colorbar": {
              "outlinewidth": 0,
              "ticks": ""
             }
            },
            "type": "scattercarpet"
           }
          ],
          "scattergeo": [
           {
            "marker": {
             "colorbar": {
              "outlinewidth": 0,
              "ticks": ""
             }
            },
            "type": "scattergeo"
           }
          ],
          "scattergl": [
           {
            "marker": {
             "colorbar": {
              "outlinewidth": 0,
              "ticks": ""
             }
            },
            "type": "scattergl"
           }
          ],
          "scattermap": [
           {
            "marker": {
             "colorbar": {
              "outlinewidth": 0,
              "ticks": ""
             }
            },
            "type": "scattermap"
           }
          ],
          "scattermapbox": [
           {
            "marker": {
             "colorbar": {
              "outlinewidth": 0,
              "ticks": ""
             }
            },
            "type": "scattermapbox"
           }
          ],
          "scatterpolar": [
           {
            "marker": {
             "colorbar": {
              "outlinewidth": 0,
              "ticks": ""
             }
            },
            "type": "scatterpolar"
           }
          ],
          "scatterpolargl": [
           {
            "marker": {
             "colorbar": {
              "outlinewidth": 0,
              "ticks": ""
             }
            },
            "type": "scatterpolargl"
           }
          ],
          "scatterternary": [
           {
            "marker": {
             "colorbar": {
              "outlinewidth": 0,
              "ticks": ""
             }
            },
            "type": "scatterternary"
           }
          ],
          "surface": [
           {
            "colorbar": {
             "outlinewidth": 0,
             "ticks": ""
            },
            "colorscale": [
             [
              0,
              "#0d0887"
             ],
             [
              0.1111111111111111,
              "#46039f"
             ],
             [
              0.2222222222222222,
              "#7201a8"
             ],
             [
              0.3333333333333333,
              "#9c179e"
             ],
             [
              0.4444444444444444,
              "#bd3786"
             ],
             [
              0.5555555555555556,
              "#d8576b"
             ],
             [
              0.6666666666666666,
              "#ed7953"
             ],
             [
              0.7777777777777778,
              "#fb9f3a"
             ],
             [
              0.8888888888888888,
              "#fdca26"
             ],
             [
              1,
              "#f0f921"
             ]
            ],
            "type": "surface"
           }
          ],
          "table": [
           {
            "cells": {
             "fill": {
              "color": "#EBF0F8"
             },
             "line": {
              "color": "white"
             }
            },
            "header": {
             "fill": {
              "color": "#C8D4E3"
             },
             "line": {
              "color": "white"
             }
            },
            "type": "table"
           }
          ]
         },
         "layout": {
          "annotationdefaults": {
           "arrowcolor": "#2a3f5f",
           "arrowhead": 0,
           "arrowwidth": 1
          },
          "autotypenumbers": "strict",
          "coloraxis": {
           "colorbar": {
            "outlinewidth": 0,
            "ticks": ""
           }
          },
          "colorscale": {
           "diverging": [
            [
             0,
             "#8e0152"
            ],
            [
             0.1,
             "#c51b7d"
            ],
            [
             0.2,
             "#de77ae"
            ],
            [
             0.3,
             "#f1b6da"
            ],
            [
             0.4,
             "#fde0ef"
            ],
            [
             0.5,
             "#f7f7f7"
            ],
            [
             0.6,
             "#e6f5d0"
            ],
            [
             0.7,
             "#b8e186"
            ],
            [
             0.8,
             "#7fbc41"
            ],
            [
             0.9,
             "#4d9221"
            ],
            [
             1,
             "#276419"
            ]
           ],
           "sequential": [
            [
             0,
             "#0d0887"
            ],
            [
             0.1111111111111111,
             "#46039f"
            ],
            [
             0.2222222222222222,
             "#7201a8"
            ],
            [
             0.3333333333333333,
             "#9c179e"
            ],
            [
             0.4444444444444444,
             "#bd3786"
            ],
            [
             0.5555555555555556,
             "#d8576b"
            ],
            [
             0.6666666666666666,
             "#ed7953"
            ],
            [
             0.7777777777777778,
             "#fb9f3a"
            ],
            [
             0.8888888888888888,
             "#fdca26"
            ],
            [
             1,
             "#f0f921"
            ]
           ],
           "sequentialminus": [
            [
             0,
             "#0d0887"
            ],
            [
             0.1111111111111111,
             "#46039f"
            ],
            [
             0.2222222222222222,
             "#7201a8"
            ],
            [
             0.3333333333333333,
             "#9c179e"
            ],
            [
             0.4444444444444444,
             "#bd3786"
            ],
            [
             0.5555555555555556,
             "#d8576b"
            ],
            [
             0.6666666666666666,
             "#ed7953"
            ],
            [
             0.7777777777777778,
             "#fb9f3a"
            ],
            [
             0.8888888888888888,
             "#fdca26"
            ],
            [
             1,
             "#f0f921"
            ]
           ]
          },
          "colorway": [
           "#636efa",
           "#EF553B",
           "#00cc96",
           "#ab63fa",
           "#FFA15A",
           "#19d3f3",
           "#FF6692",
           "#B6E880",
           "#FF97FF",
           "#FECB52"
          ],
          "font": {
           "color": "#2a3f5f"
          },
          "geo": {
           "bgcolor": "white",
           "lakecolor": "white",
           "landcolor": "white",
           "showlakes": true,
           "showland": true,
           "subunitcolor": "#C8D4E3"
          },
          "hoverlabel": {
           "align": "left"
          },
          "hovermode": "closest",
          "mapbox": {
           "style": "light"
          },
          "paper_bgcolor": "white",
          "plot_bgcolor": "white",
          "polar": {
           "angularaxis": {
            "gridcolor": "#EBF0F8",
            "linecolor": "#EBF0F8",
            "ticks": ""
           },
           "bgcolor": "white",
           "radialaxis": {
            "gridcolor": "#EBF0F8",
            "linecolor": "#EBF0F8",
            "ticks": ""
           }
          },
          "scene": {
           "xaxis": {
            "backgroundcolor": "white",
            "gridcolor": "#DFE8F3",
            "gridwidth": 2,
            "linecolor": "#EBF0F8",
            "showbackground": true,
            "ticks": "",
            "zerolinecolor": "#EBF0F8"
           },
           "yaxis": {
            "backgroundcolor": "white",
            "gridcolor": "#DFE8F3",
            "gridwidth": 2,
            "linecolor": "#EBF0F8",
            "showbackground": true,
            "ticks": "",
            "zerolinecolor": "#EBF0F8"
           },
           "zaxis": {
            "backgroundcolor": "white",
            "gridcolor": "#DFE8F3",
            "gridwidth": 2,
            "linecolor": "#EBF0F8",
            "showbackground": true,
            "ticks": "",
            "zerolinecolor": "#EBF0F8"
           }
          },
          "shapedefaults": {
           "line": {
            "color": "#2a3f5f"
           }
          },
          "ternary": {
           "aaxis": {
            "gridcolor": "#DFE8F3",
            "linecolor": "#A2B1C6",
            "ticks": ""
           },
           "baxis": {
            "gridcolor": "#DFE8F3",
            "linecolor": "#A2B1C6",
            "ticks": ""
           },
           "bgcolor": "white",
           "caxis": {
            "gridcolor": "#DFE8F3",
            "linecolor": "#A2B1C6",
            "ticks": ""
           }
          },
          "title": {
           "x": 0.05
          },
          "xaxis": {
           "automargin": true,
           "gridcolor": "#EBF0F8",
           "linecolor": "#EBF0F8",
           "ticks": "",
           "title": {
            "standoff": 15
           },
           "zerolinecolor": "#EBF0F8",
           "zerolinewidth": 2
          },
          "yaxis": {
           "automargin": true,
           "gridcolor": "#EBF0F8",
           "linecolor": "#EBF0F8",
           "ticks": "",
           "title": {
            "standoff": 15
           },
           "zerolinecolor": "#EBF0F8",
           "zerolinewidth": 2
          }
         }
        },
        "title": {
         "font": {
          "family": "Century Gothic",
          "size": 20,
          "weight": "bold"
         },
         "text": "Forte augmentation de la part des 15-34 ans à la fin du mois de Juillet",
         "x": 0.46,
         "xanchor": "center"
        },
        "width": 1000,
        "xaxis": {
         "anchor": "y",
         "domain": [
          0,
          1
         ],
         "tickfont": {
          "color": "black",
          "size": 12,
          "weight": "bold"
         },
         "tickmode": "array",
         "ticktext": [
          "Sem 26",
          "Sem 27",
          "Sem 28",
          "Sem 29",
          "Sem 30"
         ],
         "tickvals": [
          2326,
          2327,
          2328,
          2329,
          2330
         ],
         "title": {}
        },
        "yaxis": {
         "anchor": "x",
         "domain": [
          0,
          1
         ],
         "dtick": 0.25,
         "nticks": 6,
         "tickformat": ".0%",
         "title": {}
        }
       }
      }
     },
     "metadata": {},
     "output_type": "display_data"
    }
   ],
   "source": [
    "fig.update_layout(\n",
    "    yaxis=dict(\n",
    "        title=dict(text=None),\n",
    "        tickformat='.0%',\n",
    "        dtick=0.25 # Affiche le tick des 50% absent par défaut\n",
    "    ),\n",
    ")\n",
    "fig"
   ]
  },
  {
   "cell_type": "markdown",
   "id": "30ac0033",
   "metadata": {},
   "source": [
    "### **Personnaliser la légende avec fig.update_layout(legend=dict())** \n",
    "La légende est toujours un sujet de discorde : faut-il la laisser ou l'enlever ?  \n",
    "  \n",
    "Pour l'enlever, utiliser fig.update_layout(showlegend=False)\n",
    "  \n",
    "Si vous la laisser voici quelques paramètres utiles:\n",
    "fig.update_layout(  \n",
    "- legend=dict(  \n",
    "    - title=dict(...) # le titre, par default le nom de la colonne servant à la couleur, la forme etc.  \n",
    "    - orientation=...# str, 'v' pour vrticale, 'h' pour horizontale  \n",
    "    - xanchor=... #str, 'left', 'center', 'right'. Permet d'ajuster la position de la légende selon x   \n",
    "    - x=... # float la coordonnée en x où d'ajuste la légende   \n",
    "    - yanchor=... #str, 'top', 'middle', 'bottom'. Permet d'ajuster la position de la légende selon y   \n",
    "    - y=... # float la coordonnée en y où d'ajuste la légende   \n",
    "    - font=dict(...) # Personnalise la taille, la police, etc. \n",
    "    - traceorder=... #str => Choisir 'order dans lequel les items sont affichés \n",
    "- )  \n",
    "\n",
    ")\n",
    "\n",
    "Il y a plein d'autres paramètres que vous pouvez découvrir ici : https://plotly.com/python/reference/layout/#layout-showlegend"
   ]
  },
  {
   "cell_type": "code",
   "execution_count": 63,
   "id": "4dc2ee07",
   "metadata": {},
   "outputs": [
    {
     "data": {
      "application/vnd.plotly.v1+json": {
       "config": {
        "plotlyServerURL": "https://plot.ly"
       },
       "data": [
        {
         "hovertemplate": "age_cat_6=3-14 ans<br>sem_cine=%{x}<br>profil_age=%{text}<extra></extra>",
         "insidetextanchor": "middle",
         "legendgroup": "3-14 ans",
         "marker": {
          "color": "rgba(153,204,255,1)",
          "pattern": {
           "shape": ""
          }
         },
         "name": "3-14 ans",
         "orientation": "v",
         "showlegend": true,
         "text": {
          "bdata": "5v+Wg8RcxD/0RJXUxCjIP23O6Bc6hsU/dDa47MmJwT8madgO4kLBPw==",
          "dtype": "f8"
         },
         "textposition": "inside",
         "texttemplate": "<b>%{y:.1%}</b>",
         "type": "bar",
         "x": {
          "bdata": "FgkXCRgJGQkaCQ==",
          "dtype": "i2"
         },
         "xaxis": "x",
         "y": {
          "bdata": "5v+Wg8RcxD/0RJXUxCjIP23O6Bc6hsU/dDa47MmJwT8madgO4kLBPw==",
          "dtype": "f8"
         },
         "yaxis": "y"
        },
        {
         "hovertemplate": "age_cat_6=15-24 ans<br>sem_cine=%{x}<br>profil_age=%{text}<extra></extra>",
         "insidetextanchor": "middle",
         "legendgroup": "15-24 ans",
         "marker": {
          "color": "rgba(64,153,255,1)",
          "pattern": {
           "shape": ""
          }
         },
         "name": "15-24 ans",
         "orientation": "v",
         "showlegend": true,
         "text": {
          "bdata": "ZC/oU57lxT/kvLgEIqrIP1NFgmg2tcY/jVeJEst30T+9CUrJ/5DOPw==",
          "dtype": "f8"
         },
         "textposition": "inside",
         "texttemplate": "<b>%{y:.1%}</b>",
         "type": "bar",
         "x": {
          "bdata": "FgkXCRgJGQkaCQ==",
          "dtype": "i2"
         },
         "xaxis": "x",
         "y": {
          "bdata": "ZC/oU57lxT/kvLgEIqrIP1NFgmg2tcY/jVeJEst30T+9CUrJ/5DOPw==",
          "dtype": "f8"
         },
         "yaxis": "y"
        },
        {
         "hovertemplate": "age_cat_6=25-34 ans<br>sem_cine=%{x}<br>profil_age=%{text}<extra></extra>",
         "insidetextanchor": "middle",
         "legendgroup": "25-34 ans",
         "marker": {
          "color": "rgba(153,51,204,1)",
          "pattern": {
           "shape": ""
          }
         },
         "name": "25-34 ans",
         "orientation": "v",
         "showlegend": true,
         "text": {
          "bdata": "yBTBxopswT/OuJ7qJxLBPyAJ95E+Xbo/0oVMs/aOwz9h9lWa2ljFPw==",
          "dtype": "f8"
         },
         "textposition": "inside",
         "texttemplate": "<b>%{y:.1%}</b>",
         "type": "bar",
         "x": {
          "bdata": "FgkXCRgJGQkaCQ==",
          "dtype": "i2"
         },
         "xaxis": "x",
         "y": {
          "bdata": "yBTBxopswT/OuJ7qJxLBPyAJ95E+Xbo/0oVMs/aOwz9h9lWa2ljFPw==",
          "dtype": "f8"
         },
         "yaxis": "y"
        },
        {
         "hovertemplate": "age_cat_6=35-49 ans<br>sem_cine=%{x}<br>profil_age=%{text}<extra></extra>",
         "insidetextanchor": "middle",
         "legendgroup": "35-49 ans",
         "marker": {
          "color": "rgba(102,1,153,1)",
          "pattern": {
           "shape": ""
          }
         },
         "name": "35-49 ans",
         "orientation": "v",
         "showlegend": true,
         "text": {
          "bdata": "WX4ktmauyD9n4MSloYbIP1jqu4jVbso/zb4fgztsxz9by25kvpnHPw==",
          "dtype": "f8"
         },
         "textposition": "inside",
         "texttemplate": "<b>%{y:.1%}</b>",
         "type": "bar",
         "x": {
          "bdata": "FgkXCRgJGQkaCQ==",
          "dtype": "i2"
         },
         "xaxis": "x",
         "y": {
          "bdata": "WX4ktmauyD9n4MSloYbIP1jqu4jVbso/zb4fgztsxz9by25kvpnHPw==",
          "dtype": "f8"
         },
         "yaxis": "y"
        },
        {
         "hovertemplate": "age_cat_6=50-59 ans<br>sem_cine=%{x}<br>profil_age=%{text}<extra></extra>",
         "insidetextanchor": "middle",
         "legendgroup": "50-59 ans",
         "marker": {
          "color": "rgba(246,102,103,1)",
          "pattern": {
           "shape": ""
          }
         },
         "name": "50-59 ans",
         "orientation": "v",
         "showlegend": true,
         "text": {
          "bdata": "iy1a4VP5wT9cLztVy6LAP98vl/roDcE/WZJEJzasuz8XOFSAp9K8Pw==",
          "dtype": "f8"
         },
         "textposition": "inside",
         "texttemplate": "<b>%{y:.1%}</b>",
         "type": "bar",
         "x": {
          "bdata": "FgkXCRgJGQkaCQ==",
          "dtype": "i2"
         },
         "xaxis": "x",
         "y": {
          "bdata": "iy1a4VP5wT9cLztVy6LAP98vl/roDcE/WZJEJzasuz8XOFSAp9K8Pw==",
          "dtype": "f8"
         },
         "yaxis": "y"
        },
        {
         "hovertemplate": "age_cat_6=60 ans et +<br>sem_cine=%{x}<br>profil_age=%{text}<extra></extra>",
         "insidetextanchor": "middle",
         "legendgroup": "60 ans et +",
         "marker": {
          "color": "rgba(204,51,51,1)",
          "pattern": {
           "shape": ""
          }
         },
         "name": "60 ans et +",
         "orientation": "v",
         "showlegend": true,
         "text": {
          "bdata": "CRBBylepyT+YNRNBhPHEP3pNRrMxGcs/pYwmpFK1wj9Zr+5oMdDEPw==",
          "dtype": "f8"
         },
         "textposition": "inside",
         "texttemplate": "<b>%{y:.1%}</b>",
         "type": "bar",
         "x": {
          "bdata": "FgkXCRgJGQkaCQ==",
          "dtype": "i2"
         },
         "xaxis": "x",
         "y": {
          "bdata": "CRBBylepyT+YNRNBhPHEP3pNRrMxGcs/pYwmpFK1wj9Zr+5oMdDEPw==",
          "dtype": "f8"
         },
         "yaxis": "y"
        }
       ],
       "layout": {
        "barmode": "relative",
        "height": 600,
        "legend": {
         "font": {
          "color": "black",
          "size": 12,
          "weight": 100
         },
         "orientation": "v",
         "title": {},
         "tracegroupgap": 0,
         "traceorder": "reversed",
         "x": 1,
         "xanchor": "left",
         "y": 0.95,
         "yanchor": "top"
        },
        "margin": {
         "t": 60
        },
        "template": {
         "data": {
          "bar": [
           {
            "error_x": {
             "color": "#2a3f5f"
            },
            "error_y": {
             "color": "#2a3f5f"
            },
            "marker": {
             "line": {
              "color": "white",
              "width": 0.5
             },
             "pattern": {
              "fillmode": "overlay",
              "size": 10,
              "solidity": 0.2
             }
            },
            "type": "bar"
           }
          ],
          "barpolar": [
           {
            "marker": {
             "line": {
              "color": "white",
              "width": 0.5
             },
             "pattern": {
              "fillmode": "overlay",
              "size": 10,
              "solidity": 0.2
             }
            },
            "type": "barpolar"
           }
          ],
          "carpet": [
           {
            "aaxis": {
             "endlinecolor": "#2a3f5f",
             "gridcolor": "#C8D4E3",
             "linecolor": "#C8D4E3",
             "minorgridcolor": "#C8D4E3",
             "startlinecolor": "#2a3f5f"
            },
            "baxis": {
             "endlinecolor": "#2a3f5f",
             "gridcolor": "#C8D4E3",
             "linecolor": "#C8D4E3",
             "minorgridcolor": "#C8D4E3",
             "startlinecolor": "#2a3f5f"
            },
            "type": "carpet"
           }
          ],
          "choropleth": [
           {
            "colorbar": {
             "outlinewidth": 0,
             "ticks": ""
            },
            "type": "choropleth"
           }
          ],
          "contour": [
           {
            "colorbar": {
             "outlinewidth": 0,
             "ticks": ""
            },
            "colorscale": [
             [
              0,
              "#0d0887"
             ],
             [
              0.1111111111111111,
              "#46039f"
             ],
             [
              0.2222222222222222,
              "#7201a8"
             ],
             [
              0.3333333333333333,
              "#9c179e"
             ],
             [
              0.4444444444444444,
              "#bd3786"
             ],
             [
              0.5555555555555556,
              "#d8576b"
             ],
             [
              0.6666666666666666,
              "#ed7953"
             ],
             [
              0.7777777777777778,
              "#fb9f3a"
             ],
             [
              0.8888888888888888,
              "#fdca26"
             ],
             [
              1,
              "#f0f921"
             ]
            ],
            "type": "contour"
           }
          ],
          "contourcarpet": [
           {
            "colorbar": {
             "outlinewidth": 0,
             "ticks": ""
            },
            "type": "contourcarpet"
           }
          ],
          "heatmap": [
           {
            "colorbar": {
             "outlinewidth": 0,
             "ticks": ""
            },
            "colorscale": [
             [
              0,
              "#0d0887"
             ],
             [
              0.1111111111111111,
              "#46039f"
             ],
             [
              0.2222222222222222,
              "#7201a8"
             ],
             [
              0.3333333333333333,
              "#9c179e"
             ],
             [
              0.4444444444444444,
              "#bd3786"
             ],
             [
              0.5555555555555556,
              "#d8576b"
             ],
             [
              0.6666666666666666,
              "#ed7953"
             ],
             [
              0.7777777777777778,
              "#fb9f3a"
             ],
             [
              0.8888888888888888,
              "#fdca26"
             ],
             [
              1,
              "#f0f921"
             ]
            ],
            "type": "heatmap"
           }
          ],
          "histogram": [
           {
            "marker": {
             "pattern": {
              "fillmode": "overlay",
              "size": 10,
              "solidity": 0.2
             }
            },
            "type": "histogram"
           }
          ],
          "histogram2d": [
           {
            "colorbar": {
             "outlinewidth": 0,
             "ticks": ""
            },
            "colorscale": [
             [
              0,
              "#0d0887"
             ],
             [
              0.1111111111111111,
              "#46039f"
             ],
             [
              0.2222222222222222,
              "#7201a8"
             ],
             [
              0.3333333333333333,
              "#9c179e"
             ],
             [
              0.4444444444444444,
              "#bd3786"
             ],
             [
              0.5555555555555556,
              "#d8576b"
             ],
             [
              0.6666666666666666,
              "#ed7953"
             ],
             [
              0.7777777777777778,
              "#fb9f3a"
             ],
             [
              0.8888888888888888,
              "#fdca26"
             ],
             [
              1,
              "#f0f921"
             ]
            ],
            "type": "histogram2d"
           }
          ],
          "histogram2dcontour": [
           {
            "colorbar": {
             "outlinewidth": 0,
             "ticks": ""
            },
            "colorscale": [
             [
              0,
              "#0d0887"
             ],
             [
              0.1111111111111111,
              "#46039f"
             ],
             [
              0.2222222222222222,
              "#7201a8"
             ],
             [
              0.3333333333333333,
              "#9c179e"
             ],
             [
              0.4444444444444444,
              "#bd3786"
             ],
             [
              0.5555555555555556,
              "#d8576b"
             ],
             [
              0.6666666666666666,
              "#ed7953"
             ],
             [
              0.7777777777777778,
              "#fb9f3a"
             ],
             [
              0.8888888888888888,
              "#fdca26"
             ],
             [
              1,
              "#f0f921"
             ]
            ],
            "type": "histogram2dcontour"
           }
          ],
          "mesh3d": [
           {
            "colorbar": {
             "outlinewidth": 0,
             "ticks": ""
            },
            "type": "mesh3d"
           }
          ],
          "parcoords": [
           {
            "line": {
             "colorbar": {
              "outlinewidth": 0,
              "ticks": ""
             }
            },
            "type": "parcoords"
           }
          ],
          "pie": [
           {
            "automargin": true,
            "type": "pie"
           }
          ],
          "scatter": [
           {
            "fillpattern": {
             "fillmode": "overlay",
             "size": 10,
             "solidity": 0.2
            },
            "type": "scatter"
           }
          ],
          "scatter3d": [
           {
            "line": {
             "colorbar": {
              "outlinewidth": 0,
              "ticks": ""
             }
            },
            "marker": {
             "colorbar": {
              "outlinewidth": 0,
              "ticks": ""
             }
            },
            "type": "scatter3d"
           }
          ],
          "scattercarpet": [
           {
            "marker": {
             "colorbar": {
              "outlinewidth": 0,
              "ticks": ""
             }
            },
            "type": "scattercarpet"
           }
          ],
          "scattergeo": [
           {
            "marker": {
             "colorbar": {
              "outlinewidth": 0,
              "ticks": ""
             }
            },
            "type": "scattergeo"
           }
          ],
          "scattergl": [
           {
            "marker": {
             "colorbar": {
              "outlinewidth": 0,
              "ticks": ""
             }
            },
            "type": "scattergl"
           }
          ],
          "scattermap": [
           {
            "marker": {
             "colorbar": {
              "outlinewidth": 0,
              "ticks": ""
             }
            },
            "type": "scattermap"
           }
          ],
          "scattermapbox": [
           {
            "marker": {
             "colorbar": {
              "outlinewidth": 0,
              "ticks": ""
             }
            },
            "type": "scattermapbox"
           }
          ],
          "scatterpolar": [
           {
            "marker": {
             "colorbar": {
              "outlinewidth": 0,
              "ticks": ""
             }
            },
            "type": "scatterpolar"
           }
          ],
          "scatterpolargl": [
           {
            "marker": {
             "colorbar": {
              "outlinewidth": 0,
              "ticks": ""
             }
            },
            "type": "scatterpolargl"
           }
          ],
          "scatterternary": [
           {
            "marker": {
             "colorbar": {
              "outlinewidth": 0,
              "ticks": ""
             }
            },
            "type": "scatterternary"
           }
          ],
          "surface": [
           {
            "colorbar": {
             "outlinewidth": 0,
             "ticks": ""
            },
            "colorscale": [
             [
              0,
              "#0d0887"
             ],
             [
              0.1111111111111111,
              "#46039f"
             ],
             [
              0.2222222222222222,
              "#7201a8"
             ],
             [
              0.3333333333333333,
              "#9c179e"
             ],
             [
              0.4444444444444444,
              "#bd3786"
             ],
             [
              0.5555555555555556,
              "#d8576b"
             ],
             [
              0.6666666666666666,
              "#ed7953"
             ],
             [
              0.7777777777777778,
              "#fb9f3a"
             ],
             [
              0.8888888888888888,
              "#fdca26"
             ],
             [
              1,
              "#f0f921"
             ]
            ],
            "type": "surface"
           }
          ],
          "table": [
           {
            "cells": {
             "fill": {
              "color": "#EBF0F8"
             },
             "line": {
              "color": "white"
             }
            },
            "header": {
             "fill": {
              "color": "#C8D4E3"
             },
             "line": {
              "color": "white"
             }
            },
            "type": "table"
           }
          ]
         },
         "layout": {
          "annotationdefaults": {
           "arrowcolor": "#2a3f5f",
           "arrowhead": 0,
           "arrowwidth": 1
          },
          "autotypenumbers": "strict",
          "coloraxis": {
           "colorbar": {
            "outlinewidth": 0,
            "ticks": ""
           }
          },
          "colorscale": {
           "diverging": [
            [
             0,
             "#8e0152"
            ],
            [
             0.1,
             "#c51b7d"
            ],
            [
             0.2,
             "#de77ae"
            ],
            [
             0.3,
             "#f1b6da"
            ],
            [
             0.4,
             "#fde0ef"
            ],
            [
             0.5,
             "#f7f7f7"
            ],
            [
             0.6,
             "#e6f5d0"
            ],
            [
             0.7,
             "#b8e186"
            ],
            [
             0.8,
             "#7fbc41"
            ],
            [
             0.9,
             "#4d9221"
            ],
            [
             1,
             "#276419"
            ]
           ],
           "sequential": [
            [
             0,
             "#0d0887"
            ],
            [
             0.1111111111111111,
             "#46039f"
            ],
            [
             0.2222222222222222,
             "#7201a8"
            ],
            [
             0.3333333333333333,
             "#9c179e"
            ],
            [
             0.4444444444444444,
             "#bd3786"
            ],
            [
             0.5555555555555556,
             "#d8576b"
            ],
            [
             0.6666666666666666,
             "#ed7953"
            ],
            [
             0.7777777777777778,
             "#fb9f3a"
            ],
            [
             0.8888888888888888,
             "#fdca26"
            ],
            [
             1,
             "#f0f921"
            ]
           ],
           "sequentialminus": [
            [
             0,
             "#0d0887"
            ],
            [
             0.1111111111111111,
             "#46039f"
            ],
            [
             0.2222222222222222,
             "#7201a8"
            ],
            [
             0.3333333333333333,
             "#9c179e"
            ],
            [
             0.4444444444444444,
             "#bd3786"
            ],
            [
             0.5555555555555556,
             "#d8576b"
            ],
            [
             0.6666666666666666,
             "#ed7953"
            ],
            [
             0.7777777777777778,
             "#fb9f3a"
            ],
            [
             0.8888888888888888,
             "#fdca26"
            ],
            [
             1,
             "#f0f921"
            ]
           ]
          },
          "colorway": [
           "#636efa",
           "#EF553B",
           "#00cc96",
           "#ab63fa",
           "#FFA15A",
           "#19d3f3",
           "#FF6692",
           "#B6E880",
           "#FF97FF",
           "#FECB52"
          ],
          "font": {
           "color": "#2a3f5f"
          },
          "geo": {
           "bgcolor": "white",
           "lakecolor": "white",
           "landcolor": "white",
           "showlakes": true,
           "showland": true,
           "subunitcolor": "#C8D4E3"
          },
          "hoverlabel": {
           "align": "left"
          },
          "hovermode": "closest",
          "mapbox": {
           "style": "light"
          },
          "paper_bgcolor": "white",
          "plot_bgcolor": "white",
          "polar": {
           "angularaxis": {
            "gridcolor": "#EBF0F8",
            "linecolor": "#EBF0F8",
            "ticks": ""
           },
           "bgcolor": "white",
           "radialaxis": {
            "gridcolor": "#EBF0F8",
            "linecolor": "#EBF0F8",
            "ticks": ""
           }
          },
          "scene": {
           "xaxis": {
            "backgroundcolor": "white",
            "gridcolor": "#DFE8F3",
            "gridwidth": 2,
            "linecolor": "#EBF0F8",
            "showbackground": true,
            "ticks": "",
            "zerolinecolor": "#EBF0F8"
           },
           "yaxis": {
            "backgroundcolor": "white",
            "gridcolor": "#DFE8F3",
            "gridwidth": 2,
            "linecolor": "#EBF0F8",
            "showbackground": true,
            "ticks": "",
            "zerolinecolor": "#EBF0F8"
           },
           "zaxis": {
            "backgroundcolor": "white",
            "gridcolor": "#DFE8F3",
            "gridwidth": 2,
            "linecolor": "#EBF0F8",
            "showbackground": true,
            "ticks": "",
            "zerolinecolor": "#EBF0F8"
           }
          },
          "shapedefaults": {
           "line": {
            "color": "#2a3f5f"
           }
          },
          "ternary": {
           "aaxis": {
            "gridcolor": "#DFE8F3",
            "linecolor": "#A2B1C6",
            "ticks": ""
           },
           "baxis": {
            "gridcolor": "#DFE8F3",
            "linecolor": "#A2B1C6",
            "ticks": ""
           },
           "bgcolor": "white",
           "caxis": {
            "gridcolor": "#DFE8F3",
            "linecolor": "#A2B1C6",
            "ticks": ""
           }
          },
          "title": {
           "x": 0.05
          },
          "xaxis": {
           "automargin": true,
           "gridcolor": "#EBF0F8",
           "linecolor": "#EBF0F8",
           "ticks": "",
           "title": {
            "standoff": 15
           },
           "zerolinecolor": "#EBF0F8",
           "zerolinewidth": 2
          },
          "yaxis": {
           "automargin": true,
           "gridcolor": "#EBF0F8",
           "linecolor": "#EBF0F8",
           "ticks": "",
           "title": {
            "standoff": 15
           },
           "zerolinecolor": "#EBF0F8",
           "zerolinewidth": 2
          }
         }
        },
        "title": {
         "font": {
          "family": "Century Gothic",
          "size": 20,
          "weight": "bold"
         },
         "text": "Forte augmentation de la part des 15-34 ans à la fin du mois de Juillet",
         "x": 0.46,
         "xanchor": "center"
        },
        "width": 1000,
        "xaxis": {
         "anchor": "y",
         "domain": [
          0,
          1
         ],
         "tickfont": {
          "color": "black",
          "size": 12,
          "weight": "bold"
         },
         "tickmode": "array",
         "ticktext": [
          "Sem 26",
          "Sem 27",
          "Sem 28",
          "Sem 29",
          "Sem 30"
         ],
         "tickvals": [
          2326,
          2327,
          2328,
          2329,
          2330
         ],
         "title": {}
        },
        "yaxis": {
         "anchor": "x",
         "domain": [
          0,
          1
         ],
         "dtick": 0.25,
         "nticks": 6,
         "tickformat": ".0%",
         "title": {}
        }
       }
      }
     },
     "metadata": {},
     "output_type": "display_data"
    }
   ],
   "source": [
    "fig.update_layout(\n",
    "    legend=dict(\n",
    "        title=dict(text=None),\n",
    "        orientation='v',\n",
    "        x=1,\n",
    "        xanchor='left',\n",
    "        y=0.95,\n",
    "        yanchor='top',\n",
    "        font=dict(size=12, color='black',weight=100),\n",
    "        traceorder='reversed', # Afficher la légende dans le sens des barres est plus lisible\n",
    "    ),\n",
    ")\n",
    "fig"
   ]
  },
  {
   "cell_type": "markdown",
   "id": "b1205550",
   "metadata": {},
   "source": [
    "### **Enlever le background gris et la grille (traits verticaux et horizontaux)**\n",
    "Plotly permet d'utiliser certains templates avec fig.update_layout(template=...)\n",
    "\n",
    "Voici quelques exemples :  \n",
    "| Template name    | Description                                        |\n",
    "| ---------------- | -------------------------------------------------- |\n",
    "| `\"plotly\"`       | Default light theme (white background, gray axes)  |\n",
    "| `\"plotly_white\"` | Minimal white background                           |\n",
    "| `\"plotly_dark\"`  | Dark background with contrasting gridlines         |\n",
    "| `\"ggplot2\"`      | Inspired by R’s ggplot2 style                      |\n",
    "| `\"seaborn\"`      | Inspired by Seaborn’s defaults                     |\n",
    "| `\"simple_white\"` | Pure white background, no gridlines                |\n",
    "| `\"none\"`         | No theming at all (useful for full manual control) |\n",
    "| ---------------- | -------------------------------------------------- |\n",
    "| `\"presentation\"` | Clean style for slides/presentations               |\n",
    "| `\"xgridoff\"`     | Like default but gridlines off                     |\n",
    "| `\"ygridoff\"`     | Like default but y gridlines off                   |\n",
    "| `\"gridon\"`       | Like default but emphasizes grid                   |\n",
    "| `\"none\"`         | Removes template (barebones)                       |\n",
    "\n",
    "\n",
    "Personnellement j'aime beaucoup le template 'plotly_white'. Minimal permet de se concentrer sur l'essentiel.  \n",
    "Il suffit donc de coder : fig.update_layout(template='plotly_white')  \n",
    "\n",
    "Il est possible de coder sans le template. Voici ce qu'il faut faire 'plotly_white' :  \n",
    "fig.update_layout(  \n",
    "- plot_bgcolor=\"white\",   # background inside the plotting area  \n",
    "    paper_bgcolor=\"white\",  # background outside the plotting area  \n",
    "    xaxis=dict(  \n",
    "    - showgrid=True,      # show gridlines  \n",
    "        gridcolor=\"lightgray\",  \n",
    "        zeroline=False      # no bold line at x=0  \n",
    "        ),  \n",
    "    yaxis=dict(  \n",
    "    - showgrid=True,  \n",
    "        gridcolor=\"lightgray\",  \n",
    "        zeroline=False  \n",
    "        )  \n",
    "\n",
    ")"
   ]
  },
  {
   "cell_type": "code",
   "execution_count": 64,
   "id": "307238bb",
   "metadata": {},
   "outputs": [
    {
     "data": {
      "application/vnd.plotly.v1+json": {
       "config": {
        "plotlyServerURL": "https://plot.ly"
       },
       "data": [
        {
         "hovertemplate": "age_cat_6=3-14 ans<br>sem_cine=%{x}<br>profil_age=%{text}<extra></extra>",
         "insidetextanchor": "middle",
         "legendgroup": "3-14 ans",
         "marker": {
          "color": "rgba(153,204,255,1)",
          "pattern": {
           "shape": ""
          }
         },
         "name": "3-14 ans",
         "orientation": "v",
         "showlegend": true,
         "text": {
          "bdata": "5v+Wg8RcxD/0RJXUxCjIP23O6Bc6hsU/dDa47MmJwT8madgO4kLBPw==",
          "dtype": "f8"
         },
         "textposition": "inside",
         "texttemplate": "<b>%{y:.1%}</b>",
         "type": "bar",
         "x": {
          "bdata": "FgkXCRgJGQkaCQ==",
          "dtype": "i2"
         },
         "xaxis": "x",
         "y": {
          "bdata": "5v+Wg8RcxD/0RJXUxCjIP23O6Bc6hsU/dDa47MmJwT8madgO4kLBPw==",
          "dtype": "f8"
         },
         "yaxis": "y"
        },
        {
         "hovertemplate": "age_cat_6=15-24 ans<br>sem_cine=%{x}<br>profil_age=%{text}<extra></extra>",
         "insidetextanchor": "middle",
         "legendgroup": "15-24 ans",
         "marker": {
          "color": "rgba(64,153,255,1)",
          "pattern": {
           "shape": ""
          }
         },
         "name": "15-24 ans",
         "orientation": "v",
         "showlegend": true,
         "text": {
          "bdata": "ZC/oU57lxT/kvLgEIqrIP1NFgmg2tcY/jVeJEst30T+9CUrJ/5DOPw==",
          "dtype": "f8"
         },
         "textposition": "inside",
         "texttemplate": "<b>%{y:.1%}</b>",
         "type": "bar",
         "x": {
          "bdata": "FgkXCRgJGQkaCQ==",
          "dtype": "i2"
         },
         "xaxis": "x",
         "y": {
          "bdata": "ZC/oU57lxT/kvLgEIqrIP1NFgmg2tcY/jVeJEst30T+9CUrJ/5DOPw==",
          "dtype": "f8"
         },
         "yaxis": "y"
        },
        {
         "hovertemplate": "age_cat_6=25-34 ans<br>sem_cine=%{x}<br>profil_age=%{text}<extra></extra>",
         "insidetextanchor": "middle",
         "legendgroup": "25-34 ans",
         "marker": {
          "color": "rgba(153,51,204,1)",
          "pattern": {
           "shape": ""
          }
         },
         "name": "25-34 ans",
         "orientation": "v",
         "showlegend": true,
         "text": {
          "bdata": "yBTBxopswT/OuJ7qJxLBPyAJ95E+Xbo/0oVMs/aOwz9h9lWa2ljFPw==",
          "dtype": "f8"
         },
         "textposition": "inside",
         "texttemplate": "<b>%{y:.1%}</b>",
         "type": "bar",
         "x": {
          "bdata": "FgkXCRgJGQkaCQ==",
          "dtype": "i2"
         },
         "xaxis": "x",
         "y": {
          "bdata": "yBTBxopswT/OuJ7qJxLBPyAJ95E+Xbo/0oVMs/aOwz9h9lWa2ljFPw==",
          "dtype": "f8"
         },
         "yaxis": "y"
        },
        {
         "hovertemplate": "age_cat_6=35-49 ans<br>sem_cine=%{x}<br>profil_age=%{text}<extra></extra>",
         "insidetextanchor": "middle",
         "legendgroup": "35-49 ans",
         "marker": {
          "color": "rgba(102,1,153,1)",
          "pattern": {
           "shape": ""
          }
         },
         "name": "35-49 ans",
         "orientation": "v",
         "showlegend": true,
         "text": {
          "bdata": "WX4ktmauyD9n4MSloYbIP1jqu4jVbso/zb4fgztsxz9by25kvpnHPw==",
          "dtype": "f8"
         },
         "textposition": "inside",
         "texttemplate": "<b>%{y:.1%}</b>",
         "type": "bar",
         "x": {
          "bdata": "FgkXCRgJGQkaCQ==",
          "dtype": "i2"
         },
         "xaxis": "x",
         "y": {
          "bdata": "WX4ktmauyD9n4MSloYbIP1jqu4jVbso/zb4fgztsxz9by25kvpnHPw==",
          "dtype": "f8"
         },
         "yaxis": "y"
        },
        {
         "hovertemplate": "age_cat_6=50-59 ans<br>sem_cine=%{x}<br>profil_age=%{text}<extra></extra>",
         "insidetextanchor": "middle",
         "legendgroup": "50-59 ans",
         "marker": {
          "color": "rgba(246,102,103,1)",
          "pattern": {
           "shape": ""
          }
         },
         "name": "50-59 ans",
         "orientation": "v",
         "showlegend": true,
         "text": {
          "bdata": "iy1a4VP5wT9cLztVy6LAP98vl/roDcE/WZJEJzasuz8XOFSAp9K8Pw==",
          "dtype": "f8"
         },
         "textposition": "inside",
         "texttemplate": "<b>%{y:.1%}</b>",
         "type": "bar",
         "x": {
          "bdata": "FgkXCRgJGQkaCQ==",
          "dtype": "i2"
         },
         "xaxis": "x",
         "y": {
          "bdata": "iy1a4VP5wT9cLztVy6LAP98vl/roDcE/WZJEJzasuz8XOFSAp9K8Pw==",
          "dtype": "f8"
         },
         "yaxis": "y"
        },
        {
         "hovertemplate": "age_cat_6=60 ans et +<br>sem_cine=%{x}<br>profil_age=%{text}<extra></extra>",
         "insidetextanchor": "middle",
         "legendgroup": "60 ans et +",
         "marker": {
          "color": "rgba(204,51,51,1)",
          "pattern": {
           "shape": ""
          }
         },
         "name": "60 ans et +",
         "orientation": "v",
         "showlegend": true,
         "text": {
          "bdata": "CRBBylepyT+YNRNBhPHEP3pNRrMxGcs/pYwmpFK1wj9Zr+5oMdDEPw==",
          "dtype": "f8"
         },
         "textposition": "inside",
         "texttemplate": "<b>%{y:.1%}</b>",
         "type": "bar",
         "x": {
          "bdata": "FgkXCRgJGQkaCQ==",
          "dtype": "i2"
         },
         "xaxis": "x",
         "y": {
          "bdata": "CRBBylepyT+YNRNBhPHEP3pNRrMxGcs/pYwmpFK1wj9Zr+5oMdDEPw==",
          "dtype": "f8"
         },
         "yaxis": "y"
        }
       ],
       "layout": {
        "barmode": "relative",
        "height": 600,
        "legend": {
         "font": {
          "color": "black",
          "size": 12,
          "weight": 100
         },
         "orientation": "v",
         "title": {},
         "tracegroupgap": 0,
         "traceorder": "reversed",
         "x": 1,
         "xanchor": "left",
         "y": 0.95,
         "yanchor": "top"
        },
        "margin": {
         "t": 60
        },
        "template": {
         "data": {
          "bar": [
           {
            "error_x": {
             "color": "#2a3f5f"
            },
            "error_y": {
             "color": "#2a3f5f"
            },
            "marker": {
             "line": {
              "color": "white",
              "width": 0.5
             },
             "pattern": {
              "fillmode": "overlay",
              "size": 10,
              "solidity": 0.2
             }
            },
            "type": "bar"
           }
          ],
          "barpolar": [
           {
            "marker": {
             "line": {
              "color": "white",
              "width": 0.5
             },
             "pattern": {
              "fillmode": "overlay",
              "size": 10,
              "solidity": 0.2
             }
            },
            "type": "barpolar"
           }
          ],
          "carpet": [
           {
            "aaxis": {
             "endlinecolor": "#2a3f5f",
             "gridcolor": "#C8D4E3",
             "linecolor": "#C8D4E3",
             "minorgridcolor": "#C8D4E3",
             "startlinecolor": "#2a3f5f"
            },
            "baxis": {
             "endlinecolor": "#2a3f5f",
             "gridcolor": "#C8D4E3",
             "linecolor": "#C8D4E3",
             "minorgridcolor": "#C8D4E3",
             "startlinecolor": "#2a3f5f"
            },
            "type": "carpet"
           }
          ],
          "choropleth": [
           {
            "colorbar": {
             "outlinewidth": 0,
             "ticks": ""
            },
            "type": "choropleth"
           }
          ],
          "contour": [
           {
            "colorbar": {
             "outlinewidth": 0,
             "ticks": ""
            },
            "colorscale": [
             [
              0,
              "#0d0887"
             ],
             [
              0.1111111111111111,
              "#46039f"
             ],
             [
              0.2222222222222222,
              "#7201a8"
             ],
             [
              0.3333333333333333,
              "#9c179e"
             ],
             [
              0.4444444444444444,
              "#bd3786"
             ],
             [
              0.5555555555555556,
              "#d8576b"
             ],
             [
              0.6666666666666666,
              "#ed7953"
             ],
             [
              0.7777777777777778,
              "#fb9f3a"
             ],
             [
              0.8888888888888888,
              "#fdca26"
             ],
             [
              1,
              "#f0f921"
             ]
            ],
            "type": "contour"
           }
          ],
          "contourcarpet": [
           {
            "colorbar": {
             "outlinewidth": 0,
             "ticks": ""
            },
            "type": "contourcarpet"
           }
          ],
          "heatmap": [
           {
            "colorbar": {
             "outlinewidth": 0,
             "ticks": ""
            },
            "colorscale": [
             [
              0,
              "#0d0887"
             ],
             [
              0.1111111111111111,
              "#46039f"
             ],
             [
              0.2222222222222222,
              "#7201a8"
             ],
             [
              0.3333333333333333,
              "#9c179e"
             ],
             [
              0.4444444444444444,
              "#bd3786"
             ],
             [
              0.5555555555555556,
              "#d8576b"
             ],
             [
              0.6666666666666666,
              "#ed7953"
             ],
             [
              0.7777777777777778,
              "#fb9f3a"
             ],
             [
              0.8888888888888888,
              "#fdca26"
             ],
             [
              1,
              "#f0f921"
             ]
            ],
            "type": "heatmap"
           }
          ],
          "histogram": [
           {
            "marker": {
             "pattern": {
              "fillmode": "overlay",
              "size": 10,
              "solidity": 0.2
             }
            },
            "type": "histogram"
           }
          ],
          "histogram2d": [
           {
            "colorbar": {
             "outlinewidth": 0,
             "ticks": ""
            },
            "colorscale": [
             [
              0,
              "#0d0887"
             ],
             [
              0.1111111111111111,
              "#46039f"
             ],
             [
              0.2222222222222222,
              "#7201a8"
             ],
             [
              0.3333333333333333,
              "#9c179e"
             ],
             [
              0.4444444444444444,
              "#bd3786"
             ],
             [
              0.5555555555555556,
              "#d8576b"
             ],
             [
              0.6666666666666666,
              "#ed7953"
             ],
             [
              0.7777777777777778,
              "#fb9f3a"
             ],
             [
              0.8888888888888888,
              "#fdca26"
             ],
             [
              1,
              "#f0f921"
             ]
            ],
            "type": "histogram2d"
           }
          ],
          "histogram2dcontour": [
           {
            "colorbar": {
             "outlinewidth": 0,
             "ticks": ""
            },
            "colorscale": [
             [
              0,
              "#0d0887"
             ],
             [
              0.1111111111111111,
              "#46039f"
             ],
             [
              0.2222222222222222,
              "#7201a8"
             ],
             [
              0.3333333333333333,
              "#9c179e"
             ],
             [
              0.4444444444444444,
              "#bd3786"
             ],
             [
              0.5555555555555556,
              "#d8576b"
             ],
             [
              0.6666666666666666,
              "#ed7953"
             ],
             [
              0.7777777777777778,
              "#fb9f3a"
             ],
             [
              0.8888888888888888,
              "#fdca26"
             ],
             [
              1,
              "#f0f921"
             ]
            ],
            "type": "histogram2dcontour"
           }
          ],
          "mesh3d": [
           {
            "colorbar": {
             "outlinewidth": 0,
             "ticks": ""
            },
            "type": "mesh3d"
           }
          ],
          "parcoords": [
           {
            "line": {
             "colorbar": {
              "outlinewidth": 0,
              "ticks": ""
             }
            },
            "type": "parcoords"
           }
          ],
          "pie": [
           {
            "automargin": true,
            "type": "pie"
           }
          ],
          "scatter": [
           {
            "fillpattern": {
             "fillmode": "overlay",
             "size": 10,
             "solidity": 0.2
            },
            "type": "scatter"
           }
          ],
          "scatter3d": [
           {
            "line": {
             "colorbar": {
              "outlinewidth": 0,
              "ticks": ""
             }
            },
            "marker": {
             "colorbar": {
              "outlinewidth": 0,
              "ticks": ""
             }
            },
            "type": "scatter3d"
           }
          ],
          "scattercarpet": [
           {
            "marker": {
             "colorbar": {
              "outlinewidth": 0,
              "ticks": ""
             }
            },
            "type": "scattercarpet"
           }
          ],
          "scattergeo": [
           {
            "marker": {
             "colorbar": {
              "outlinewidth": 0,
              "ticks": ""
             }
            },
            "type": "scattergeo"
           }
          ],
          "scattergl": [
           {
            "marker": {
             "colorbar": {
              "outlinewidth": 0,
              "ticks": ""
             }
            },
            "type": "scattergl"
           }
          ],
          "scattermap": [
           {
            "marker": {
             "colorbar": {
              "outlinewidth": 0,
              "ticks": ""
             }
            },
            "type": "scattermap"
           }
          ],
          "scattermapbox": [
           {
            "marker": {
             "colorbar": {
              "outlinewidth": 0,
              "ticks": ""
             }
            },
            "type": "scattermapbox"
           }
          ],
          "scatterpolar": [
           {
            "marker": {
             "colorbar": {
              "outlinewidth": 0,
              "ticks": ""
             }
            },
            "type": "scatterpolar"
           }
          ],
          "scatterpolargl": [
           {
            "marker": {
             "colorbar": {
              "outlinewidth": 0,
              "ticks": ""
             }
            },
            "type": "scatterpolargl"
           }
          ],
          "scatterternary": [
           {
            "marker": {
             "colorbar": {
              "outlinewidth": 0,
              "ticks": ""
             }
            },
            "type": "scatterternary"
           }
          ],
          "surface": [
           {
            "colorbar": {
             "outlinewidth": 0,
             "ticks": ""
            },
            "colorscale": [
             [
              0,
              "#0d0887"
             ],
             [
              0.1111111111111111,
              "#46039f"
             ],
             [
              0.2222222222222222,
              "#7201a8"
             ],
             [
              0.3333333333333333,
              "#9c179e"
             ],
             [
              0.4444444444444444,
              "#bd3786"
             ],
             [
              0.5555555555555556,
              "#d8576b"
             ],
             [
              0.6666666666666666,
              "#ed7953"
             ],
             [
              0.7777777777777778,
              "#fb9f3a"
             ],
             [
              0.8888888888888888,
              "#fdca26"
             ],
             [
              1,
              "#f0f921"
             ]
            ],
            "type": "surface"
           }
          ],
          "table": [
           {
            "cells": {
             "fill": {
              "color": "#EBF0F8"
             },
             "line": {
              "color": "white"
             }
            },
            "header": {
             "fill": {
              "color": "#C8D4E3"
             },
             "line": {
              "color": "white"
             }
            },
            "type": "table"
           }
          ]
         },
         "layout": {
          "annotationdefaults": {
           "arrowcolor": "#2a3f5f",
           "arrowhead": 0,
           "arrowwidth": 1
          },
          "autotypenumbers": "strict",
          "coloraxis": {
           "colorbar": {
            "outlinewidth": 0,
            "ticks": ""
           }
          },
          "colorscale": {
           "diverging": [
            [
             0,
             "#8e0152"
            ],
            [
             0.1,
             "#c51b7d"
            ],
            [
             0.2,
             "#de77ae"
            ],
            [
             0.3,
             "#f1b6da"
            ],
            [
             0.4,
             "#fde0ef"
            ],
            [
             0.5,
             "#f7f7f7"
            ],
            [
             0.6,
             "#e6f5d0"
            ],
            [
             0.7,
             "#b8e186"
            ],
            [
             0.8,
             "#7fbc41"
            ],
            [
             0.9,
             "#4d9221"
            ],
            [
             1,
             "#276419"
            ]
           ],
           "sequential": [
            [
             0,
             "#0d0887"
            ],
            [
             0.1111111111111111,
             "#46039f"
            ],
            [
             0.2222222222222222,
             "#7201a8"
            ],
            [
             0.3333333333333333,
             "#9c179e"
            ],
            [
             0.4444444444444444,
             "#bd3786"
            ],
            [
             0.5555555555555556,
             "#d8576b"
            ],
            [
             0.6666666666666666,
             "#ed7953"
            ],
            [
             0.7777777777777778,
             "#fb9f3a"
            ],
            [
             0.8888888888888888,
             "#fdca26"
            ],
            [
             1,
             "#f0f921"
            ]
           ],
           "sequentialminus": [
            [
             0,
             "#0d0887"
            ],
            [
             0.1111111111111111,
             "#46039f"
            ],
            [
             0.2222222222222222,
             "#7201a8"
            ],
            [
             0.3333333333333333,
             "#9c179e"
            ],
            [
             0.4444444444444444,
             "#bd3786"
            ],
            [
             0.5555555555555556,
             "#d8576b"
            ],
            [
             0.6666666666666666,
             "#ed7953"
            ],
            [
             0.7777777777777778,
             "#fb9f3a"
            ],
            [
             0.8888888888888888,
             "#fdca26"
            ],
            [
             1,
             "#f0f921"
            ]
           ]
          },
          "colorway": [
           "#636efa",
           "#EF553B",
           "#00cc96",
           "#ab63fa",
           "#FFA15A",
           "#19d3f3",
           "#FF6692",
           "#B6E880",
           "#FF97FF",
           "#FECB52"
          ],
          "font": {
           "color": "#2a3f5f"
          },
          "geo": {
           "bgcolor": "white",
           "lakecolor": "white",
           "landcolor": "white",
           "showlakes": true,
           "showland": true,
           "subunitcolor": "#C8D4E3"
          },
          "hoverlabel": {
           "align": "left"
          },
          "hovermode": "closest",
          "mapbox": {
           "style": "light"
          },
          "paper_bgcolor": "white",
          "plot_bgcolor": "white",
          "polar": {
           "angularaxis": {
            "gridcolor": "#EBF0F8",
            "linecolor": "#EBF0F8",
            "ticks": ""
           },
           "bgcolor": "white",
           "radialaxis": {
            "gridcolor": "#EBF0F8",
            "linecolor": "#EBF0F8",
            "ticks": ""
           }
          },
          "scene": {
           "xaxis": {
            "backgroundcolor": "white",
            "gridcolor": "#DFE8F3",
            "gridwidth": 2,
            "linecolor": "#EBF0F8",
            "showbackground": true,
            "ticks": "",
            "zerolinecolor": "#EBF0F8"
           },
           "yaxis": {
            "backgroundcolor": "white",
            "gridcolor": "#DFE8F3",
            "gridwidth": 2,
            "linecolor": "#EBF0F8",
            "showbackground": true,
            "ticks": "",
            "zerolinecolor": "#EBF0F8"
           },
           "zaxis": {
            "backgroundcolor": "white",
            "gridcolor": "#DFE8F3",
            "gridwidth": 2,
            "linecolor": "#EBF0F8",
            "showbackground": true,
            "ticks": "",
            "zerolinecolor": "#EBF0F8"
           }
          },
          "shapedefaults": {
           "line": {
            "color": "#2a3f5f"
           }
          },
          "ternary": {
           "aaxis": {
            "gridcolor": "#DFE8F3",
            "linecolor": "#A2B1C6",
            "ticks": ""
           },
           "baxis": {
            "gridcolor": "#DFE8F3",
            "linecolor": "#A2B1C6",
            "ticks": ""
           },
           "bgcolor": "white",
           "caxis": {
            "gridcolor": "#DFE8F3",
            "linecolor": "#A2B1C6",
            "ticks": ""
           }
          },
          "title": {
           "x": 0.05
          },
          "xaxis": {
           "automargin": true,
           "gridcolor": "#EBF0F8",
           "linecolor": "#EBF0F8",
           "ticks": "",
           "title": {
            "standoff": 15
           },
           "zerolinecolor": "#EBF0F8",
           "zerolinewidth": 2
          },
          "yaxis": {
           "automargin": true,
           "gridcolor": "#EBF0F8",
           "linecolor": "#EBF0F8",
           "ticks": "",
           "title": {
            "standoff": 15
           },
           "zerolinecolor": "#EBF0F8",
           "zerolinewidth": 2
          }
         }
        },
        "title": {
         "font": {
          "family": "Century Gothic",
          "size": 20,
          "weight": "bold"
         },
         "text": "Forte augmentation de la part des 15-34 ans à la fin du mois de Juillet",
         "x": 0.46,
         "xanchor": "center"
        },
        "width": 1000,
        "xaxis": {
         "anchor": "y",
         "domain": [
          0,
          1
         ],
         "tickfont": {
          "color": "black",
          "size": 12,
          "weight": "bold"
         },
         "tickmode": "array",
         "ticktext": [
          "Sem 26",
          "Sem 27",
          "Sem 28",
          "Sem 29",
          "Sem 30"
         ],
         "tickvals": [
          2326,
          2327,
          2328,
          2329,
          2330
         ],
         "title": {}
        },
        "yaxis": {
         "anchor": "x",
         "domain": [
          0,
          1
         ],
         "dtick": 0.25,
         "nticks": 6,
         "tickformat": ".0%",
         "title": {}
        }
       }
      }
     },
     "metadata": {},
     "output_type": "display_data"
    }
   ],
   "source": [
    "fig.update_layout(template='plotly_white')\n",
    "fig"
   ]
  },
  {
   "cell_type": "markdown",
   "id": "8a4065b0",
   "metadata": {},
   "source": [
    "### **Travailler et formatter les hover_data**\n",
    "L'intérêt de plotly est son interactivité. Lorsque vous passez le curseur de la souris sur chaque barre, des données apparaissent : les hover_data.  \n",
    "Il s'agit des données que vous avez passez à plotly lors de la création de la figure : 'sem_cine', 'profil_age', 'age_cat_6'.  \n",
    "\n",
    "Il est tout à fait possible de retirer certaines de ces données, d'en ajouter, de les formatter, etc.\n",
    "Pour cela, on va s'intéresser fig.update_traces() et à deux paramètres:  \n",
    "- customdata : il vous permet de passer des données à ajouter aux hover_data avec df[columns].  \n",
    "- hovertemplate : il vous permet de sélectionner et de formater comme souhaiter les données à afficher. Passez une str.  \n",
    "\n",
    "Le formattage de hovertemplate répond à des règles précises:  \n",
    "- Choisir son placeholder, le mettre entre {}, précédé de %  \n",
    "    * %{x} → la coordonnée en abscisse du point     \n",
    "    * %{y} → la coordonnée en ordonnée  \n",
    "    * %{text} → le texte si vous avez passé text=... à px  \n",
    "    * %{customdata[i]} → l'élément à l'index i dans customdata. <b>Si un seul élement => %{customdata}</b> \n",
    "- Choisir le formattage :  \n",
    "    * %{y:.1f} → valeur de y avec 1 décimale  \n",
    "    * %{customdata[1]:.2f} → affiche la seconde données de customdata avec 2 décimales  \n",
    "    * %{x:.1%} → valeur de x affichée en pourcentage avec 1 décimale  \n",
    "    * %{x:,d} → valeur entière de x avec séparateur de milliers (1,234,567)  \n",
    "    * <b>%{text}</b>→ text écrit en gras (utilisation de balise html => balise ouvrante b entre <>; balise fermante \\b entre <>)  \n",
    "\n",
    "\n",
    "Formattez les données avec hovertemplate comme suit :  \n",
    "- sem_cine en gras  \n",
    "- age_cat_6 en gras \n",
    "- profil_25+ en % avec 2 décimales   \n",
    "\n",
    "Chaque donnée doit être précédée de sa signification business. Revenir à la ligne après chaque donnée (balise br entre <>)"
   ]
  },
  {
   "cell_type": "code",
   "execution_count": 83,
   "id": "2ae372f5",
   "metadata": {},
   "outputs": [
    {
     "data": {
      "application/vnd.plotly.v1+json": {
       "config": {
        "plotlyServerURL": "https://plot.ly"
       },
       "data": [
        {
         "customdata": [
          "3-14 ans",
          "15-24 ans",
          "25-34 ans",
          "35-49 ans",
          "50-59 ans",
          "60 ans et +",
          "3-14 ans",
          "15-24 ans",
          "25-34 ans",
          "35-49 ans",
          "50-59 ans",
          "60 ans et +",
          "3-14 ans",
          "15-24 ans",
          "25-34 ans",
          "35-49 ans",
          "50-59 ans",
          "60 ans et +",
          "3-14 ans",
          "15-24 ans",
          "25-34 ans",
          "35-49 ans",
          "50-59 ans",
          "60 ans et +",
          "3-14 ans",
          "15-24 ans",
          "25-34 ans",
          "35-49 ans",
          "50-59 ans",
          "60 ans et +"
         ],
         "hovertemplate": "<b>%{x}</b><br>Catégorie d'âge : <b>%{customdata}</b><br>Part : <b>%{y:.1%}</b><br><extra></extra>",
         "insidetextanchor": "middle",
         "legendgroup": "3-14 ans",
         "marker": {
          "color": "rgba(153,204,255,1)",
          "pattern": {
           "shape": ""
          }
         },
         "name": "3-14 ans",
         "orientation": "v",
         "showlegend": true,
         "text": {
          "bdata": "5v+Wg8RcxD/0RJXUxCjIP23O6Bc6hsU/dDa47MmJwT8madgO4kLBPw==",
          "dtype": "f8"
         },
         "textposition": "inside",
         "texttemplate": "<b>%{y:.1%}</b>",
         "type": "bar",
         "x": {
          "bdata": "FgkXCRgJGQkaCQ==",
          "dtype": "i2"
         },
         "xaxis": "x",
         "y": {
          "bdata": "5v+Wg8RcxD/0RJXUxCjIP23O6Bc6hsU/dDa47MmJwT8madgO4kLBPw==",
          "dtype": "f8"
         },
         "yaxis": "y"
        },
        {
         "customdata": [
          "3-14 ans",
          "15-24 ans",
          "25-34 ans",
          "35-49 ans",
          "50-59 ans",
          "60 ans et +",
          "3-14 ans",
          "15-24 ans",
          "25-34 ans",
          "35-49 ans",
          "50-59 ans",
          "60 ans et +",
          "3-14 ans",
          "15-24 ans",
          "25-34 ans",
          "35-49 ans",
          "50-59 ans",
          "60 ans et +",
          "3-14 ans",
          "15-24 ans",
          "25-34 ans",
          "35-49 ans",
          "50-59 ans",
          "60 ans et +",
          "3-14 ans",
          "15-24 ans",
          "25-34 ans",
          "35-49 ans",
          "50-59 ans",
          "60 ans et +"
         ],
         "hovertemplate": "<b>%{x}</b><br>Catégorie d'âge : <b>%{customdata}</b><br>Part : <b>%{y:.1%}</b><br><extra></extra>",
         "insidetextanchor": "middle",
         "legendgroup": "15-24 ans",
         "marker": {
          "color": "rgba(64,153,255,1)",
          "pattern": {
           "shape": ""
          }
         },
         "name": "15-24 ans",
         "orientation": "v",
         "showlegend": true,
         "text": {
          "bdata": "ZC/oU57lxT/kvLgEIqrIP1NFgmg2tcY/jVeJEst30T+9CUrJ/5DOPw==",
          "dtype": "f8"
         },
         "textposition": "inside",
         "texttemplate": "<b>%{y:.1%}</b>",
         "type": "bar",
         "x": {
          "bdata": "FgkXCRgJGQkaCQ==",
          "dtype": "i2"
         },
         "xaxis": "x",
         "y": {
          "bdata": "ZC/oU57lxT/kvLgEIqrIP1NFgmg2tcY/jVeJEst30T+9CUrJ/5DOPw==",
          "dtype": "f8"
         },
         "yaxis": "y"
        },
        {
         "customdata": [
          "3-14 ans",
          "15-24 ans",
          "25-34 ans",
          "35-49 ans",
          "50-59 ans",
          "60 ans et +",
          "3-14 ans",
          "15-24 ans",
          "25-34 ans",
          "35-49 ans",
          "50-59 ans",
          "60 ans et +",
          "3-14 ans",
          "15-24 ans",
          "25-34 ans",
          "35-49 ans",
          "50-59 ans",
          "60 ans et +",
          "3-14 ans",
          "15-24 ans",
          "25-34 ans",
          "35-49 ans",
          "50-59 ans",
          "60 ans et +",
          "3-14 ans",
          "15-24 ans",
          "25-34 ans",
          "35-49 ans",
          "50-59 ans",
          "60 ans et +"
         ],
         "hovertemplate": "<b>%{x}</b><br>Catégorie d'âge : <b>%{customdata}</b><br>Part : <b>%{y:.1%}</b><br><extra></extra>",
         "insidetextanchor": "middle",
         "legendgroup": "25-34 ans",
         "marker": {
          "color": "rgba(153,51,204,1)",
          "pattern": {
           "shape": ""
          }
         },
         "name": "25-34 ans",
         "orientation": "v",
         "showlegend": true,
         "text": {
          "bdata": "yBTBxopswT/OuJ7qJxLBPyAJ95E+Xbo/0oVMs/aOwz9h9lWa2ljFPw==",
          "dtype": "f8"
         },
         "textposition": "inside",
         "texttemplate": "<b>%{y:.1%}</b>",
         "type": "bar",
         "x": {
          "bdata": "FgkXCRgJGQkaCQ==",
          "dtype": "i2"
         },
         "xaxis": "x",
         "y": {
          "bdata": "yBTBxopswT/OuJ7qJxLBPyAJ95E+Xbo/0oVMs/aOwz9h9lWa2ljFPw==",
          "dtype": "f8"
         },
         "yaxis": "y"
        },
        {
         "customdata": [
          "3-14 ans",
          "15-24 ans",
          "25-34 ans",
          "35-49 ans",
          "50-59 ans",
          "60 ans et +",
          "3-14 ans",
          "15-24 ans",
          "25-34 ans",
          "35-49 ans",
          "50-59 ans",
          "60 ans et +",
          "3-14 ans",
          "15-24 ans",
          "25-34 ans",
          "35-49 ans",
          "50-59 ans",
          "60 ans et +",
          "3-14 ans",
          "15-24 ans",
          "25-34 ans",
          "35-49 ans",
          "50-59 ans",
          "60 ans et +",
          "3-14 ans",
          "15-24 ans",
          "25-34 ans",
          "35-49 ans",
          "50-59 ans",
          "60 ans et +"
         ],
         "hovertemplate": "<b>%{x}</b><br>Catégorie d'âge : <b>%{customdata}</b><br>Part : <b>%{y:.1%}</b><br><extra></extra>",
         "insidetextanchor": "middle",
         "legendgroup": "35-49 ans",
         "marker": {
          "color": "rgba(102,1,153,1)",
          "pattern": {
           "shape": ""
          }
         },
         "name": "35-49 ans",
         "orientation": "v",
         "showlegend": true,
         "text": {
          "bdata": "WX4ktmauyD9n4MSloYbIP1jqu4jVbso/zb4fgztsxz9by25kvpnHPw==",
          "dtype": "f8"
         },
         "textposition": "inside",
         "texttemplate": "<b>%{y:.1%}</b>",
         "type": "bar",
         "x": {
          "bdata": "FgkXCRgJGQkaCQ==",
          "dtype": "i2"
         },
         "xaxis": "x",
         "y": {
          "bdata": "WX4ktmauyD9n4MSloYbIP1jqu4jVbso/zb4fgztsxz9by25kvpnHPw==",
          "dtype": "f8"
         },
         "yaxis": "y"
        },
        {
         "customdata": [
          "3-14 ans",
          "15-24 ans",
          "25-34 ans",
          "35-49 ans",
          "50-59 ans",
          "60 ans et +",
          "3-14 ans",
          "15-24 ans",
          "25-34 ans",
          "35-49 ans",
          "50-59 ans",
          "60 ans et +",
          "3-14 ans",
          "15-24 ans",
          "25-34 ans",
          "35-49 ans",
          "50-59 ans",
          "60 ans et +",
          "3-14 ans",
          "15-24 ans",
          "25-34 ans",
          "35-49 ans",
          "50-59 ans",
          "60 ans et +",
          "3-14 ans",
          "15-24 ans",
          "25-34 ans",
          "35-49 ans",
          "50-59 ans",
          "60 ans et +"
         ],
         "hovertemplate": "<b>%{x}</b><br>Catégorie d'âge : <b>%{customdata}</b><br>Part : <b>%{y:.1%}</b><br><extra></extra>",
         "insidetextanchor": "middle",
         "legendgroup": "50-59 ans",
         "marker": {
          "color": "rgba(246,102,103,1)",
          "pattern": {
           "shape": ""
          }
         },
         "name": "50-59 ans",
         "orientation": "v",
         "showlegend": true,
         "text": {
          "bdata": "iy1a4VP5wT9cLztVy6LAP98vl/roDcE/WZJEJzasuz8XOFSAp9K8Pw==",
          "dtype": "f8"
         },
         "textposition": "inside",
         "texttemplate": "<b>%{y:.1%}</b>",
         "type": "bar",
         "x": {
          "bdata": "FgkXCRgJGQkaCQ==",
          "dtype": "i2"
         },
         "xaxis": "x",
         "y": {
          "bdata": "iy1a4VP5wT9cLztVy6LAP98vl/roDcE/WZJEJzasuz8XOFSAp9K8Pw==",
          "dtype": "f8"
         },
         "yaxis": "y"
        },
        {
         "customdata": [
          "3-14 ans",
          "15-24 ans",
          "25-34 ans",
          "35-49 ans",
          "50-59 ans",
          "60 ans et +",
          "3-14 ans",
          "15-24 ans",
          "25-34 ans",
          "35-49 ans",
          "50-59 ans",
          "60 ans et +",
          "3-14 ans",
          "15-24 ans",
          "25-34 ans",
          "35-49 ans",
          "50-59 ans",
          "60 ans et +",
          "3-14 ans",
          "15-24 ans",
          "25-34 ans",
          "35-49 ans",
          "50-59 ans",
          "60 ans et +",
          "3-14 ans",
          "15-24 ans",
          "25-34 ans",
          "35-49 ans",
          "50-59 ans",
          "60 ans et +"
         ],
         "hovertemplate": "<b>%{x}</b><br>Catégorie d'âge : <b>%{customdata}</b><br>Part : <b>%{y:.1%}</b><br><extra></extra>",
         "insidetextanchor": "middle",
         "legendgroup": "60 ans et +",
         "marker": {
          "color": "rgba(204,51,51,1)",
          "pattern": {
           "shape": ""
          }
         },
         "name": "60 ans et +",
         "orientation": "v",
         "showlegend": true,
         "text": {
          "bdata": "CRBBylepyT+YNRNBhPHEP3pNRrMxGcs/pYwmpFK1wj9Zr+5oMdDEPw==",
          "dtype": "f8"
         },
         "textposition": "inside",
         "texttemplate": "<b>%{y:.1%}</b>",
         "type": "bar",
         "x": {
          "bdata": "FgkXCRgJGQkaCQ==",
          "dtype": "i2"
         },
         "xaxis": "x",
         "y": {
          "bdata": "CRBBylepyT+YNRNBhPHEP3pNRrMxGcs/pYwmpFK1wj9Zr+5oMdDEPw==",
          "dtype": "f8"
         },
         "yaxis": "y"
        }
       ],
       "layout": {
        "barmode": "relative",
        "height": 600,
        "legend": {
         "font": {
          "color": "black",
          "size": 12,
          "weight": 100
         },
         "orientation": "v",
         "title": {},
         "tracegroupgap": 0,
         "traceorder": "reversed",
         "x": 1,
         "xanchor": "left",
         "y": 0.95,
         "yanchor": "top"
        },
        "margin": {
         "t": 60
        },
        "template": {
         "data": {
          "bar": [
           {
            "error_x": {
             "color": "#2a3f5f"
            },
            "error_y": {
             "color": "#2a3f5f"
            },
            "marker": {
             "line": {
              "color": "white",
              "width": 0.5
             },
             "pattern": {
              "fillmode": "overlay",
              "size": 10,
              "solidity": 0.2
             }
            },
            "type": "bar"
           }
          ],
          "barpolar": [
           {
            "marker": {
             "line": {
              "color": "white",
              "width": 0.5
             },
             "pattern": {
              "fillmode": "overlay",
              "size": 10,
              "solidity": 0.2
             }
            },
            "type": "barpolar"
           }
          ],
          "carpet": [
           {
            "aaxis": {
             "endlinecolor": "#2a3f5f",
             "gridcolor": "#C8D4E3",
             "linecolor": "#C8D4E3",
             "minorgridcolor": "#C8D4E3",
             "startlinecolor": "#2a3f5f"
            },
            "baxis": {
             "endlinecolor": "#2a3f5f",
             "gridcolor": "#C8D4E3",
             "linecolor": "#C8D4E3",
             "minorgridcolor": "#C8D4E3",
             "startlinecolor": "#2a3f5f"
            },
            "type": "carpet"
           }
          ],
          "choropleth": [
           {
            "colorbar": {
             "outlinewidth": 0,
             "ticks": ""
            },
            "type": "choropleth"
           }
          ],
          "contour": [
           {
            "colorbar": {
             "outlinewidth": 0,
             "ticks": ""
            },
            "colorscale": [
             [
              0,
              "#0d0887"
             ],
             [
              0.1111111111111111,
              "#46039f"
             ],
             [
              0.2222222222222222,
              "#7201a8"
             ],
             [
              0.3333333333333333,
              "#9c179e"
             ],
             [
              0.4444444444444444,
              "#bd3786"
             ],
             [
              0.5555555555555556,
              "#d8576b"
             ],
             [
              0.6666666666666666,
              "#ed7953"
             ],
             [
              0.7777777777777778,
              "#fb9f3a"
             ],
             [
              0.8888888888888888,
              "#fdca26"
             ],
             [
              1,
              "#f0f921"
             ]
            ],
            "type": "contour"
           }
          ],
          "contourcarpet": [
           {
            "colorbar": {
             "outlinewidth": 0,
             "ticks": ""
            },
            "type": "contourcarpet"
           }
          ],
          "heatmap": [
           {
            "colorbar": {
             "outlinewidth": 0,
             "ticks": ""
            },
            "colorscale": [
             [
              0,
              "#0d0887"
             ],
             [
              0.1111111111111111,
              "#46039f"
             ],
             [
              0.2222222222222222,
              "#7201a8"
             ],
             [
              0.3333333333333333,
              "#9c179e"
             ],
             [
              0.4444444444444444,
              "#bd3786"
             ],
             [
              0.5555555555555556,
              "#d8576b"
             ],
             [
              0.6666666666666666,
              "#ed7953"
             ],
             [
              0.7777777777777778,
              "#fb9f3a"
             ],
             [
              0.8888888888888888,
              "#fdca26"
             ],
             [
              1,
              "#f0f921"
             ]
            ],
            "type": "heatmap"
           }
          ],
          "histogram": [
           {
            "marker": {
             "pattern": {
              "fillmode": "overlay",
              "size": 10,
              "solidity": 0.2
             }
            },
            "type": "histogram"
           }
          ],
          "histogram2d": [
           {
            "colorbar": {
             "outlinewidth": 0,
             "ticks": ""
            },
            "colorscale": [
             [
              0,
              "#0d0887"
             ],
             [
              0.1111111111111111,
              "#46039f"
             ],
             [
              0.2222222222222222,
              "#7201a8"
             ],
             [
              0.3333333333333333,
              "#9c179e"
             ],
             [
              0.4444444444444444,
              "#bd3786"
             ],
             [
              0.5555555555555556,
              "#d8576b"
             ],
             [
              0.6666666666666666,
              "#ed7953"
             ],
             [
              0.7777777777777778,
              "#fb9f3a"
             ],
             [
              0.8888888888888888,
              "#fdca26"
             ],
             [
              1,
              "#f0f921"
             ]
            ],
            "type": "histogram2d"
           }
          ],
          "histogram2dcontour": [
           {
            "colorbar": {
             "outlinewidth": 0,
             "ticks": ""
            },
            "colorscale": [
             [
              0,
              "#0d0887"
             ],
             [
              0.1111111111111111,
              "#46039f"
             ],
             [
              0.2222222222222222,
              "#7201a8"
             ],
             [
              0.3333333333333333,
              "#9c179e"
             ],
             [
              0.4444444444444444,
              "#bd3786"
             ],
             [
              0.5555555555555556,
              "#d8576b"
             ],
             [
              0.6666666666666666,
              "#ed7953"
             ],
             [
              0.7777777777777778,
              "#fb9f3a"
             ],
             [
              0.8888888888888888,
              "#fdca26"
             ],
             [
              1,
              "#f0f921"
             ]
            ],
            "type": "histogram2dcontour"
           }
          ],
          "mesh3d": [
           {
            "colorbar": {
             "outlinewidth": 0,
             "ticks": ""
            },
            "type": "mesh3d"
           }
          ],
          "parcoords": [
           {
            "line": {
             "colorbar": {
              "outlinewidth": 0,
              "ticks": ""
             }
            },
            "type": "parcoords"
           }
          ],
          "pie": [
           {
            "automargin": true,
            "type": "pie"
           }
          ],
          "scatter": [
           {
            "fillpattern": {
             "fillmode": "overlay",
             "size": 10,
             "solidity": 0.2
            },
            "type": "scatter"
           }
          ],
          "scatter3d": [
           {
            "line": {
             "colorbar": {
              "outlinewidth": 0,
              "ticks": ""
             }
            },
            "marker": {
             "colorbar": {
              "outlinewidth": 0,
              "ticks": ""
             }
            },
            "type": "scatter3d"
           }
          ],
          "scattercarpet": [
           {
            "marker": {
             "colorbar": {
              "outlinewidth": 0,
              "ticks": ""
             }
            },
            "type": "scattercarpet"
           }
          ],
          "scattergeo": [
           {
            "marker": {
             "colorbar": {
              "outlinewidth": 0,
              "ticks": ""
             }
            },
            "type": "scattergeo"
           }
          ],
          "scattergl": [
           {
            "marker": {
             "colorbar": {
              "outlinewidth": 0,
              "ticks": ""
             }
            },
            "type": "scattergl"
           }
          ],
          "scattermap": [
           {
            "marker": {
             "colorbar": {
              "outlinewidth": 0,
              "ticks": ""
             }
            },
            "type": "scattermap"
           }
          ],
          "scattermapbox": [
           {
            "marker": {
             "colorbar": {
              "outlinewidth": 0,
              "ticks": ""
             }
            },
            "type": "scattermapbox"
           }
          ],
          "scatterpolar": [
           {
            "marker": {
             "colorbar": {
              "outlinewidth": 0,
              "ticks": ""
             }
            },
            "type": "scatterpolar"
           }
          ],
          "scatterpolargl": [
           {
            "marker": {
             "colorbar": {
              "outlinewidth": 0,
              "ticks": ""
             }
            },
            "type": "scatterpolargl"
           }
          ],
          "scatterternary": [
           {
            "marker": {
             "colorbar": {
              "outlinewidth": 0,
              "ticks": ""
             }
            },
            "type": "scatterternary"
           }
          ],
          "surface": [
           {
            "colorbar": {
             "outlinewidth": 0,
             "ticks": ""
            },
            "colorscale": [
             [
              0,
              "#0d0887"
             ],
             [
              0.1111111111111111,
              "#46039f"
             ],
             [
              0.2222222222222222,
              "#7201a8"
             ],
             [
              0.3333333333333333,
              "#9c179e"
             ],
             [
              0.4444444444444444,
              "#bd3786"
             ],
             [
              0.5555555555555556,
              "#d8576b"
             ],
             [
              0.6666666666666666,
              "#ed7953"
             ],
             [
              0.7777777777777778,
              "#fb9f3a"
             ],
             [
              0.8888888888888888,
              "#fdca26"
             ],
             [
              1,
              "#f0f921"
             ]
            ],
            "type": "surface"
           }
          ],
          "table": [
           {
            "cells": {
             "fill": {
              "color": "#EBF0F8"
             },
             "line": {
              "color": "white"
             }
            },
            "header": {
             "fill": {
              "color": "#C8D4E3"
             },
             "line": {
              "color": "white"
             }
            },
            "type": "table"
           }
          ]
         },
         "layout": {
          "annotationdefaults": {
           "arrowcolor": "#2a3f5f",
           "arrowhead": 0,
           "arrowwidth": 1
          },
          "autotypenumbers": "strict",
          "coloraxis": {
           "colorbar": {
            "outlinewidth": 0,
            "ticks": ""
           }
          },
          "colorscale": {
           "diverging": [
            [
             0,
             "#8e0152"
            ],
            [
             0.1,
             "#c51b7d"
            ],
            [
             0.2,
             "#de77ae"
            ],
            [
             0.3,
             "#f1b6da"
            ],
            [
             0.4,
             "#fde0ef"
            ],
            [
             0.5,
             "#f7f7f7"
            ],
            [
             0.6,
             "#e6f5d0"
            ],
            [
             0.7,
             "#b8e186"
            ],
            [
             0.8,
             "#7fbc41"
            ],
            [
             0.9,
             "#4d9221"
            ],
            [
             1,
             "#276419"
            ]
           ],
           "sequential": [
            [
             0,
             "#0d0887"
            ],
            [
             0.1111111111111111,
             "#46039f"
            ],
            [
             0.2222222222222222,
             "#7201a8"
            ],
            [
             0.3333333333333333,
             "#9c179e"
            ],
            [
             0.4444444444444444,
             "#bd3786"
            ],
            [
             0.5555555555555556,
             "#d8576b"
            ],
            [
             0.6666666666666666,
             "#ed7953"
            ],
            [
             0.7777777777777778,
             "#fb9f3a"
            ],
            [
             0.8888888888888888,
             "#fdca26"
            ],
            [
             1,
             "#f0f921"
            ]
           ],
           "sequentialminus": [
            [
             0,
             "#0d0887"
            ],
            [
             0.1111111111111111,
             "#46039f"
            ],
            [
             0.2222222222222222,
             "#7201a8"
            ],
            [
             0.3333333333333333,
             "#9c179e"
            ],
            [
             0.4444444444444444,
             "#bd3786"
            ],
            [
             0.5555555555555556,
             "#d8576b"
            ],
            [
             0.6666666666666666,
             "#ed7953"
            ],
            [
             0.7777777777777778,
             "#fb9f3a"
            ],
            [
             0.8888888888888888,
             "#fdca26"
            ],
            [
             1,
             "#f0f921"
            ]
           ]
          },
          "colorway": [
           "#636efa",
           "#EF553B",
           "#00cc96",
           "#ab63fa",
           "#FFA15A",
           "#19d3f3",
           "#FF6692",
           "#B6E880",
           "#FF97FF",
           "#FECB52"
          ],
          "font": {
           "color": "#2a3f5f"
          },
          "geo": {
           "bgcolor": "white",
           "lakecolor": "white",
           "landcolor": "white",
           "showlakes": true,
           "showland": true,
           "subunitcolor": "#C8D4E3"
          },
          "hoverlabel": {
           "align": "left"
          },
          "hovermode": "closest",
          "mapbox": {
           "style": "light"
          },
          "paper_bgcolor": "white",
          "plot_bgcolor": "white",
          "polar": {
           "angularaxis": {
            "gridcolor": "#EBF0F8",
            "linecolor": "#EBF0F8",
            "ticks": ""
           },
           "bgcolor": "white",
           "radialaxis": {
            "gridcolor": "#EBF0F8",
            "linecolor": "#EBF0F8",
            "ticks": ""
           }
          },
          "scene": {
           "xaxis": {
            "backgroundcolor": "white",
            "gridcolor": "#DFE8F3",
            "gridwidth": 2,
            "linecolor": "#EBF0F8",
            "showbackground": true,
            "ticks": "",
            "zerolinecolor": "#EBF0F8"
           },
           "yaxis": {
            "backgroundcolor": "white",
            "gridcolor": "#DFE8F3",
            "gridwidth": 2,
            "linecolor": "#EBF0F8",
            "showbackground": true,
            "ticks": "",
            "zerolinecolor": "#EBF0F8"
           },
           "zaxis": {
            "backgroundcolor": "white",
            "gridcolor": "#DFE8F3",
            "gridwidth": 2,
            "linecolor": "#EBF0F8",
            "showbackground": true,
            "ticks": "",
            "zerolinecolor": "#EBF0F8"
           }
          },
          "shapedefaults": {
           "line": {
            "color": "#2a3f5f"
           }
          },
          "ternary": {
           "aaxis": {
            "gridcolor": "#DFE8F3",
            "linecolor": "#A2B1C6",
            "ticks": ""
           },
           "baxis": {
            "gridcolor": "#DFE8F3",
            "linecolor": "#A2B1C6",
            "ticks": ""
           },
           "bgcolor": "white",
           "caxis": {
            "gridcolor": "#DFE8F3",
            "linecolor": "#A2B1C6",
            "ticks": ""
           }
          },
          "title": {
           "x": 0.05
          },
          "xaxis": {
           "automargin": true,
           "gridcolor": "#EBF0F8",
           "linecolor": "#EBF0F8",
           "ticks": "",
           "title": {
            "standoff": 15
           },
           "zerolinecolor": "#EBF0F8",
           "zerolinewidth": 2
          },
          "yaxis": {
           "automargin": true,
           "gridcolor": "#EBF0F8",
           "linecolor": "#EBF0F8",
           "ticks": "",
           "title": {
            "standoff": 15
           },
           "zerolinecolor": "#EBF0F8",
           "zerolinewidth": 2
          }
         }
        },
        "title": {
         "font": {
          "family": "Century Gothic",
          "size": 20,
          "weight": "bold"
         },
         "text": "Forte augmentation de la part des 15-34 ans à la fin du mois de Juillet",
         "x": 0.46,
         "xanchor": "center"
        },
        "width": 1000,
        "xaxis": {
         "anchor": "y",
         "domain": [
          0,
          1
         ],
         "tickfont": {
          "color": "black",
          "size": 12,
          "weight": "bold"
         },
         "tickmode": "array",
         "ticktext": [
          "Sem 26",
          "Sem 27",
          "Sem 28",
          "Sem 29",
          "Sem 30"
         ],
         "tickvals": [
          2326,
          2327,
          2328,
          2329,
          2330
         ],
         "title": {}
        },
        "yaxis": {
         "anchor": "x",
         "domain": [
          0,
          1
         ],
         "dtick": 0.25,
         "nticks": 6,
         "tickformat": ".0%",
         "title": {}
        }
       }
      }
     },
     "metadata": {},
     "output_type": "display_data"
    }
   ],
   "source": [
    "fig.update_traces(\n",
    "    customdata=data_agg_age['age_cat_6'],\n",
    "    hovertemplate=\"<br>\".join(\n",
    "        [   \"<b>%{x}</b>\",\n",
    "            \"Catégorie d'âge : <b>%{customdata}</b>\",\n",
    "            \"Part : <b>%{y:.1%}</b>\",\n",
    "            \"<extra></extra>\"\n",
    "        ]\n",
    "    ),\n",
    ")\n",
    "fig"
   ]
  },
  {
   "cell_type": "markdown",
   "id": "7dc84244",
   "metadata": {},
   "source": [
    "### **Faire le graphique en utilisant les catégories d'habitude de fréquetation suivantes :**\n",
    "- Assidus (1 & 2)\n",
    "- Réguliers (3 & 4)\n",
    "- Occasionnels (5, 6, 7 & 8)\n",
    "\n",
    "Nommer la colonne 'habfreq_3'  \n",
    "Assurez-vous que la colonne soit bien de type category au moment où vous la créez.  \n",
    "\n",
    "Lors du calcul des profils, vous nommerez :  \n",
    "- la dataframe de résultats : data_agg_habfreq  \n",
    "- La colonne avec les profils : 'profil_habfreq'  \n",
    "\n",
    "Nommez la figure fig_habfreq. Utilisez les couleurs ci-dessous."
   ]
  },
  {
   "cell_type": "code",
   "execution_count": 84,
   "id": "935ebcb5",
   "metadata": {},
   "outputs": [],
   "source": [
    "habfreq_colors = [\n",
    "    \"rgba(0,0,102,1)\", #Assidus\n",
    "    \"rgba(57,69,185,1)\", #Réguliers\n",
    "    \"rgba(150,157,222,1)\", #Occasionnels\n",
    "]"
   ]
  },
  {
   "cell_type": "code",
   "execution_count": 87,
   "id": "4a8dd572",
   "metadata": {},
   "outputs": [
    {
     "data": {
      "text/plain": [
       "['Assidus', 'Réguliers', 'Occasionnels']\n",
       "Categories (3, object): ['Assidus' < 'Réguliers' < 'Occasionnels']"
      ]
     },
     "execution_count": 87,
     "metadata": {},
     "output_type": "execute_result"
    }
   ],
   "source": [
    "data_weighted['habfreq_3'] = pd.cut(data_weighted['s3ad'], \n",
    "        bins=[0, 2, 4, 8], \n",
    "        labels=['Assidus', 'Réguliers', 'Occasionnels',]\n",
    "    )\n",
    "data_weighted['habfreq_3'].unique()"
   ]
  },
  {
   "cell_type": "code",
   "execution_count": 88,
   "id": "a2b94a4e",
   "metadata": {},
   "outputs": [
    {
     "data": {
      "text/html": [
       "<div>\n",
       "<style scoped>\n",
       "    .dataframe tbody tr th:only-of-type {\n",
       "        vertical-align: middle;\n",
       "    }\n",
       "\n",
       "    .dataframe tbody tr th {\n",
       "        vertical-align: top;\n",
       "    }\n",
       "\n",
       "    .dataframe thead th {\n",
       "        text-align: right;\n",
       "    }\n",
       "</style>\n",
       "<table border=\"1\" class=\"dataframe\">\n",
       "  <thead>\n",
       "    <tr style=\"text-align: right;\">\n",
       "      <th></th>\n",
       "      <th>sem_cine</th>\n",
       "      <th>habfreq_3</th>\n",
       "      <th>profil_habfreq</th>\n",
       "    </tr>\n",
       "  </thead>\n",
       "  <tbody>\n",
       "    <tr>\n",
       "      <th>0</th>\n",
       "      <td>2326</td>\n",
       "      <td>Assidus</td>\n",
       "      <td>0.165083</td>\n",
       "    </tr>\n",
       "    <tr>\n",
       "      <th>1</th>\n",
       "      <td>2326</td>\n",
       "      <td>Réguliers</td>\n",
       "      <td>0.474787</td>\n",
       "    </tr>\n",
       "    <tr>\n",
       "      <th>2</th>\n",
       "      <td>2326</td>\n",
       "      <td>Occasionnels</td>\n",
       "      <td>0.360130</td>\n",
       "    </tr>\n",
       "    <tr>\n",
       "      <th>3</th>\n",
       "      <td>2327</td>\n",
       "      <td>Assidus</td>\n",
       "      <td>0.176426</td>\n",
       "    </tr>\n",
       "    <tr>\n",
       "      <th>4</th>\n",
       "      <td>2327</td>\n",
       "      <td>Réguliers</td>\n",
       "      <td>0.445113</td>\n",
       "    </tr>\n",
       "    <tr>\n",
       "      <th>5</th>\n",
       "      <td>2327</td>\n",
       "      <td>Occasionnels</td>\n",
       "      <td>0.378461</td>\n",
       "    </tr>\n",
       "    <tr>\n",
       "      <th>6</th>\n",
       "      <td>2328</td>\n",
       "      <td>Assidus</td>\n",
       "      <td>0.176271</td>\n",
       "    </tr>\n",
       "    <tr>\n",
       "      <th>7</th>\n",
       "      <td>2328</td>\n",
       "      <td>Réguliers</td>\n",
       "      <td>0.475855</td>\n",
       "    </tr>\n",
       "    <tr>\n",
       "      <th>8</th>\n",
       "      <td>2328</td>\n",
       "      <td>Occasionnels</td>\n",
       "      <td>0.347875</td>\n",
       "    </tr>\n",
       "    <tr>\n",
       "      <th>9</th>\n",
       "      <td>2329</td>\n",
       "      <td>Assidus</td>\n",
       "      <td>0.175218</td>\n",
       "    </tr>\n",
       "    <tr>\n",
       "      <th>10</th>\n",
       "      <td>2329</td>\n",
       "      <td>Réguliers</td>\n",
       "      <td>0.470611</td>\n",
       "    </tr>\n",
       "    <tr>\n",
       "      <th>11</th>\n",
       "      <td>2329</td>\n",
       "      <td>Occasionnels</td>\n",
       "      <td>0.354171</td>\n",
       "    </tr>\n",
       "    <tr>\n",
       "      <th>12</th>\n",
       "      <td>2330</td>\n",
       "      <td>Assidus</td>\n",
       "      <td>0.183535</td>\n",
       "    </tr>\n",
       "    <tr>\n",
       "      <th>13</th>\n",
       "      <td>2330</td>\n",
       "      <td>Réguliers</td>\n",
       "      <td>0.452334</td>\n",
       "    </tr>\n",
       "    <tr>\n",
       "      <th>14</th>\n",
       "      <td>2330</td>\n",
       "      <td>Occasionnels</td>\n",
       "      <td>0.364131</td>\n",
       "    </tr>\n",
       "  </tbody>\n",
       "</table>\n",
       "</div>"
      ],
      "text/plain": [
       "    sem_cine     habfreq_3  profil_habfreq\n",
       "0       2326       Assidus        0.165083\n",
       "1       2326     Réguliers        0.474787\n",
       "2       2326  Occasionnels        0.360130\n",
       "3       2327       Assidus        0.176426\n",
       "4       2327     Réguliers        0.445113\n",
       "5       2327  Occasionnels        0.378461\n",
       "6       2328       Assidus        0.176271\n",
       "7       2328     Réguliers        0.475855\n",
       "8       2328  Occasionnels        0.347875\n",
       "9       2329       Assidus        0.175218\n",
       "10      2329     Réguliers        0.470611\n",
       "11      2329  Occasionnels        0.354171\n",
       "12      2330       Assidus        0.183535\n",
       "13      2330     Réguliers        0.452334\n",
       "14      2330  Occasionnels        0.364131"
      ]
     },
     "execution_count": 88,
     "metadata": {},
     "output_type": "execute_result"
    }
   ],
   "source": [
    "# Résultat attendu \n",
    "#   sem_cine\thabfreq_3\t    profil_habfreq\n",
    "#   0\t2326\tHabitués\t    0.165083\n",
    "#   1\t2326\tRéguliers\t    0.474787\n",
    "#   2\t2326\tOccasionnels\t0.360130\n",
    "#   3\t2327\tHabitués\t    0.176426\n",
    "#   4\t2327\tRéguliers\t    0.445113\n",
    "#   5\t2327\tOccasionnels\t0.378461\n",
    "#   6\t2328\tHabitués\t    0.176271\n",
    "#   7\t2328\tRéguliers\t    0.475855\n",
    "#   8\t2328\tOccasionnels\t0.347875\n",
    "#   9\t2329\tHabitués\t    0.175218\n",
    "# 10\t2329\tRéguliers\t    0.470611\n",
    "# 11\t2329\tOccasionnels\t0.354171\n",
    "# 12\t2330\tHabitués\t    0.183535\n",
    "# 13\t2330\tRéguliers\t    0.452334\n",
    "# 14\t2330\tOccasionnels\t0.364131\n",
    "\n",
    "data_agg_habfreq = (\n",
    "    (\n",
    "        data_weighted.groupby(['sem_cine','habfreq_3'], observed=True, )['Entrées Extrapolées'].sum()\n",
    "        /data_weighted.groupby(['sem_cine',])['Entrées Extrapolées'].sum()\n",
    ").to_frame('profil_habfreq')\n",
    ".reset_index()\n",
    ")\n",
    "data_agg_habfreq"
   ]
  },
  {
   "cell_type": "code",
   "execution_count": null,
   "id": "723c5105",
   "metadata": {},
   "outputs": [
    {
     "data": {
      "application/vnd.plotly.v1+json": {
       "config": {
        "plotlyServerURL": "https://plot.ly"
       },
       "data": [
        {
         "customdata": [
          "Assidus",
          "Réguliers",
          "Occasionnels",
          "Assidus",
          "Réguliers",
          "Occasionnels",
          "Assidus",
          "Réguliers",
          "Occasionnels",
          "Assidus",
          "Réguliers",
          "Occasionnels",
          "Assidus",
          "Réguliers",
          "Occasionnels"
         ],
         "hovertemplate": "<b>%{x}</b><br>Catégorie d'habitude de fréquentation : <b>%{customdata}</b><br>Part : <b>%{y:.1%}</b><br><extra></extra>",
         "insidetextanchor": "middle",
         "legendgroup": "Assidus",
         "marker": {
          "color": "rgba(0,0,102,1)",
          "pattern": {
           "shape": ""
          }
         },
         "name": "Assidus",
         "orientation": "v",
         "showlegend": true,
         "text": {
          "bdata": "aiX+HXEhxT+8XLwdHZXGP3PXpgAJkMY/AkT284ltxj8vfo+EFX7HPw==",
          "dtype": "f8"
         },
         "textposition": "inside",
         "texttemplate": "<b>%{y:.1%}</b>",
         "type": "bar",
         "x": {
          "bdata": "FgkXCRgJGQkaCQ==",
          "dtype": "i2"
         },
         "xaxis": "x",
         "y": {
          "bdata": "aiX+HXEhxT+8XLwdHZXGP3PXpgAJkMY/AkT284ltxj8vfo+EFX7HPw==",
          "dtype": "f8"
         },
         "yaxis": "y"
        },
        {
         "customdata": [
          "Assidus",
          "Réguliers",
          "Occasionnels",
          "Assidus",
          "Réguliers",
          "Occasionnels",
          "Assidus",
          "Réguliers",
          "Occasionnels",
          "Assidus",
          "Réguliers",
          "Occasionnels",
          "Assidus",
          "Réguliers",
          "Occasionnels"
         ],
         "hovertemplate": "<b>%{x}</b><br>Catégorie d'habitude de fréquentation : <b>%{customdata}</b><br>Part : <b>%{y:.1%}</b><br><extra></extra>",
         "insidetextanchor": "middle",
         "legendgroup": "Réguliers",
         "marker": {
          "color": "rgba(57,69,185,1)",
          "pattern": {
           "shape": ""
          }
         },
         "name": "Réguliers",
         "orientation": "v",
         "showlegend": true,
         "text": {
          "bdata": "TijCGedi3j+4va5Yu3zcP4R4C5tndN4/p7Pq+Hwe3j9ti7FkCvPcPw==",
          "dtype": "f8"
         },
         "textposition": "inside",
         "texttemplate": "<b>%{y:.1%}</b>",
         "type": "bar",
         "x": {
          "bdata": "FgkXCRgJGQkaCQ==",
          "dtype": "i2"
         },
         "xaxis": "x",
         "y": {
          "bdata": "TijCGedi3j+4va5Yu3zcP4R4C5tndN4/p7Pq+Hwe3j9ti7FkCvPcPw==",
          "dtype": "f8"
         },
         "yaxis": "y"
        },
        {
         "customdata": [
          "Assidus",
          "Réguliers",
          "Occasionnels",
          "Assidus",
          "Réguliers",
          "Occasionnels",
          "Assidus",
          "Réguliers",
          "Occasionnels",
          "Assidus",
          "Réguliers",
          "Occasionnels",
          "Assidus",
          "Réguliers",
          "Occasionnels"
         ],
         "hovertemplate": "<b>%{x}</b><br>Catégorie d'habitude de fréquentation : <b>%{customdata}</b><br>Part : <b>%{y:.1%}</b><br><extra></extra>",
         "insidetextanchor": "middle",
         "legendgroup": "Occasionnels",
         "marker": {
          "color": "rgba(150,157,222,1)",
          "pattern": {
           "shape": ""
          }
         },
         "name": "Occasionnels",
         "orientation": "v",
         "showlegend": true,
         "text": {
          "bdata": "/cQ+V2AM1z/rE3MYtjjYP8EboeSTQ9Y/VioaDb6q1j99tQbZ6k3XPw==",
          "dtype": "f8"
         },
         "textposition": "inside",
         "texttemplate": "<b>%{y:.1%}</b>",
         "type": "bar",
         "x": {
          "bdata": "FgkXCRgJGQkaCQ==",
          "dtype": "i2"
         },
         "xaxis": "x",
         "y": {
          "bdata": "/cQ+V2AM1z/rE3MYtjjYP8EboeSTQ9Y/VioaDb6q1j99tQbZ6k3XPw==",
          "dtype": "f8"
         },
         "yaxis": "y"
        }
       ],
       "layout": {
        "barmode": "relative",
        "height": 600,
        "legend": {
         "font": {
          "color": "black",
          "size": 12,
          "weight": 100
         },
         "orientation": "v",
         "title": {},
         "tracegroupgap": 0,
         "traceorder": "reversed",
         "x": 1,
         "xanchor": "left",
         "y": 0.95,
         "yanchor": "top"
        },
        "margin": {
         "t": 60
        },
        "template": {
         "data": {
          "bar": [
           {
            "error_x": {
             "color": "#2a3f5f"
            },
            "error_y": {
             "color": "#2a3f5f"
            },
            "marker": {
             "line": {
              "color": "white",
              "width": 0.5
             },
             "pattern": {
              "fillmode": "overlay",
              "size": 10,
              "solidity": 0.2
             }
            },
            "type": "bar"
           }
          ],
          "barpolar": [
           {
            "marker": {
             "line": {
              "color": "white",
              "width": 0.5
             },
             "pattern": {
              "fillmode": "overlay",
              "size": 10,
              "solidity": 0.2
             }
            },
            "type": "barpolar"
           }
          ],
          "carpet": [
           {
            "aaxis": {
             "endlinecolor": "#2a3f5f",
             "gridcolor": "#C8D4E3",
             "linecolor": "#C8D4E3",
             "minorgridcolor": "#C8D4E3",
             "startlinecolor": "#2a3f5f"
            },
            "baxis": {
             "endlinecolor": "#2a3f5f",
             "gridcolor": "#C8D4E3",
             "linecolor": "#C8D4E3",
             "minorgridcolor": "#C8D4E3",
             "startlinecolor": "#2a3f5f"
            },
            "type": "carpet"
           }
          ],
          "choropleth": [
           {
            "colorbar": {
             "outlinewidth": 0,
             "ticks": ""
            },
            "type": "choropleth"
           }
          ],
          "contour": [
           {
            "colorbar": {
             "outlinewidth": 0,
             "ticks": ""
            },
            "colorscale": [
             [
              0,
              "#0d0887"
             ],
             [
              0.1111111111111111,
              "#46039f"
             ],
             [
              0.2222222222222222,
              "#7201a8"
             ],
             [
              0.3333333333333333,
              "#9c179e"
             ],
             [
              0.4444444444444444,
              "#bd3786"
             ],
             [
              0.5555555555555556,
              "#d8576b"
             ],
             [
              0.6666666666666666,
              "#ed7953"
             ],
             [
              0.7777777777777778,
              "#fb9f3a"
             ],
             [
              0.8888888888888888,
              "#fdca26"
             ],
             [
              1,
              "#f0f921"
             ]
            ],
            "type": "contour"
           }
          ],
          "contourcarpet": [
           {
            "colorbar": {
             "outlinewidth": 0,
             "ticks": ""
            },
            "type": "contourcarpet"
           }
          ],
          "heatmap": [
           {
            "colorbar": {
             "outlinewidth": 0,
             "ticks": ""
            },
            "colorscale": [
             [
              0,
              "#0d0887"
             ],
             [
              0.1111111111111111,
              "#46039f"
             ],
             [
              0.2222222222222222,
              "#7201a8"
             ],
             [
              0.3333333333333333,
              "#9c179e"
             ],
             [
              0.4444444444444444,
              "#bd3786"
             ],
             [
              0.5555555555555556,
              "#d8576b"
             ],
             [
              0.6666666666666666,
              "#ed7953"
             ],
             [
              0.7777777777777778,
              "#fb9f3a"
             ],
             [
              0.8888888888888888,
              "#fdca26"
             ],
             [
              1,
              "#f0f921"
             ]
            ],
            "type": "heatmap"
           }
          ],
          "histogram": [
           {
            "marker": {
             "pattern": {
              "fillmode": "overlay",
              "size": 10,
              "solidity": 0.2
             }
            },
            "type": "histogram"
           }
          ],
          "histogram2d": [
           {
            "colorbar": {
             "outlinewidth": 0,
             "ticks": ""
            },
            "colorscale": [
             [
              0,
              "#0d0887"
             ],
             [
              0.1111111111111111,
              "#46039f"
             ],
             [
              0.2222222222222222,
              "#7201a8"
             ],
             [
              0.3333333333333333,
              "#9c179e"
             ],
             [
              0.4444444444444444,
              "#bd3786"
             ],
             [
              0.5555555555555556,
              "#d8576b"
             ],
             [
              0.6666666666666666,
              "#ed7953"
             ],
             [
              0.7777777777777778,
              "#fb9f3a"
             ],
             [
              0.8888888888888888,
              "#fdca26"
             ],
             [
              1,
              "#f0f921"
             ]
            ],
            "type": "histogram2d"
           }
          ],
          "histogram2dcontour": [
           {
            "colorbar": {
             "outlinewidth": 0,
             "ticks": ""
            },
            "colorscale": [
             [
              0,
              "#0d0887"
             ],
             [
              0.1111111111111111,
              "#46039f"
             ],
             [
              0.2222222222222222,
              "#7201a8"
             ],
             [
              0.3333333333333333,
              "#9c179e"
             ],
             [
              0.4444444444444444,
              "#bd3786"
             ],
             [
              0.5555555555555556,
              "#d8576b"
             ],
             [
              0.6666666666666666,
              "#ed7953"
             ],
             [
              0.7777777777777778,
              "#fb9f3a"
             ],
             [
              0.8888888888888888,
              "#fdca26"
             ],
             [
              1,
              "#f0f921"
             ]
            ],
            "type": "histogram2dcontour"
           }
          ],
          "mesh3d": [
           {
            "colorbar": {
             "outlinewidth": 0,
             "ticks": ""
            },
            "type": "mesh3d"
           }
          ],
          "parcoords": [
           {
            "line": {
             "colorbar": {
              "outlinewidth": 0,
              "ticks": ""
             }
            },
            "type": "parcoords"
           }
          ],
          "pie": [
           {
            "automargin": true,
            "type": "pie"
           }
          ],
          "scatter": [
           {
            "fillpattern": {
             "fillmode": "overlay",
             "size": 10,
             "solidity": 0.2
            },
            "type": "scatter"
           }
          ],
          "scatter3d": [
           {
            "line": {
             "colorbar": {
              "outlinewidth": 0,
              "ticks": ""
             }
            },
            "marker": {
             "colorbar": {
              "outlinewidth": 0,
              "ticks": ""
             }
            },
            "type": "scatter3d"
           }
          ],
          "scattercarpet": [
           {
            "marker": {
             "colorbar": {
              "outlinewidth": 0,
              "ticks": ""
             }
            },
            "type": "scattercarpet"
           }
          ],
          "scattergeo": [
           {
            "marker": {
             "colorbar": {
              "outlinewidth": 0,
              "ticks": ""
             }
            },
            "type": "scattergeo"
           }
          ],
          "scattergl": [
           {
            "marker": {
             "colorbar": {
              "outlinewidth": 0,
              "ticks": ""
             }
            },
            "type": "scattergl"
           }
          ],
          "scattermap": [
           {
            "marker": {
             "colorbar": {
              "outlinewidth": 0,
              "ticks": ""
             }
            },
            "type": "scattermap"
           }
          ],
          "scattermapbox": [
           {
            "marker": {
             "colorbar": {
              "outlinewidth": 0,
              "ticks": ""
             }
            },
            "type": "scattermapbox"
           }
          ],
          "scatterpolar": [
           {
            "marker": {
             "colorbar": {
              "outlinewidth": 0,
              "ticks": ""
             }
            },
            "type": "scatterpolar"
           }
          ],
          "scatterpolargl": [
           {
            "marker": {
             "colorbar": {
              "outlinewidth": 0,
              "ticks": ""
             }
            },
            "type": "scatterpolargl"
           }
          ],
          "scatterternary": [
           {
            "marker": {
             "colorbar": {
              "outlinewidth": 0,
              "ticks": ""
             }
            },
            "type": "scatterternary"
           }
          ],
          "surface": [
           {
            "colorbar": {
             "outlinewidth": 0,
             "ticks": ""
            },
            "colorscale": [
             [
              0,
              "#0d0887"
             ],
             [
              0.1111111111111111,
              "#46039f"
             ],
             [
              0.2222222222222222,
              "#7201a8"
             ],
             [
              0.3333333333333333,
              "#9c179e"
             ],
             [
              0.4444444444444444,
              "#bd3786"
             ],
             [
              0.5555555555555556,
              "#d8576b"
             ],
             [
              0.6666666666666666,
              "#ed7953"
             ],
             [
              0.7777777777777778,
              "#fb9f3a"
             ],
             [
              0.8888888888888888,
              "#fdca26"
             ],
             [
              1,
              "#f0f921"
             ]
            ],
            "type": "surface"
           }
          ],
          "table": [
           {
            "cells": {
             "fill": {
              "color": "#EBF0F8"
             },
             "line": {
              "color": "white"
             }
            },
            "header": {
             "fill": {
              "color": "#C8D4E3"
             },
             "line": {
              "color": "white"
             }
            },
            "type": "table"
           }
          ]
         },
         "layout": {
          "annotationdefaults": {
           "arrowcolor": "#2a3f5f",
           "arrowhead": 0,
           "arrowwidth": 1
          },
          "autotypenumbers": "strict",
          "coloraxis": {
           "colorbar": {
            "outlinewidth": 0,
            "ticks": ""
           }
          },
          "colorscale": {
           "diverging": [
            [
             0,
             "#8e0152"
            ],
            [
             0.1,
             "#c51b7d"
            ],
            [
             0.2,
             "#de77ae"
            ],
            [
             0.3,
             "#f1b6da"
            ],
            [
             0.4,
             "#fde0ef"
            ],
            [
             0.5,
             "#f7f7f7"
            ],
            [
             0.6,
             "#e6f5d0"
            ],
            [
             0.7,
             "#b8e186"
            ],
            [
             0.8,
             "#7fbc41"
            ],
            [
             0.9,
             "#4d9221"
            ],
            [
             1,
             "#276419"
            ]
           ],
           "sequential": [
            [
             0,
             "#0d0887"
            ],
            [
             0.1111111111111111,
             "#46039f"
            ],
            [
             0.2222222222222222,
             "#7201a8"
            ],
            [
             0.3333333333333333,
             "#9c179e"
            ],
            [
             0.4444444444444444,
             "#bd3786"
            ],
            [
             0.5555555555555556,
             "#d8576b"
            ],
            [
             0.6666666666666666,
             "#ed7953"
            ],
            [
             0.7777777777777778,
             "#fb9f3a"
            ],
            [
             0.8888888888888888,
             "#fdca26"
            ],
            [
             1,
             "#f0f921"
            ]
           ],
           "sequentialminus": [
            [
             0,
             "#0d0887"
            ],
            [
             0.1111111111111111,
             "#46039f"
            ],
            [
             0.2222222222222222,
             "#7201a8"
            ],
            [
             0.3333333333333333,
             "#9c179e"
            ],
            [
             0.4444444444444444,
             "#bd3786"
            ],
            [
             0.5555555555555556,
             "#d8576b"
            ],
            [
             0.6666666666666666,
             "#ed7953"
            ],
            [
             0.7777777777777778,
             "#fb9f3a"
            ],
            [
             0.8888888888888888,
             "#fdca26"
            ],
            [
             1,
             "#f0f921"
            ]
           ]
          },
          "colorway": [
           "#636efa",
           "#EF553B",
           "#00cc96",
           "#ab63fa",
           "#FFA15A",
           "#19d3f3",
           "#FF6692",
           "#B6E880",
           "#FF97FF",
           "#FECB52"
          ],
          "font": {
           "color": "#2a3f5f"
          },
          "geo": {
           "bgcolor": "white",
           "lakecolor": "white",
           "landcolor": "white",
           "showlakes": true,
           "showland": true,
           "subunitcolor": "#C8D4E3"
          },
          "hoverlabel": {
           "align": "left"
          },
          "hovermode": "closest",
          "mapbox": {
           "style": "light"
          },
          "paper_bgcolor": "white",
          "plot_bgcolor": "white",
          "polar": {
           "angularaxis": {
            "gridcolor": "#EBF0F8",
            "linecolor": "#EBF0F8",
            "ticks": ""
           },
           "bgcolor": "white",
           "radialaxis": {
            "gridcolor": "#EBF0F8",
            "linecolor": "#EBF0F8",
            "ticks": ""
           }
          },
          "scene": {
           "xaxis": {
            "backgroundcolor": "white",
            "gridcolor": "#DFE8F3",
            "gridwidth": 2,
            "linecolor": "#EBF0F8",
            "showbackground": true,
            "ticks": "",
            "zerolinecolor": "#EBF0F8"
           },
           "yaxis": {
            "backgroundcolor": "white",
            "gridcolor": "#DFE8F3",
            "gridwidth": 2,
            "linecolor": "#EBF0F8",
            "showbackground": true,
            "ticks": "",
            "zerolinecolor": "#EBF0F8"
           },
           "zaxis": {
            "backgroundcolor": "white",
            "gridcolor": "#DFE8F3",
            "gridwidth": 2,
            "linecolor": "#EBF0F8",
            "showbackground": true,
            "ticks": "",
            "zerolinecolor": "#EBF0F8"
           }
          },
          "shapedefaults": {
           "line": {
            "color": "#2a3f5f"
           }
          },
          "ternary": {
           "aaxis": {
            "gridcolor": "#DFE8F3",
            "linecolor": "#A2B1C6",
            "ticks": ""
           },
           "baxis": {
            "gridcolor": "#DFE8F3",
            "linecolor": "#A2B1C6",
            "ticks": ""
           },
           "bgcolor": "white",
           "caxis": {
            "gridcolor": "#DFE8F3",
            "linecolor": "#A2B1C6",
            "ticks": ""
           }
          },
          "title": {
           "x": 0.05
          },
          "xaxis": {
           "automargin": true,
           "gridcolor": "#EBF0F8",
           "linecolor": "#EBF0F8",
           "ticks": "",
           "title": {
            "standoff": 15
           },
           "zerolinecolor": "#EBF0F8",
           "zerolinewidth": 2
          },
          "yaxis": {
           "automargin": true,
           "gridcolor": "#EBF0F8",
           "linecolor": "#EBF0F8",
           "ticks": "",
           "title": {
            "standoff": 15
           },
           "zerolinecolor": "#EBF0F8",
           "zerolinewidth": 2
          }
         }
        },
        "title": {
         "font": {
          "family": "Century Gothic",
          "size": 20,
          "weight": "bold"
         },
         "text": "Forte augmentation de la part des 15-34 ans à la fin du mois de Juillet",
         "x": 0.46,
         "xanchor": "center"
        },
        "width": 1000,
        "xaxis": {
         "anchor": "y",
         "domain": [
          0,
          1
         ],
         "tickfont": {
          "color": "black",
          "size": 12,
          "weight": "bold"
         },
         "tickmode": "array",
         "ticktext": [
          "Sem 26",
          "Sem 27",
          "Sem 28",
          "Sem 29",
          "Sem 30"
         ],
         "tickvals": [
          2326,
          2327,
          2328,
          2329,
          2330
         ],
         "title": {}
        },
        "yaxis": {
         "anchor": "x",
         "domain": [
          0,
          1
         ],
         "dtick": 0.25,
         "tickformat": ".0%",
         "title": {}
        }
       }
      }
     },
     "metadata": {},
     "output_type": "display_data"
    }
   ],
   "source": [
    "fig_habfreq = px.bar(\n",
    "    data_agg_habfreq,\n",
    "    x='sem_cine',\n",
    "    y='profil_habfreq',\n",
    "    color='habfreq_3',\n",
    "    color_discrete_sequence=habfreq_colors,\n",
    "    text='profil_habfreq',\n",
    "    text_auto='.1%', #type: ignore => remove the warning of wrong passed type\n",
    ")\n",
    "\n",
    "fig_habfreq.update_traces(\n",
    "    texttemplate=\"<b>%{y:.1%}</b>\",\n",
    "    textposition=\"inside\",\n",
    "    insidetextanchor=\"middle\",\n",
    "    customdata=data_agg_habfreq['habfreq_3'],\n",
    "    hovertemplate=\"<br>\".join(\n",
    "        [   \"<b>%{x}</b>\",\n",
    "            \"Catégorie d'habitude de fréquentation : <b>%{customdata}</b>\",\n",
    "            \"Part : <b>%{y:.1%}</b>\",\n",
    "            \"<extra></extra>\"\n",
    "        ]\n",
    "    ),\n",
    ")\n",
    "\n",
    "fig_habfreq.update_layout(\n",
    "    height=600,\n",
    "    width=1000,\n",
    "    title=dict(\n",
    "        text='Assiduité stable des spectateurs au cours du mois de Juillet', \n",
    "        font=dict(\n",
    "            size=20,\n",
    "            family='Century Gothic',\n",
    "            weight='bold',\n",
    "            ),\n",
    "        x=0.46,\n",
    "        xanchor='center',\n",
    "        ),\n",
    "    xaxis=dict(\n",
    "        title=dict(text=None),\n",
    "        tickmode='array', \n",
    "        tickvals=data_agg_habfreq['sem_cine'].unique().tolist(), \n",
    "        ticktext=[f\"Sem {int(i)}\" for i in np.arange(26, 31, 1)],\n",
    "        tickfont=dict(size=12, color='black', weight='bold'),\n",
    "        ),\n",
    "    yaxis=dict(\n",
    "        title=dict(text=None),\n",
    "        tickformat='.0%',\n",
    "        dtick=0.25 # Affiche le tick des 50% absent par défaut\n",
    "    ),\n",
    "    legend=dict(\n",
    "        title=dict(text=None),\n",
    "        orientation='v',\n",
    "        x=1,\n",
    "        xanchor='left',\n",
    "        y=0.95,\n",
    "        yanchor='top',\n",
    "        font=dict(size=12, color='black',weight=100),\n",
    "        traceorder='reversed', # Afficher la légende dans le sens des barres est plus lisible\n",
    "    ),\n",
    "    template='plotly_white'\n",
    ")\n",
    "\n",
    "fig_habfreq"
   ]
  },
  {
   "cell_type": "markdown",
   "id": "de926295",
   "metadata": {},
   "source": [
    "### **Faire le graphique en utilisant les catégories de sexe suivantes :**\n",
    "- Hommes (1)\n",
    "- Femmes (2)\n",
    "\n",
    "Nommer la colonne 'gender_2'  \n",
    "Assurez-vous que la colonne soit bien de type category au moment où vous la créez.  \n",
    "\n",
    "Lors du calcul des profils, vous nommerez :  \n",
    "- la dataframe de résultats : data_agg_gender  \n",
    "- La colonne avec les profils : 'profil_gender'  \n",
    "\n",
    "Nommez la figure fig_gender. Utilisez les couleurs ci-dessous."
   ]
  },
  {
   "cell_type": "code",
   "execution_count": 97,
   "id": "993bdc1b",
   "metadata": {},
   "outputs": [],
   "source": [
    "gender_colors = [\n",
    "    \"rgba(191,216,238,1)\", #Hommes\n",
    "    \"rgba(0,98,188,1)\", #Femmes\n",
    "]"
   ]
  },
  {
   "cell_type": "code",
   "execution_count": 90,
   "id": "861a7c1a",
   "metadata": {},
   "outputs": [
    {
     "data": {
      "text/plain": [
       "['Hommes', 'Femmes']\n",
       "Categories (2, object): ['Hommes' < 'Femmes']"
      ]
     },
     "execution_count": 90,
     "metadata": {},
     "output_type": "execute_result"
    }
   ],
   "source": [
    "data_weighted['gender_2'] = pd.cut(data_weighted['gender'], \n",
    "        bins=[0, 1, 2], \n",
    "        labels=['Hommes', 'Femmes', ]\n",
    "    )\n",
    "data_weighted['gender_2'].unique()"
   ]
  },
  {
   "cell_type": "code",
   "execution_count": null,
   "id": "c9e69267",
   "metadata": {},
   "outputs": [
    {
     "data": {
      "text/html": [
       "<div>\n",
       "<style scoped>\n",
       "    .dataframe tbody tr th:only-of-type {\n",
       "        vertical-align: middle;\n",
       "    }\n",
       "\n",
       "    .dataframe tbody tr th {\n",
       "        vertical-align: top;\n",
       "    }\n",
       "\n",
       "    .dataframe thead th {\n",
       "        text-align: right;\n",
       "    }\n",
       "</style>\n",
       "<table border=\"1\" class=\"dataframe\">\n",
       "  <thead>\n",
       "    <tr style=\"text-align: right;\">\n",
       "      <th></th>\n",
       "      <th>sem_cine</th>\n",
       "      <th>gender_2</th>\n",
       "      <th>profil_gender</th>\n",
       "    </tr>\n",
       "  </thead>\n",
       "  <tbody>\n",
       "    <tr>\n",
       "      <th>0</th>\n",
       "      <td>2326</td>\n",
       "      <td>Hommes</td>\n",
       "      <td>0.531544</td>\n",
       "    </tr>\n",
       "    <tr>\n",
       "      <th>1</th>\n",
       "      <td>2326</td>\n",
       "      <td>Femmes</td>\n",
       "      <td>0.468456</td>\n",
       "    </tr>\n",
       "    <tr>\n",
       "      <th>2</th>\n",
       "      <td>2327</td>\n",
       "      <td>Hommes</td>\n",
       "      <td>0.496985</td>\n",
       "    </tr>\n",
       "    <tr>\n",
       "      <th>3</th>\n",
       "      <td>2327</td>\n",
       "      <td>Femmes</td>\n",
       "      <td>0.503015</td>\n",
       "    </tr>\n",
       "    <tr>\n",
       "      <th>4</th>\n",
       "      <td>2328</td>\n",
       "      <td>Hommes</td>\n",
       "      <td>0.514009</td>\n",
       "    </tr>\n",
       "    <tr>\n",
       "      <th>5</th>\n",
       "      <td>2328</td>\n",
       "      <td>Femmes</td>\n",
       "      <td>0.485991</td>\n",
       "    </tr>\n",
       "    <tr>\n",
       "      <th>6</th>\n",
       "      <td>2329</td>\n",
       "      <td>Hommes</td>\n",
       "      <td>0.489497</td>\n",
       "    </tr>\n",
       "    <tr>\n",
       "      <th>7</th>\n",
       "      <td>2329</td>\n",
       "      <td>Femmes</td>\n",
       "      <td>0.510503</td>\n",
       "    </tr>\n",
       "    <tr>\n",
       "      <th>8</th>\n",
       "      <td>2330</td>\n",
       "      <td>Hommes</td>\n",
       "      <td>0.524315</td>\n",
       "    </tr>\n",
       "    <tr>\n",
       "      <th>9</th>\n",
       "      <td>2330</td>\n",
       "      <td>Femmes</td>\n",
       "      <td>0.475685</td>\n",
       "    </tr>\n",
       "  </tbody>\n",
       "</table>\n",
       "</div>"
      ],
      "text/plain": [
       "   sem_cine gender_2  profil_gender\n",
       "0      2326   Hommes       0.531544\n",
       "1      2326   Femmes       0.468456\n",
       "2      2327   Hommes       0.496985\n",
       "3      2327   Femmes       0.503015\n",
       "4      2328   Hommes       0.514009\n",
       "5      2328   Femmes       0.485991\n",
       "6      2329   Hommes       0.489497\n",
       "7      2329   Femmes       0.510503\n",
       "8      2330   Hommes       0.524315\n",
       "9      2330   Femmes       0.475685"
      ]
     },
     "execution_count": 91,
     "metadata": {},
     "output_type": "execute_result"
    }
   ],
   "source": [
    "# Résultat attendu \n",
    "#   sem_cine\tgender_2\tprofil_gender\n",
    "# 0\t2326\t    Hommes\t    0.531544\n",
    "# 1\t2326\t    Femmes\t    0.468456\n",
    "# 2\t2327\t    Hommes\t    0.496985\n",
    "# 3\t2327\t    Femmes\t    0.503015\n",
    "# 4\t2328\t    Hommes\t    0.514009\n",
    "# 5\t2328\t    Femmes\t    0.485991\n",
    "# 6\t2329\t    Hommes\t    0.489497\n",
    "# 7\t2329\t    Femmes\t    0.510503\n",
    "# 8\t2330\t    Hommes\t    0.524315\n",
    "# 9\t2330\t    Femmes\t    0.475685\n",
    "\n",
    "data_agg_gender = (\n",
    "    (\n",
    "        data_weighted.groupby(['sem_cine','gender_2'], observed=True, )['Entrées Extrapolées'].sum()\n",
    "        /data_weighted.groupby(['sem_cine',])['Entrées Extrapolées'].sum()\n",
    ").to_frame('profil_gender')\n",
    ".reset_index()\n",
    ")\n",
    "data_agg_gender"
   ]
  },
  {
   "cell_type": "code",
   "execution_count": 104,
   "id": "eb710827",
   "metadata": {},
   "outputs": [
    {
     "data": {
      "application/vnd.plotly.v1+json": {
       "config": {
        "plotlyServerURL": "https://plot.ly"
       },
       "data": [
        {
         "customdata": {
          "bdata": "zAkwoGcC4T9m7J+/MPvdPzm0/SGYzt8/5CUB77MY4D9Oiup3w3LgP2LrKhB5Gt8/tvT38OxT3z+lBYSHCVbgP0EapR0xx+A/gMu1xJ1x3j8=",
          "dtype": "f8"
         },
         "hovertemplate": "<b>%{x}</b><br>Sexe : <b>%{customdata}</b><br>Part : <b>%{y:.1%}</b><br><extra></extra>",
         "insidetextanchor": "middle",
         "legendgroup": "Hommes",
         "marker": {
          "color": "rgba(191,216,238,1)",
          "pattern": {
           "shape": ""
          }
         },
         "name": "Hommes",
         "orientation": "v",
         "showlegend": true,
         "text": {
          "bdata": "zAkwoGcC4T85tP0hmM7fP06K6nfDcuA/tvT38OxT3z9BGqUdMcfgPw==",
          "dtype": "f8"
         },
         "textposition": "inside",
         "texttemplate": "<b>%{y:.1%}</b>",
         "type": "bar",
         "x": {
          "bdata": "FgkXCRgJGQkaCQ==",
          "dtype": "i2"
         },
         "xaxis": "x",
         "y": {
          "bdata": "zAkwoGcC4T85tP0hmM7fP06K6nfDcuA/tvT38OxT3z9BGqUdMcfgPw==",
          "dtype": "f8"
         },
         "yaxis": "y"
        },
        {
         "customdata": {
          "bdata": "zAkwoGcC4T9m7J+/MPvdPzm0/SGYzt8/5CUB77MY4D9Oiup3w3LgP2LrKhB5Gt8/tvT38OxT3z+lBYSHCVbgP0EapR0xx+A/gMu1xJ1x3j8=",
          "dtype": "f8"
         },
         "hovertemplate": "<b>%{x}</b><br>Sexe : <b>%{customdata}</b><br>Part : <b>%{y:.1%}</b><br><extra></extra>",
         "insidetextanchor": "middle",
         "legendgroup": "Femmes",
         "marker": {
          "color": "rgba(0,98,188,1)",
          "pattern": {
           "shape": ""
          }
         },
         "name": "Femmes",
         "orientation": "v",
         "showlegend": true,
         "text": {
          "bdata": "ZuyfvzD73T/kJQHvsxjgP2LrKhB5Gt8/pQWEhwlW4D+Ay7XEnXHePw==",
          "dtype": "f8"
         },
         "textposition": "inside",
         "texttemplate": "<b>%{y:.1%}</b>",
         "type": "bar",
         "x": {
          "bdata": "FgkXCRgJGQkaCQ==",
          "dtype": "i2"
         },
         "xaxis": "x",
         "y": {
          "bdata": "ZuyfvzD73T/kJQHvsxjgP2LrKhB5Gt8/pQWEhwlW4D+Ay7XEnXHePw==",
          "dtype": "f8"
         },
         "yaxis": "y"
        }
       ],
       "layout": {
        "barmode": "relative",
        "height": 600,
        "legend": {
         "font": {
          "color": "black",
          "size": 12,
          "weight": 100
         },
         "orientation": "v",
         "title": {},
         "tracegroupgap": 0,
         "traceorder": "reversed",
         "x": 1,
         "xanchor": "left",
         "y": 0.95,
         "yanchor": "top"
        },
        "margin": {
         "t": 60
        },
        "template": {
         "data": {
          "bar": [
           {
            "error_x": {
             "color": "#2a3f5f"
            },
            "error_y": {
             "color": "#2a3f5f"
            },
            "marker": {
             "line": {
              "color": "white",
              "width": 0.5
             },
             "pattern": {
              "fillmode": "overlay",
              "size": 10,
              "solidity": 0.2
             }
            },
            "type": "bar"
           }
          ],
          "barpolar": [
           {
            "marker": {
             "line": {
              "color": "white",
              "width": 0.5
             },
             "pattern": {
              "fillmode": "overlay",
              "size": 10,
              "solidity": 0.2
             }
            },
            "type": "barpolar"
           }
          ],
          "carpet": [
           {
            "aaxis": {
             "endlinecolor": "#2a3f5f",
             "gridcolor": "#C8D4E3",
             "linecolor": "#C8D4E3",
             "minorgridcolor": "#C8D4E3",
             "startlinecolor": "#2a3f5f"
            },
            "baxis": {
             "endlinecolor": "#2a3f5f",
             "gridcolor": "#C8D4E3",
             "linecolor": "#C8D4E3",
             "minorgridcolor": "#C8D4E3",
             "startlinecolor": "#2a3f5f"
            },
            "type": "carpet"
           }
          ],
          "choropleth": [
           {
            "colorbar": {
             "outlinewidth": 0,
             "ticks": ""
            },
            "type": "choropleth"
           }
          ],
          "contour": [
           {
            "colorbar": {
             "outlinewidth": 0,
             "ticks": ""
            },
            "colorscale": [
             [
              0,
              "#0d0887"
             ],
             [
              0.1111111111111111,
              "#46039f"
             ],
             [
              0.2222222222222222,
              "#7201a8"
             ],
             [
              0.3333333333333333,
              "#9c179e"
             ],
             [
              0.4444444444444444,
              "#bd3786"
             ],
             [
              0.5555555555555556,
              "#d8576b"
             ],
             [
              0.6666666666666666,
              "#ed7953"
             ],
             [
              0.7777777777777778,
              "#fb9f3a"
             ],
             [
              0.8888888888888888,
              "#fdca26"
             ],
             [
              1,
              "#f0f921"
             ]
            ],
            "type": "contour"
           }
          ],
          "contourcarpet": [
           {
            "colorbar": {
             "outlinewidth": 0,
             "ticks": ""
            },
            "type": "contourcarpet"
           }
          ],
          "heatmap": [
           {
            "colorbar": {
             "outlinewidth": 0,
             "ticks": ""
            },
            "colorscale": [
             [
              0,
              "#0d0887"
             ],
             [
              0.1111111111111111,
              "#46039f"
             ],
             [
              0.2222222222222222,
              "#7201a8"
             ],
             [
              0.3333333333333333,
              "#9c179e"
             ],
             [
              0.4444444444444444,
              "#bd3786"
             ],
             [
              0.5555555555555556,
              "#d8576b"
             ],
             [
              0.6666666666666666,
              "#ed7953"
             ],
             [
              0.7777777777777778,
              "#fb9f3a"
             ],
             [
              0.8888888888888888,
              "#fdca26"
             ],
             [
              1,
              "#f0f921"
             ]
            ],
            "type": "heatmap"
           }
          ],
          "histogram": [
           {
            "marker": {
             "pattern": {
              "fillmode": "overlay",
              "size": 10,
              "solidity": 0.2
             }
            },
            "type": "histogram"
           }
          ],
          "histogram2d": [
           {
            "colorbar": {
             "outlinewidth": 0,
             "ticks": ""
            },
            "colorscale": [
             [
              0,
              "#0d0887"
             ],
             [
              0.1111111111111111,
              "#46039f"
             ],
             [
              0.2222222222222222,
              "#7201a8"
             ],
             [
              0.3333333333333333,
              "#9c179e"
             ],
             [
              0.4444444444444444,
              "#bd3786"
             ],
             [
              0.5555555555555556,
              "#d8576b"
             ],
             [
              0.6666666666666666,
              "#ed7953"
             ],
             [
              0.7777777777777778,
              "#fb9f3a"
             ],
             [
              0.8888888888888888,
              "#fdca26"
             ],
             [
              1,
              "#f0f921"
             ]
            ],
            "type": "histogram2d"
           }
          ],
          "histogram2dcontour": [
           {
            "colorbar": {
             "outlinewidth": 0,
             "ticks": ""
            },
            "colorscale": [
             [
              0,
              "#0d0887"
             ],
             [
              0.1111111111111111,
              "#46039f"
             ],
             [
              0.2222222222222222,
              "#7201a8"
             ],
             [
              0.3333333333333333,
              "#9c179e"
             ],
             [
              0.4444444444444444,
              "#bd3786"
             ],
             [
              0.5555555555555556,
              "#d8576b"
             ],
             [
              0.6666666666666666,
              "#ed7953"
             ],
             [
              0.7777777777777778,
              "#fb9f3a"
             ],
             [
              0.8888888888888888,
              "#fdca26"
             ],
             [
              1,
              "#f0f921"
             ]
            ],
            "type": "histogram2dcontour"
           }
          ],
          "mesh3d": [
           {
            "colorbar": {
             "outlinewidth": 0,
             "ticks": ""
            },
            "type": "mesh3d"
           }
          ],
          "parcoords": [
           {
            "line": {
             "colorbar": {
              "outlinewidth": 0,
              "ticks": ""
             }
            },
            "type": "parcoords"
           }
          ],
          "pie": [
           {
            "automargin": true,
            "type": "pie"
           }
          ],
          "scatter": [
           {
            "fillpattern": {
             "fillmode": "overlay",
             "size": 10,
             "solidity": 0.2
            },
            "type": "scatter"
           }
          ],
          "scatter3d": [
           {
            "line": {
             "colorbar": {
              "outlinewidth": 0,
              "ticks": ""
             }
            },
            "marker": {
             "colorbar": {
              "outlinewidth": 0,
              "ticks": ""
             }
            },
            "type": "scatter3d"
           }
          ],
          "scattercarpet": [
           {
            "marker": {
             "colorbar": {
              "outlinewidth": 0,
              "ticks": ""
             }
            },
            "type": "scattercarpet"
           }
          ],
          "scattergeo": [
           {
            "marker": {
             "colorbar": {
              "outlinewidth": 0,
              "ticks": ""
             }
            },
            "type": "scattergeo"
           }
          ],
          "scattergl": [
           {
            "marker": {
             "colorbar": {
              "outlinewidth": 0,
              "ticks": ""
             }
            },
            "type": "scattergl"
           }
          ],
          "scattermap": [
           {
            "marker": {
             "colorbar": {
              "outlinewidth": 0,
              "ticks": ""
             }
            },
            "type": "scattermap"
           }
          ],
          "scattermapbox": [
           {
            "marker": {
             "colorbar": {
              "outlinewidth": 0,
              "ticks": ""
             }
            },
            "type": "scattermapbox"
           }
          ],
          "scatterpolar": [
           {
            "marker": {
             "colorbar": {
              "outlinewidth": 0,
              "ticks": ""
             }
            },
            "type": "scatterpolar"
           }
          ],
          "scatterpolargl": [
           {
            "marker": {
             "colorbar": {
              "outlinewidth": 0,
              "ticks": ""
             }
            },
            "type": "scatterpolargl"
           }
          ],
          "scatterternary": [
           {
            "marker": {
             "colorbar": {
              "outlinewidth": 0,
              "ticks": ""
             }
            },
            "type": "scatterternary"
           }
          ],
          "surface": [
           {
            "colorbar": {
             "outlinewidth": 0,
             "ticks": ""
            },
            "colorscale": [
             [
              0,
              "#0d0887"
             ],
             [
              0.1111111111111111,
              "#46039f"
             ],
             [
              0.2222222222222222,
              "#7201a8"
             ],
             [
              0.3333333333333333,
              "#9c179e"
             ],
             [
              0.4444444444444444,
              "#bd3786"
             ],
             [
              0.5555555555555556,
              "#d8576b"
             ],
             [
              0.6666666666666666,
              "#ed7953"
             ],
             [
              0.7777777777777778,
              "#fb9f3a"
             ],
             [
              0.8888888888888888,
              "#fdca26"
             ],
             [
              1,
              "#f0f921"
             ]
            ],
            "type": "surface"
           }
          ],
          "table": [
           {
            "cells": {
             "fill": {
              "color": "#EBF0F8"
             },
             "line": {
              "color": "white"
             }
            },
            "header": {
             "fill": {
              "color": "#C8D4E3"
             },
             "line": {
              "color": "white"
             }
            },
            "type": "table"
           }
          ]
         },
         "layout": {
          "annotationdefaults": {
           "arrowcolor": "#2a3f5f",
           "arrowhead": 0,
           "arrowwidth": 1
          },
          "autotypenumbers": "strict",
          "coloraxis": {
           "colorbar": {
            "outlinewidth": 0,
            "ticks": ""
           }
          },
          "colorscale": {
           "diverging": [
            [
             0,
             "#8e0152"
            ],
            [
             0.1,
             "#c51b7d"
            ],
            [
             0.2,
             "#de77ae"
            ],
            [
             0.3,
             "#f1b6da"
            ],
            [
             0.4,
             "#fde0ef"
            ],
            [
             0.5,
             "#f7f7f7"
            ],
            [
             0.6,
             "#e6f5d0"
            ],
            [
             0.7,
             "#b8e186"
            ],
            [
             0.8,
             "#7fbc41"
            ],
            [
             0.9,
             "#4d9221"
            ],
            [
             1,
             "#276419"
            ]
           ],
           "sequential": [
            [
             0,
             "#0d0887"
            ],
            [
             0.1111111111111111,
             "#46039f"
            ],
            [
             0.2222222222222222,
             "#7201a8"
            ],
            [
             0.3333333333333333,
             "#9c179e"
            ],
            [
             0.4444444444444444,
             "#bd3786"
            ],
            [
             0.5555555555555556,
             "#d8576b"
            ],
            [
             0.6666666666666666,
             "#ed7953"
            ],
            [
             0.7777777777777778,
             "#fb9f3a"
            ],
            [
             0.8888888888888888,
             "#fdca26"
            ],
            [
             1,
             "#f0f921"
            ]
           ],
           "sequentialminus": [
            [
             0,
             "#0d0887"
            ],
            [
             0.1111111111111111,
             "#46039f"
            ],
            [
             0.2222222222222222,
             "#7201a8"
            ],
            [
             0.3333333333333333,
             "#9c179e"
            ],
            [
             0.4444444444444444,
             "#bd3786"
            ],
            [
             0.5555555555555556,
             "#d8576b"
            ],
            [
             0.6666666666666666,
             "#ed7953"
            ],
            [
             0.7777777777777778,
             "#fb9f3a"
            ],
            [
             0.8888888888888888,
             "#fdca26"
            ],
            [
             1,
             "#f0f921"
            ]
           ]
          },
          "colorway": [
           "#636efa",
           "#EF553B",
           "#00cc96",
           "#ab63fa",
           "#FFA15A",
           "#19d3f3",
           "#FF6692",
           "#B6E880",
           "#FF97FF",
           "#FECB52"
          ],
          "font": {
           "color": "#2a3f5f"
          },
          "geo": {
           "bgcolor": "white",
           "lakecolor": "white",
           "landcolor": "white",
           "showlakes": true,
           "showland": true,
           "subunitcolor": "#C8D4E3"
          },
          "hoverlabel": {
           "align": "left"
          },
          "hovermode": "closest",
          "mapbox": {
           "style": "light"
          },
          "paper_bgcolor": "white",
          "plot_bgcolor": "white",
          "polar": {
           "angularaxis": {
            "gridcolor": "#EBF0F8",
            "linecolor": "#EBF0F8",
            "ticks": ""
           },
           "bgcolor": "white",
           "radialaxis": {
            "gridcolor": "#EBF0F8",
            "linecolor": "#EBF0F8",
            "ticks": ""
           }
          },
          "scene": {
           "xaxis": {
            "backgroundcolor": "white",
            "gridcolor": "#DFE8F3",
            "gridwidth": 2,
            "linecolor": "#EBF0F8",
            "showbackground": true,
            "ticks": "",
            "zerolinecolor": "#EBF0F8"
           },
           "yaxis": {
            "backgroundcolor": "white",
            "gridcolor": "#DFE8F3",
            "gridwidth": 2,
            "linecolor": "#EBF0F8",
            "showbackground": true,
            "ticks": "",
            "zerolinecolor": "#EBF0F8"
           },
           "zaxis": {
            "backgroundcolor": "white",
            "gridcolor": "#DFE8F3",
            "gridwidth": 2,
            "linecolor": "#EBF0F8",
            "showbackground": true,
            "ticks": "",
            "zerolinecolor": "#EBF0F8"
           }
          },
          "shapedefaults": {
           "line": {
            "color": "#2a3f5f"
           }
          },
          "ternary": {
           "aaxis": {
            "gridcolor": "#DFE8F3",
            "linecolor": "#A2B1C6",
            "ticks": ""
           },
           "baxis": {
            "gridcolor": "#DFE8F3",
            "linecolor": "#A2B1C6",
            "ticks": ""
           },
           "bgcolor": "white",
           "caxis": {
            "gridcolor": "#DFE8F3",
            "linecolor": "#A2B1C6",
            "ticks": ""
           }
          },
          "title": {
           "x": 0.05
          },
          "xaxis": {
           "automargin": true,
           "gridcolor": "#EBF0F8",
           "linecolor": "#EBF0F8",
           "ticks": "",
           "title": {
            "standoff": 15
           },
           "zerolinecolor": "#EBF0F8",
           "zerolinewidth": 2
          },
          "yaxis": {
           "automargin": true,
           "gridcolor": "#EBF0F8",
           "linecolor": "#EBF0F8",
           "ticks": "",
           "title": {
            "standoff": 15
           },
           "zerolinecolor": "#EBF0F8",
           "zerolinewidth": 2
          }
         }
        },
        "title": {
         "font": {
          "family": "Century Gothic",
          "size": 20,
          "weight": "bold"
         },
         "text": "Un public hebdomadaire <span style='color:rgba(191,216,238,1)'>tantôt masculin</span>, <span style='color:rgba(0,98,188,1)'>tantôt féminin</span>",
         "x": 0.46,
         "xanchor": "center"
        },
        "width": 1000,
        "xaxis": {
         "anchor": "y",
         "domain": [
          0,
          1
         ],
         "tickfont": {
          "color": "black",
          "size": 12,
          "weight": "bold"
         },
         "tickmode": "array",
         "ticktext": [
          "Sem 26",
          "Sem 27",
          "Sem 28",
          "Sem 29",
          "Sem 30"
         ],
         "tickvals": [
          2326,
          2327,
          2328,
          2329,
          2330
         ],
         "title": {}
        },
        "yaxis": {
         "anchor": "x",
         "domain": [
          0,
          1
         ],
         "dtick": 0.25,
         "tickformat": ".0%",
         "title": {}
        }
       }
      }
     },
     "metadata": {},
     "output_type": "display_data"
    }
   ],
   "source": [
    "texte_homme = f\"<span style='color:{gender_colors[0]}'>tantôt masculin</span>\"\n",
    "texte_femme = f\"<span style='color:{gender_colors[1]}'>tantôt féminin</span>\"\n",
    "\n",
    "fig_gender = px.bar(\n",
    "    data_agg_gender,\n",
    "    x='sem_cine',\n",
    "    y='profil_gender',\n",
    "    color='gender_2',\n",
    "    color_discrete_sequence=gender_colors,\n",
    "    text='profil_gender',\n",
    "    text_auto='.1%', #type: ignore => remove the warning of wrong passed type\n",
    ")\n",
    "\n",
    "fig_gender.update_traces(\n",
    "    texttemplate=\"<b>%{y:.1%}</b>\",\n",
    "    textposition=\"inside\",\n",
    "    insidetextanchor=\"middle\",\n",
    "    customdata=data_agg_gender['profil_gender'],\n",
    "    hovertemplate=\"<br>\".join(\n",
    "        [   \"<b>%{x}</b>\",\n",
    "            \"Sexe : <b>%{customdata}</b>\",\n",
    "            \"Part : <b>%{y:.1%}</b>\",\n",
    "            \"<extra></extra>\"\n",
    "        ]\n",
    "    ),\n",
    ")\n",
    "\n",
    "fig_gender.update_layout(\n",
    "    height=600,\n",
    "    width=1000,\n",
    "    title=dict(\n",
    "        #Il est possible de customisrer le titre en matrisant un peu le langage html\n",
    "        # => \"Un public hebdomadaire <span style='color:rgba(191,216,238,1)'>tantôt masculin</span>, <span style='color:rgba(0,98,188,1)'>tantôt féminin</span>\"\n",
    "        # la phrase est peu lisible et non dynamique\n",
    "        # => f\"Un public hebdomadaire <span style='color:{gender_colors[0]}'>tantôt masculin</span>, <span style='color:{gender_colors[1]}'>tantôt féminin</span>\"\n",
    "        # phrase dynamique mais peu lisible\n",
    "        # Faire en 3 fois : \n",
    "        # texte_homme = f\"<span style='color:{gender_colors[0]}'>tantôt masculin</span>\"\n",
    "        # texte_femme = f\"<span style='color:{gender_colors[1]}'>tantôt féminin</span>\"\n",
    "        # f\"Un public hebdomadaire {texte_homme}, {texte_femme}\"\n",
    "        text=f\"Un public hebdomadaire {texte_homme}, {texte_femme}\", \n",
    "        font=dict(\n",
    "            size=20,\n",
    "            family='Century Gothic',\n",
    "            weight='bold',\n",
    "            ),\n",
    "        x=0.46,\n",
    "        xanchor='center',\n",
    "        ),\n",
    "    xaxis=dict(\n",
    "        title=dict(text=None),\n",
    "        tickmode='array', \n",
    "        tickvals=data_agg_gender['sem_cine'].unique().tolist(), \n",
    "        ticktext=[f\"Sem {int(i)}\" for i in np.arange(26, 31, 1)],\n",
    "        tickfont=dict(size=12, color='black', weight='bold'),\n",
    "        ),\n",
    "    yaxis=dict(\n",
    "        title=dict(text=None),\n",
    "        tickformat='.0%',\n",
    "        dtick=0.25 # Affiche le tick des 50% absent par défaut\n",
    "    ),\n",
    "    legend=dict(\n",
    "        title=dict(text=None),\n",
    "        orientation='v',\n",
    "        x=1,\n",
    "        xanchor='left',\n",
    "        y=0.95,\n",
    "        yanchor='top',\n",
    "        font=dict(size=12, color='black',weight=100),\n",
    "        traceorder='reversed', # Afficher la légende dans le sens des barres est plus lisible\n",
    "    ),\n",
    "    template='plotly_white'\n",
    ")\n",
    "\n",
    "fig_gender"
   ]
  }
 ],
 "metadata": {
  "kernelspec": {
   "display_name": "venv",
   "language": "python",
   "name": "python3"
  },
  "language_info": {
   "codemirror_mode": {
    "name": "ipython",
    "version": 3
   },
   "file_extension": ".py",
   "mimetype": "text/x-python",
   "name": "python",
   "nbconvert_exporter": "python",
   "pygments_lexer": "ipython3",
   "version": "3.12.6"
  }
 },
 "nbformat": 4,
 "nbformat_minor": 5
}
