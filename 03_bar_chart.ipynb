{
 "cells": [
  {
   "cell_type": "markdown",
   "id": "4436bbea",
   "metadata": {},
   "source": [
    "# **DATA VISUALISATION**  \n",
    "Dans cette partie, nous allons voir ensemble comment nous pouvons mettre en valeur les données nettoyées avec de la visualisation.\n",
    "\n",
    "Comme toujours, faire des visuels impactants nécessite de:\n",
    "- Manipuler et transofrmer la données pour obtenir les valeurs que l'on souhaite\n",
    "- Poser les bases du visuel (80% du travail - 20 % du temps)\n",
    "- Travailler le visuel pour mettre en valeur le message (20% du travail - 80% du temps)\n",
    "\n",
    "Nous utiliserons la module plotly.express (px) de la librairie plotly, très pratique pour sa syntaxe simple.  \n",
    "Il permet de se familiariser avec l'environnement plotly, avant de pouvoir passer au module plotly.graph_objects (go),  \n",
    "dont la syntaxe est plus ardue mais les possibilités bien supérieures.  \n",
    "Voici le lien de l'API plotly pour voir les différents graphiques possibles : https://plotly.com/python-api-reference/  \n",
    "\n",
    "Le graphique que nous faire ensemble dans ce Notebook est un visuel que nous avions vu ensemble lors de la séance 1  \n",
    "et que Vertigo vend à ses clients chaque semaine : le profil par cible dans un graphique en barres empilées.\n",
    "\n",
    "Ce que vous devez faire est indiqué dans les cellules de commentaires, il vous reste à écrire le code.  "
   ]
  },
  {
   "cell_type": "markdown",
   "id": "97ae0a95",
   "metadata": {},
   "source": [
    "### **Importer les librairies nécessaires :**  \n",
    "- numpy\n",
    "- pandas\n",
    "- plotly.express (alias px)\n",
    "- plotly.graph_objects (alias go)"
   ]
  },
  {
   "cell_type": "code",
   "execution_count": 1,
   "id": "4f01e1a5",
   "metadata": {},
   "outputs": [],
   "source": [
    "import pandas as pd\n",
    "import numpy as np\n",
    "import plotly.express as px\n",
    "from plotly import graph_objects as go"
   ]
  },
  {
   "cell_type": "markdown",
   "id": "616e71e8",
   "metadata": {},
   "source": [
    "### **Importer les données nettoyées lors de la phase de Nettoyage**\n",
    "Ne gardez que les colonnes suivantes : vague_cine_inv, pid, age, gender, s3ad, q2ad, sem_cine \n",
    "Nommer la variable data"
   ]
  },
  {
   "cell_type": "code",
   "execution_count": null,
   "id": "f365b0de",
   "metadata": {},
   "outputs": [],
   "source": []
  },
  {
   "cell_type": "markdown",
   "id": "435f8d9d",
   "metadata": {},
   "source": [
    "### **Importer le fichier des poids statistiques**\n",
    "Nommer la variable weights  \n",
    "Si vous avez des une erreur UnicodeDecodeError, il faut que vous utilisiez le paramètre suivant : encoding='latin'"
   ]
  },
  {
   "cell_type": "code",
   "execution_count": null,
   "id": "dca9d168",
   "metadata": {},
   "outputs": [],
   "source": []
  },
  {
   "cell_type": "markdown",
   "id": "50164b5a",
   "metadata": {},
   "source": [
    "### **Réaliser un INNER JOIN entre data et weights**\n",
    "Vous devez obtenir 9802 lignes  \n",
    "Rappelez-vous des conditions d'unicité d'une ligne  \n",
    "Nommer la variable data_weighted"
   ]
  },
  {
   "cell_type": "code",
   "execution_count": null,
   "id": "c69e0a4e",
   "metadata": {},
   "outputs": [],
   "source": []
  },
  {
   "cell_type": "markdown",
   "id": "77901a4e",
   "metadata": {},
   "source": [
    "### **Créer une colonne permettant d'avoir les catégories d'âge suivantes :**\n",
    "- 3-14 ans\n",
    "- 15-24 ans\n",
    "- 25-34 ans\n",
    "- 35-49 ans\n",
    "- 50-59 ans\n",
    "- 60 ans et +\n",
    "\n",
    "Nommer la colonne 'age_cat_6'  \n",
    "Assurez-vous que la colonne soit bien de type category au moment où vous la créez"
   ]
  },
  {
   "cell_type": "code",
   "execution_count": null,
   "id": "5536f535",
   "metadata": {},
   "outputs": [],
   "source": []
  },
  {
   "cell_type": "markdown",
   "id": "ed434bb5",
   "metadata": {},
   "source": [
    "### **Calculez le profil par semaine cinema, par âge**\n",
    "La colonne créée doit s'appeler 'profil_age'.  \n",
    "N'oubliez pas qu'il faut utiliser la colonne 'Entrées Extrapolées' pour les calculs (voir les exercices 8 et 9 de la partie 02_Exploration).  \n",
    "Nommez le résultat data_agg_age et assurez-vous que ce soit une DataFrame.\n",
    "Les variables qui ont servies à l'agrégation ne doivent plus être en index, mais dans une colonne."
   ]
  },
  {
   "cell_type": "code",
   "execution_count": null,
   "id": "eccc719d",
   "metadata": {},
   "outputs": [],
   "source": [
    "# Résultat attendu \n",
    "# sem_cine_inv\tage_cat_6       profil_age\t\n",
    "# 2326\t        3-14 ans\t    0.159081\n",
    "# 2326\t        15-24 ans\t    0.171070\n",
    "# 2326\t        25-34 ans\t    0.136125\n",
    "# 2326\t        35-49 ans\t    0.192822\n",
    "# 2326\t        50-59 ans\t    0.140421\n",
    "# 2326\t        60 ans et +\t    0.200480\n",
    "# 2327\t        3-14 ans\t    0.188744\n",
    "# 2327\t        15-24 ans\t    0.192692\n",
    "# 2327\t        25-34 ans\t    0.133367\n",
    "# 2327\t        35-49 ans\t    0.191609\n",
    "# 2327\t        50-59 ans\t    0.129968\n",
    "# 2327\t        60 ans et +\t    0.163621\n",
    "# 2328\t        3-14 ans\t    0.168159\n",
    "# 2328\t        15-24 ans\t    0.177405\n",
    "# 2328\t        25-34 ans\t    0.102985\n",
    "# 2328\t        35-49 ans\t    0.206507\n",
    "# 2328\t        50-59 ans\t    0.133237\n",
    "# 2328\t        60 ans et +\t    0.211706\n",
    "# 2329\t        3-14 ans\t    0.137017\n",
    "# 2329\t        15-24 ans\t    0.272937\n",
    "# 2329\t        25-34 ans\t    0.152800\n",
    "# 2329\t        35-49 ans\t    0.182990\n",
    "# 2329\t        50-59 ans\t    0.108096\n",
    "# 2329\t        60 ans et +\t    0.146159\n",
    "# 2330\t        3-14 ans\t    0.134854\n",
    "# 2330\t        15-24 ans\t    0.238800\n",
    "# 2330\t        25-34 ans\t    0.166774\n",
    "# 2330\t        35-49 ans\t    0.184379\n",
    "# 2330\t        50-59 ans\t    0.112589\n",
    "# 2330\t        60 ans et +\t    0.162604\n"
   ]
  },
  {
   "cell_type": "markdown",
   "id": "c551e1a6",
   "metadata": {},
   "source": [
    "### **Créez un graphique en barres des profils par âge en fonction de la semaine cinéma**\n",
    "Utilisez plotly.express   \n",
    "Renseignez vous sur les paramètres à utiliser en consultant la doc ici : https://plotly.com/python-api-reference/generated/plotly.express.bar     \n",
    "Sauvegardez le graphique dans une varibale appelée fig."
   ]
  },
  {
   "cell_type": "code",
   "execution_count": null,
   "id": "7b55d651",
   "metadata": {},
   "outputs": [],
   "source": []
  },
  {
   "cell_type": "markdown",
   "id": "94d64cc7",
   "metadata": {},
   "source": [
    "### **Changez la couleurs des lignes en utilisant la palette age_colors ci-dessous**  \n",
    "N'hésitez pas à utiliser le liden de la documentation plotly.  \n",
    "Lisez le nom des paramètres disponibles. Si le nom d'un paramètres vous interpelle, scrollez vers le bas pour voir son utilisation."
   ]
  },
  {
   "cell_type": "code",
   "execution_count": null,
   "id": "942cb7d3",
   "metadata": {},
   "outputs": [],
   "source": [
    "age_colors = [\n",
    "    f'rgba(153,204,255,1)',\n",
    "    f'rgba(64,153,255,1)',\n",
    "    f'rgba(153,51,204,1)',\n",
    "    f'rgba(102,1,153,1)',\n",
    "    f'rgba(246,102,103,1)',\n",
    "    f'rgba(204,51,51,1)',\n",
    "]\n"
   ]
  },
  {
   "cell_type": "markdown",
   "id": "44c8d90f",
   "metadata": {},
   "source": [
    "### **Ajoutez les valeurs formattées de chaque profil**  \n",
    "Dans le doc au lien donnée ci-dessus, trouver les paramètres qui permettent : \n",
    "- d'ajouter la valeur de chaque profil dans chaque barre.  \n",
    "- de formatter les valeurs en pourcentage avec 1 décimale.  \n",
    "\n",
    "Vous trouverez ci-dessous les différentes possibilités de formattages possibles:  \n",
    "| Format  | Description                                               | Example output for `12345.678`         |\n",
    "| ------- | --------------------------------------------------------- | -------------------------------------- |\n",
    "| `d`     | Integer (no decimals)                                     | `12346`                                |\n",
    "| `,d`    | Integer with thousands separator                          | `12,346`                               |\n",
    "| `.2f`   | Fixed-point, 2 decimals                                   | `12345.68`                             |\n",
    "| `,.1f`  | Fixed-point with thousands separator, 1 decimal           | `12,345.7`                             |\n",
    "| `e`     | Exponential notation                                      | `1.234568e+4`                          |\n",
    "| `.2e`   | Exponential with 2 decimals                               | `1.23e+4`                              |\n",
    "| `r`     | Rounded significant digits                                | `12300`                                |\n",
    "| `.3r`   | 3 significant digits                                      | `12300`                                |\n",
    "| `s`     | SI-prefix notation                                        | `12k`                                  |\n",
    "| `.2s`   | SI-prefix with 2 significant digits                       | `12k`                                  |\n",
    "| `%`     | Percentage (value ×100 with `%`)                          | `1234568%`                             |\n",
    "| `.1%`   | Percentage with 1 decimal                                 | `1234567.8%`                           |\n",
    "| `$,.2f` | Currency (USD style) with thousands separator, 2 decimals | `$12,345.68`                           |\n",
    "| `.1f€`  | Custom suffix (Euro)                                      | `12345.7€`                             |\n",
    "| `+,.2f` | Force sign (+/−) with thousands separator, 2 decimals     | `+12,345.68`                           |\n",
    "| `(.2f`  | Negative numbers in parentheses                           | `12345.68` (if negative: `(12345.68)`) |  "
   ]
  },
  {
   "cell_type": "code",
   "execution_count": null,
   "id": "b030f7d2",
   "metadata": {},
   "outputs": [],
   "source": []
  },
  {
   "cell_type": "markdown",
   "id": "44f42919",
   "metadata": {},
   "source": [
    "### **Autre méthode**  \n",
    "Vous avez dû normalement trouver deux paramètres à passer à px.bar.  \n",
    "Seulement, ces paramètres permettent un formattage limité.  \n",
    "Il n'est par exemple pas possible de régler la position des valeurs dans la barre, où de les mettre en gras.  \n",
    "Pour contourner cette limite, il est possible d'utiliser la méthode fig.update_traces(), et de passer des arguments utilisables avec go.Bar  \n",
    "=> https://plotly.com/python-api-reference/generated/plotly.graph_objects.Bar.html\n",
    "\n",
    "En utilisant les paramètres suivants :  \n",
    "- texttemplate\n",
    "- textposition\n",
    "- insidetextanchor\n",
    "\n",
    "Assurez-vous que les valeurs soient centrées verticalement et apparaissent en gras (utilisez la balise html <b></b> pour cela)."
   ]
  },
  {
   "cell_type": "code",
   "execution_count": null,
   "id": "5d88ac51",
   "metadata": {},
   "outputs": [],
   "source": []
  },
  {
   "cell_type": "markdown",
   "id": "0a083fdc",
   "metadata": {},
   "source": [
    "### **Modifier le layout du graphique avec la méthode fig.update_layout()**  \n",
    "Lien vers la doc : https://plotly.com/python-api-reference/generated/plotly.graph_objects.Layout.html#plotly.graph_objects.Layout  \n",
    "\n",
    "Ajouter un titre, modifier la hauteur et la largeur à l'aide des paramètres suivants  \n",
    "- title = dict(  \n",
    "    * text=..., # str : texte à ajouter  \n",
    "    font=dict( # modifie la taille, la police, mise en gras etc.  \n",
    "        size: ... # int  \n",
    "        family: ... # str ; change la police 'Arial' etc  \n",
    "        weight: ... # int ou str : mettre en gras ('bold' en anglais)  \n",
    "    )  \n",
    "    x= ... #float entre 0 et 1\n",
    "    xanchor= ... #str 'left', 'center', 'right', permet d'aligner le titre horizontalement\n",
    "    y=... #float entre 0 et 1\n",
    "    yanchor=... #str 'top', 'middle', 'center', permet d'aligner le titre verticalement\n",
    ")  \n",
    "- height: ... # int  \n",
    "- width: ... # int \n",
    "\n",
    "Lien vrs la doc du titre : https://plotly.com/python-api-reference/generated/plotly.graph_objects.layout.html#plotly.graph_objects.layout.Title"
   ]
  },
  {
   "cell_type": "code",
   "execution_count": null,
   "id": "123e1631",
   "metadata": {},
   "outputs": [],
   "source": []
  },
  {
   "cell_type": "markdown",
   "id": "4d4ad661",
   "metadata": {},
   "source": [
    "### **Utilisez fig.update_layout(xaxis=dict()) pour personnaliser l'axe des abscisses**  \n",
    "Lien vers la doc pour découvrir toutes les fonctionnalités : https://plotly.com/python/reference/layout/xaxis/\n",
    "\n",
    "Par défaut, Plotly affiche les valeurs présentes dans la colonne utilisée pour l'axe des x.  \n",
    "Mais le formattage de correspond pas souvent à ce que l'on souhaite.  \n",
    "Ici par exemple, on souhaiterait afficher \"Sem XX\" où XX est le numéro de la semaine.  \n",
    "  \n",
    "Quand on souhaite afficher des valeurs complétement différentes des valeurs par défaut, il faut trois paramètres:  \n",
    "- tickmode = 'array'  \n",
    "- tickvals = ... # une liste des valeurs présentes dans la colonne utilisée pour l'axe des x  \n",
    "- ticktext = ... # Une liste des valeurs à afficher  \n",
    "\n",
    "Il est également possible de personnaliser la taille, la police, etc. avec le paramètre tickfont.  \n",
    "Enfin vous pouvez changer le titre de l'axe avec le paramètre title=dict().  \n",
    "Ces deux derniers paramètres s'utilisent comme dans la case précédente.  "
   ]
  },
  {
   "cell_type": "code",
   "execution_count": null,
   "id": "001bef26",
   "metadata": {},
   "outputs": [],
   "source": []
  },
  {
   "cell_type": "markdown",
   "id": "a2e72c2a",
   "metadata": {},
   "source": [
    "### **Utilisez fig.update_layout(yaxis=dict()) pour personnaliser l'axe des ordonnées**  \n",
    "Lien vers la doc pour découvrir toutes les fonctionnalités : https://plotly.com/python/reference/layout/yaxis/\n",
    "\n",
    "Ici, ce qu'on retrouver en ordonnées est évident : il n'y a donc pas besoin de titre.  \n",
    "\n",
    "Par défaut, Plotly affiche les valeurs présentes dans la colonne utilisée pour l'axe des y.  \n",
    "Mais le formattage de correspond pas souvent à ce que l'on souhaite.  \n",
    "Ici par exemple, on a les bonnes valeurs, mais on voudrait les afficher %.\n",
    "  \n",
    "Ici, on souhaite donc juste modifier le format d'affichage. Plotly utilise le format D3.  \n",
    "C'est possible de le modifier avec le paramètre suivant :  \n",
    "- tickformat = ... # D3-format string   \n",
    "\n",
    "Voici des exemples de format à passer à tickformat  \n",
    "  \n",
    "| Format  | Description                                               | Example output for `12345.678`         |\n",
    "| ------- | --------------------------------------------------------- | -------------------------------------- |\n",
    "| `d`     | Integer (no decimals)                                     | `12346`                                |\n",
    "| `,d`    | Integer with thousands separator                          | `12,346`                               |\n",
    "| `.2f`   | Fixed-point, 2 decimals                                   | `12345.68`                             |\n",
    "| `,.1f`  | Fixed-point with thousands separator, 1 decimal           | `12,345.7`                             |\n",
    "| `e`     | Exponential notation                                      | `1.234568e+4`                          |\n",
    "| `.2e`   | Exponential with 2 decimals                               | `1.23e+4`                              |\n",
    "| `r`     | Rounded significant digits                                | `12300`                                |\n",
    "| `.3r`   | 3 significant digits                                      | `12300`                                |\n",
    "| `s`     | SI-prefix notation                                        | `12k`                                  |\n",
    "| `.2s`   | SI-prefix with 2 significant digits                       | `12k`                                  |\n",
    "| `%`     | Percentage (value ×100 with `%`)                          | `1234568%`                             |\n",
    "| `.1%`   | Percentage with 1 decimal                                 | `1234567.8%`                           |\n",
    "| `$,.2f` | Currency (USD style) with thousands separator, 2 decimals | `$12,345.68`                           |\n",
    "| `.1f€`  | Custom suffix (Euro)                                      | `12345.7€`                             |\n",
    "| `+,.2f` | Force sign (+/−) with thousands separator, 2 decimals     | `+12,345.68`                           |\n",
    "| `(.2f`  | Negative numbers in parentheses                           | `12345.68` (if negative: `(12345.68)`) |  \n",
    "\n",
    "\n",
    "Pensez également à bien choisir le nombre de ticks à afficher.  \n",
    "C'est notamment pratique sur un diagramme en barres empilées pour afficher le tick des 50% !   \n",
    "Il existe :  \n",
    "- nticks = ... #int nombre maximum de ticks. Peu pratique.  \n",
    "- dtick= ... #unité de l'axe. Plus fiable  "
   ]
  },
  {
   "cell_type": "code",
   "execution_count": null,
   "id": "d2433cd8",
   "metadata": {},
   "outputs": [],
   "source": []
  },
  {
   "cell_type": "markdown",
   "id": "30ac0033",
   "metadata": {},
   "source": [
    "### **Personnaliser la légende avec fig.update_layout(legend=dict())** \n",
    "La légende est toujours un sujet de discorde : faut-il la laisser ou l'enlever ?  \n",
    "  \n",
    "Pour l'enlever, utiliser fig.update_layout(showlegend=False)\n",
    "  \n",
    "Si vous la laisser voici quelques paramètres utiles:\n",
    "fig.update_layout(  \n",
    "- legend=dict(  \n",
    "    - title=dict(...) # le titre, par default le nom de la colonne servant à la couleur, la forme etc.  \n",
    "    - orientation=...# str, 'v' pour vrticale, 'h' pour horizontale  \n",
    "    - xanchor=... #str, 'left', 'center', 'right'. Permet d'ajuster la position de la légende selon x   \n",
    "    - x=... # float la coordonnée en x où d'ajuste la légende   \n",
    "    - yanchor=... #str, 'top', 'middle', 'bottom'. Permet d'ajuster la position de la légende selon y   \n",
    "    - y=... # float la coordonnée en y où d'ajuste la légende   \n",
    "    - font=dict(...) # Personnalise la taille, la police, etc. \n",
    "    - traceorder=... #str => Choisir 'order dans lequel les items sont affichés \n",
    "- )  \n",
    "\n",
    ")\n",
    "\n",
    "Il y a plein d'autres paramètres que vous pouvez découvrir ici : https://plotly.com/python/reference/layout/#layout-showlegend"
   ]
  },
  {
   "cell_type": "code",
   "execution_count": null,
   "id": "4dc2ee07",
   "metadata": {},
   "outputs": [],
   "source": []
  },
  {
   "cell_type": "markdown",
   "id": "b1205550",
   "metadata": {},
   "source": [
    "### **Enlever le background gris et la grille (traits verticaux et horizontaux)**\n",
    "Plotly permet d'utiliser certains templates avec fig.update_layout(template=...)\n",
    "\n",
    "Voici quelques exemples :  \n",
    "| Template name    | Description                                        |\n",
    "| ---------------- | -------------------------------------------------- |\n",
    "| `\"plotly\"`       | Default light theme (white background, gray axes)  |\n",
    "| `\"plotly_white\"` | Minimal white background                           |\n",
    "| `\"plotly_dark\"`  | Dark background with contrasting gridlines         |\n",
    "| `\"ggplot2\"`      | Inspired by R’s ggplot2 style                      |\n",
    "| `\"seaborn\"`      | Inspired by Seaborn’s defaults                     |\n",
    "| `\"simple_white\"` | Pure white background, no gridlines                |\n",
    "| `\"none\"`         | No theming at all (useful for full manual control) |\n",
    "| ---------------- | -------------------------------------------------- |\n",
    "| `\"presentation\"` | Clean style for slides/presentations               |\n",
    "| `\"xgridoff\"`     | Like default but gridlines off                     |\n",
    "| `\"ygridoff\"`     | Like default but y gridlines off                   |\n",
    "| `\"gridon\"`       | Like default but emphasizes grid                   |\n",
    "| `\"none\"`         | Removes template (barebones)                       |\n",
    "\n",
    "\n",
    "Personnellement j'aime beaucoup le template 'plotly_white'. Minimal permet de se concentrer sur l'essentiel.  \n",
    "Il suffit donc de coder : fig.update_layout(template='plotly_white')  \n",
    "\n",
    "Il est possible de coder sans le template. Voici ce qu'il faut faire 'plotly_white' :  \n",
    "fig.update_layout(  \n",
    "- plot_bgcolor=\"white\",   # background inside the plotting area  \n",
    "    paper_bgcolor=\"white\",  # background outside the plotting area  \n",
    "    xaxis=dict(  \n",
    "    - showgrid=True,      # show gridlines  \n",
    "        gridcolor=\"lightgray\",  \n",
    "        zeroline=False      # no bold line at x=0  \n",
    "        ),  \n",
    "    yaxis=dict(  \n",
    "    - showgrid=True,  \n",
    "        gridcolor=\"lightgray\",  \n",
    "        zeroline=False  \n",
    "        )  \n",
    "\n",
    ")"
   ]
  },
  {
   "cell_type": "code",
   "execution_count": null,
   "id": "307238bb",
   "metadata": {},
   "outputs": [],
   "source": []
  },
  {
   "cell_type": "markdown",
   "id": "bdae006e",
   "metadata": {},
   "source": [
    "### **Regarder les différences entre le graphique final avec le premier graphique que vous avez fait 🙂**"
   ]
  },
  {
   "cell_type": "markdown",
   "id": "8a4065b0",
   "metadata": {},
   "source": [
    "### **Travailler et formatter les hover_data**\n",
    "L'intérêt de plotly est son interactivité. Lorsque vous passez le curseur de la souris sur chaque barre, des données apparaissent : les hover_data.  \n",
    "Il s'agit des données que vous avez passez à plotly lors de la création de la figure : 'sem_cine', 'profil_age', 'age_cat_6'.  \n",
    "\n",
    "Il est tout à fait possible de retirer certaines de ces données, d'en ajouter, de les formatter, etc.\n",
    "Pour cela, on va s'intéresser fig.update_traces() et à deux paramètres:  \n",
    "- customdata : il vous permet de passer des données à ajouter aux hover_data avec df[columns].  \n",
    "- hovertemplate : il vous permet de sélectionner et de formater comme souhaiter les données à afficher. Passez une str.  \n",
    "\n",
    "Le formattage de hovertemplate répond à des règles précises:  \n",
    "- Choisir son placeholder, le mettre entre {}, précédé de %  \n",
    "    * %{x} → la coordonnée en abscisse du point     \n",
    "    * %{y} → la coordonnée en ordonnée  \n",
    "    * %{text} → le texte si vous avez passé text=... à px  \n",
    "    * %{customdata[i]} → l'élément à l'index i dans customdata. <b>Si un seul élement => %{customdata}</b> \n",
    "- Choisir le formattage :  \n",
    "    * %{y:.1f} → valeur de y avec 1 décimale  \n",
    "    * %{customdata[1]:.2f} → affiche la seconde données de customdata avec 2 décimales  \n",
    "    * %{x:.1%} → valeur de x affichée en pourcentage avec 1 décimale  \n",
    "    * %{x:,d} → valeur entière de x avec séparateur de milliers (1,234,567)  \n",
    "    * <b>%{text}</b>→ text écrit en gras (utilisation de balise html => balise ouvrante b entre <>; balise fermante \\b entre <>)  \n",
    "\n",
    "\n",
    "Formattez les données avec hovertemplate comme suit :  \n",
    "- sem_cine en gras  \n",
    "- age_cat_6 en gras \n",
    "- profil_25+ en % avec 2 décimales   \n",
    "\n",
    "Chaque donnée doit être précédée de sa signification business. Revenir à la ligne après chaque donnée (balise br entre <>)"
   ]
  },
  {
   "cell_type": "code",
   "execution_count": null,
   "id": "2ae372f5",
   "metadata": {},
   "outputs": [],
   "source": []
  },
  {
   "cell_type": "markdown",
   "id": "7dc84244",
   "metadata": {},
   "source": [
    "### **Faire le graphique en utilisant les catégories d'habitude de fréquetation suivantes :**\n",
    "- Assidus (1 & 2)\n",
    "- Réguliers (3 & 4)\n",
    "- Occasionnels (5, 6, 7 & 8)\n",
    "\n",
    "Nommer la colonne 'habfreq_3'  \n",
    "Assurez-vous que la colonne soit bien de type category au moment où vous la créez.  \n",
    "\n",
    "Lors du calcul des profils, vous nommerez :  \n",
    "- la dataframe de résultats : data_agg_habfreq  \n",
    "- La colonne avec les profils : 'profil_habfreq'  \n",
    "\n",
    "Nommez la figure fig_habfreq. Utilisez les couleurs ci-dessous."
   ]
  },
  {
   "cell_type": "code",
   "execution_count": 84,
   "id": "935ebcb5",
   "metadata": {},
   "outputs": [],
   "source": [
    "habfreq_colors = [\n",
    "    \"rgba(0,0,102,1)\", #Assidus\n",
    "    \"rgba(57,69,185,1)\", #Réguliers\n",
    "    \"rgba(150,157,222,1)\", #Occasionnels\n",
    "]"
   ]
  },
  {
   "cell_type": "code",
   "execution_count": null,
   "id": "4a8dd572",
   "metadata": {},
   "outputs": [],
   "source": []
  },
  {
   "cell_type": "code",
   "execution_count": null,
   "id": "a2b94a4e",
   "metadata": {},
   "outputs": [],
   "source": [
    "# Résultat attendu \n",
    "#   sem_cine\thabfreq_3\t    profil_habfreq\n",
    "#   0\t2326\tHabitués\t    0.165083\n",
    "#   1\t2326\tRéguliers\t    0.474787\n",
    "#   2\t2326\tOccasionnels\t0.360130\n",
    "#   3\t2327\tHabitués\t    0.176426\n",
    "#   4\t2327\tRéguliers\t    0.445113\n",
    "#   5\t2327\tOccasionnels\t0.378461\n",
    "#   6\t2328\tHabitués\t    0.176271\n",
    "#   7\t2328\tRéguliers\t    0.475855\n",
    "#   8\t2328\tOccasionnels\t0.347875\n",
    "#   9\t2329\tHabitués\t    0.175218\n",
    "# 10\t2329\tRéguliers\t    0.470611\n",
    "# 11\t2329\tOccasionnels\t0.354171\n",
    "# 12\t2330\tHabitués\t    0.183535\n",
    "# 13\t2330\tRéguliers\t    0.452334\n",
    "# 14\t2330\tOccasionnels\t0.364131\n"
   ]
  },
  {
   "cell_type": "code",
   "execution_count": null,
   "id": "723c5105",
   "metadata": {},
   "outputs": [],
   "source": []
  },
  {
   "cell_type": "markdown",
   "id": "de926295",
   "metadata": {},
   "source": [
    "### **Faire le graphique en utilisant les catégories de sexe suivantes :**\n",
    "- Hommes (1)\n",
    "- Femmes (2)\n",
    "\n",
    "Nommer la colonne 'gender_2'  \n",
    "Assurez-vous que la colonne soit bien de type category au moment où vous la créez.  \n",
    "\n",
    "Lors du calcul des profils, vous nommerez :  \n",
    "- la dataframe de résultats : data_agg_gender  \n",
    "- La colonne avec les profils : 'profil_gender'  \n",
    "\n",
    "Nommez la figure fig_gender. Utilisez les couleurs ci-dessous."
   ]
  },
  {
   "cell_type": "code",
   "execution_count": 97,
   "id": "993bdc1b",
   "metadata": {},
   "outputs": [],
   "source": [
    "gender_colors = [\n",
    "    \"rgba(191,216,238,1)\", #Hommes\n",
    "    \"rgba(0,98,188,1)\", #Femmes\n",
    "]"
   ]
  },
  {
   "cell_type": "code",
   "execution_count": null,
   "id": "861a7c1a",
   "metadata": {},
   "outputs": [],
   "source": []
  },
  {
   "cell_type": "code",
   "execution_count": null,
   "id": "c9e69267",
   "metadata": {},
   "outputs": [],
   "source": [
    "# Résultat attendu \n",
    "#   sem_cine\tgender_2\tprofil_gender\n",
    "# 0\t2326\t    Hommes\t    0.531544\n",
    "# 1\t2326\t    Femmes\t    0.468456\n",
    "# 2\t2327\t    Hommes\t    0.496985\n",
    "# 3\t2327\t    Femmes\t    0.503015\n",
    "# 4\t2328\t    Hommes\t    0.514009\n",
    "# 5\t2328\t    Femmes\t    0.485991\n",
    "# 6\t2329\t    Hommes\t    0.489497\n",
    "# 7\t2329\t    Femmes\t    0.510503\n",
    "# 8\t2330\t    Hommes\t    0.524315\n",
    "# 9\t2330\t    Femmes\t    0.475685\n"
   ]
  },
  {
   "cell_type": "code",
   "execution_count": null,
   "id": "eb710827",
   "metadata": {},
   "outputs": [],
   "source": []
  }
 ],
 "metadata": {
  "kernelspec": {
   "display_name": "venv",
   "language": "python",
   "name": "python3"
  },
  "language_info": {
   "codemirror_mode": {
    "name": "ipython",
    "version": 3
   },
   "file_extension": ".py",
   "mimetype": "text/x-python",
   "name": "python",
   "nbconvert_exporter": "python",
   "pygments_lexer": "ipython3",
   "version": "3.12.6"
  }
 },
 "nbformat": 4,
 "nbformat_minor": 5
}
