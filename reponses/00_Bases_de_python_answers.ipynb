{
 "cells": [
  {
   "cell_type": "code",
   "execution_count": 9,
   "id": "4f0e61b1",
   "metadata": {},
   "outputs": [],
   "source": [
    "import json\n",
    "\n",
    "# On charge les données depuis le fichier JSON\n",
    "# ../ est nécessaire pour dire de partir du fichier racine du projet\n",
    "# qui contient le dossier rappels\n",
    "with open(\"../rappels/infos.json\", \"r\", encoding=\"utf-8\") as f:\n",
    "    data = json.load(f)\n",
    "\n",
    "# 1- On récupère les clients tels quels (list[dict])\n",
    "clients = data[\"clients\"]\n",
    "\n",
    "# 2- On convertit produits en dict[id] -> (nom, prix) pour rester compatible\n",
    "produits = {pid: (p[\"nom\"], p[\"prix\"]) for pid, p in data[\"produits\"].items()}\n",
    "\n",
    "# 3- On convertit les lignes en listes de tuples (product_id, quantite)\n",
    "commandes = []\n",
    "for cmd in data[\"commandes\"]:\n",
    "    lignes_tuples = [(l[\"product_id\"], l[\"quantite\"]) for l in cmd[\"lignes\"]]\n",
    "    commandes.append({\n",
    "        \"id\": cmd[\"id\"],\n",
    "        \"client_id\": cmd[\"client_id\"],\n",
    "        \"lignes\": lignes_tuples,\n",
    "        \"statut\": cmd[\"statut\"]\n",
    "    })"
   ]
  },
  {
   "cell_type": "markdown",
   "id": "e12072c6",
   "metadata": {},
   "source": [
    "01) Affichez le nombre total de clients."
   ]
  },
  {
   "cell_type": "code",
   "execution_count": null,
   "id": "3279111f",
   "metadata": {},
   "outputs": [],
   "source": [
    "nb_clients = len(clients)\n",
    "print(nb_clients)"
   ]
  },
  {
   "cell_type": "markdown",
   "id": "1060d88b",
   "metadata": {},
   "source": [
    "02- Calculez le total de la ligne (P004, 2)."
   ]
  },
  {
   "cell_type": "code",
   "execution_count": null,
   "id": "85af5d9d",
   "metadata": {},
   "outputs": [],
   "source": [
    "pid, qte = \"P004\", 2\n",
    "total_ligne = produits[pid][1] * qte\n",
    "print(total_ligne)"
   ]
  },
  {
   "cell_type": "markdown",
   "id": "2deac45a",
   "metadata": {},
   "source": [
    "03- Donnez la longueur du nom complet du premier client."
   ]
  },
  {
   "cell_type": "code",
   "execution_count": 7,
   "id": "cddc0986",
   "metadata": {},
   "outputs": [
    {
     "name": "stdout",
     "output_type": "stream",
     "text": [
      "12\n"
     ]
    }
   ],
   "source": [
    "longueur = len(clients[0][\"nom\"])\n",
    "print(longueur)"
   ]
  },
  {
   "cell_type": "markdown",
   "id": "d6800cd6",
   "metadata": {},
   "source": [
    "04- Affichez le prénom de chaque client."
   ]
  },
  {
   "cell_type": "code",
   "execution_count": null,
   "id": "0d1d8f2b",
   "metadata": {},
   "outputs": [],
   "source": [
    "prenoms = [c[\"nom\"].split()[0] for c in clients]\n",
    "print(prenoms)"
   ]
  },
  {
   "cell_type": "markdown",
   "id": "c995896a",
   "metadata": {},
   "source": [
    "05- Dans le 3ème nom, remplacer les accents par les mêmes lettres sans accents."
   ]
  },
  {
   "cell_type": "code",
   "execution_count": null,
   "id": "cc33033b",
   "metadata": {},
   "outputs": [],
   "source": [
    "prenoms = [c[\"nom\"].split()[0] for c in clients]\n",
    "prenoms_cleaned = [p.replace('é', 'e').replace('è', 'e') for p in prenoms]"
   ]
  },
  {
   "cell_type": "code",
   "execution_count": 16,
   "id": "8f8a3e14",
   "metadata": {},
   "outputs": [
    {
     "name": "stdout",
     "output_type": "stream",
     "text": [
      "Chloe Lefevre\n"
     ]
    }
   ],
   "source": [
    "import unicodedata\n",
    "\n",
    "nome_to_clean = clients[2]['nom']\n",
    "cleaned_name = unicodedata.normalize(\"NFKD\", nome_to_clean).encode(\"ascii\", \"ignore\").decode(\"ascii\")\n",
    "print(cleaned_name)"
   ]
  },
  {
   "cell_type": "code",
   "execution_count": 17,
   "id": "c79e4068",
   "metadata": {},
   "outputs": [
    {
     "name": "stdout",
     "output_type": "stream",
     "text": [
      "Chloe Lefevre\n"
     ]
    }
   ],
   "source": [
    "import unicodedata\n",
    "\n",
    "nome_to_clean = clients[2]['nom']\n",
    "cleaned_name = \"\".join(ch for ch in unicodedata.normalize(\"NFD\", nome_to_clean) if not unicodedata.combining(ch))\n",
    "print(cleaned_name)"
   ]
  },
  {
   "cell_type": "markdown",
   "id": "bb54118c",
   "metadata": {},
   "source": [
    "06- Pour chaque email, vérifiez la présence de \"@\"."
   ]
  },
  {
   "cell_type": "code",
   "execution_count": null,
   "id": "7c483ffc",
   "metadata": {},
   "outputs": [],
   "source": [
    "presence_arobase = [(\"@\" in c[\"email\"]) for c in clients]\n",
    "print(presence_arobase)"
   ]
  },
  {
   "cell_type": "markdown",
   "id": "b1c9c0a8",
   "metadata": {},
   "source": [
    "07- Vérifier qu'il n'y a pas deux clients avec le même email. Utiliser une f-string pour donner le résultat."
   ]
  },
  {
   "cell_type": "code",
   "execution_count": null,
   "id": "9d7618de",
   "metadata": {},
   "outputs": [],
   "source": [
    "vus, doublons = set(), set()\n",
    "for c in clients:\n",
    "    e = c[\"email\"].lower()\n",
    "    if e in vus:\n",
    "        doublons.add(e)\n",
    "    vus.add(e)\n",
    "\n",
    "print(f\"Aucun doublon ? {len(doublons) == 0}\")"
   ]
  },
  {
   "cell_type": "code",
   "execution_count": null,
   "id": "94838ce1",
   "metadata": {},
   "outputs": [],
   "source": [
    "emails = [c[\"email\"].lower() for c in clients]\n",
    "deduplicated_emails = set(emails)\n",
    "print(f\"Aucun doublon ? {len(emails) == len(deduplicated_emails)}\" , )"
   ]
  },
  {
   "cell_type": "markdown",
   "id": "75873a16",
   "metadata": {},
   "source": [
    "08- Renvoyer les clients sans commandes sous forme de set."
   ]
  },
  {
   "cell_type": "code",
   "execution_count": null,
   "id": "de94da61",
   "metadata": {},
   "outputs": [],
   "source": [
    "ids_clients = {c[\"id\"] for c in clients}\n",
    "ids_avec_cmd = {cmd[\"client_id\"] for cmd in commandes}\n",
    "sans_cmd = ids_clients - ids_avec_cmd\n",
    "print(sans_cmd)"
   ]
  },
  {
   "cell_type": "markdown",
   "id": "e43eb6bc",
   "metadata": {},
   "source": [
    "09- Renvoyer les ID des produits jamais commandés."
   ]
  },
  {
   "cell_type": "code",
   "execution_count": null,
   "id": "4c32e57c",
   "metadata": {},
   "outputs": [],
   "source": [
    "tous_pids = set(produits.keys())\n",
    "pids_commandes = {pid for cmd in commandes for (pid, _) in cmd[\"lignes\"]}\n",
    "jamais = tous_pids - pids_commandes\n",
    "print(jamais)"
   ]
  },
  {
   "cell_type": "markdown",
   "id": "934f5e9e",
   "metadata": {},
   "source": [
    "10- Filtrer les commandes pour ne garder que les commandes actives (ie statut != \"annulée\")."
   ]
  },
  {
   "cell_type": "code",
   "execution_count": null,
   "id": "50a46031",
   "metadata": {},
   "outputs": [],
   "source": [
    "cmd_actives = [cmd for cmd in commandes if cmd[\"statut\"] != \"annulée\"]\n",
    "print([c[\"id\"] for c in cmd_actives])"
   ]
  },
  {
   "cell_type": "markdown",
   "id": "ce2c8026",
   "metadata": {},
   "source": [
    "11- Trouvez le numéro de commande de la première commande annulée."
   ]
  },
  {
   "cell_type": "code",
   "execution_count": null,
   "id": "79c462d4",
   "metadata": {},
   "outputs": [],
   "source": [
    "i = 0\n",
    "while i < len(commandes):\n",
    "    if commandes[i][\"statut\"] == \"annulée\":\n",
    "        break\n",
    "    i += 1\n",
    "print(commandes[i][\"id\"]) "
   ]
  },
  {
   "cell_type": "code",
   "execution_count": null,
   "id": "636df764",
   "metadata": {},
   "outputs": [],
   "source": [
    "premiere_annulee = next((cmd for cmd in commandes if cmd[\"statut\"] == \"annulée\"), None)\n",
    "print(premiere_annulee[\"id\"] if premiere_annulee else None)"
   ]
  },
  {
   "cell_type": "markdown",
   "id": "00a09557",
   "metadata": {},
   "source": [
    "12- Renvoyer le nombre total de commande par client sous forme d'un dictionnaire."
   ]
  },
  {
   "cell_type": "code",
   "execution_count": null,
   "id": "4de1d06e",
   "metadata": {},
   "outputs": [],
   "source": [
    "nb_cmd_par_client = {}\n",
    "for cmd in commandes:\n",
    "    cid = cmd[\"client_id\"]\n",
    "    nb_cmd_par_client[cid] = nb_cmd_par_client.get(cid, 0) + 1\n",
    "\n",
    "print(nb_cmd_par_client)"
   ]
  },
  {
   "cell_type": "markdown",
   "id": "6b9e7e0d",
   "metadata": {},
   "source": [
    "13- Créer un nouveau dictionnaire, appelé new_products, contenant 6 produits (des casques de 6 couleurs différentes), \n",
    "    de références P006 à P011 (aidez-vous de la méthode .zfill()) et de prix identiques.\n",
    "    Ajouter les au dictionnaire produit, de 3 manières différentes."
   ]
  },
  {
   "cell_type": "code",
   "execution_count": 12,
   "id": "7f06278c",
   "metadata": {},
   "outputs": [
    {
     "data": {
      "text/plain": [
       "{'P001': ('Clavier mécanique', 79),\n",
       " 'P002': ('Souris sans fil', 39),\n",
       " 'P003': ('Écran 24\"', 149),\n",
       " 'P004': ('Câble HDMI', 12),\n",
       " 'P005': ('Webcam HD', 59),\n",
       " 'P006': ('Casque rouge', 99),\n",
       " 'P007': ('Casque bleu', 99),\n",
       " 'P008': ('Casque vert', 99),\n",
       " 'P009': ('Casque noir', 99),\n",
       " 'P010': ('Casque blanc', 99),\n",
       " 'P011': ('Casque violet', 99)}"
      ]
     },
     "execution_count": 12,
     "metadata": {},
     "output_type": "execute_result"
    }
   ],
   "source": [
    "couleurs = [\"rouge\", \"bleu\", \"vert\", \"noir\", \"blanc\", \"violet\"]\n",
    "prix_casque = 99\n",
    "new_products = {f\"P{str(i).zfill(3)}\": (f\"Casque {couleurs[i-6]}\", prix_casque) for i in range(6, 12)}\n",
    "\n",
    "# 1) update (in-place)\n",
    "produits1 = produits.copy()\n",
    "produits1.update(new_products)\n",
    "\n",
    "# 2) union (nouveau dict, Python 3.9+)\n",
    "produits2 = produits | new_products\n",
    "\n",
    "# 3) boucle d’affectation\n",
    "produits3 = produits.copy()\n",
    "for k, v in new_products.items():\n",
    "    produits3[k] = v\n",
    "\n",
    "produits2"
   ]
  },
  {
   "cell_type": "markdown",
   "id": "595325ba",
   "metadata": {},
   "source": [
    "14- Calculer le total de la commande O001."
   ]
  },
  {
   "cell_type": "code",
   "execution_count": null,
   "id": "f97258cb",
   "metadata": {},
   "outputs": [
    {
     "name": "stdout",
     "output_type": "stream",
     "text": [
      "103\n"
     ]
    }
   ],
   "source": [
    "cmd_by_id = {c[\"id\"]: c for c in commandes}\n",
    "cmd = cmd_by_id.get(\"O001\")\n",
    "\n",
    "# Garde-fou si la commande n'existe pas\n",
    "if cmd is None:\n",
    "    raise ValueError(\"Order O001 not found\")\n",
    "\n",
    "total_O001 = sum(produits[pid][1] * q for pid, q in cmd[\"lignes\"])\n",
    "print(total_O001)"
   ]
  },
  {
   "cell_type": "code",
   "execution_count": 19,
   "id": "2bd8d609",
   "metadata": {},
   "outputs": [
    {
     "name": "stdout",
     "output_type": "stream",
     "text": [
      "103\n"
     ]
    }
   ],
   "source": [
    "cmd = next(c for c in commandes if c[\"id\"] == \"O001\")\n",
    "total_O001 = sum(produits[pid][1] * q for pid, q in cmd[\"lignes\"])\n",
    "print(total_O001)"
   ]
  },
  {
   "cell_type": "markdown",
   "id": "08728932",
   "metadata": {},
   "source": [
    "15- Calculer le panier moyen des commandes non annulées. Trouver une façon de formatter le résultat avec deux décimales."
   ]
  },
  {
   "cell_type": "code",
   "execution_count": null,
   "id": "966f232e",
   "metadata": {},
   "outputs": [],
   "source": [
    "actives = [c for c in commandes if c[\"statut\"] != \"annulée\"]\n",
    "totaux = [sum(produits[pid][1] * q for pid, q in c[\"lignes\"]) for c in actives]\n",
    "pm = sum(totaux) / len(totaux) if totaux else 0.0\n",
    "print(f\"{pm:.2f}\")"
   ]
  },
  {
   "cell_type": "markdown",
   "id": "5831f2fd",
   "metadata": {},
   "source": [
    "16- Créer une fonction qui prend en paramètre un numéro de commande et qui renvoie le total de la commande. \n",
    "    Donner le total de chaque commande."
   ]
  },
  {
   "cell_type": "code",
   "execution_count": 23,
   "id": "c8edaaea",
   "metadata": {},
   "outputs": [
    {
     "name": "stdout",
     "output_type": "stream",
     "text": [
      "O001 103\n",
      "O002 39\n",
      "O003 161\n",
      "O004 157\n",
      "O005 59\n"
     ]
    }
   ],
   "source": [
    "def total_commande(oid: str) -> int :\n",
    "    cmd = next((c for c in commandes if c[\"id\"] == oid), None)\n",
    "    return sum(produits[pid][1] * q for pid, q in cmd[\"lignes\"])\n",
    "\n",
    "for c in commandes:\n",
    "    print(c[\"id\"], total_commande(c[\"id\"]))"
   ]
  },
  {
   "cell_type": "markdown",
   "id": "db4e3877",
   "metadata": {},
   "source": [
    "17- Appliquer une remise de 10% aux commandes O002 et O003. Arrondir les résultats à 2 décimales."
   ]
  },
  {
   "cell_type": "code",
   "execution_count": 24,
   "id": "e1532f13",
   "metadata": {},
   "outputs": [
    {
     "name": "stdout",
     "output_type": "stream",
     "text": [
      "O002 (affiché) : 35.10 €\n",
      "O003 (affiché) : 144.90 €\n"
     ]
    }
   ],
   "source": [
    "def total_avec_remise(oid: str, remise_pct: float) -> float:\n",
    "    total = total_commande(oid)\n",
    "    return round(total * (1 - remise_pct/100), 2)\n",
    "\n",
    "\n",
    "print(f\"O002 (affiché) : {total_avec_remise('O002',10):.2f} €\")\n",
    "print(f\"O003 (affiché) : {total_avec_remise('O003',10):.2f} €\")"
   ]
  },
  {
   "cell_type": "markdown",
   "id": "34bb2184",
   "metadata": {},
   "source": [
    "18- Créer une fonction qui renvoie le chiffre d'affaires (CA) par ville (donc commandes non-anulées), puis le donner pour chacune des villes."
   ]
  },
  {
   "cell_type": "code",
   "execution_count": 27,
   "id": "185e0281",
   "metadata": {},
   "outputs": [
    {
     "name": "stdout",
     "output_type": "stream",
     "text": [
      "{'Lyon': 162, 'Paris': 200}\n"
     ]
    }
   ],
   "source": [
    "def ca_par_ville() -> dict[str, int]:\n",
    "    ca = {}\n",
    "    idx_client = {c[\"id\"]: c for c in clients}\n",
    "    for cmd in commandes:\n",
    "        if cmd[\"statut\"] == \"annulée\":\n",
    "            continue\n",
    "        ville = idx_client[cmd[\"client_id\"]][\"ville\"]\n",
    "        ca[ville] = ca.get(ville, 0) + sum(produits[pid][1] * q for pid, q in cmd[\"lignes\"])\n",
    "    return ca\n",
    "\n",
    "ca_v = ca_par_ville()\n",
    "print(ca_v)"
   ]
  },
  {
   "cell_type": "markdown",
   "id": "4363103a",
   "metadata": {},
   "source": [
    "19- Faire un classement par ordre décroissant des clients par CA sous forme de liste.\n",
    "    Chaque client doit apparaitre sous forme d'un tuple (client_id, nom-prenom, CA)."
   ]
  },
  {
   "cell_type": "code",
   "execution_count": null,
   "id": "0e2a9b5d",
   "metadata": {},
   "outputs": [
    {
     "name": "stdout",
     "output_type": "stream",
     "text": [
      "[('C003', 'Chloé Lefèvre', 161), ('C001', 'Alice Durand', 103), ('C005', 'Eva Petit', 59), ('C002', 'Bob Martin', 39), ('C004', 'David Bernard', 0)]\n"
     ]
    }
   ],
   "source": [
    "# 1) CA par client\n",
    "actifs = {\"en préparation\", \"expédiée\", \"livrée\"}\n",
    "ca_client = {}\n",
    "for cmd in commandes:\n",
    "    if cmd[\"statut\"] in actifs:\n",
    "        ca_client[cmd[\"client_id\"]] = ca_client.get(cmd[\"client_id\"], 0) + sum(produits[pid][1] * q for pid, q in cmd[\"lignes\"])\n",
    "\n",
    "# 2) Facultatif : Inclure aussi les clients sans CA (0)\n",
    "idx_client = {c[\"id\"]: c for c in clients}\n",
    "for cid in idx_client:\n",
    "    ca_client.setdefault(cid, 0)\n",
    "\n",
    "# 3) Liste triée\n",
    "classement = sorted(\n",
    "    [(cid, idx_client[cid][\"nom\"], ca) for cid, ca in ca_client.items()],\n",
    "    key=lambda x: x[2],\n",
    "    reverse=True\n",
    ")\n",
    "print(classement)"
   ]
  },
  {
   "cell_type": "markdown",
   "id": "7e3fb3a0",
   "metadata": {},
   "source": [
    "20- Générez un rapport affichant les données suivantes. Utiliser des f-strings pour formattez les résultats. \n",
    "    nb clients, nb commandes (total/actives), CA total (hors annulées), top produit (volume), top ville (CA)"
   ]
  },
  {
   "cell_type": "code",
   "execution_count": null,
   "id": "1c883c4a",
   "metadata": {},
   "outputs": [
    {
     "name": "stdout",
     "output_type": "stream",
     "text": [
      "- Clients: 5\n",
      "- Commandes: 5 (actives: 4)\n",
      "- CA total (hors annulées): 362€\n",
      "- Top produit(s) (volume): Câble HDMI (3), Souris sans fil (3)\n",
      "- Top ville (CA): Paris\n",
      "\n"
     ]
    }
   ],
   "source": [
    "# Comptes de base\n",
    "nb_clients = len(clients)\n",
    "nb_cmd_total = len(commandes)\n",
    "cmd_actives = [c for c in commandes if c[\"statut\"] != \"annulée\"]\n",
    "nb_cmd_actives = len(cmd_actives)\n",
    "\n",
    "# CA total hors annulées\n",
    "ca_total = sum(sum(produits[pid][1] * q for pid, q in c[\"lignes\"]) for c in cmd_actives)\n",
    "\n",
    "# Top produit par volume (toutes commandes)\n",
    "vol = {}\n",
    "for c in commandes:\n",
    "    for pid, q in c[\"lignes\"]:\n",
    "        vol[pid] = vol.get(pid, 0) + q\n",
    "\n",
    "max_q = max(vol.values())\n",
    "tops_prod = [f'{produits[pid][0]} ({vol[pid]})' for pid in vol if vol[pid] == max_q]\n",
    "\n",
    "# Top ville par CA (hors annulées)\n",
    "ca_ville = ca_par_ville()\n",
    "top_ca = max(ca_ville.values())\n",
    "reverse_ca_ville =  {value: key for key, value in ca_ville.items()}\n",
    "ville_top = reverse_ca_ville.get(top_ca)\n",
    "\n",
    " #Autre solution pour ville_top\n",
    "ville_top = max(ca_ville, key=ca_ville.get)\n",
    "\n",
    "rapport = (\n",
    "    f\"- Clients: {nb_clients}\\n\"\n",
    "    f\"- Commandes: {nb_cmd_total} (actives: {nb_cmd_actives})\\n\"\n",
    "    f\"- CA total (hors annulées): {ca_total}€\\n\"\n",
    "    f\"- Top produit(s) (volume): {', '.join(tops_prod)}\\n\"\n",
    "    f\"- Top ville (CA): {ville_top}\\n\"\n",
    ")\n",
    "print(rapport)"
   ]
  }
 ],
 "metadata": {
  "kernelspec": {
   "display_name": "venv",
   "language": "python",
   "name": "python3"
  },
  "language_info": {
   "codemirror_mode": {
    "name": "ipython",
    "version": 3
   },
   "file_extension": ".py",
   "mimetype": "text/x-python",
   "name": "python",
   "nbconvert_exporter": "python",
   "pygments_lexer": "ipython3",
   "version": "3.12.6"
  }
 },
 "nbformat": 4,
 "nbformat_minor": 5
}
