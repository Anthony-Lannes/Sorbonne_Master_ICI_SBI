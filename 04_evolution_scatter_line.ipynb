{
 "cells": [
  {
   "cell_type": "markdown",
   "id": "c0fcc4d7",
   "metadata": {},
   "source": [
    "# **DATA VISUALISATION**  \n",
    "Dans cette partie, nous allons voir ensemble comment nous pouvons mettre en valeur les données nettoyées avec de la visualisation.\n",
    "\n",
    "Comme toujours, faire des visuels impactants nécessite de:\n",
    "- Manipuler et transofrmer la données pour obtenir les valeurs que l'on souhaite\n",
    "- Poser les bases du visuel (80% du travail - 20 % du temps)\n",
    "- Travailler le visuel pour mettre en valeur le message (20% du travail - 80% du temps)\n",
    "\n",
    "Nous utiliserons la module plotly.express (px) de la librairie plotly, très pratique pour sa syntaxe simple.  \n",
    "Il permet de se familiariser avec l'environnement plotly, avant de pouvoir passer au module plotly.graph_objects (go),  \n",
    "dont la syntaxe est plus ardue mais les possibilités bien supérieures.  \n",
    "Voici le lien de l'API plotly pour voir les différents graphiques possibles : https://plotly.com/python-api-reference/  \n",
    "\n",
    "Le graphique que nous faire ensemble dans ce Notebook est un visuel que nous avions vu ensemble lors de la séance 1  \n",
    "et que Vertigo vend à ses clients chaque semaine : l'évolution des entrées hebdomadaires par cible.\n",
    "\n",
    "Ce que vous devez faire est indiqué dans les cellules de commentaires, il vous reste à écrire le code.  "
   ]
  },
  {
   "cell_type": "markdown",
   "id": "ad7afd63",
   "metadata": {},
   "source": [
    "### **Importer les librairies nécessaires :**  \n",
    "- numpy\n",
    "- pandas\n",
    "- plotly.express (alias px)\n",
    "- plotly.graph_objects (alias go)"
   ]
  },
  {
   "cell_type": "code",
   "execution_count": null,
   "id": "15d36b06",
   "metadata": {},
   "outputs": [],
   "source": []
  },
  {
   "cell_type": "markdown",
   "id": "42c9407f",
   "metadata": {},
   "source": [
    "### **Importer les données nettoyées lors de la phase de Nettoyage**\n",
    "Ne gardez que les colonnes suivantes : vague_cine_inv, pid, age, gender, s3ad, q2ad, sem_cine  \n",
    "Nommer la variable data"
   ]
  },
  {
   "cell_type": "code",
   "execution_count": null,
   "id": "60581cb4",
   "metadata": {},
   "outputs": [],
   "source": []
  },
  {
   "cell_type": "markdown",
   "id": "0f1018df",
   "metadata": {},
   "source": [
    "### **Importer le fichier des poids statistiques**\n",
    "Nommer la variable weights  \n",
    "Si vous avez des une erreur UnicodeDecodeError, il faut que vous utilisiez le paramètre suivant : encoding='latin'"
   ]
  },
  {
   "cell_type": "code",
   "execution_count": null,
   "id": "fb65bd49",
   "metadata": {},
   "outputs": [],
   "source": []
  },
  {
   "cell_type": "markdown",
   "id": "304dc654",
   "metadata": {},
   "source": [
    "### **Importer le fichier d'entrées des films et renommer la colonne 'sem_cine_inv' en 'sem_cine'**\n",
    "Nommer la variable tickets  "
   ]
  },
  {
   "cell_type": "code",
   "execution_count": null,
   "id": "7668e64b",
   "metadata": {},
   "outputs": [],
   "source": []
  },
  {
   "cell_type": "markdown",
   "id": "e9f0a749",
   "metadata": {},
   "source": [
    "### **Faire la somme des entrées par semaine cinéma (colonne sem_cine_inv)** \n",
    "Nommer la variable weekly_tickets  \n",
    "S'assurer que weekly_tickets est bien une DataFrame"
   ]
  },
  {
   "cell_type": "code",
   "execution_count": null,
   "id": "024653d3",
   "metadata": {},
   "outputs": [],
   "source": []
  },
  {
   "cell_type": "markdown",
   "id": "0eead07f",
   "metadata": {},
   "source": [
    "### **Réaliser la jointure adéquate entre data et weights**\n",
    "Vous devez obtenir 9802 lignes  \n",
    "Rappelez-vous des conditions d'unicité d'une ligne  \n",
    "Nommer la variable data_weighted"
   ]
  },
  {
   "cell_type": "code",
   "execution_count": null,
   "id": "89880d69",
   "metadata": {},
   "outputs": [],
   "source": []
  },
  {
   "cell_type": "markdown",
   "id": "b106f24f",
   "metadata": {},
   "source": [
    "### **Créer une colonne permettant d'avoir les catégories d'âge suivantes :**\n",
    "- 3-14 ans\n",
    "- 15-24 ans\n",
    "- 25-34 ans\n",
    "- 35-49 ans\n",
    "- 50-59 ans\n",
    "- 60 ans et +\n",
    "\n",
    "Nommer la colonne 'age_cat_6'  \n",
    "Assurez-vous que la colonne soit bien de type category au moment où vous la créez"
   ]
  },
  {
   "cell_type": "code",
   "execution_count": null,
   "id": "3894905f",
   "metadata": {},
   "outputs": [],
   "source": []
  },
  {
   "cell_type": "markdown",
   "id": "1bc7bd09",
   "metadata": {},
   "source": [
    "### **Calculez le profil par semaine cinema, par âge**\n",
    "La colonne créée doit s'appeler 'profil_age'  \n",
    "N'oubliez pas qu'il faut utiliser la colonne 'Entrées Extrapolées' pour les calculs (voir les exercices 8 et 9 de la partie 02_Exploration).  \n",
    "Nommez le résultat data_agg_age et assurez-vous que ce soit une DataFrame.\n"
   ]
  },
  {
   "cell_type": "code",
   "execution_count": null,
   "id": "8e361875",
   "metadata": {},
   "outputs": [],
   "source": [
    "# Résultat attendu \n",
    "# \t\t                    profil_age\n",
    "# sem_cine_inv\tage_cat_6\t\n",
    "# 2326\t        3-14 ans\t0.159081\n",
    "#               15-24 ans\t0.171070\n",
    "#               25-34 ans\t0.136125\n",
    "#               35-49 ans\t0.192822\n",
    "#               50-59 ans\t0.140421\n",
    "#               60 ans et +\t0.200480\n",
    "# 2327\t        3-14 ans\t0.188744\n",
    "#               15-24 ans\t0.192692\n",
    "#               25-34 ans\t0.133367\n",
    "#               35-49 ans\t0.191609\n",
    "#               50-59 ans\t0.129968\n",
    "#               60 ans et +\t0.163621\n",
    "# 2328\t        3-14 ans\t0.168159\n",
    "#               15-24 ans\t0.177405\n",
    "#               25-34 ans\t0.102985\n",
    "#               35-49 ans\t0.206507\n",
    "#               50-59 ans\t0.133237\n",
    "#               60 ans et +\t0.211706\n",
    "# 2329\t        3-14 ans\t0.137017\n",
    "#               15-24 ans\t0.272937\n",
    "#               25-34 ans\t0.152800\n",
    "#               35-49 ans\t0.182990\n",
    "#               50-59 ans\t0.108096\n",
    "#               60 ans et +\t0.146159\n",
    "# 2330\t        3-14 ans\t0.134854\n",
    "#               15-24 ans\t0.238800\n",
    "#               25-34 ans\t0.166774\n",
    "#               35-49 ans\t0.184379\n",
    "#               50-59 ans\t0.112589\n",
    "#               60 ans et +\t0.162604\n"
   ]
  },
  {
   "cell_type": "markdown",
   "id": "3c085ad2",
   "metadata": {},
   "source": [
    "### **Effecuter la jointure adéquate entre data_agg_age et weekly_tickets**\n",
    "Vous pouvez utiliser .join() pour faire la jointure sur l'index sem_cine.  \n",
    "Vous pouvez utiliser .reset_index() et utiliser .merge()"
   ]
  },
  {
   "cell_type": "code",
   "execution_count": null,
   "id": "a4d3251a",
   "metadata": {},
   "outputs": [],
   "source": [
    "# Résultat attendu \n",
    "# \t\t                profil_age\tEntrées\n",
    "# sem_cine\tage_cat_6\t\t\n",
    "# 2326\t    3-14 ans\t0.159081\t3431722\n",
    "#       15-24 ans\t    0.171070\t3431722\n",
    "#       25-34 ans\t    0.136125\t3431722\n",
    "#       35-49 ans\t    0.192822\t3431722\n",
    "#       50-59 ans\t    0.140421\t3431722\n",
    "#       60 ans et +\t    0.200480\t3431722\n",
    "# 2327\t3-14 ans\t    0.188744\t3231486\n",
    "#       15-24 ans\t    0.192692\t3231486\n",
    "#       25-34 ans\t    0.133367\t3231486\n",
    "#       35-49 ans\t    0.191609\t3231486\n",
    "#       50-59 ans\t    0.129968\t3231486\n",
    "#       60 ans et +\t    0.163621\t3231486\n",
    "# 2328\t3-14 ans\t    0.168159\t2960874\n",
    "#       15-24 ans\t    0.177405\t2960874\n",
    "#       25-34 ans\t    0.102985\t2960874\n",
    "#       35-49 ans\t    0.206507\t2960874\n",
    "#       50-59 ans\t    0.133237\t2960874\n",
    "#       60 ans et +\t    0.211706\t2960874\n",
    "# 2329\t3-14 ans\t    0.137017\t4980083\n",
    "#       15-24 ans\t    0.272937\t4980083\n",
    "#       25-34 ans\t    0.152800\t4980083\n",
    "#       35-49 ans\t    0.182990\t4980083\n",
    "#       50-59 ans\t    0.108096\t4980083\n",
    "#       60 ans et +\t    0.146159\t4980083\n",
    "# 2330\t3-14 ans\t    0.134854\t4689985\n",
    "#       15-24 ans\t    0.238800\t4689985\n",
    "#       25-34 ans\t    0.166774\t4689985\n",
    "#       35-49 ans\t    0.184379\t4689985\n",
    "#       50-59 ans\t    0.112589\t4689985\n",
    "#       60 ans et +\t    0.162604\t4689985\n"
   ]
  },
  {
   "cell_type": "markdown",
   "id": "87ef4b6d",
   "metadata": {},
   "source": [
    "### **Créer une nouvelle colonne de tickets par cible**\n",
    "Appelez la nouvelle colonne 'target_tickets'.  \n",
    "Elle résulte du produit entre les colonnes 'profil_age' et 'Entrées'.  \n",
    "Si vous ne l'avez pas déjà, remettez les index parmi les colonnes."
   ]
  },
  {
   "cell_type": "code",
   "execution_count": null,
   "id": "cd8597af",
   "metadata": {},
   "outputs": [],
   "source": []
  },
  {
   "cell_type": "code",
   "execution_count": 122,
   "id": "59a4459c",
   "metadata": {},
   "outputs": [],
   "source": [
    "# Sachez qu'il était possible de tout faire en une seule opération.\n",
    "# Cela présente l'avantage de \n",
    "    # Ne pas faire de jointure\n",
    "    # Ne pas garder les colonnes 'profil_age' et 'Entrées'\n",
    "    # Et donc de ne pas avoir d'opération de suppression de colonnes\n",
    "# Cela requiert toutefois une maitrise du produit matriciel et une bonne connaissance de pandas\n"
   ]
  },
  {
   "cell_type": "markdown",
   "id": "6b8d42c3",
   "metadata": {},
   "source": [
    "### **Créez un graphique en lignes des entrées par cible en fonction de la semaine cinéma**\n",
    "Utilisez plotly.express  \n",
    "Utilisez le paramètre markers=True pour faire appraitre les points.  \n",
    "Assurez-vous que l'axe des ordonnées commence bien à 0.   \n",
    "Sauvegardez le graphique dans une varibale appelée fig."
   ]
  },
  {
   "cell_type": "code",
   "execution_count": null,
   "id": "8f9b7401",
   "metadata": {},
   "outputs": [],
   "source": []
  },
  {
   "cell_type": "markdown",
   "id": "fd1a1e3c",
   "metadata": {},
   "source": [
    "### **Affichez les 6 catégories d'âge en utilisant le paramètre color.**"
   ]
  },
  {
   "cell_type": "code",
   "execution_count": null,
   "id": "f1d40bcb",
   "metadata": {},
   "outputs": [],
   "source": []
  },
  {
   "cell_type": "markdown",
   "id": "5d3ab695",
   "metadata": {},
   "source": [
    "### **Changez la couleurs des lignes en utilisant la palette age_colors ci-dessous**  \n",
    "Renseignez vous sur le paramètre à utiliser en consultant la doc ici : https://plotly.com/python-api-reference/generated/plotly.express.line  \n",
    "Lisez le nom des paramètres disponibles. Si le nom d'un paramètres vous interpelle, scrollez vers le bas pour voir son utilisation."
   ]
  },
  {
   "cell_type": "code",
   "execution_count": 123,
   "id": "be594a1e",
   "metadata": {},
   "outputs": [],
   "source": [
    "age_colors = [\n",
    "    f'rgba(153,204,255,1)',\n",
    "    f'rgba(64,153,255,1)',\n",
    "    f'rgba(153,51,204,1)',\n",
    "    f'rgba(102,1,153,1)',\n",
    "    f'rgba(246,102,103,1)',\n",
    "    f'rgba(204,51,51,1)',\n",
    "]\n",
    "\n"
   ]
  },
  {
   "cell_type": "markdown",
   "id": "7c4c8b8a",
   "metadata": {},
   "source": [
    "### **Il est possible de modifier directement les lignes, si la modification s'appliquent à toutes en même temps**\n",
    "Utilisez fig.update_traces(line_shape='spline') "
   ]
  },
  {
   "cell_type": "code",
   "execution_count": null,
   "id": "3a36e927",
   "metadata": {},
   "outputs": [],
   "source": []
  },
  {
   "cell_type": "markdown",
   "id": "fd267d1d",
   "metadata": {},
   "source": [
    "### **Modifier le layout du graphique avec la méthode fig.update_layout()**  \n",
    "Lien vers la doc : https://plotly.com/python-api-reference/generated/plotly.graph_objects.Layout.html#plotly.graph_objects.Layout  \n",
    "\n",
    "Ajouter un titre, modifier la hauteur et la largeur à l'aide des paramètres suivants  \n",
    "- title = dict(  \n",
    "    * text=..., # str : texte à ajouter  \n",
    "    font=dict( # modifie la taille, la police, mise en gras etc.  \n",
    "        size: ... # int  \n",
    "        family: ... # str ; change la police 'Arial' etc  \n",
    "        weight: ... # int ou str : mettre en gras ('bold' en anglais)  \n",
    "    )  \n",
    "    x= ... #float entre 0 et 1\n",
    "    xanchor= ... #str 'left', 'center', 'right', permet d'aligner le titre horizontalement\n",
    "    y=... #float entre 0 et 1\n",
    "    yanchor=... #str 'top', 'middle', 'center', permet d'aligner le titre verticalement\n",
    ")  \n",
    "- height: ... # int  \n",
    "- width: ... # int \n",
    "\n",
    "Lien vrs la doc du titre : https://plotly.com/python-api-reference/generated/plotly.graph_objects.layout.html#plotly.graph_objects.layout.Title"
   ]
  },
  {
   "cell_type": "code",
   "execution_count": null,
   "id": "ad42e608",
   "metadata": {},
   "outputs": [],
   "source": []
  },
  {
   "cell_type": "markdown",
   "id": "22230f46",
   "metadata": {},
   "source": [
    "### **Utilisez fig.update_layout(xaxis=dict()) pour personnaliser l'axe des abscisses**  \n",
    "Lien vers la doc pour découvrir toutes les fonctionnalités : https://plotly.com/python/reference/layout/xaxis/\n",
    "\n",
    "Par défaut, Plotly affiche les valeurs présentes dans la colonne utilisée pour l'axe des x.  \n",
    "Mais le formattage de correspond pas souvent à ce que l'on souhaite.  \n",
    "Ici par exemple, on souhaiterait afficher \"Sem XX\" où XX est le numéro de la semaine.  \n",
    "  \n",
    "Quand on souhaite afficher des valeurs complétement différentes des valeurs par défaut, il faut trois paramètres:  \n",
    "- tickmode = 'array'  \n",
    "- tickvals = ... # une liste des valeurs présentes dans la colonne utilisée pour l'axe des x  \n",
    "- ticktext = ... # Une liste des valeurs à afficher  \n",
    "\n",
    "Il est également possible de personnaliser la taille, la police, etc. avec le paramètre tickfont.  \n",
    "Enfin vous pouvez changer le titre de l'axe avec le paramètre title=dict().  \n",
    "Ces deux derniers paramètres s'utilisent comme dans la case précédente.  "
   ]
  },
  {
   "cell_type": "code",
   "execution_count": null,
   "id": "cda5ac10",
   "metadata": {},
   "outputs": [],
   "source": []
  },
  {
   "cell_type": "markdown",
   "id": "4dd39df3",
   "metadata": {},
   "source": [
    "### **Utilisez fig.update_layout(yaxis=dict()) pour personnaliser l'axe des ordonnées**  \n",
    "Lien vers la doc pour découvrir toutes les fonctionnalités : https://plotly.com/python/reference/layout/yaxis/  \n",
    "\n",
    "Par défaut, Plotly affiche les valeurs présentes dans la colonne utilisée pour l'axe des y.  \n",
    "Mais le formattage de correspond pas souvent à ce que l'on souhaite.  \n",
    "Ici par exemple, on a les bons nombres, mais on voudrait les afficher en entier, et pas sous forme resserrée.\n",
    "  \n",
    "Ici, on souhaite donc juste modifier le format d'affichage. Plotly utilise le format D3.  \n",
    "C'est possible de le modifier avec le paramètre suivant :  \n",
    "- tickformat = ... # D3-format string  \n",
    "\n",
    "Voici des exemples de format à passer à tickformat  \n",
    "  \n",
    "| Format  | Description                                               | Example output for `12345.678`         |\n",
    "| ------- | --------------------------------------------------------- | -------------------------------------- |\n",
    "| `d`     | Integer (no decimals)                                     | `12346`                                |\n",
    "| `,d`    | Integer with thousands separator                          | `12,346`                               |\n",
    "| `.2f`   | Fixed-point, 2 decimals                                   | `12345.68`                             |\n",
    "| `,.1f`  | Fixed-point with thousands separator, 1 decimal           | `12,345.7`                             |\n",
    "| `e`     | Exponential notation                                      | `1.234568e+4`                          |\n",
    "| `.2e`   | Exponential with 2 decimals                               | `1.23e+4`                              |\n",
    "| `r`     | Rounded significant digits                                | `12300`                                |\n",
    "| `.3r`   | 3 significant digits                                      | `12300`                                |\n",
    "| `s`     | SI-prefix notation                                        | `12k`                                  |\n",
    "| `.2s`   | SI-prefix with 2 significant digits                       | `12k`                                  |\n",
    "| `%`     | Percentage (value ×100 with `%`)                          | `1234568%`                             |\n",
    "| `.1%`   | Percentage with 1 decimal                                 | `1234567.8%`                           |\n",
    "| `$,.2f` | Currency (USD style) with thousands separator, 2 decimals | `$12,345.68`                           |\n",
    "| `.1f€`  | Custom suffix (Euro)                                      | `12345.7€`                             |\n",
    "| `+,.2f` | Force sign (+/−) with thousands separator, 2 decimals     | `+12,345.68`                           |\n",
    "| `(.2f`  | Negative numbers in parentheses                           | `12345.68` (if negative: `(12345.68)`) |  \n",
    "  \n",
    "L'utilisation des séparturs de milliers (thousands separator) facilite grandement la lecture.   \n",
    "L'inconvénient est que D3 format ne permet pas de choisir les séparateurs. Mais Plotly lui peut.  \n",
    "En utilisant fig.update_layout(separators='ab') vous pouvez choisir :  \n",
    "- le séparateur de decimales (1er caractère, ici a)  \n",
    "- le séparateur de milliers (2ème caractère, ici b)  \n",
    "  \n",
    "Trouver la bonne combinaison dans le code pour afficher les nombres des ordonnées sous ce format : 1 000 000  \n",
    "fig.update_layout(\n",
    "    yaxis=dict(\n",
    "        ...\n",
    "    ),\n",
    "    separators=...,\n",
    ")  "
   ]
  },
  {
   "cell_type": "code",
   "execution_count": null,
   "id": "ee8f81bb",
   "metadata": {},
   "outputs": [],
   "source": []
  },
  {
   "cell_type": "markdown",
   "id": "7bf34274",
   "metadata": {},
   "source": [
    "### **Personnaliser la légende avec fig.update_layout(legend=dict())** \n",
    "La légende est toujours un sujet de discorde : faut-il la laisser ou l'enlever ?  \n",
    "  \n",
    "Pour l'enlever, utiliser fig.update_layout(showlegend=False)\n",
    "  \n",
    "Si vous la laisser voici quelques paramètres utiles:\n",
    "fig.update_layout(\n",
    "    legend=dict(\n",
    "        title=dict(...) # le titre, par default le nom de la colonne servant à la couleur, la forme etc.  \n",
    "        orientation=...# str, 'v' pour vrticale, 'h' pour horizontale  \n",
    "        xanchor=... #str, 'left', 'center', 'right'. Permet d'ajuster la position de la légende selon x  \n",
    "        x=... # float la coordonnée en x où d'ajuste la légende  \n",
    "        yanchor=... #str, 'top', 'middle', 'bottom'. Permet d'ajuster la position de la légende selon y  \n",
    "        y=... # float la coordonnée en y où d'ajuste la légende  \n",
    "        font=dict(...) # Personnalise la taille, la police, etc.  \n",
    "    )\n",
    ")\n",
    "\n",
    "Il y a plein d'autres paramètres que vous pouvez découvrir ici : https://plotly.com/python/reference/layout/#layout-showlegend"
   ]
  },
  {
   "cell_type": "code",
   "execution_count": null,
   "id": "294e6629",
   "metadata": {},
   "outputs": [],
   "source": []
  },
  {
   "cell_type": "markdown",
   "id": "f93025bb",
   "metadata": {},
   "source": [
    "### **Enlever le background gris et la grille (traits verticaux et horizontaux)**\n",
    "Plotly permet d'utiliser certains templates avec fig.update_layout(template=...)\n",
    "\n",
    "Voici quelques exemples :  \n",
    "| Template name    | Description                                        |\n",
    "| ---------------- | -------------------------------------------------- |\n",
    "| `\"plotly\"`       | Default light theme (white background, gray axes)  |\n",
    "| `\"plotly_white\"` | Minimal white background                           |\n",
    "| `\"plotly_dark\"`  | Dark background with contrasting gridlines         |\n",
    "| `\"ggplot2\"`      | Inspired by R’s ggplot2 style                      |\n",
    "| `\"seaborn\"`      | Inspired by Seaborn’s defaults                     |\n",
    "| `\"simple_white\"` | Pure white background, no gridlines                |\n",
    "| `\"none\"`         | No theming at all (useful for full manual control) |\n",
    "| ---------------- | -------------------------------------------------- |\n",
    "| `\"presentation\"` | Clean style for slides/presentations               |\n",
    "| `\"xgridoff\"`     | Like default but gridlines off                     |\n",
    "| `\"ygridoff\"`     | Like default but y gridlines off                   |\n",
    "| `\"gridon\"`       | Like default but emphasizes grid                   |\n",
    "| `\"none\"`         | Removes template (barebones)                       |\n",
    "\n",
    "\n",
    "Personnellement j'aime beaucoup le template 'plotly_white'. Minimal permet de se concentrer sur l'essentiel.  \n",
    "Il suffit donc de coder : fig.update_layout(template='plotly_white')  \n",
    "\n",
    "Il est possible de coder sans le template. Voici ce qu'il faut faire 'plotly_white' :  \n",
    "fig.update_layout(  \n",
    "- plot_bgcolor=\"white\",   # background inside the plotting area  \n",
    "    paper_bgcolor=\"white\",  # background outside the plotting area  \n",
    "    xaxis=dict(  \n",
    "    - showgrid=True,      # show gridlines  \n",
    "        gridcolor=\"lightgray\",  \n",
    "        zeroline=False      # no bold line at x=0  \n",
    "        ),  \n",
    "    yaxis=dict(  \n",
    "    - showgrid=True,  \n",
    "        gridcolor=\"lightgray\",  \n",
    "        zeroline=False  \n",
    "        )  \n",
    "\n",
    ")"
   ]
  },
  {
   "cell_type": "code",
   "execution_count": null,
   "id": "986ab6ae",
   "metadata": {},
   "outputs": [],
   "source": []
  },
  {
   "cell_type": "markdown",
   "id": "4c64c922",
   "metadata": {},
   "source": [
    "### **Regarder les différences entre le graphique final avec le premier graphique que vous avez fait 🙂**"
   ]
  }
 ],
 "metadata": {
  "kernelspec": {
   "display_name": "venv",
   "language": "python",
   "name": "python3"
  },
  "language_info": {
   "codemirror_mode": {
    "name": "ipython",
    "version": 3
   },
   "file_extension": ".py",
   "mimetype": "text/x-python",
   "name": "python",
   "nbconvert_exporter": "python",
   "pygments_lexer": "ipython3",
   "version": "3.12.6"
  }
 },
 "nbformat": 4,
 "nbformat_minor": 5
}
