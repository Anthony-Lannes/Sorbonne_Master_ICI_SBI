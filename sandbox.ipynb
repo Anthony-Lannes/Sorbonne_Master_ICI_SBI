{
 "cells": [
  {
   "cell_type": "code",
   "execution_count": 6,
   "id": "e8a9541d",
   "metadata": {},
   "outputs": [],
   "source": [
    "lst = list(range(100_001))\n",
    "set_ = set(lst)"
   ]
  },
  {
   "cell_type": "code",
   "execution_count": 7,
   "id": "51697876",
   "metadata": {},
   "outputs": [
    {
     "name": "stdout",
     "output_type": "stream",
     "text": [
      "337 μs ± 6.31 μs per loop (mean ± std. dev. of 7 runs, 1,000 loops each)\n"
     ]
    }
   ],
   "source": [
    "%%timeit\n",
    "100_000 in lst"
   ]
  },
  {
   "cell_type": "code",
   "execution_count": 8,
   "id": "211b9ea9",
   "metadata": {},
   "outputs": [
    {
     "name": "stdout",
     "output_type": "stream",
     "text": [
      "18 ns ± 0.0627 ns per loop (mean ± std. dev. of 7 runs, 100,000,000 loops each)\n"
     ]
    }
   ],
   "source": [
    "%%timeit\n",
    "100_000 in set_"
   ]
  },
  {
   "cell_type": "code",
   "execution_count": null,
   "id": "28abd9bb",
   "metadata": {},
   "outputs": [],
   "source": []
  }
 ],
 "metadata": {
  "kernelspec": {
   "display_name": "venv",
   "language": "python",
   "name": "python3"
  },
  "language_info": {
   "codemirror_mode": {
    "name": "ipython",
    "version": 3
   },
   "file_extension": ".py",
   "mimetype": "text/x-python",
   "name": "python",
   "nbconvert_exporter": "python",
   "pygments_lexer": "ipython3",
   "version": "3.12.6"
  }
 },
 "nbformat": 4,
 "nbformat_minor": 5
}
