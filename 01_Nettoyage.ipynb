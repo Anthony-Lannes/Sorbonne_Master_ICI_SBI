{
 "cells": [
  {
   "cell_type": "markdown",
   "id": "06957e89",
   "metadata": {},
   "source": [
    "# **Nettoyage de données**\n",
    "Ce document présente quelques exercices de nettoyages des données.\n",
    "Il a pour but de vous faire découvrir les manipulations de bases et courantes.\n",
    "Parmi toutes les questions, certaines solutions ne sont disponibles dans aucun document de cours. C'est normal.\n",
    "Il vous faudra trouver la solution en vous renseignant sur internet, qu'importe l'outil. \n",
    "\n",
    "Il est cependant STRICTEMENT INTERDIT :\n",
    "    <br>- De passer tout ou partie du jeu de données à un LLM \n",
    "    <br>- De charger le jeu de données sur un cloud ou un support autre que votre PC personnel.\n",
    "Ces données sont privées et les révéler vous expose à des poursuites."
   ]
  },
  {
   "cell_type": "markdown",
   "id": "98f11ac9",
   "metadata": {},
   "source": [
    "**0 - Charger les données**\n",
    "\n",
    "Commencez par charger les données du fichier data/to_clean.pkl"
   ]
  },
  {
   "cell_type": "code",
   "execution_count": null,
   "id": "4f0e61b1",
   "metadata": {},
   "outputs": [],
   "source": []
  },
  {
   "cell_type": "markdown",
   "id": "e12072c6",
   "metadata": {},
   "source": [
    "**1 - Qualité des données et valeurs manquantes.**<br>\n",
    "  Pour chaque colonne, calculez le nombre et le taux de valeurs manquantes. \n",
    "  Quelles colonnes nécessitent le plus d’attention ?<br>\n",
    "  Proposez au moins une stratégie de traitement pertinente pour chacune \n",
    "  (imputation, suppression, conservation en “inconnu”), en la justifiant."
   ]
  },
  {
   "cell_type": "code",
   "execution_count": null,
   "id": "3279111f",
   "metadata": {},
   "outputs": [],
   "source": []
  },
  {
   "cell_type": "markdown",
   "id": "1060d88b",
   "metadata": {},
   "source": [
    "**2 - Vérifications de validité.**\n",
    "  Inspectez les plages de valeurs de chaque colonne. <br>\n",
    "  Identifiez les valeurs impossibles ou improbables (p. ex. accompagnants négatifs, âge > 120). <br>\n",
    "  Créez des versions nettoyées de ces variables et indiquez le nombre d’enregistrements affectés."
   ]
  },
  {
   "cell_type": "code",
   "execution_count": null,
   "id": "85af5d9d",
   "metadata": {},
   "outputs": [],
   "source": []
  },
  {
   "cell_type": "markdown",
   "id": "2deac45a",
   "metadata": {},
   "source": [
    "**3 - Nettoyage métier**\n",
    "\n",
    "Ajouter une colonne :\n",
    "    <br>- A l'aide de la fonction \"mois_cine\" dans le fichier utils/dates.py \n",
    "        et de la fonction apply, créez une colonne appelée \"mois_cine\".\n",
    "        <br>Il est possible de l'importer directment avec le code suivant : \n",
    "        ```from utils.dates import mois_cine```\n",
    "    <br>- A l'aide de la fonction \"sem_cine_\" dans le fichier utils/dates.py \n",
    "        et de la fonction apply, créez une colonne appelée \"sem_cine\".\n",
    "        <br>Il est possible de l'importer directment avec le code suivant : \n",
    "        ```from utils.dates import sem_cine```"
   ]
  },
  {
   "cell_type": "code",
   "execution_count": null,
   "id": "cddc0986",
   "metadata": {},
   "outputs": [],
   "source": []
  },
  {
   "cell_type": "markdown",
   "id": "86155db1",
   "metadata": {},
   "source": [
    "Remplacer : \n",
    "    <br>- Les noms de cinéma par leur code à l'aide de la variable \"CODE_CINEMA\" dans le fichier utils/code_cinema.py.\n",
    "    <br>Il est possible de l'importer directment avec le code suivant : \n",
    "        ```from utils.code_cinema import CODE_CINEMA```\n"
   ]
  },
  {
   "cell_type": "code",
   "execution_count": null,
   "id": "3f6db924",
   "metadata": {},
   "outputs": [],
   "source": []
  },
  {
   "cell_type": "markdown",
   "id": "5c9fe17a",
   "metadata": {},
   "source": [
    "Supprimez : \n",
    "    <br>- Les films ayant pour code 167 ou 1260\n",
    "    <br>- Les personnes dont l'habitude de fréquentation est 9\n",
    "    <br>- Les codes postaux non compris entre 1 000 et 100 000\n",
    "    <br>- Les mois cinéma n'ayant pas pour valeur 2307\n",
    "    <br>- Les vagues cinéma (notées V) pour lesquelles les semaines cinémas ne valent pas V ou V-1 \n",
    "    <br>- (Avancé) Les personnes ayant déclaré aller dans leur cinéma habituel \n",
    "    alors que ce dernier ne se situe ni dans le département d'habitation, ni dans un département limitrophe. \n",
    "    Pour cela, vous pouvez vous aidez de la variable \"DEP_LIMIT\" dans le fichier utils/departements.py."
   ]
  },
  {
   "cell_type": "code",
   "execution_count": null,
   "id": "9f9aed9f",
   "metadata": {},
   "outputs": [],
   "source": []
  },
  {
   "cell_type": "markdown",
   "id": "5bb18542",
   "metadata": {},
   "source": [
    "# **Vous devez avoir 10250 lignes à la fin de ce nettoyage.**"
   ]
  },
  {
   "cell_type": "markdown",
   "id": "d6800cd6",
   "metadata": {},
   "source": [
    "**4 - Structure et types.**\n",
    "<br>Regardez la mémoire utilisée par le jeu de données avec .memory_usage().\n",
    "<br>Pour chaque colonne, changez le type de données par celui indiqué dans le codebook.\n",
    "<br>Quantifiez la variation de mémoire obtenue.  "
   ]
  },
  {
   "cell_type": "code",
   "execution_count": null,
   "id": "0d1d8f2b",
   "metadata": {},
   "outputs": [],
   "source": []
  },
  {
   "cell_type": "markdown",
   "id": "ae414065",
   "metadata": {},
   "source": [
    "<br>Parmi les colonnes encodées en entiers, lesquelles sont en réalité catégorielles ? \n",
    "<br>Convertissez-les en type category et quantifiez la variation mémoire obtenue.\n",
    "<br>Convertir les string en type category est particulièrement efficace. Cela dépend pour les int.  "
   ]
  },
  {
   "cell_type": "code",
   "execution_count": null,
   "id": "4bdfc684",
   "metadata": {},
   "outputs": [],
   "source": []
  },
  {
   "cell_type": "markdown",
   "id": "03da4e41",
   "metadata": {},
   "source": [
    "Parmi les colonnes encodées en entiers, lesquelles sont en réalité booléen (OUI/NON ou V/F) ?  \n",
    "Convertissez-les en type bool et quantifiez la variation mémoire obtenue."
   ]
  },
  {
   "cell_type": "code",
   "execution_count": null,
   "id": "4c4f3273",
   "metadata": {},
   "outputs": [],
   "source": []
  },
  {
   "cell_type": "markdown",
   "id": "c995896a",
   "metadata": {},
   "source": [
    "**5 - Sauvegarder les données**\n",
    "Enregistrez les données au format pkl, xlsx et csv en nommant le fichier \"clean_step_1\".  \n",
    "Servez-vous de la documentation de pandas pour voir les différents paramètres possible et leur implication sur le résultat"
   ]
  },
  {
   "cell_type": "code",
   "execution_count": null,
   "id": "cc33033b",
   "metadata": {},
   "outputs": [],
   "source": []
  }
 ],
 "metadata": {
  "kernelspec": {
   "display_name": "venv",
   "language": "python",
   "name": "python3"
  },
  "language_info": {
   "codemirror_mode": {
    "name": "ipython",
    "version": 3
   },
   "file_extension": ".py",
   "mimetype": "text/x-python",
   "name": "python",
   "nbconvert_exporter": "python",
   "pygments_lexer": "ipython3",
   "version": "3.12.6"
  }
 },
 "nbformat": 4,
 "nbformat_minor": 5
}
