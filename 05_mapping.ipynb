{
 "cells": [
  {
   "cell_type": "markdown",
   "id": "c6a6789d",
   "metadata": {},
   "source": [
    "# **DATA VISUALISATION**  \n",
    "Dans cette partie, nous allons voir ensemble comment nous pouvons mettre en valeur les données nettoyées avec de la visualisation.\n",
    "\n",
    "Comme toujours, faire des visuels impactants nécessite de:\n",
    "- Manipuler et transofrmer la données pour obtenir les valeurs que l'on souhaite\n",
    "- Poser les bases du visuel (80% du travail - 20 % du temps)\n",
    "- Travailler le visuel pour mettre en valeur le message (20% du travail - 80% du temps)\n",
    "\n",
    "Nous utiliserons la module plotly.express (px) de la librairie plotly, très pratique pour sa syntaxe simple.  \n",
    "Il permet de se familiariser avec l'environnement plotly, avant de pouvoir passer au module plotly.graph_objects (go),  \n",
    "dont la syntaxe est plus ardue mais les possibilités bien supérieures.  \n",
    "Voici le lien de l'API plotly pour voir les différents graphiques possibles : https://plotly.com/python-api-reference/  \n",
    "\n",
    "Le graphique que nous faire ensemble dans ce Notebook est un visuel que nous avions vu ensemble lors de la séance 1  \n",
    "et que Vertigo vend à ses clients chaque semaine : Le mapping du marché cinématographique\n",
    "\n",
    "Ce que vous devez faire est indiqué dans les cellules de commentaires, il vous reste à écrire le code.  "
   ]
  },
  {
   "cell_type": "markdown",
   "id": "3033894a",
   "metadata": {},
   "source": [
    "### **Importer les librairies nécessaires :**  \n",
    "- numpy\n",
    "- pandas\n",
    "- plotly.express (alias px)\n",
    "- plotly.graph_objects (alias go)\n",
    "\n",
    "### **Importer également CORRESPONDANCE_CODE_FILMS depuis utils.code_film**  \n",
    "Si vous avez une erreur d'import, essayez de la comprendre.  \n",
    "Si après plusieurs essais, vous n'arrivez pas à debugger, copiez-collez la variable dans une cellule de ce Notebook."
   ]
  },
  {
   "cell_type": "code",
   "execution_count": null,
   "id": "2a60d90a",
   "metadata": {},
   "outputs": [],
   "source": []
  },
  {
   "cell_type": "markdown",
   "id": "c968264d",
   "metadata": {},
   "source": [
    "### **Importer les données nettoyées lors de la phase de Nettoyage**\n",
    "Ne gardez que les colonnes suivantes : vague_cine_inv, pid, age, gender, s3ad, q2ad, sem_cine  \n",
    "Nommer la variable data"
   ]
  },
  {
   "cell_type": "code",
   "execution_count": null,
   "id": "f18365fb",
   "metadata": {},
   "outputs": [],
   "source": []
  },
  {
   "cell_type": "markdown",
   "id": "3527dace",
   "metadata": {},
   "source": [
    "### **Importer le fichier des poids statistiques**\n",
    "Nommer la variable weights  \n",
    "Si vous avez des une erreur UnicodeDecodeError, il faut que vous utilisiez le paramètre suivant : encoding='latin'"
   ]
  },
  {
   "cell_type": "code",
   "execution_count": null,
   "id": "d067ba56",
   "metadata": {},
   "outputs": [],
   "source": []
  },
  {
   "cell_type": "markdown",
   "id": "01630823",
   "metadata": {},
   "source": [
    "### **Importer le fichier d'entrées des films et renommer la colonne 'sem_cine_inv' en 'sem_cine'**\n",
    "Nommer la variable tickets  "
   ]
  },
  {
   "cell_type": "code",
   "execution_count": null,
   "id": "f57a9f9f",
   "metadata": {},
   "outputs": [],
   "source": []
  },
  {
   "cell_type": "markdown",
   "id": "72ffea02",
   "metadata": {},
   "source": [
    "### **Déterminer le nombre d'entrées par film**\n",
    "Dans la dataframe tickets:  \n",
    "- Renommez la colonne 'Code Rentrak' en 'code_film'.  \n",
    "- Filtrz les semaines dont la valeurs n'est pas entre 2326 et 2330 incluse.  \n",
    "- Faites l'agrégation par film et nommez la variable monthly_tickets.  \n",
    "\n",
    "Lors de l'opération groupby, utilisez le paramètre qui permet de ne pas avoir les films en index.\n",
    "Vous devez obtenir une dataframe de 123 lignes."
   ]
  },
  {
   "cell_type": "code",
   "execution_count": null,
   "id": "e3c03fda",
   "metadata": {},
   "outputs": [],
   "source": [
    "# Résultat attendu \n",
    "# \t    code_film\tEntrées\n",
    "# 0\t    199571\t    85369\n",
    "# 1\t    202084\t    2620691\n",
    "# 2\t    223992\t    60575\n",
    "# 3\t    272417\t    1885121\n",
    "# 4\t    285752\t    3402\n",
    "# ...\t...\t        ...\n",
    "# 118\t391723\t    706\n",
    "# 119\t392897\t    3209\n",
    "# 120\t393521\t    7495\n",
    "# 121\t394471\t    369\n",
    "# 122\t394672\t    525\n"
   ]
  },
  {
   "cell_type": "markdown",
   "id": "2426b17c",
   "metadata": {},
   "source": [
    "### **Réaliser la jointure adéquate entre data et weights**\n",
    "Vous devez obtenir 9802 lignes.  \n",
    "Rappelez-vous des conditions d'unicité d'une ligne  \n",
    "Nommer la variable data_weighted"
   ]
  },
  {
   "cell_type": "code",
   "execution_count": null,
   "id": "8ab42532",
   "metadata": {},
   "outputs": [],
   "source": []
  },
  {
   "cell_type": "markdown",
   "id": "f3dbc354",
   "metadata": {},
   "source": [
    "### **Filtrez les films qui ont moins de 75 lignes dans data_weigthed**\n",
    "Si un film a moins de 75 interviews, nous considérons que les résultats ne seront pas fiables.  \n",
    "Procédez de la manière suivante:  \n",
    "- Dans une nouvelle colonne, appelée 'code_film', transformez les codes de la colonne q2ad avec CORRESPONDANCE_CODE_FILMS.  \n",
    "- Identifier les code_film ayant au moins 75 interviews.\n",
    "- Filtrez data, et nommez la nouvelle dataframe filtered_data.\n",
    "\n",
    "Vous devez obtenir une dataframe avec 8436 lignes."
   ]
  },
  {
   "cell_type": "code",
   "execution_count": null,
   "id": "ff13ffb9",
   "metadata": {},
   "outputs": [],
   "source": []
  },
  {
   "cell_type": "markdown",
   "id": "ce256dae",
   "metadata": {},
   "source": [
    "### **Créer deux nouvelles colonnes catégorielles pour le sexe et l'age**\n",
    "- Nommer la colonne catégorielle du sexe 'gender_cat'. Elle prend en valeur 'Hommes' et 'Femmes'.  \n",
    "- Nommer la colonne catégorielle de l'âge '25+'. Elle prend en valeur '-25 ans' et '25 ans et +'.  \n",
    "\n",
    "Cette partie va nous permettre de placer les films sur le mapping en fonction de :  \n",
    "- leur part de 25+ sur l'axe des abscisses\n",
    "- leur part d'Hommes sur la l'axe des ordonnées\n",
    "\n",
    "Il faudra bien sûr calculer ces valeurs avant.  \n",
    "\n",
    "Si un message d'erreur de ce type apparait :  \n",
    "*\"\"\"SettingWithCopyWarning:  \n",
    "A value is trying to be set on a copy of a slice from a DataFrame.  \n",
    "Try using .loc[row_indexer,col_indexer] = value instead\"\"\"*  \n",
    "\n",
    "Revenez à la case précédente, à la ligne où vous filtrez les données. A la fin de la ligne ajoutez .copy().  "
   ]
  },
  {
   "cell_type": "code",
   "execution_count": null,
   "id": "34493873",
   "metadata": {},
   "outputs": [],
   "source": []
  },
  {
   "cell_type": "markdown",
   "id": "e6f4262c",
   "metadata": {},
   "source": [
    "### **Calcul du profil des spectateurs en fonction des sexe et âge catégoriels**\n",
    "Pour chaque film, calculer séparément la part des spectateurs :\n",
    "- étant des Hommes, à partir de la colonne 'gender_cat'.  \n",
    "- ayant 25 ans et +, à partir de la colonne '25+'.  \n",
    "\n",
    "Assurez-vous, à chaque fois, d'obtenir des dataframes :\n",
    "- 'gender_cat' => Nommez le résultat agg_data_gender et sa colonne 'profil_homme'\n",
    "- '25+' => Nommez le résultat agg_data_age et sa colonne 'profil_25+'"
   ]
  },
  {
   "cell_type": "code",
   "execution_count": 157,
   "id": "c1d53d75",
   "metadata": {},
   "outputs": [],
   "source": [
    "# Résultats attendus (5 premières lignes seulement)\n",
    "    # agg_data_gender\n",
    "        # \t    code_film\tprofil_homme\n",
    "        # 0\t    0\t        0.431777\n",
    "        # 1\t    14783\t    0.612818\n",
    "        # 2\t    199571\t    0.666501\n",
    "        # 3\t    202084\t    0.623924\n",
    "        # 4\t    223992\t    0.591548\n"
   ]
  },
  {
   "cell_type": "code",
   "execution_count": null,
   "id": "705225d1",
   "metadata": {},
   "outputs": [],
   "source": [
    "# Résultats attendus (5 premières lignes seulement)\n",
    "    # agg_data_age\n",
    "        #       code_film\tprofil_25+\n",
    "        # 0\t    0\t        0.640014\n",
    "        # 1\t    14783\t    0.524144\n",
    "        # 2\t    199571\t    0.668887\n",
    "        # 3\t    202084\t    0.785985\n",
    "        # 4\t    223992\t    0.391590\n"
   ]
  },
  {
   "cell_type": "markdown",
   "id": "030debee",
   "metadata": {},
   "source": [
    "### **Compléter les données pour commencer le mapping**\n",
    "Sur le mapping, la taille des bulles représente le nombre d'entrées du film.  \n",
    "Egalement, il faut ajouter les titres du top 3.\n",
    "Nous aurons enfin besoin de formatter les entrées avec des séparateurs de milliers de type espace.\n",
    "\n",
    "Pour réaliser ces tâches :  \n",
    "- Faites un INNER JOIN entre agg_data_gender et agg_data_age. Nommer le résultat agg_data  \n",
    "- Faites un INNER JOIN avec monthy_tickets\n",
    "- Dans un novuelle colonne nommée 'entrees_str', formattez la colonne 'Entrées' pour avoir des séparateurs de milliers de type espace : 1234567 => 1 234 567.  \n",
    "- Identifiez les 3 films ayant fait le plus d'entrées, et créez une nouvelle colonne nommée 'top_3_title' où n'apparissent que ces titres.  \n"
   ]
  },
  {
   "cell_type": "code",
   "execution_count": 159,
   "id": "37edde98",
   "metadata": {},
   "outputs": [],
   "source": [
    "# Résultat attendu (5 premières lignes seulement)\n",
    "# \t    code_film\tprofil_homme\tprofil_25+\tEntrées\t    entrees_str\ttitre\t                                    top_3_title\n",
    "# 0\t    361313\t    0.298279\t    0.503367\t2925960\t    2 925 960\tBARBIE\t                                    BARBIE\n",
    "# 1\t    202084\t    0.623924\t    0.785985\t2620691\t    2 620 691\tINDIANA JONES ET LE CADRAN DE LA DESTINEE\tINDIANA JONES ET LE CADRAN DE LA DESTINEE\n",
    "# 2\t    342472\t    0.619201\t    0.658833\t2115684\t    2 115 684\tOPPENHEIMER\t                                OPPENHEIMER\n",
    "# 3\t    290542\t    0.466784\t    0.432220\t1924619\t    1 924 619\tELEMENTAIRE\t\n",
    "# 4\t    272417\t    0.664825\t    0.719615\t1885121\t    1 885 121\tMISSION IMPOSSIBLE DEAD RECKONING PARTIE 1\t\n"
   ]
  },
  {
   "cell_type": "markdown",
   "id": "94718b9c",
   "metadata": {},
   "source": [
    "### **Tracer la figure de base** \n",
    "Documentation : https://plotly.com/python-api-reference/generated/plotly.express.scatter\n",
    "\n",
    "Commencer par tracer la figure de type scatter avec plotly_express:    \n",
    "- L'axe des abscisses est la colonne 'profil_25+'.  \n",
    "- L'axe des ordonnées est la colonne 'profil_homme'.  \n",
    "- Dans la doc, trouvez le paramètre réglant la taille des bulles. Passez lui la colonne 'Entrées'.  \n",
    "- Dans la doc, trouvez le paramètre qui permet de régler la taille maximale des bulles. Passer un nombre entre 50 et 70.  \n",
    "- Dans la doc, trouvez le paramètre faisant apparaitre du texte. Passez lui la colonne 'top_3_title'.  \n",
    "- Réglez la largeur et la hauteur à 1000 et 600 respectivement. \n"
   ]
  },
  {
   "cell_type": "code",
   "execution_count": null,
   "id": "7bb1caf8",
   "metadata": {},
   "outputs": [],
   "source": []
  },
  {
   "cell_type": "markdown",
   "id": "06ff22fc",
   "metadata": {},
   "source": [
    "### **Ajuster le layout**\n",
    "Lien ver la doc :  https://plotly.com/python-api-reference/generated/plotly.graph_objects.Layout.html#plotly.graph_objects.Layout  \n",
    "\n",
    "Utiliser fig.update_layout() pour :  \n",
    "- Ajouter un titre\n",
    "- Ajuster la police du graphique et changer la taille\n",
    "- Choisir un template\n",
    "- Modifier l'axe des abscisses : https://plotly.com/python/reference/layout/xaxis/ \n",
    "    * pas de titre  \n",
    "    * plage de valeurs allant de 0.19 à 1.03 =>permet de mieux centrer le graphique\n",
    "    * afficher les valeurs de l'axe en % sans décimale\n",
    "    * Changer la taille de police et spécifier sa couleur\n",
    "- Modifier l'axe des ordonnées : https://plotly.com/python/reference/layout/yaxis/\n",
    "    * pas de titre  \n",
    "    * plage de valeurs allant de 0.19 à 1.03 =>permet de mieux centrer le graphique\n",
    "    * afficher les valeurs de l'axe en % sans décimale\n",
    "    * Changer la taille de police et spécifier sa couleur"
   ]
  },
  {
   "cell_type": "code",
   "execution_count": null,
   "id": "7c707179",
   "metadata": {},
   "outputs": [],
   "source": []
  },
  {
   "cell_type": "markdown",
   "id": "81b4177d",
   "metadata": {},
   "source": [
    "### **Customiser les bulles**\n",
    "Il est égamelement possible de customiser les bulles, pour les rendre plus attrayantes.  \n",
    "Pour cela, il faut utiliser fig.update_traces() et de s'intéresser au paramètre marker.\n",
    "Choisissez des styles qui restent lisibles. Gardez la forme de bulles.  \n",
    "Voici les différents paramètres qu'on peut passer, sous forme de dict, à marker :  \n",
    "\n",
    "#### Size & Scaling\n",
    "\n",
    "- **size** → array or number, marker size(s) in pixels.  \n",
    "- **sizemin** → minimum size if using `sizeref`.  \n",
    "- **sizemode** → `\"diameter\"` (default) or `\"area\"`.  \n",
    "- **sizeref** → scaling factor when `size` is mapped to a variable.  \n",
    "- **sizemax** → max size used when scaling.  \n",
    "\n",
    "---\n",
    "\n",
    "#### Color & Opacity\n",
    "\n",
    "- **color** → color of markers (single value or array).  \n",
    "  Accepts CSS color names, hex, rgb/rgba strings, or numerical arrays (when used with `colorscale`).  \n",
    "- **opacity** → between 0 (transparent) and 1 (opaque).  \n",
    "- **colorscale** → colormap when `color` is numeric (e.g., `\"Viridis\"`, `\"Blues\"`, custom list).  \n",
    "- **cmin / cmax** → lower/upper bounds for color scaling.  \n",
    "- **cmid** → midpoint of color scale (useful for diverging scales).  \n",
    "- **colorbar** → dictionary to style the legend colorbar (title, ticks, etc.).  \n",
    "- **showscale** → `True/False`, whether to show the color scale.  \n",
    "- **reversescale** → reverse the colorscale.  \n",
    "\n",
    "---\n",
    "\n",
    "#### Borders (line around markers)\n",
    "\n",
    "- **line** → dictionary for border styling:  \n",
    "  - **line.color** → border color.  \n",
    "  - **line.width** → border width (px).  \n",
    "  - **line.dash** → border dash style (`\"solid\"`, `\"dot\"`, `\"dash\"`, etc.).  \n",
    "\n",
    "---\n",
    "\n",
    "#### Symbols (shape of marker)\n",
    "\n",
    "- **symbol** → marker symbol (string or number). Examples:  \n",
    "  `\"circle\"`, `\"square\"`, `\"diamond\"`, `\"cross\"`, `\"x\"`, `\"triangle-up\"`, `\"triangle-down\"`, `\"star\"`, `\"hexagon\"`, …  \n",
    "  👉 [Full list of Plotly marker symbols](https://plotly.com/python/marker-style/#custom-marker-symbols)  \n",
    "- **angle** → rotate the symbol (degrees).  \n",
    "\n",
    "\n"
   ]
  },
  {
   "cell_type": "code",
   "execution_count": null,
   "id": "10654b37",
   "metadata": {},
   "outputs": [],
   "source": []
  },
  {
   "cell_type": "markdown",
   "id": "760e24ba",
   "metadata": {},
   "source": [
    "### **Travailler et formatter les hover_data**\n",
    "L'intérêt de plotly est son interactivité. Lorsque vous passez le curseur de la souris sur chaque point des données apparaissent : les hover_data.  \n",
    "Il s'agit des données que vous avez passez à plotly lors de la création de la figure : 'profil_25+', 'profil_homme', 'Entrées', 'top_3_title'.  \n",
    "\n",
    "Il est tout à fait possible de retirer certaines de ces données, d'en ajouter, de les formatter, etc.\n",
    "Pour cela, on va s'intéresser fig.update_traces() et à deux paramètres:  \n",
    "- customdata : il vous permet de passer des donnéesà ajouter aux hover_data avec df[columns].values.  \n",
    "- hovertemplate : il vous permet de sélectionner et de formater comme souhaiter les données à afficher. Passez une str.  \n",
    "\n",
    "Le formattage de hovertemplate répond à des règles précises:  \n",
    "- Choisir son placeholder, le mettre entre {}, précédé de %  \n",
    "    * %{x} → la coordonnée en abscisse du point     \n",
    "    * %{y} → la coordonnée en ordonnée  \n",
    "    * %{text} → le texte si vous avez passé text=... à px  \n",
    "    * %{customdata[i]} → une colonne supplémentaire que vous avez passée dans custom_data  \n",
    "- Choisir le formattage :  \n",
    "    * %{y:.1f} → valeur de y avec 1 décimale  \n",
    "    * %{customdata[1]:.2f} → affiche la seconde données de customdata avec 2 décimales  \n",
    "    * %{x:.1%} → valeur de x affichée en pourcentage avec 1 décimale  \n",
    "    * %{x:,d} → valeur entière de x avec séparateur de milliers (1,234,567)  \n",
    "    * <b>%{text}</b>→ text écrit en gras (utilisation de balise html => balise ouvrante b entre <>; balise fermante \\b entre <>)  \n",
    "\n",
    "\n",
    "Utiliser customdata pour ajouter les données titre et entress_str.  \n",
    "Puis formattez les données avec hovertemplate comme suit :  \n",
    "- titre en gras  \n",
    "- profil_homme en % avec une 1 décimale  \n",
    "- profil_25+ en % avec 2 décimale  \n",
    "- entrees en gras  \n",
    "\n",
    "Chaque donnée doit être précédée de sa signification business. Revenir à la ligne après chaque donnée (balise br entre <>)"
   ]
  },
  {
   "cell_type": "code",
   "execution_count": null,
   "id": "f7a34e58",
   "metadata": {},
   "outputs": [],
   "source": []
  },
  {
   "cell_type": "markdown",
   "id": "8419080a",
   "metadata": {},
   "source": [
    "### **Ajouter deux lignes visuelles pour faciliter la lecture business**\n",
    "Il est possible d'ajouter des figures dans plotly, avec la méthode fig.add_shape(). \n",
    "Doc : https://plotly.com/python/reference/layout/shapes/  \n",
    "Quatre versions sont possibles : 'line', 'rect', 'circle', 'path'.\n",
    "\n",
    "Pour comprendre si le public est plus masculin/féminin et plus jeune/vieux, des lignes sont ajoutées au mapping:  \n",
    "- Une ligne verticale à 70% de 25+\n",
    "- Une ligne horizontale à 50% de Homme\n",
    "\n",
    "Il vous faudra préciser :\n",
    "- Le type (ici line)\n",
    "- Les coordonnées en x et y. Rappel une ligne est définie par deux points, chaque point ayant deux coordonnées, il faut donc 4 coordonnées au total.\n",
    "- Les coordonnées peuvent être définie selon deux références : \n",
    "    * 'paper' : les coordonnées de la partie affichée du graphiques. Si la plage de l'axe x va de 0.2 à 0.8, alors 0 <=> 0.2 et 1 <=> 0.8.  \n",
    "    * 'x'/'y' : les coordonnées réelles de l'axe. Ici 0 <=> 0, etc.\n",
    "- La couleur et la largeur de la ligne\n",
    "- La couche d'affichage. Il y a trois valeurs : 'below', 'between', 'above'. Testez les pour voir les différences"
   ]
  },
  {
   "cell_type": "code",
   "execution_count": 160,
   "id": "2e5c2aca",
   "metadata": {},
   "outputs": [],
   "source": [
    "#Horizontal\n",
    "\n",
    "\n",
    "#Vertical\n"
   ]
  },
  {
   "cell_type": "markdown",
   "id": "df83401c",
   "metadata": {},
   "source": [
    "### **Ajouter des annotations pour faciliter la lecture business**\n",
    "Il est possible d'ajouter des précisions textuelles dans plotly, avec la méthode fig.add_annotation(). \n",
    "Doc : https://plotly.com/python/reference/layout/annotations/  \n",
    "\n",
    "Ici, il nous manque une information sur ce que représente chaque axe, puisque nous n'avons pas mis de titres.\n",
    "On peut donc les ajouter au niveau des lignes que nous venons de créer.\n",
    "\n",
    "Pour chaque annotation, il vous faudra préciser :\n",
    "- Le texte : soit '% Hommes', soit '% 25+ ans'\n",
    "- Les coordonnées en x et y. Ici deux coordonnées suffisent, car on se s'intéresse qu'au point d'ancrage. (Le reste est construit selon un rectangle englobant le texte).\n",
    "- Les coordonnées peuvent être définie selon deux références : \n",
    "    * 'paper' : les coordonnées de la partie affichée du graphiques. Si la plage de l'axe x va de 0.2 à 0.8, alors 0 <=> 0.2 et 1 <=> 0.8.  \n",
    "    * 'x'/'y' : les coordonnées réelles de l'axe. Ici 0 <=> 0, etc.\n",
    "    * une str qui correspond à une regex : ['^x([2-9]|[1-9][0-9]+)?( domain)?$'] => on oublie.  \n",
    "- La police, sa taille, sa couleur, etc.\n",
    "- L'affichage de la flèche. Chaque annotation affiche une flèche par défaut, inutile ici"
   ]
  },
  {
   "cell_type": "code",
   "execution_count": null,
   "id": "a03fbaaf",
   "metadata": {},
   "outputs": [],
   "source": []
  },
  {
   "cell_type": "markdown",
   "id": "e468cef2",
   "metadata": {},
   "source": [
    "### **Regarder les différences entre le graphique final avec le premier graphique que vous avez fait 🙂**"
   ]
  }
 ],
 "metadata": {
  "kernelspec": {
   "display_name": "venv",
   "language": "python",
   "name": "python3"
  },
  "language_info": {
   "codemirror_mode": {
    "name": "ipython",
    "version": 3
   },
   "file_extension": ".py",
   "mimetype": "text/x-python",
   "name": "python",
   "nbconvert_exporter": "python",
   "pygments_lexer": "ipython3",
   "version": "3.12.6"
  }
 },
 "nbformat": 4,
 "nbformat_minor": 5
}
